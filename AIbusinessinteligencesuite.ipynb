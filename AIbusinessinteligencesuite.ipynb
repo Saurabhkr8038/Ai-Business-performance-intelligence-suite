{
 "cells": [
  {
   "cell_type": "markdown",
   "metadata": {},
   "source": [
    "# AI-Powered Business Performance Intelligence Suite project"
   ]
  },
  {
   "cell_type": "markdown",
   "metadata": {},
   "source": [
    "# Project Scope Breakdown\n",
    "## We’ll build a dashboard and backend system that includes:\n",
    "## Sales, Marketing, and Financial KPIs tracking\n",
    "## ML-based Forecasting (e.g., revenue, customer churn)\n",
    "## Anomaly detection in business metrics\n",
    "## Customer segmentation and behavior analysis\n",
    "## AI-powered recommendations (e.g., cost-saving, marketing optimization)\n",
    "## Visualized with Tableau, integrated with backend (Python, Pandas, Scikit-learn)"
   ]
  },
  {
   "cell_type": "code",
   "execution_count": 142,
   "metadata": {},
   "outputs": [
    {
     "data": {
      "text/html": [
       "<div>\n",
       "<style scoped>\n",
       "    .dataframe tbody tr th:only-of-type {\n",
       "        vertical-align: middle;\n",
       "    }\n",
       "\n",
       "    .dataframe tbody tr th {\n",
       "        vertical-align: top;\n",
       "    }\n",
       "\n",
       "    .dataframe thead th {\n",
       "        text-align: right;\n",
       "    }\n",
       "</style>\n",
       "<table border=\"1\" class=\"dataframe\">\n",
       "  <thead>\n",
       "    <tr style=\"text-align: right;\">\n",
       "      <th></th>\n",
       "      <th>Row ID</th>\n",
       "      <th>Order ID</th>\n",
       "      <th>Order Date</th>\n",
       "      <th>Ship Date</th>\n",
       "      <th>Ship Mode</th>\n",
       "      <th>Customer ID</th>\n",
       "      <th>Customer Name</th>\n",
       "      <th>Segment</th>\n",
       "      <th>Country</th>\n",
       "      <th>City</th>\n",
       "      <th>...</th>\n",
       "      <th>Postal Code</th>\n",
       "      <th>Region</th>\n",
       "      <th>Product ID</th>\n",
       "      <th>Category</th>\n",
       "      <th>Sub-Category</th>\n",
       "      <th>Product Name</th>\n",
       "      <th>Sales</th>\n",
       "      <th>Quantity</th>\n",
       "      <th>Discount</th>\n",
       "      <th>Profit</th>\n",
       "    </tr>\n",
       "  </thead>\n",
       "  <tbody>\n",
       "    <tr>\n",
       "      <th>0</th>\n",
       "      <td>1</td>\n",
       "      <td>CA-2016-152156</td>\n",
       "      <td>11/8/2016</td>\n",
       "      <td>11/11/2016</td>\n",
       "      <td>Second Class</td>\n",
       "      <td>CG-12520</td>\n",
       "      <td>Claire Gute</td>\n",
       "      <td>Consumer</td>\n",
       "      <td>United States</td>\n",
       "      <td>Henderson</td>\n",
       "      <td>...</td>\n",
       "      <td>42420</td>\n",
       "      <td>South</td>\n",
       "      <td>FUR-BO-10001798</td>\n",
       "      <td>Furniture</td>\n",
       "      <td>Bookcases</td>\n",
       "      <td>Bush Somerset Collection Bookcase</td>\n",
       "      <td>261.9600</td>\n",
       "      <td>2</td>\n",
       "      <td>0.00</td>\n",
       "      <td>41.9136</td>\n",
       "    </tr>\n",
       "    <tr>\n",
       "      <th>1</th>\n",
       "      <td>2</td>\n",
       "      <td>CA-2016-152156</td>\n",
       "      <td>11/8/2016</td>\n",
       "      <td>11/11/2016</td>\n",
       "      <td>Second Class</td>\n",
       "      <td>CG-12520</td>\n",
       "      <td>Claire Gute</td>\n",
       "      <td>Consumer</td>\n",
       "      <td>United States</td>\n",
       "      <td>Henderson</td>\n",
       "      <td>...</td>\n",
       "      <td>42420</td>\n",
       "      <td>South</td>\n",
       "      <td>FUR-CH-10000454</td>\n",
       "      <td>Furniture</td>\n",
       "      <td>Chairs</td>\n",
       "      <td>Hon Deluxe Fabric Upholstered Stacking Chairs,...</td>\n",
       "      <td>731.9400</td>\n",
       "      <td>3</td>\n",
       "      <td>0.00</td>\n",
       "      <td>219.5820</td>\n",
       "    </tr>\n",
       "    <tr>\n",
       "      <th>2</th>\n",
       "      <td>3</td>\n",
       "      <td>CA-2016-138688</td>\n",
       "      <td>6/12/2016</td>\n",
       "      <td>6/16/2016</td>\n",
       "      <td>Second Class</td>\n",
       "      <td>DV-13045</td>\n",
       "      <td>Darrin Van Huff</td>\n",
       "      <td>Corporate</td>\n",
       "      <td>United States</td>\n",
       "      <td>Los Angeles</td>\n",
       "      <td>...</td>\n",
       "      <td>90036</td>\n",
       "      <td>West</td>\n",
       "      <td>OFF-LA-10000240</td>\n",
       "      <td>Office Supplies</td>\n",
       "      <td>Labels</td>\n",
       "      <td>Self-Adhesive Address Labels for Typewriters b...</td>\n",
       "      <td>14.6200</td>\n",
       "      <td>2</td>\n",
       "      <td>0.00</td>\n",
       "      <td>6.8714</td>\n",
       "    </tr>\n",
       "    <tr>\n",
       "      <th>3</th>\n",
       "      <td>4</td>\n",
       "      <td>US-2015-108966</td>\n",
       "      <td>10/11/2015</td>\n",
       "      <td>10/18/2015</td>\n",
       "      <td>Standard Class</td>\n",
       "      <td>SO-20335</td>\n",
       "      <td>Sean O'Donnell</td>\n",
       "      <td>Consumer</td>\n",
       "      <td>United States</td>\n",
       "      <td>Fort Lauderdale</td>\n",
       "      <td>...</td>\n",
       "      <td>33311</td>\n",
       "      <td>South</td>\n",
       "      <td>FUR-TA-10000577</td>\n",
       "      <td>Furniture</td>\n",
       "      <td>Tables</td>\n",
       "      <td>Bretford CR4500 Series Slim Rectangular Table</td>\n",
       "      <td>957.5775</td>\n",
       "      <td>5</td>\n",
       "      <td>0.45</td>\n",
       "      <td>-383.0310</td>\n",
       "    </tr>\n",
       "    <tr>\n",
       "      <th>4</th>\n",
       "      <td>5</td>\n",
       "      <td>US-2015-108966</td>\n",
       "      <td>10/11/2015</td>\n",
       "      <td>10/18/2015</td>\n",
       "      <td>Standard Class</td>\n",
       "      <td>SO-20335</td>\n",
       "      <td>Sean O'Donnell</td>\n",
       "      <td>Consumer</td>\n",
       "      <td>United States</td>\n",
       "      <td>Fort Lauderdale</td>\n",
       "      <td>...</td>\n",
       "      <td>33311</td>\n",
       "      <td>South</td>\n",
       "      <td>OFF-ST-10000760</td>\n",
       "      <td>Office Supplies</td>\n",
       "      <td>Storage</td>\n",
       "      <td>Eldon Fold 'N Roll Cart System</td>\n",
       "      <td>22.3680</td>\n",
       "      <td>2</td>\n",
       "      <td>0.20</td>\n",
       "      <td>2.5164</td>\n",
       "    </tr>\n",
       "  </tbody>\n",
       "</table>\n",
       "<p>5 rows × 21 columns</p>\n",
       "</div>"
      ],
      "text/plain": [
       "   Row ID        Order ID  Order Date   Ship Date       Ship Mode Customer ID  \\\n",
       "0       1  CA-2016-152156   11/8/2016  11/11/2016    Second Class    CG-12520   \n",
       "1       2  CA-2016-152156   11/8/2016  11/11/2016    Second Class    CG-12520   \n",
       "2       3  CA-2016-138688   6/12/2016   6/16/2016    Second Class    DV-13045   \n",
       "3       4  US-2015-108966  10/11/2015  10/18/2015  Standard Class    SO-20335   \n",
       "4       5  US-2015-108966  10/11/2015  10/18/2015  Standard Class    SO-20335   \n",
       "\n",
       "     Customer Name    Segment        Country             City  ...  \\\n",
       "0      Claire Gute   Consumer  United States        Henderson  ...   \n",
       "1      Claire Gute   Consumer  United States        Henderson  ...   \n",
       "2  Darrin Van Huff  Corporate  United States      Los Angeles  ...   \n",
       "3   Sean O'Donnell   Consumer  United States  Fort Lauderdale  ...   \n",
       "4   Sean O'Donnell   Consumer  United States  Fort Lauderdale  ...   \n",
       "\n",
       "  Postal Code  Region       Product ID         Category Sub-Category  \\\n",
       "0       42420   South  FUR-BO-10001798        Furniture    Bookcases   \n",
       "1       42420   South  FUR-CH-10000454        Furniture       Chairs   \n",
       "2       90036    West  OFF-LA-10000240  Office Supplies       Labels   \n",
       "3       33311   South  FUR-TA-10000577        Furniture       Tables   \n",
       "4       33311   South  OFF-ST-10000760  Office Supplies      Storage   \n",
       "\n",
       "                                        Product Name     Sales  Quantity  \\\n",
       "0                  Bush Somerset Collection Bookcase  261.9600         2   \n",
       "1  Hon Deluxe Fabric Upholstered Stacking Chairs,...  731.9400         3   \n",
       "2  Self-Adhesive Address Labels for Typewriters b...   14.6200         2   \n",
       "3      Bretford CR4500 Series Slim Rectangular Table  957.5775         5   \n",
       "4                     Eldon Fold 'N Roll Cart System   22.3680         2   \n",
       "\n",
       "   Discount    Profit  \n",
       "0      0.00   41.9136  \n",
       "1      0.00  219.5820  \n",
       "2      0.00    6.8714  \n",
       "3      0.45 -383.0310  \n",
       "4      0.20    2.5164  \n",
       "\n",
       "[5 rows x 21 columns]"
      ]
     },
     "execution_count": 142,
     "metadata": {},
     "output_type": "execute_result"
    }
   ],
   "source": [
    "# Basic setup\n",
    "import pandas as pd\n",
    "import numpy as np\n",
    "import matplotlib.pyplot as plt\n",
    "import seaborn as sns\n",
    "# Interactive plots\n",
    "import plotly.express as px\n",
    "import plotly.graph_objects as go\n",
    "\n",
    "# For date handling\n",
    "from datetime import datetime\n",
    "\n",
    "# Load dataset\n",
    "df = pd.read_csv(r\"C:\\Users\\Saurav Kumar\\python files\\UPWORK PROJECTS\\Buisiness inteligense suite\\Data\\Superstore.csv\",encoding='ISO-8859-1')\n",
    "\n",
    "# Preview data\n",
    "df.head()\n"
   ]
  },
  {
   "cell_type": "code",
   "execution_count": 143,
   "metadata": {},
   "outputs": [
    {
     "name": "stdout",
     "output_type": "stream",
     "text": [
      "Dataset shape: (9994, 21)\n",
      "<class 'pandas.core.frame.DataFrame'>\n",
      "RangeIndex: 9994 entries, 0 to 9993\n",
      "Data columns (total 21 columns):\n",
      " #   Column         Non-Null Count  Dtype  \n",
      "---  ------         --------------  -----  \n",
      " 0   Row ID         9994 non-null   int64  \n",
      " 1   Order ID       9994 non-null   object \n",
      " 2   Order Date     9994 non-null   object \n",
      " 3   Ship Date      9994 non-null   object \n",
      " 4   Ship Mode      9994 non-null   object \n",
      " 5   Customer ID    9994 non-null   object \n",
      " 6   Customer Name  9994 non-null   object \n",
      " 7   Segment        9994 non-null   object \n",
      " 8   Country        9994 non-null   object \n",
      " 9   City           9994 non-null   object \n",
      " 10  State          9994 non-null   object \n",
      " 11  Postal Code    9994 non-null   int64  \n",
      " 12  Region         9994 non-null   object \n",
      " 13  Product ID     9994 non-null   object \n",
      " 14  Category       9994 non-null   object \n",
      " 15  Sub-Category   9994 non-null   object \n",
      " 16  Product Name   9994 non-null   object \n",
      " 17  Sales          9994 non-null   float64\n",
      " 18  Quantity       9994 non-null   int64  \n",
      " 19  Discount       9994 non-null   float64\n",
      " 20  Profit         9994 non-null   float64\n",
      "dtypes: float64(3), int64(3), object(15)\n",
      "memory usage: 1.6+ MB\n"
     ]
    }
   ],
   "source": [
    "# Dataset shape and basic info\n",
    "print(f\"Dataset shape: {df.shape}\")\n",
    "df.info()\n"
   ]
  },
  {
   "cell_type": "code",
   "execution_count": 144,
   "metadata": {},
   "outputs": [
    {
     "name": "stdout",
     "output_type": "stream",
     "text": [
      "Missing values:\n",
      " Series([], dtype: int64)\n",
      "Duplicate rows: 0\n"
     ]
    }
   ],
   "source": [
    "# Null values\n",
    "missing = df.isnull().sum()\n",
    "print(\"Missing values:\\n\", missing[missing > 0])\n",
    "\n",
    "# Duplicates\n",
    "duplicate_count = df.duplicated().sum()\n",
    "print(f\"Duplicate rows: {duplicate_count}\")\n"
   ]
  },
  {
   "cell_type": "markdown",
   "metadata": {},
   "source": [
    "Basic EDA\n"
   ]
  },
  {
   "cell_type": "code",
   "execution_count": 145,
   "metadata": {},
   "outputs": [
    {
     "data": {
      "application/vnd.plotly.v1+json": {
       "config": {
        "plotlyServerURL": "https://plot.ly"
       },
       "data": [
        {
         "hovertemplate": "Order Month=%{x}<br>Sales=%{y}<extra></extra>",
         "legendgroup": "",
         "line": {
          "color": "#636efa",
          "dash": "solid"
         },
         "marker": {
          "symbol": "circle"
         },
         "mode": "lines+markers",
         "name": "",
         "orientation": "v",
         "showlegend": false,
         "type": "scatter",
         "x": [
          "2014-01",
          "2014-02",
          "2014-03",
          "2014-04",
          "2014-05",
          "2014-06",
          "2014-07",
          "2014-08",
          "2014-09",
          "2014-10",
          "2014-11",
          "2014-12",
          "2015-01",
          "2015-02",
          "2015-03",
          "2015-04",
          "2015-05",
          "2015-06",
          "2015-07",
          "2015-08",
          "2015-09",
          "2015-10",
          "2015-11",
          "2015-12",
          "2016-01",
          "2016-02",
          "2016-03",
          "2016-04",
          "2016-05",
          "2016-06",
          "2016-07",
          "2016-08",
          "2016-09",
          "2016-10",
          "2016-11",
          "2016-12",
          "2017-01",
          "2017-02",
          "2017-03",
          "2017-04",
          "2017-05",
          "2017-06",
          "2017-07",
          "2017-08",
          "2017-09",
          "2017-10",
          "2017-11",
          "2017-12"
         ],
         "xaxis": "x",
         "y": {
          "bdata": "9ihcj3LOy0AIrBxa5KexQDVeuklgMetASOF6FNah20B9PzVeEhjXQF+YTBVk5OBAarx0k0yT4ECLbOf7XUHbQPd14JwV9/NA1XjpJlm33kBRa5p3SzLzQHNoke2Z+vBA5WGh1oS/0UBU46WbtFfHQNNNYhDI6OJAJzEIrGay4EAtsp3v62zdQJzEILBSN9hAzczMzFQX3ED35GGhSgTiQDeJQWB9iu9Ad76fGjur3kB1kxgESYzyQKvP1VZ4SvJAlUOLbJ8b0kCPwvUotHDWQAAAAAB8QOlAku18P8Hr4kDwp8ZLd9PrQAIrhxYRs+NAQmDl0L4r40C5/If012LeQNuK/WUg7PFAcT0K1/ck7UBos+pzP2PzQJzEILBwrvdAF9nO92t45UBSJ6CJSNPTQME5I0oLv+xA7C+7JzHV4UCBJsKGo5zlQNc07zi33ulAZDvfTw0a5kDb+X5qHNLuQFCNl26qc/VA+1xtxQ798kAzMzMz/er8QF8HzhlVd/RA",
          "dtype": "f8"
         },
         "yaxis": "y"
        }
       ],
       "layout": {
        "legend": {
         "tracegroupgap": 0
        },
        "template": {
         "data": {
          "bar": [
           {
            "error_x": {
             "color": "#2a3f5f"
            },
            "error_y": {
             "color": "#2a3f5f"
            },
            "marker": {
             "line": {
              "color": "white",
              "width": 0.5
             },
             "pattern": {
              "fillmode": "overlay",
              "size": 10,
              "solidity": 0.2
             }
            },
            "type": "bar"
           }
          ],
          "barpolar": [
           {
            "marker": {
             "line": {
              "color": "white",
              "width": 0.5
             },
             "pattern": {
              "fillmode": "overlay",
              "size": 10,
              "solidity": 0.2
             }
            },
            "type": "barpolar"
           }
          ],
          "carpet": [
           {
            "aaxis": {
             "endlinecolor": "#2a3f5f",
             "gridcolor": "#C8D4E3",
             "linecolor": "#C8D4E3",
             "minorgridcolor": "#C8D4E3",
             "startlinecolor": "#2a3f5f"
            },
            "baxis": {
             "endlinecolor": "#2a3f5f",
             "gridcolor": "#C8D4E3",
             "linecolor": "#C8D4E3",
             "minorgridcolor": "#C8D4E3",
             "startlinecolor": "#2a3f5f"
            },
            "type": "carpet"
           }
          ],
          "choropleth": [
           {
            "colorbar": {
             "outlinewidth": 0,
             "ticks": ""
            },
            "type": "choropleth"
           }
          ],
          "contour": [
           {
            "colorbar": {
             "outlinewidth": 0,
             "ticks": ""
            },
            "colorscale": [
             [
              0,
              "#0d0887"
             ],
             [
              0.1111111111111111,
              "#46039f"
             ],
             [
              0.2222222222222222,
              "#7201a8"
             ],
             [
              0.3333333333333333,
              "#9c179e"
             ],
             [
              0.4444444444444444,
              "#bd3786"
             ],
             [
              0.5555555555555556,
              "#d8576b"
             ],
             [
              0.6666666666666666,
              "#ed7953"
             ],
             [
              0.7777777777777778,
              "#fb9f3a"
             ],
             [
              0.8888888888888888,
              "#fdca26"
             ],
             [
              1,
              "#f0f921"
             ]
            ],
            "type": "contour"
           }
          ],
          "contourcarpet": [
           {
            "colorbar": {
             "outlinewidth": 0,
             "ticks": ""
            },
            "type": "contourcarpet"
           }
          ],
          "heatmap": [
           {
            "colorbar": {
             "outlinewidth": 0,
             "ticks": ""
            },
            "colorscale": [
             [
              0,
              "#0d0887"
             ],
             [
              0.1111111111111111,
              "#46039f"
             ],
             [
              0.2222222222222222,
              "#7201a8"
             ],
             [
              0.3333333333333333,
              "#9c179e"
             ],
             [
              0.4444444444444444,
              "#bd3786"
             ],
             [
              0.5555555555555556,
              "#d8576b"
             ],
             [
              0.6666666666666666,
              "#ed7953"
             ],
             [
              0.7777777777777778,
              "#fb9f3a"
             ],
             [
              0.8888888888888888,
              "#fdca26"
             ],
             [
              1,
              "#f0f921"
             ]
            ],
            "type": "heatmap"
           }
          ],
          "histogram": [
           {
            "marker": {
             "pattern": {
              "fillmode": "overlay",
              "size": 10,
              "solidity": 0.2
             }
            },
            "type": "histogram"
           }
          ],
          "histogram2d": [
           {
            "colorbar": {
             "outlinewidth": 0,
             "ticks": ""
            },
            "colorscale": [
             [
              0,
              "#0d0887"
             ],
             [
              0.1111111111111111,
              "#46039f"
             ],
             [
              0.2222222222222222,
              "#7201a8"
             ],
             [
              0.3333333333333333,
              "#9c179e"
             ],
             [
              0.4444444444444444,
              "#bd3786"
             ],
             [
              0.5555555555555556,
              "#d8576b"
             ],
             [
              0.6666666666666666,
              "#ed7953"
             ],
             [
              0.7777777777777778,
              "#fb9f3a"
             ],
             [
              0.8888888888888888,
              "#fdca26"
             ],
             [
              1,
              "#f0f921"
             ]
            ],
            "type": "histogram2d"
           }
          ],
          "histogram2dcontour": [
           {
            "colorbar": {
             "outlinewidth": 0,
             "ticks": ""
            },
            "colorscale": [
             [
              0,
              "#0d0887"
             ],
             [
              0.1111111111111111,
              "#46039f"
             ],
             [
              0.2222222222222222,
              "#7201a8"
             ],
             [
              0.3333333333333333,
              "#9c179e"
             ],
             [
              0.4444444444444444,
              "#bd3786"
             ],
             [
              0.5555555555555556,
              "#d8576b"
             ],
             [
              0.6666666666666666,
              "#ed7953"
             ],
             [
              0.7777777777777778,
              "#fb9f3a"
             ],
             [
              0.8888888888888888,
              "#fdca26"
             ],
             [
              1,
              "#f0f921"
             ]
            ],
            "type": "histogram2dcontour"
           }
          ],
          "mesh3d": [
           {
            "colorbar": {
             "outlinewidth": 0,
             "ticks": ""
            },
            "type": "mesh3d"
           }
          ],
          "parcoords": [
           {
            "line": {
             "colorbar": {
              "outlinewidth": 0,
              "ticks": ""
             }
            },
            "type": "parcoords"
           }
          ],
          "pie": [
           {
            "automargin": true,
            "type": "pie"
           }
          ],
          "scatter": [
           {
            "fillpattern": {
             "fillmode": "overlay",
             "size": 10,
             "solidity": 0.2
            },
            "type": "scatter"
           }
          ],
          "scatter3d": [
           {
            "line": {
             "colorbar": {
              "outlinewidth": 0,
              "ticks": ""
             }
            },
            "marker": {
             "colorbar": {
              "outlinewidth": 0,
              "ticks": ""
             }
            },
            "type": "scatter3d"
           }
          ],
          "scattercarpet": [
           {
            "marker": {
             "colorbar": {
              "outlinewidth": 0,
              "ticks": ""
             }
            },
            "type": "scattercarpet"
           }
          ],
          "scattergeo": [
           {
            "marker": {
             "colorbar": {
              "outlinewidth": 0,
              "ticks": ""
             }
            },
            "type": "scattergeo"
           }
          ],
          "scattergl": [
           {
            "marker": {
             "colorbar": {
              "outlinewidth": 0,
              "ticks": ""
             }
            },
            "type": "scattergl"
           }
          ],
          "scattermap": [
           {
            "marker": {
             "colorbar": {
              "outlinewidth": 0,
              "ticks": ""
             }
            },
            "type": "scattermap"
           }
          ],
          "scattermapbox": [
           {
            "marker": {
             "colorbar": {
              "outlinewidth": 0,
              "ticks": ""
             }
            },
            "type": "scattermapbox"
           }
          ],
          "scatterpolar": [
           {
            "marker": {
             "colorbar": {
              "outlinewidth": 0,
              "ticks": ""
             }
            },
            "type": "scatterpolar"
           }
          ],
          "scatterpolargl": [
           {
            "marker": {
             "colorbar": {
              "outlinewidth": 0,
              "ticks": ""
             }
            },
            "type": "scatterpolargl"
           }
          ],
          "scatterternary": [
           {
            "marker": {
             "colorbar": {
              "outlinewidth": 0,
              "ticks": ""
             }
            },
            "type": "scatterternary"
           }
          ],
          "surface": [
           {
            "colorbar": {
             "outlinewidth": 0,
             "ticks": ""
            },
            "colorscale": [
             [
              0,
              "#0d0887"
             ],
             [
              0.1111111111111111,
              "#46039f"
             ],
             [
              0.2222222222222222,
              "#7201a8"
             ],
             [
              0.3333333333333333,
              "#9c179e"
             ],
             [
              0.4444444444444444,
              "#bd3786"
             ],
             [
              0.5555555555555556,
              "#d8576b"
             ],
             [
              0.6666666666666666,
              "#ed7953"
             ],
             [
              0.7777777777777778,
              "#fb9f3a"
             ],
             [
              0.8888888888888888,
              "#fdca26"
             ],
             [
              1,
              "#f0f921"
             ]
            ],
            "type": "surface"
           }
          ],
          "table": [
           {
            "cells": {
             "fill": {
              "color": "#EBF0F8"
             },
             "line": {
              "color": "white"
             }
            },
            "header": {
             "fill": {
              "color": "#C8D4E3"
             },
             "line": {
              "color": "white"
             }
            },
            "type": "table"
           }
          ]
         },
         "layout": {
          "annotationdefaults": {
           "arrowcolor": "#2a3f5f",
           "arrowhead": 0,
           "arrowwidth": 1
          },
          "autotypenumbers": "strict",
          "coloraxis": {
           "colorbar": {
            "outlinewidth": 0,
            "ticks": ""
           }
          },
          "colorscale": {
           "diverging": [
            [
             0,
             "#8e0152"
            ],
            [
             0.1,
             "#c51b7d"
            ],
            [
             0.2,
             "#de77ae"
            ],
            [
             0.3,
             "#f1b6da"
            ],
            [
             0.4,
             "#fde0ef"
            ],
            [
             0.5,
             "#f7f7f7"
            ],
            [
             0.6,
             "#e6f5d0"
            ],
            [
             0.7,
             "#b8e186"
            ],
            [
             0.8,
             "#7fbc41"
            ],
            [
             0.9,
             "#4d9221"
            ],
            [
             1,
             "#276419"
            ]
           ],
           "sequential": [
            [
             0,
             "#0d0887"
            ],
            [
             0.1111111111111111,
             "#46039f"
            ],
            [
             0.2222222222222222,
             "#7201a8"
            ],
            [
             0.3333333333333333,
             "#9c179e"
            ],
            [
             0.4444444444444444,
             "#bd3786"
            ],
            [
             0.5555555555555556,
             "#d8576b"
            ],
            [
             0.6666666666666666,
             "#ed7953"
            ],
            [
             0.7777777777777778,
             "#fb9f3a"
            ],
            [
             0.8888888888888888,
             "#fdca26"
            ],
            [
             1,
             "#f0f921"
            ]
           ],
           "sequentialminus": [
            [
             0,
             "#0d0887"
            ],
            [
             0.1111111111111111,
             "#46039f"
            ],
            [
             0.2222222222222222,
             "#7201a8"
            ],
            [
             0.3333333333333333,
             "#9c179e"
            ],
            [
             0.4444444444444444,
             "#bd3786"
            ],
            [
             0.5555555555555556,
             "#d8576b"
            ],
            [
             0.6666666666666666,
             "#ed7953"
            ],
            [
             0.7777777777777778,
             "#fb9f3a"
            ],
            [
             0.8888888888888888,
             "#fdca26"
            ],
            [
             1,
             "#f0f921"
            ]
           ]
          },
          "colorway": [
           "#636efa",
           "#EF553B",
           "#00cc96",
           "#ab63fa",
           "#FFA15A",
           "#19d3f3",
           "#FF6692",
           "#B6E880",
           "#FF97FF",
           "#FECB52"
          ],
          "font": {
           "color": "#2a3f5f"
          },
          "geo": {
           "bgcolor": "white",
           "lakecolor": "white",
           "landcolor": "white",
           "showlakes": true,
           "showland": true,
           "subunitcolor": "#C8D4E3"
          },
          "hoverlabel": {
           "align": "left"
          },
          "hovermode": "closest",
          "mapbox": {
           "style": "light"
          },
          "paper_bgcolor": "white",
          "plot_bgcolor": "white",
          "polar": {
           "angularaxis": {
            "gridcolor": "#EBF0F8",
            "linecolor": "#EBF0F8",
            "ticks": ""
           },
           "bgcolor": "white",
           "radialaxis": {
            "gridcolor": "#EBF0F8",
            "linecolor": "#EBF0F8",
            "ticks": ""
           }
          },
          "scene": {
           "xaxis": {
            "backgroundcolor": "white",
            "gridcolor": "#DFE8F3",
            "gridwidth": 2,
            "linecolor": "#EBF0F8",
            "showbackground": true,
            "ticks": "",
            "zerolinecolor": "#EBF0F8"
           },
           "yaxis": {
            "backgroundcolor": "white",
            "gridcolor": "#DFE8F3",
            "gridwidth": 2,
            "linecolor": "#EBF0F8",
            "showbackground": true,
            "ticks": "",
            "zerolinecolor": "#EBF0F8"
           },
           "zaxis": {
            "backgroundcolor": "white",
            "gridcolor": "#DFE8F3",
            "gridwidth": 2,
            "linecolor": "#EBF0F8",
            "showbackground": true,
            "ticks": "",
            "zerolinecolor": "#EBF0F8"
           }
          },
          "shapedefaults": {
           "line": {
            "color": "#2a3f5f"
           }
          },
          "ternary": {
           "aaxis": {
            "gridcolor": "#DFE8F3",
            "linecolor": "#A2B1C6",
            "ticks": ""
           },
           "baxis": {
            "gridcolor": "#DFE8F3",
            "linecolor": "#A2B1C6",
            "ticks": ""
           },
           "bgcolor": "white",
           "caxis": {
            "gridcolor": "#DFE8F3",
            "linecolor": "#A2B1C6",
            "ticks": ""
           }
          },
          "title": {
           "x": 0.05
          },
          "xaxis": {
           "automargin": true,
           "gridcolor": "#EBF0F8",
           "linecolor": "#EBF0F8",
           "ticks": "",
           "title": {
            "standoff": 15
           },
           "zerolinecolor": "#EBF0F8",
           "zerolinewidth": 2
          },
          "yaxis": {
           "automargin": true,
           "gridcolor": "#EBF0F8",
           "linecolor": "#EBF0F8",
           "ticks": "",
           "title": {
            "standoff": 15
           },
           "zerolinecolor": "#EBF0F8",
           "zerolinewidth": 2
          }
         }
        },
        "title": {
         "text": "📈 Monthly Sales Trend"
        },
        "xaxis": {
         "anchor": "y",
         "domain": [
          0,
          1
         ],
         "title": {
          "text": "Month"
         }
        },
        "yaxis": {
         "anchor": "x",
         "domain": [
          0,
          1
         ],
         "title": {
          "text": "Sales ($)"
         }
        }
       }
      }
     },
     "metadata": {},
     "output_type": "display_data"
    }
   ],
   "source": [
    "# Convert Order Date\n",
    "df['Order Date'] = pd.to_datetime(df['Order Date'])\n",
    "\n",
    "# Create month-year column\n",
    "df['Order Month'] = df['Order Date'].dt.to_period('M').astype(str)\n",
    "\n",
    "# Sales by Month\n",
    "sales_monthly = df.groupby('Order Month')['Sales'].sum().reset_index()\n",
    "\n",
    "fig = px.line(sales_monthly, x='Order Month', y='Sales',\n",
    "              title='📈 Monthly Sales Trend',\n",
    "              markers=True)\n",
    "fig.update_layout(xaxis_title='Month', yaxis_title='Sales ($)', template='plotly_white')\n",
    "fig.show()\n"
   ]
  },
  {
   "cell_type": "markdown",
   "metadata": {},
   "source": [
    "Feature Engeniering"
   ]
  },
  {
   "cell_type": "code",
   "execution_count": 146,
   "metadata": {},
   "outputs": [
    {
     "data": {
      "text/html": [
       "<div>\n",
       "<style scoped>\n",
       "    .dataframe tbody tr th:only-of-type {\n",
       "        vertical-align: middle;\n",
       "    }\n",
       "\n",
       "    .dataframe tbody tr th {\n",
       "        vertical-align: top;\n",
       "    }\n",
       "\n",
       "    .dataframe thead th {\n",
       "        text-align: right;\n",
       "    }\n",
       "</style>\n",
       "<table border=\"1\" class=\"dataframe\">\n",
       "  <thead>\n",
       "    <tr style=\"text-align: right;\">\n",
       "      <th></th>\n",
       "      <th>Sales</th>\n",
       "      <th>Profit</th>\n",
       "      <th>Profit Margin (%)</th>\n",
       "    </tr>\n",
       "  </thead>\n",
       "  <tbody>\n",
       "    <tr>\n",
       "      <th>0</th>\n",
       "      <td>261.9600</td>\n",
       "      <td>41.9136</td>\n",
       "      <td>16.00</td>\n",
       "    </tr>\n",
       "    <tr>\n",
       "      <th>1</th>\n",
       "      <td>731.9400</td>\n",
       "      <td>219.5820</td>\n",
       "      <td>30.00</td>\n",
       "    </tr>\n",
       "    <tr>\n",
       "      <th>2</th>\n",
       "      <td>14.6200</td>\n",
       "      <td>6.8714</td>\n",
       "      <td>47.00</td>\n",
       "    </tr>\n",
       "    <tr>\n",
       "      <th>3</th>\n",
       "      <td>957.5775</td>\n",
       "      <td>-383.0310</td>\n",
       "      <td>-40.00</td>\n",
       "    </tr>\n",
       "    <tr>\n",
       "      <th>4</th>\n",
       "      <td>22.3680</td>\n",
       "      <td>2.5164</td>\n",
       "      <td>11.25</td>\n",
       "    </tr>\n",
       "  </tbody>\n",
       "</table>\n",
       "</div>"
      ],
      "text/plain": [
       "      Sales    Profit  Profit Margin (%)\n",
       "0  261.9600   41.9136              16.00\n",
       "1  731.9400  219.5820              30.00\n",
       "2   14.6200    6.8714              47.00\n",
       "3  957.5775 -383.0310             -40.00\n",
       "4   22.3680    2.5164              11.25"
      ]
     },
     "execution_count": 146,
     "metadata": {},
     "output_type": "execute_result"
    }
   ],
   "source": [
    "# Profit margin = Profit / Sales\n",
    "df['Profit Margin (%)'] = (df['Profit'] / df['Sales']) * 100\n",
    "df['Profit Margin (%)'] = df['Profit Margin (%)'].round(2)\n",
    "\n",
    "df[['Sales', 'Profit', 'Profit Margin (%)']].head()\n"
   ]
  },
  {
   "cell_type": "markdown",
   "metadata": {},
   "source": [
    "Segment based Overview"
   ]
  },
  {
   "cell_type": "code",
   "execution_count": 147,
   "metadata": {},
   "outputs": [
    {
     "data": {
      "application/vnd.plotly.v1+json": {
       "config": {
        "plotlyServerURL": "https://plot.ly"
       },
       "data": [
        {
         "hovertemplate": "Segment=%{x}<br>Sales=%{y}<extra></extra>",
         "legendgroup": "Consumer",
         "marker": {
          "color": "#636efa",
          "pattern": {
           "shape": ""
          }
         },
         "name": "Consumer",
         "orientation": "v",
         "showlegend": true,
         "textposition": "auto",
         "texttemplate": "%{y:.2s}",
         "type": "bar",
         "x": [
          "Consumer"
         ],
         "xaxis": "x",
         "y": {
          "bdata": "hetRWLm4MUE=",
          "dtype": "f8"
         },
         "yaxis": "y"
        },
        {
         "hovertemplate": "Segment=%{x}<br>Sales=%{y}<extra></extra>",
         "legendgroup": "Corporate",
         "marker": {
          "color": "#EF553B",
          "pattern": {
           "shape": ""
          }
         },
         "name": "Corporate",
         "orientation": "v",
         "showlegend": true,
         "textposition": "auto",
         "texttemplate": "%{y:.2s}",
         "type": "bar",
         "x": [
          "Corporate"
         ],
         "xaxis": "x",
         "y": {
          "bdata": "qDXNu8SMJUE=",
          "dtype": "f8"
         },
         "yaxis": "y"
        },
        {
         "hovertemplate": "Segment=%{x}<br>Sales=%{y}<extra></extra>",
         "legendgroup": "Home Office",
         "marker": {
          "color": "#00cc96",
          "pattern": {
           "shape": ""
          }
         },
         "name": "Home Office",
         "orientation": "v",
         "showlegend": true,
         "textposition": "auto",
         "texttemplate": "%{y:.2s}",
         "type": "bar",
         "x": [
          "Home Office"
         ],
         "xaxis": "x",
         "y": {
          "bdata": "TmIQmFQ5GkE=",
          "dtype": "f8"
         },
         "yaxis": "y"
        }
       ],
       "layout": {
        "barmode": "relative",
        "legend": {
         "title": {
          "text": "Segment"
         },
         "tracegroupgap": 0
        },
        "template": {
         "data": {
          "bar": [
           {
            "error_x": {
             "color": "#2a3f5f"
            },
            "error_y": {
             "color": "#2a3f5f"
            },
            "marker": {
             "line": {
              "color": "white",
              "width": 0.5
             },
             "pattern": {
              "fillmode": "overlay",
              "size": 10,
              "solidity": 0.2
             }
            },
            "type": "bar"
           }
          ],
          "barpolar": [
           {
            "marker": {
             "line": {
              "color": "white",
              "width": 0.5
             },
             "pattern": {
              "fillmode": "overlay",
              "size": 10,
              "solidity": 0.2
             }
            },
            "type": "barpolar"
           }
          ],
          "carpet": [
           {
            "aaxis": {
             "endlinecolor": "#2a3f5f",
             "gridcolor": "#C8D4E3",
             "linecolor": "#C8D4E3",
             "minorgridcolor": "#C8D4E3",
             "startlinecolor": "#2a3f5f"
            },
            "baxis": {
             "endlinecolor": "#2a3f5f",
             "gridcolor": "#C8D4E3",
             "linecolor": "#C8D4E3",
             "minorgridcolor": "#C8D4E3",
             "startlinecolor": "#2a3f5f"
            },
            "type": "carpet"
           }
          ],
          "choropleth": [
           {
            "colorbar": {
             "outlinewidth": 0,
             "ticks": ""
            },
            "type": "choropleth"
           }
          ],
          "contour": [
           {
            "colorbar": {
             "outlinewidth": 0,
             "ticks": ""
            },
            "colorscale": [
             [
              0,
              "#0d0887"
             ],
             [
              0.1111111111111111,
              "#46039f"
             ],
             [
              0.2222222222222222,
              "#7201a8"
             ],
             [
              0.3333333333333333,
              "#9c179e"
             ],
             [
              0.4444444444444444,
              "#bd3786"
             ],
             [
              0.5555555555555556,
              "#d8576b"
             ],
             [
              0.6666666666666666,
              "#ed7953"
             ],
             [
              0.7777777777777778,
              "#fb9f3a"
             ],
             [
              0.8888888888888888,
              "#fdca26"
             ],
             [
              1,
              "#f0f921"
             ]
            ],
            "type": "contour"
           }
          ],
          "contourcarpet": [
           {
            "colorbar": {
             "outlinewidth": 0,
             "ticks": ""
            },
            "type": "contourcarpet"
           }
          ],
          "heatmap": [
           {
            "colorbar": {
             "outlinewidth": 0,
             "ticks": ""
            },
            "colorscale": [
             [
              0,
              "#0d0887"
             ],
             [
              0.1111111111111111,
              "#46039f"
             ],
             [
              0.2222222222222222,
              "#7201a8"
             ],
             [
              0.3333333333333333,
              "#9c179e"
             ],
             [
              0.4444444444444444,
              "#bd3786"
             ],
             [
              0.5555555555555556,
              "#d8576b"
             ],
             [
              0.6666666666666666,
              "#ed7953"
             ],
             [
              0.7777777777777778,
              "#fb9f3a"
             ],
             [
              0.8888888888888888,
              "#fdca26"
             ],
             [
              1,
              "#f0f921"
             ]
            ],
            "type": "heatmap"
           }
          ],
          "histogram": [
           {
            "marker": {
             "pattern": {
              "fillmode": "overlay",
              "size": 10,
              "solidity": 0.2
             }
            },
            "type": "histogram"
           }
          ],
          "histogram2d": [
           {
            "colorbar": {
             "outlinewidth": 0,
             "ticks": ""
            },
            "colorscale": [
             [
              0,
              "#0d0887"
             ],
             [
              0.1111111111111111,
              "#46039f"
             ],
             [
              0.2222222222222222,
              "#7201a8"
             ],
             [
              0.3333333333333333,
              "#9c179e"
             ],
             [
              0.4444444444444444,
              "#bd3786"
             ],
             [
              0.5555555555555556,
              "#d8576b"
             ],
             [
              0.6666666666666666,
              "#ed7953"
             ],
             [
              0.7777777777777778,
              "#fb9f3a"
             ],
             [
              0.8888888888888888,
              "#fdca26"
             ],
             [
              1,
              "#f0f921"
             ]
            ],
            "type": "histogram2d"
           }
          ],
          "histogram2dcontour": [
           {
            "colorbar": {
             "outlinewidth": 0,
             "ticks": ""
            },
            "colorscale": [
             [
              0,
              "#0d0887"
             ],
             [
              0.1111111111111111,
              "#46039f"
             ],
             [
              0.2222222222222222,
              "#7201a8"
             ],
             [
              0.3333333333333333,
              "#9c179e"
             ],
             [
              0.4444444444444444,
              "#bd3786"
             ],
             [
              0.5555555555555556,
              "#d8576b"
             ],
             [
              0.6666666666666666,
              "#ed7953"
             ],
             [
              0.7777777777777778,
              "#fb9f3a"
             ],
             [
              0.8888888888888888,
              "#fdca26"
             ],
             [
              1,
              "#f0f921"
             ]
            ],
            "type": "histogram2dcontour"
           }
          ],
          "mesh3d": [
           {
            "colorbar": {
             "outlinewidth": 0,
             "ticks": ""
            },
            "type": "mesh3d"
           }
          ],
          "parcoords": [
           {
            "line": {
             "colorbar": {
              "outlinewidth": 0,
              "ticks": ""
             }
            },
            "type": "parcoords"
           }
          ],
          "pie": [
           {
            "automargin": true,
            "type": "pie"
           }
          ],
          "scatter": [
           {
            "fillpattern": {
             "fillmode": "overlay",
             "size": 10,
             "solidity": 0.2
            },
            "type": "scatter"
           }
          ],
          "scatter3d": [
           {
            "line": {
             "colorbar": {
              "outlinewidth": 0,
              "ticks": ""
             }
            },
            "marker": {
             "colorbar": {
              "outlinewidth": 0,
              "ticks": ""
             }
            },
            "type": "scatter3d"
           }
          ],
          "scattercarpet": [
           {
            "marker": {
             "colorbar": {
              "outlinewidth": 0,
              "ticks": ""
             }
            },
            "type": "scattercarpet"
           }
          ],
          "scattergeo": [
           {
            "marker": {
             "colorbar": {
              "outlinewidth": 0,
              "ticks": ""
             }
            },
            "type": "scattergeo"
           }
          ],
          "scattergl": [
           {
            "marker": {
             "colorbar": {
              "outlinewidth": 0,
              "ticks": ""
             }
            },
            "type": "scattergl"
           }
          ],
          "scattermap": [
           {
            "marker": {
             "colorbar": {
              "outlinewidth": 0,
              "ticks": ""
             }
            },
            "type": "scattermap"
           }
          ],
          "scattermapbox": [
           {
            "marker": {
             "colorbar": {
              "outlinewidth": 0,
              "ticks": ""
             }
            },
            "type": "scattermapbox"
           }
          ],
          "scatterpolar": [
           {
            "marker": {
             "colorbar": {
              "outlinewidth": 0,
              "ticks": ""
             }
            },
            "type": "scatterpolar"
           }
          ],
          "scatterpolargl": [
           {
            "marker": {
             "colorbar": {
              "outlinewidth": 0,
              "ticks": ""
             }
            },
            "type": "scatterpolargl"
           }
          ],
          "scatterternary": [
           {
            "marker": {
             "colorbar": {
              "outlinewidth": 0,
              "ticks": ""
             }
            },
            "type": "scatterternary"
           }
          ],
          "surface": [
           {
            "colorbar": {
             "outlinewidth": 0,
             "ticks": ""
            },
            "colorscale": [
             [
              0,
              "#0d0887"
             ],
             [
              0.1111111111111111,
              "#46039f"
             ],
             [
              0.2222222222222222,
              "#7201a8"
             ],
             [
              0.3333333333333333,
              "#9c179e"
             ],
             [
              0.4444444444444444,
              "#bd3786"
             ],
             [
              0.5555555555555556,
              "#d8576b"
             ],
             [
              0.6666666666666666,
              "#ed7953"
             ],
             [
              0.7777777777777778,
              "#fb9f3a"
             ],
             [
              0.8888888888888888,
              "#fdca26"
             ],
             [
              1,
              "#f0f921"
             ]
            ],
            "type": "surface"
           }
          ],
          "table": [
           {
            "cells": {
             "fill": {
              "color": "#EBF0F8"
             },
             "line": {
              "color": "white"
             }
            },
            "header": {
             "fill": {
              "color": "#C8D4E3"
             },
             "line": {
              "color": "white"
             }
            },
            "type": "table"
           }
          ]
         },
         "layout": {
          "annotationdefaults": {
           "arrowcolor": "#2a3f5f",
           "arrowhead": 0,
           "arrowwidth": 1
          },
          "autotypenumbers": "strict",
          "coloraxis": {
           "colorbar": {
            "outlinewidth": 0,
            "ticks": ""
           }
          },
          "colorscale": {
           "diverging": [
            [
             0,
             "#8e0152"
            ],
            [
             0.1,
             "#c51b7d"
            ],
            [
             0.2,
             "#de77ae"
            ],
            [
             0.3,
             "#f1b6da"
            ],
            [
             0.4,
             "#fde0ef"
            ],
            [
             0.5,
             "#f7f7f7"
            ],
            [
             0.6,
             "#e6f5d0"
            ],
            [
             0.7,
             "#b8e186"
            ],
            [
             0.8,
             "#7fbc41"
            ],
            [
             0.9,
             "#4d9221"
            ],
            [
             1,
             "#276419"
            ]
           ],
           "sequential": [
            [
             0,
             "#0d0887"
            ],
            [
             0.1111111111111111,
             "#46039f"
            ],
            [
             0.2222222222222222,
             "#7201a8"
            ],
            [
             0.3333333333333333,
             "#9c179e"
            ],
            [
             0.4444444444444444,
             "#bd3786"
            ],
            [
             0.5555555555555556,
             "#d8576b"
            ],
            [
             0.6666666666666666,
             "#ed7953"
            ],
            [
             0.7777777777777778,
             "#fb9f3a"
            ],
            [
             0.8888888888888888,
             "#fdca26"
            ],
            [
             1,
             "#f0f921"
            ]
           ],
           "sequentialminus": [
            [
             0,
             "#0d0887"
            ],
            [
             0.1111111111111111,
             "#46039f"
            ],
            [
             0.2222222222222222,
             "#7201a8"
            ],
            [
             0.3333333333333333,
             "#9c179e"
            ],
            [
             0.4444444444444444,
             "#bd3786"
            ],
            [
             0.5555555555555556,
             "#d8576b"
            ],
            [
             0.6666666666666666,
             "#ed7953"
            ],
            [
             0.7777777777777778,
             "#fb9f3a"
            ],
            [
             0.8888888888888888,
             "#fdca26"
            ],
            [
             1,
             "#f0f921"
            ]
           ]
          },
          "colorway": [
           "#636efa",
           "#EF553B",
           "#00cc96",
           "#ab63fa",
           "#FFA15A",
           "#19d3f3",
           "#FF6692",
           "#B6E880",
           "#FF97FF",
           "#FECB52"
          ],
          "font": {
           "color": "#2a3f5f"
          },
          "geo": {
           "bgcolor": "white",
           "lakecolor": "white",
           "landcolor": "white",
           "showlakes": true,
           "showland": true,
           "subunitcolor": "#C8D4E3"
          },
          "hoverlabel": {
           "align": "left"
          },
          "hovermode": "closest",
          "mapbox": {
           "style": "light"
          },
          "paper_bgcolor": "white",
          "plot_bgcolor": "white",
          "polar": {
           "angularaxis": {
            "gridcolor": "#EBF0F8",
            "linecolor": "#EBF0F8",
            "ticks": ""
           },
           "bgcolor": "white",
           "radialaxis": {
            "gridcolor": "#EBF0F8",
            "linecolor": "#EBF0F8",
            "ticks": ""
           }
          },
          "scene": {
           "xaxis": {
            "backgroundcolor": "white",
            "gridcolor": "#DFE8F3",
            "gridwidth": 2,
            "linecolor": "#EBF0F8",
            "showbackground": true,
            "ticks": "",
            "zerolinecolor": "#EBF0F8"
           },
           "yaxis": {
            "backgroundcolor": "white",
            "gridcolor": "#DFE8F3",
            "gridwidth": 2,
            "linecolor": "#EBF0F8",
            "showbackground": true,
            "ticks": "",
            "zerolinecolor": "#EBF0F8"
           },
           "zaxis": {
            "backgroundcolor": "white",
            "gridcolor": "#DFE8F3",
            "gridwidth": 2,
            "linecolor": "#EBF0F8",
            "showbackground": true,
            "ticks": "",
            "zerolinecolor": "#EBF0F8"
           }
          },
          "shapedefaults": {
           "line": {
            "color": "#2a3f5f"
           }
          },
          "ternary": {
           "aaxis": {
            "gridcolor": "#DFE8F3",
            "linecolor": "#A2B1C6",
            "ticks": ""
           },
           "baxis": {
            "gridcolor": "#DFE8F3",
            "linecolor": "#A2B1C6",
            "ticks": ""
           },
           "bgcolor": "white",
           "caxis": {
            "gridcolor": "#DFE8F3",
            "linecolor": "#A2B1C6",
            "ticks": ""
           }
          },
          "title": {
           "x": 0.05
          },
          "xaxis": {
           "automargin": true,
           "gridcolor": "#EBF0F8",
           "linecolor": "#EBF0F8",
           "ticks": "",
           "title": {
            "standoff": 15
           },
           "zerolinecolor": "#EBF0F8",
           "zerolinewidth": 2
          },
          "yaxis": {
           "automargin": true,
           "gridcolor": "#EBF0F8",
           "linecolor": "#EBF0F8",
           "ticks": "",
           "title": {
            "standoff": 15
           },
           "zerolinecolor": "#EBF0F8",
           "zerolinewidth": 2
          }
         }
        },
        "title": {
         "text": "💼 Sales by Customer Segment"
        },
        "xaxis": {
         "anchor": "y",
         "categoryarray": [
          "Consumer",
          "Corporate",
          "Home Office"
         ],
         "categoryorder": "array",
         "domain": [
          0,
          1
         ],
         "title": {
          "text": "Segment"
         }
        },
        "yaxis": {
         "anchor": "x",
         "domain": [
          0,
          1
         ],
         "title": {
          "text": "Sales"
         }
        }
       }
      }
     },
     "metadata": {},
     "output_type": "display_data"
    }
   ],
   "source": [
    "segment_sales = df.groupby('Segment')['Sales'].sum().reset_index().sort_values(by='Sales', ascending=False)\n",
    "\n",
    "fig = px.bar(segment_sales, x='Segment', y='Sales', color='Segment',\n",
    "             title='💼 Sales by Customer Segment',\n",
    "             text_auto='.2s', template='plotly_white')\n",
    "fig.show()\n"
   ]
  },
  {
   "cell_type": "markdown",
   "metadata": {},
   "source": [
    "# Advanced EDA + Data Cleaning"
   ]
  },
  {
   "cell_type": "markdown",
   "metadata": {},
   "source": [
    "profit and sales by category/sub category"
   ]
  },
  {
   "cell_type": "code",
   "execution_count": 148,
   "metadata": {},
   "outputs": [
    {
     "data": {
      "application/vnd.plotly.v1+json": {
       "config": {
        "plotlyServerURL": "https://plot.ly"
       },
       "data": [
        {
         "branchvalues": "total",
         "customdata": {
          "bdata": "JzEIrBwhq8BVwaikivfZQNobfGGSgclAh6dXyl5P0cDaPXlYgLbRQPT91HjJf7lAQT7o2XCD3UA0ETY8LTS7QEumCkYlrI1AL90kBkGqtUA0orQ3sqDgQFvTvOO0x9RAz/dT42WUksDChqdXFHrkQE+vlGU6KOtAr5RliINxqkBPQBNhd7zlQFTXVDdz3r5Aj/6R9fWD1UA6mwhygejhQA==",
          "dtype": "f8",
          "shape": "20, 1"
         },
         "domain": {
          "x": [
           0,
           1
          ],
          "y": [
           0,
           1
          ]
         },
         "hovertemplate": "labels=%{label}<br>Sales=%{value}<br>parent=%{parent}<br>id=%{id}<br>Profit=%{color}<extra></extra>",
         "ids": [
          "Furniture/Bookcases",
          "Furniture/Chairs",
          "Furniture/Furnishings",
          "Furniture/Tables",
          "Office Supplies/Appliances",
          "Office Supplies/Art",
          "Office Supplies/Binders",
          "Office Supplies/Envelopes",
          "Office Supplies/Fasteners",
          "Office Supplies/Labels",
          "Office Supplies/Paper",
          "Office Supplies/Storage",
          "Office Supplies/Supplies",
          "Technology/Accessories",
          "Technology/Copiers",
          "Technology/Machines",
          "Technology/Phones",
          "Furniture",
          "Office Supplies",
          "Technology"
         ],
         "labels": [
          "Bookcases",
          "Chairs",
          "Furnishings",
          "Tables",
          "Appliances",
          "Art",
          "Binders",
          "Envelopes",
          "Fasteners",
          "Labels",
          "Paper",
          "Storage",
          "Supplies",
          "Accessories",
          "Copiers",
          "Machines",
          "Phones",
          "Furniture",
          "Office Supplies",
          "Technology"
         ],
         "marker": {
          "coloraxis": "coloraxis",
          "colors": {
           "bdata": "JzEIrBwhq8BVwaikivfZQNobfGGSgclAh6dXyl5P0cDaPXlYgLbRQPT91HjJf7lAQT7o2XCD3UA0ETY8LTS7QEumCkYlrI1AL90kBkGqtUA0orQ3sqDgQFvTvOO0x9RAz/dT42WUksDChqdXFHrkQE+vlGU6KOtAr5RliINxqkBPQBNhd7zlQFTXVDdz3r5Aj/6R9fWD1UA6mwhygejhQA==",
           "dtype": "f8"
          }
         },
         "name": "",
         "parents": [
          "Furniture",
          "Furniture",
          "Furniture",
          "Furniture",
          "Office Supplies",
          "Office Supplies",
          "Office Supplies",
          "Office Supplies",
          "Office Supplies",
          "Office Supplies",
          "Office Supplies",
          "Office Supplies",
          "Office Supplies",
          "Technology",
          "Technology",
          "Technology",
          "Technology",
          "",
          "",
          ""
         ],
         "type": "treemap",
         "values": {
          "bdata": "0ETY8P8L/ED+1HhpBAwUQcl2vp+SY/ZATDeJQaxDCUFrvHSTwkD6QJzEILCye9pAoBov3aXUCEE/NV66GRfQQMP1KFyPoKdALbKd7ydjyEDwp8ZL8yjzQKAaL90cUwtBqMZLNzHK5kCBlUOLom4EQdejcD3AQAJBXrpJDLUZB0Goxks3XCQUQcWPMZffpCZB001iEI7xJUFCYOUQdIQpQQ==",
          "dtype": "f8"
         }
        }
       ],
       "layout": {
        "coloraxis": {
         "colorbar": {
          "title": {
           "text": "Profit"
          }
         },
         "colorscale": [
          [
           0,
           "rgb(103,0,31)"
          ],
          [
           0.1,
           "rgb(178,24,43)"
          ],
          [
           0.2,
           "rgb(214,96,77)"
          ],
          [
           0.3,
           "rgb(244,165,130)"
          ],
          [
           0.4,
           "rgb(253,219,199)"
          ],
          [
           0.5,
           "rgb(247,247,247)"
          ],
          [
           0.6,
           "rgb(209,229,240)"
          ],
          [
           0.7,
           "rgb(146,197,222)"
          ],
          [
           0.8,
           "rgb(67,147,195)"
          ],
          [
           0.9,
           "rgb(33,102,172)"
          ],
          [
           1,
           "rgb(5,48,97)"
          ]
         ]
        },
        "legend": {
         "tracegroupgap": 0
        },
        "template": {
         "data": {
          "bar": [
           {
            "error_x": {
             "color": "#2a3f5f"
            },
            "error_y": {
             "color": "#2a3f5f"
            },
            "marker": {
             "line": {
              "color": "#E5ECF6",
              "width": 0.5
             },
             "pattern": {
              "fillmode": "overlay",
              "size": 10,
              "solidity": 0.2
             }
            },
            "type": "bar"
           }
          ],
          "barpolar": [
           {
            "marker": {
             "line": {
              "color": "#E5ECF6",
              "width": 0.5
             },
             "pattern": {
              "fillmode": "overlay",
              "size": 10,
              "solidity": 0.2
             }
            },
            "type": "barpolar"
           }
          ],
          "carpet": [
           {
            "aaxis": {
             "endlinecolor": "#2a3f5f",
             "gridcolor": "white",
             "linecolor": "white",
             "minorgridcolor": "white",
             "startlinecolor": "#2a3f5f"
            },
            "baxis": {
             "endlinecolor": "#2a3f5f",
             "gridcolor": "white",
             "linecolor": "white",
             "minorgridcolor": "white",
             "startlinecolor": "#2a3f5f"
            },
            "type": "carpet"
           }
          ],
          "choropleth": [
           {
            "colorbar": {
             "outlinewidth": 0,
             "ticks": ""
            },
            "type": "choropleth"
           }
          ],
          "contour": [
           {
            "colorbar": {
             "outlinewidth": 0,
             "ticks": ""
            },
            "colorscale": [
             [
              0,
              "#0d0887"
             ],
             [
              0.1111111111111111,
              "#46039f"
             ],
             [
              0.2222222222222222,
              "#7201a8"
             ],
             [
              0.3333333333333333,
              "#9c179e"
             ],
             [
              0.4444444444444444,
              "#bd3786"
             ],
             [
              0.5555555555555556,
              "#d8576b"
             ],
             [
              0.6666666666666666,
              "#ed7953"
             ],
             [
              0.7777777777777778,
              "#fb9f3a"
             ],
             [
              0.8888888888888888,
              "#fdca26"
             ],
             [
              1,
              "#f0f921"
             ]
            ],
            "type": "contour"
           }
          ],
          "contourcarpet": [
           {
            "colorbar": {
             "outlinewidth": 0,
             "ticks": ""
            },
            "type": "contourcarpet"
           }
          ],
          "heatmap": [
           {
            "colorbar": {
             "outlinewidth": 0,
             "ticks": ""
            },
            "colorscale": [
             [
              0,
              "#0d0887"
             ],
             [
              0.1111111111111111,
              "#46039f"
             ],
             [
              0.2222222222222222,
              "#7201a8"
             ],
             [
              0.3333333333333333,
              "#9c179e"
             ],
             [
              0.4444444444444444,
              "#bd3786"
             ],
             [
              0.5555555555555556,
              "#d8576b"
             ],
             [
              0.6666666666666666,
              "#ed7953"
             ],
             [
              0.7777777777777778,
              "#fb9f3a"
             ],
             [
              0.8888888888888888,
              "#fdca26"
             ],
             [
              1,
              "#f0f921"
             ]
            ],
            "type": "heatmap"
           }
          ],
          "histogram": [
           {
            "marker": {
             "pattern": {
              "fillmode": "overlay",
              "size": 10,
              "solidity": 0.2
             }
            },
            "type": "histogram"
           }
          ],
          "histogram2d": [
           {
            "colorbar": {
             "outlinewidth": 0,
             "ticks": ""
            },
            "colorscale": [
             [
              0,
              "#0d0887"
             ],
             [
              0.1111111111111111,
              "#46039f"
             ],
             [
              0.2222222222222222,
              "#7201a8"
             ],
             [
              0.3333333333333333,
              "#9c179e"
             ],
             [
              0.4444444444444444,
              "#bd3786"
             ],
             [
              0.5555555555555556,
              "#d8576b"
             ],
             [
              0.6666666666666666,
              "#ed7953"
             ],
             [
              0.7777777777777778,
              "#fb9f3a"
             ],
             [
              0.8888888888888888,
              "#fdca26"
             ],
             [
              1,
              "#f0f921"
             ]
            ],
            "type": "histogram2d"
           }
          ],
          "histogram2dcontour": [
           {
            "colorbar": {
             "outlinewidth": 0,
             "ticks": ""
            },
            "colorscale": [
             [
              0,
              "#0d0887"
             ],
             [
              0.1111111111111111,
              "#46039f"
             ],
             [
              0.2222222222222222,
              "#7201a8"
             ],
             [
              0.3333333333333333,
              "#9c179e"
             ],
             [
              0.4444444444444444,
              "#bd3786"
             ],
             [
              0.5555555555555556,
              "#d8576b"
             ],
             [
              0.6666666666666666,
              "#ed7953"
             ],
             [
              0.7777777777777778,
              "#fb9f3a"
             ],
             [
              0.8888888888888888,
              "#fdca26"
             ],
             [
              1,
              "#f0f921"
             ]
            ],
            "type": "histogram2dcontour"
           }
          ],
          "mesh3d": [
           {
            "colorbar": {
             "outlinewidth": 0,
             "ticks": ""
            },
            "type": "mesh3d"
           }
          ],
          "parcoords": [
           {
            "line": {
             "colorbar": {
              "outlinewidth": 0,
              "ticks": ""
             }
            },
            "type": "parcoords"
           }
          ],
          "pie": [
           {
            "automargin": true,
            "type": "pie"
           }
          ],
          "scatter": [
           {
            "fillpattern": {
             "fillmode": "overlay",
             "size": 10,
             "solidity": 0.2
            },
            "type": "scatter"
           }
          ],
          "scatter3d": [
           {
            "line": {
             "colorbar": {
              "outlinewidth": 0,
              "ticks": ""
             }
            },
            "marker": {
             "colorbar": {
              "outlinewidth": 0,
              "ticks": ""
             }
            },
            "type": "scatter3d"
           }
          ],
          "scattercarpet": [
           {
            "marker": {
             "colorbar": {
              "outlinewidth": 0,
              "ticks": ""
             }
            },
            "type": "scattercarpet"
           }
          ],
          "scattergeo": [
           {
            "marker": {
             "colorbar": {
              "outlinewidth": 0,
              "ticks": ""
             }
            },
            "type": "scattergeo"
           }
          ],
          "scattergl": [
           {
            "marker": {
             "colorbar": {
              "outlinewidth": 0,
              "ticks": ""
             }
            },
            "type": "scattergl"
           }
          ],
          "scattermap": [
           {
            "marker": {
             "colorbar": {
              "outlinewidth": 0,
              "ticks": ""
             }
            },
            "type": "scattermap"
           }
          ],
          "scattermapbox": [
           {
            "marker": {
             "colorbar": {
              "outlinewidth": 0,
              "ticks": ""
             }
            },
            "type": "scattermapbox"
           }
          ],
          "scatterpolar": [
           {
            "marker": {
             "colorbar": {
              "outlinewidth": 0,
              "ticks": ""
             }
            },
            "type": "scatterpolar"
           }
          ],
          "scatterpolargl": [
           {
            "marker": {
             "colorbar": {
              "outlinewidth": 0,
              "ticks": ""
             }
            },
            "type": "scatterpolargl"
           }
          ],
          "scatterternary": [
           {
            "marker": {
             "colorbar": {
              "outlinewidth": 0,
              "ticks": ""
             }
            },
            "type": "scatterternary"
           }
          ],
          "surface": [
           {
            "colorbar": {
             "outlinewidth": 0,
             "ticks": ""
            },
            "colorscale": [
             [
              0,
              "#0d0887"
             ],
             [
              0.1111111111111111,
              "#46039f"
             ],
             [
              0.2222222222222222,
              "#7201a8"
             ],
             [
              0.3333333333333333,
              "#9c179e"
             ],
             [
              0.4444444444444444,
              "#bd3786"
             ],
             [
              0.5555555555555556,
              "#d8576b"
             ],
             [
              0.6666666666666666,
              "#ed7953"
             ],
             [
              0.7777777777777778,
              "#fb9f3a"
             ],
             [
              0.8888888888888888,
              "#fdca26"
             ],
             [
              1,
              "#f0f921"
             ]
            ],
            "type": "surface"
           }
          ],
          "table": [
           {
            "cells": {
             "fill": {
              "color": "#EBF0F8"
             },
             "line": {
              "color": "white"
             }
            },
            "header": {
             "fill": {
              "color": "#C8D4E3"
             },
             "line": {
              "color": "white"
             }
            },
            "type": "table"
           }
          ]
         },
         "layout": {
          "annotationdefaults": {
           "arrowcolor": "#2a3f5f",
           "arrowhead": 0,
           "arrowwidth": 1
          },
          "autotypenumbers": "strict",
          "coloraxis": {
           "colorbar": {
            "outlinewidth": 0,
            "ticks": ""
           }
          },
          "colorscale": {
           "diverging": [
            [
             0,
             "#8e0152"
            ],
            [
             0.1,
             "#c51b7d"
            ],
            [
             0.2,
             "#de77ae"
            ],
            [
             0.3,
             "#f1b6da"
            ],
            [
             0.4,
             "#fde0ef"
            ],
            [
             0.5,
             "#f7f7f7"
            ],
            [
             0.6,
             "#e6f5d0"
            ],
            [
             0.7,
             "#b8e186"
            ],
            [
             0.8,
             "#7fbc41"
            ],
            [
             0.9,
             "#4d9221"
            ],
            [
             1,
             "#276419"
            ]
           ],
           "sequential": [
            [
             0,
             "#0d0887"
            ],
            [
             0.1111111111111111,
             "#46039f"
            ],
            [
             0.2222222222222222,
             "#7201a8"
            ],
            [
             0.3333333333333333,
             "#9c179e"
            ],
            [
             0.4444444444444444,
             "#bd3786"
            ],
            [
             0.5555555555555556,
             "#d8576b"
            ],
            [
             0.6666666666666666,
             "#ed7953"
            ],
            [
             0.7777777777777778,
             "#fb9f3a"
            ],
            [
             0.8888888888888888,
             "#fdca26"
            ],
            [
             1,
             "#f0f921"
            ]
           ],
           "sequentialminus": [
            [
             0,
             "#0d0887"
            ],
            [
             0.1111111111111111,
             "#46039f"
            ],
            [
             0.2222222222222222,
             "#7201a8"
            ],
            [
             0.3333333333333333,
             "#9c179e"
            ],
            [
             0.4444444444444444,
             "#bd3786"
            ],
            [
             0.5555555555555556,
             "#d8576b"
            ],
            [
             0.6666666666666666,
             "#ed7953"
            ],
            [
             0.7777777777777778,
             "#fb9f3a"
            ],
            [
             0.8888888888888888,
             "#fdca26"
            ],
            [
             1,
             "#f0f921"
            ]
           ]
          },
          "colorway": [
           "#636efa",
           "#EF553B",
           "#00cc96",
           "#ab63fa",
           "#FFA15A",
           "#19d3f3",
           "#FF6692",
           "#B6E880",
           "#FF97FF",
           "#FECB52"
          ],
          "font": {
           "color": "#2a3f5f"
          },
          "geo": {
           "bgcolor": "white",
           "lakecolor": "white",
           "landcolor": "#E5ECF6",
           "showlakes": true,
           "showland": true,
           "subunitcolor": "white"
          },
          "hoverlabel": {
           "align": "left"
          },
          "hovermode": "closest",
          "mapbox": {
           "style": "light"
          },
          "paper_bgcolor": "white",
          "plot_bgcolor": "#E5ECF6",
          "polar": {
           "angularaxis": {
            "gridcolor": "white",
            "linecolor": "white",
            "ticks": ""
           },
           "bgcolor": "#E5ECF6",
           "radialaxis": {
            "gridcolor": "white",
            "linecolor": "white",
            "ticks": ""
           }
          },
          "scene": {
           "xaxis": {
            "backgroundcolor": "#E5ECF6",
            "gridcolor": "white",
            "gridwidth": 2,
            "linecolor": "white",
            "showbackground": true,
            "ticks": "",
            "zerolinecolor": "white"
           },
           "yaxis": {
            "backgroundcolor": "#E5ECF6",
            "gridcolor": "white",
            "gridwidth": 2,
            "linecolor": "white",
            "showbackground": true,
            "ticks": "",
            "zerolinecolor": "white"
           },
           "zaxis": {
            "backgroundcolor": "#E5ECF6",
            "gridcolor": "white",
            "gridwidth": 2,
            "linecolor": "white",
            "showbackground": true,
            "ticks": "",
            "zerolinecolor": "white"
           }
          },
          "shapedefaults": {
           "line": {
            "color": "#2a3f5f"
           }
          },
          "ternary": {
           "aaxis": {
            "gridcolor": "white",
            "linecolor": "white",
            "ticks": ""
           },
           "baxis": {
            "gridcolor": "white",
            "linecolor": "white",
            "ticks": ""
           },
           "bgcolor": "#E5ECF6",
           "caxis": {
            "gridcolor": "white",
            "linecolor": "white",
            "ticks": ""
           }
          },
          "title": {
           "x": 0.05
          },
          "xaxis": {
           "automargin": true,
           "gridcolor": "white",
           "linecolor": "white",
           "ticks": "",
           "title": {
            "standoff": 15
           },
           "zerolinecolor": "white",
           "zerolinewidth": 2
          },
          "yaxis": {
           "automargin": true,
           "gridcolor": "white",
           "linecolor": "white",
           "ticks": "",
           "title": {
            "standoff": 15
           },
           "zerolinecolor": "white",
           "zerolinewidth": 2
          }
         }
        },
        "title": {
         "text": "🧭 Sales & Profit by Category/Sub-Category"
        }
       }
      }
     },
     "metadata": {},
     "output_type": "display_data"
    }
   ],
   "source": [
    "# Grouping\n",
    "category_profit = df.groupby(['Category', 'Sub-Category']).agg({\n",
    "    'Sales': 'sum',\n",
    "    'Profit': 'sum'\n",
    "}).reset_index()\n",
    "\n",
    "# Treemap\n",
    "fig = px.treemap(category_profit, path=['Category', 'Sub-Category'],\n",
    "                 values='Sales',\n",
    "                 color='Profit',\n",
    "                 color_continuous_scale='RdBu',\n",
    "                 title='🧭 Sales & Profit by Category/Sub-Category')\n",
    "fig.show()\n"
   ]
  },
  {
   "cell_type": "code",
   "execution_count": 149,
   "metadata": {},
   "outputs": [],
   "source": [
    "#save the sales data to a csv file\n",
    "#category_profit.to_csv(r\"C:\\Users\\Saurav Kumar\\python files\\UPWORK PROJECTS\\category_profit.csv\", index=False)"
   ]
  },
  {
   "cell_type": "markdown",
   "metadata": {},
   "source": [
    "Regional sales distribution"
   ]
  },
  {
   "cell_type": "code",
   "execution_count": 150,
   "metadata": {},
   "outputs": [
    {
     "data": {
      "text/plain": [
       "Index(['Row ID', 'Order ID', 'Order Date', 'Ship Date', 'Ship Mode',\n",
       "       'Customer ID', 'Customer Name', 'Segment', 'Country', 'City', 'State',\n",
       "       'Postal Code', 'Region', 'Product ID', 'Category', 'Sub-Category',\n",
       "       'Product Name', 'Sales', 'Quantity', 'Discount', 'Profit',\n",
       "       'Order Month', 'Profit Margin (%)'],\n",
       "      dtype='object')"
      ]
     },
     "execution_count": 150,
     "metadata": {},
     "output_type": "execute_result"
    }
   ],
   "source": [
    "df.columns"
   ]
  },
  {
   "cell_type": "code",
   "execution_count": 151,
   "metadata": {},
   "outputs": [
    {
     "data": {
      "application/vnd.plotly.v1+json": {
       "config": {
        "plotlyServerURL": "https://plot.ly"
       },
       "data": [
        {
         "coloraxis": "coloraxis",
         "geo": "geo",
         "hovertemplate": "state_code=%{location}<br>Sales=%{z}<extra></extra>",
         "locationmode": "USA-states",
         "locations": [
          "AL",
          "AR",
          "AZ",
          "CA",
          "CO",
          "CT",
          "DE",
          "FL",
          "GA",
          "IA",
          "ID",
          "IL",
          "IN",
          "KS",
          "KY",
          "LA",
          "MA",
          "MD",
          "ME",
          "MI",
          "MN",
          "MO",
          "MS",
          "MT",
          "NC",
          "ND",
          "NE",
          "NH",
          "NJ",
          "NM",
          "NV",
          "NY",
          "OH",
          "OK",
          "OR",
          "PA",
          "RI",
          "SC",
          "SD",
          "TN",
          "TX",
          "UT",
          "VA",
          "VT",
          "WA",
          "WI",
          "WV",
          "WY"
         ],
         "name": "",
         "type": "choropleth",
         "z": {
          "bdata": "XI/C9agN00A9CtejEM/GQOkmMQhAOuFAnu+nhl7vG0E730+NB1vfQFYOLbItJMpA2/l+asTO2kDZzvdTG9j1QBSuR+H6+OdA9ihcj8LjsUDb+X5qfB6xQA4tsp1hkvNAUrgehWsm6kCF61G4nsSmQAAAAAD43eFAcT0K14MAwkCe76fGm/bbQPT91HhhJtdAhetRuB7ak0D8qfHS2Z7yQJqZmZnJKd1AmpmZmUmv1UBSuB6FqwnFQDEIrBxa1bVAke18P2Um60DhehSuR7+MQEjhehTuKL1AGy/dJIZ8vECLbOf7iXbhQIPAyqGFr7JADAIrh0ZW0EAlBoEVcfkSQQRWDi0iG/NAXI/C9dg400CamZmZyQXRQMl2vp/+cfxAvp8aL/0Y1kAUrkfh2pDAQArXo3A9jpRAWmQ733fx3UDxY8xdYMYEQUoMAisH6sVAUrgehcs+8UDC9Shcr3DBQI/C9SiK7ABBpHA9Cqdc30Ce76fGS+eSQAaBlUOLDJlA",
          "dtype": "f8"
         }
        }
       ],
       "layout": {
        "coloraxis": {
         "colorbar": {
          "title": {
           "text": "Sales"
          }
         },
         "colorscale": [
          [
           0,
           "#440154"
          ],
          [
           0.1111111111111111,
           "#482878"
          ],
          [
           0.2222222222222222,
           "#3e4989"
          ],
          [
           0.3333333333333333,
           "#31688e"
          ],
          [
           0.4444444444444444,
           "#26828e"
          ],
          [
           0.5555555555555556,
           "#1f9e89"
          ],
          [
           0.6666666666666666,
           "#35b779"
          ],
          [
           0.7777777777777778,
           "#6ece58"
          ],
          [
           0.8888888888888888,
           "#b5de2b"
          ],
          [
           1,
           "#fde725"
          ]
         ]
        },
        "geo": {
         "center": {},
         "domain": {
          "x": [
           0,
           1
          ],
          "y": [
           0,
           1
          ]
         },
         "scope": "usa"
        },
        "legend": {
         "tracegroupgap": 0
        },
        "template": {
         "data": {
          "bar": [
           {
            "error_x": {
             "color": "#2a3f5f"
            },
            "error_y": {
             "color": "#2a3f5f"
            },
            "marker": {
             "line": {
              "color": "#E5ECF6",
              "width": 0.5
             },
             "pattern": {
              "fillmode": "overlay",
              "size": 10,
              "solidity": 0.2
             }
            },
            "type": "bar"
           }
          ],
          "barpolar": [
           {
            "marker": {
             "line": {
              "color": "#E5ECF6",
              "width": 0.5
             },
             "pattern": {
              "fillmode": "overlay",
              "size": 10,
              "solidity": 0.2
             }
            },
            "type": "barpolar"
           }
          ],
          "carpet": [
           {
            "aaxis": {
             "endlinecolor": "#2a3f5f",
             "gridcolor": "white",
             "linecolor": "white",
             "minorgridcolor": "white",
             "startlinecolor": "#2a3f5f"
            },
            "baxis": {
             "endlinecolor": "#2a3f5f",
             "gridcolor": "white",
             "linecolor": "white",
             "minorgridcolor": "white",
             "startlinecolor": "#2a3f5f"
            },
            "type": "carpet"
           }
          ],
          "choropleth": [
           {
            "colorbar": {
             "outlinewidth": 0,
             "ticks": ""
            },
            "type": "choropleth"
           }
          ],
          "contour": [
           {
            "colorbar": {
             "outlinewidth": 0,
             "ticks": ""
            },
            "colorscale": [
             [
              0,
              "#0d0887"
             ],
             [
              0.1111111111111111,
              "#46039f"
             ],
             [
              0.2222222222222222,
              "#7201a8"
             ],
             [
              0.3333333333333333,
              "#9c179e"
             ],
             [
              0.4444444444444444,
              "#bd3786"
             ],
             [
              0.5555555555555556,
              "#d8576b"
             ],
             [
              0.6666666666666666,
              "#ed7953"
             ],
             [
              0.7777777777777778,
              "#fb9f3a"
             ],
             [
              0.8888888888888888,
              "#fdca26"
             ],
             [
              1,
              "#f0f921"
             ]
            ],
            "type": "contour"
           }
          ],
          "contourcarpet": [
           {
            "colorbar": {
             "outlinewidth": 0,
             "ticks": ""
            },
            "type": "contourcarpet"
           }
          ],
          "heatmap": [
           {
            "colorbar": {
             "outlinewidth": 0,
             "ticks": ""
            },
            "colorscale": [
             [
              0,
              "#0d0887"
             ],
             [
              0.1111111111111111,
              "#46039f"
             ],
             [
              0.2222222222222222,
              "#7201a8"
             ],
             [
              0.3333333333333333,
              "#9c179e"
             ],
             [
              0.4444444444444444,
              "#bd3786"
             ],
             [
              0.5555555555555556,
              "#d8576b"
             ],
             [
              0.6666666666666666,
              "#ed7953"
             ],
             [
              0.7777777777777778,
              "#fb9f3a"
             ],
             [
              0.8888888888888888,
              "#fdca26"
             ],
             [
              1,
              "#f0f921"
             ]
            ],
            "type": "heatmap"
           }
          ],
          "histogram": [
           {
            "marker": {
             "pattern": {
              "fillmode": "overlay",
              "size": 10,
              "solidity": 0.2
             }
            },
            "type": "histogram"
           }
          ],
          "histogram2d": [
           {
            "colorbar": {
             "outlinewidth": 0,
             "ticks": ""
            },
            "colorscale": [
             [
              0,
              "#0d0887"
             ],
             [
              0.1111111111111111,
              "#46039f"
             ],
             [
              0.2222222222222222,
              "#7201a8"
             ],
             [
              0.3333333333333333,
              "#9c179e"
             ],
             [
              0.4444444444444444,
              "#bd3786"
             ],
             [
              0.5555555555555556,
              "#d8576b"
             ],
             [
              0.6666666666666666,
              "#ed7953"
             ],
             [
              0.7777777777777778,
              "#fb9f3a"
             ],
             [
              0.8888888888888888,
              "#fdca26"
             ],
             [
              1,
              "#f0f921"
             ]
            ],
            "type": "histogram2d"
           }
          ],
          "histogram2dcontour": [
           {
            "colorbar": {
             "outlinewidth": 0,
             "ticks": ""
            },
            "colorscale": [
             [
              0,
              "#0d0887"
             ],
             [
              0.1111111111111111,
              "#46039f"
             ],
             [
              0.2222222222222222,
              "#7201a8"
             ],
             [
              0.3333333333333333,
              "#9c179e"
             ],
             [
              0.4444444444444444,
              "#bd3786"
             ],
             [
              0.5555555555555556,
              "#d8576b"
             ],
             [
              0.6666666666666666,
              "#ed7953"
             ],
             [
              0.7777777777777778,
              "#fb9f3a"
             ],
             [
              0.8888888888888888,
              "#fdca26"
             ],
             [
              1,
              "#f0f921"
             ]
            ],
            "type": "histogram2dcontour"
           }
          ],
          "mesh3d": [
           {
            "colorbar": {
             "outlinewidth": 0,
             "ticks": ""
            },
            "type": "mesh3d"
           }
          ],
          "parcoords": [
           {
            "line": {
             "colorbar": {
              "outlinewidth": 0,
              "ticks": ""
             }
            },
            "type": "parcoords"
           }
          ],
          "pie": [
           {
            "automargin": true,
            "type": "pie"
           }
          ],
          "scatter": [
           {
            "fillpattern": {
             "fillmode": "overlay",
             "size": 10,
             "solidity": 0.2
            },
            "type": "scatter"
           }
          ],
          "scatter3d": [
           {
            "line": {
             "colorbar": {
              "outlinewidth": 0,
              "ticks": ""
             }
            },
            "marker": {
             "colorbar": {
              "outlinewidth": 0,
              "ticks": ""
             }
            },
            "type": "scatter3d"
           }
          ],
          "scattercarpet": [
           {
            "marker": {
             "colorbar": {
              "outlinewidth": 0,
              "ticks": ""
             }
            },
            "type": "scattercarpet"
           }
          ],
          "scattergeo": [
           {
            "marker": {
             "colorbar": {
              "outlinewidth": 0,
              "ticks": ""
             }
            },
            "type": "scattergeo"
           }
          ],
          "scattergl": [
           {
            "marker": {
             "colorbar": {
              "outlinewidth": 0,
              "ticks": ""
             }
            },
            "type": "scattergl"
           }
          ],
          "scattermap": [
           {
            "marker": {
             "colorbar": {
              "outlinewidth": 0,
              "ticks": ""
             }
            },
            "type": "scattermap"
           }
          ],
          "scattermapbox": [
           {
            "marker": {
             "colorbar": {
              "outlinewidth": 0,
              "ticks": ""
             }
            },
            "type": "scattermapbox"
           }
          ],
          "scatterpolar": [
           {
            "marker": {
             "colorbar": {
              "outlinewidth": 0,
              "ticks": ""
             }
            },
            "type": "scatterpolar"
           }
          ],
          "scatterpolargl": [
           {
            "marker": {
             "colorbar": {
              "outlinewidth": 0,
              "ticks": ""
             }
            },
            "type": "scatterpolargl"
           }
          ],
          "scatterternary": [
           {
            "marker": {
             "colorbar": {
              "outlinewidth": 0,
              "ticks": ""
             }
            },
            "type": "scatterternary"
           }
          ],
          "surface": [
           {
            "colorbar": {
             "outlinewidth": 0,
             "ticks": ""
            },
            "colorscale": [
             [
              0,
              "#0d0887"
             ],
             [
              0.1111111111111111,
              "#46039f"
             ],
             [
              0.2222222222222222,
              "#7201a8"
             ],
             [
              0.3333333333333333,
              "#9c179e"
             ],
             [
              0.4444444444444444,
              "#bd3786"
             ],
             [
              0.5555555555555556,
              "#d8576b"
             ],
             [
              0.6666666666666666,
              "#ed7953"
             ],
             [
              0.7777777777777778,
              "#fb9f3a"
             ],
             [
              0.8888888888888888,
              "#fdca26"
             ],
             [
              1,
              "#f0f921"
             ]
            ],
            "type": "surface"
           }
          ],
          "table": [
           {
            "cells": {
             "fill": {
              "color": "#EBF0F8"
             },
             "line": {
              "color": "white"
             }
            },
            "header": {
             "fill": {
              "color": "#C8D4E3"
             },
             "line": {
              "color": "white"
             }
            },
            "type": "table"
           }
          ]
         },
         "layout": {
          "annotationdefaults": {
           "arrowcolor": "#2a3f5f",
           "arrowhead": 0,
           "arrowwidth": 1
          },
          "autotypenumbers": "strict",
          "coloraxis": {
           "colorbar": {
            "outlinewidth": 0,
            "ticks": ""
           }
          },
          "colorscale": {
           "diverging": [
            [
             0,
             "#8e0152"
            ],
            [
             0.1,
             "#c51b7d"
            ],
            [
             0.2,
             "#de77ae"
            ],
            [
             0.3,
             "#f1b6da"
            ],
            [
             0.4,
             "#fde0ef"
            ],
            [
             0.5,
             "#f7f7f7"
            ],
            [
             0.6,
             "#e6f5d0"
            ],
            [
             0.7,
             "#b8e186"
            ],
            [
             0.8,
             "#7fbc41"
            ],
            [
             0.9,
             "#4d9221"
            ],
            [
             1,
             "#276419"
            ]
           ],
           "sequential": [
            [
             0,
             "#0d0887"
            ],
            [
             0.1111111111111111,
             "#46039f"
            ],
            [
             0.2222222222222222,
             "#7201a8"
            ],
            [
             0.3333333333333333,
             "#9c179e"
            ],
            [
             0.4444444444444444,
             "#bd3786"
            ],
            [
             0.5555555555555556,
             "#d8576b"
            ],
            [
             0.6666666666666666,
             "#ed7953"
            ],
            [
             0.7777777777777778,
             "#fb9f3a"
            ],
            [
             0.8888888888888888,
             "#fdca26"
            ],
            [
             1,
             "#f0f921"
            ]
           ],
           "sequentialminus": [
            [
             0,
             "#0d0887"
            ],
            [
             0.1111111111111111,
             "#46039f"
            ],
            [
             0.2222222222222222,
             "#7201a8"
            ],
            [
             0.3333333333333333,
             "#9c179e"
            ],
            [
             0.4444444444444444,
             "#bd3786"
            ],
            [
             0.5555555555555556,
             "#d8576b"
            ],
            [
             0.6666666666666666,
             "#ed7953"
            ],
            [
             0.7777777777777778,
             "#fb9f3a"
            ],
            [
             0.8888888888888888,
             "#fdca26"
            ],
            [
             1,
             "#f0f921"
            ]
           ]
          },
          "colorway": [
           "#636efa",
           "#EF553B",
           "#00cc96",
           "#ab63fa",
           "#FFA15A",
           "#19d3f3",
           "#FF6692",
           "#B6E880",
           "#FF97FF",
           "#FECB52"
          ],
          "font": {
           "color": "#2a3f5f"
          },
          "geo": {
           "bgcolor": "white",
           "lakecolor": "white",
           "landcolor": "#E5ECF6",
           "showlakes": true,
           "showland": true,
           "subunitcolor": "white"
          },
          "hoverlabel": {
           "align": "left"
          },
          "hovermode": "closest",
          "mapbox": {
           "style": "light"
          },
          "paper_bgcolor": "white",
          "plot_bgcolor": "#E5ECF6",
          "polar": {
           "angularaxis": {
            "gridcolor": "white",
            "linecolor": "white",
            "ticks": ""
           },
           "bgcolor": "#E5ECF6",
           "radialaxis": {
            "gridcolor": "white",
            "linecolor": "white",
            "ticks": ""
           }
          },
          "scene": {
           "xaxis": {
            "backgroundcolor": "#E5ECF6",
            "gridcolor": "white",
            "gridwidth": 2,
            "linecolor": "white",
            "showbackground": true,
            "ticks": "",
            "zerolinecolor": "white"
           },
           "yaxis": {
            "backgroundcolor": "#E5ECF6",
            "gridcolor": "white",
            "gridwidth": 2,
            "linecolor": "white",
            "showbackground": true,
            "ticks": "",
            "zerolinecolor": "white"
           },
           "zaxis": {
            "backgroundcolor": "#E5ECF6",
            "gridcolor": "white",
            "gridwidth": 2,
            "linecolor": "white",
            "showbackground": true,
            "ticks": "",
            "zerolinecolor": "white"
           }
          },
          "shapedefaults": {
           "line": {
            "color": "#2a3f5f"
           }
          },
          "ternary": {
           "aaxis": {
            "gridcolor": "white",
            "linecolor": "white",
            "ticks": ""
           },
           "baxis": {
            "gridcolor": "white",
            "linecolor": "white",
            "ticks": ""
           },
           "bgcolor": "#E5ECF6",
           "caxis": {
            "gridcolor": "white",
            "linecolor": "white",
            "ticks": ""
           }
          },
          "title": {
           "x": 0.05
          },
          "xaxis": {
           "automargin": true,
           "gridcolor": "white",
           "linecolor": "white",
           "ticks": "",
           "title": {
            "standoff": 15
           },
           "zerolinecolor": "white",
           "zerolinewidth": 2
          },
          "yaxis": {
           "automargin": true,
           "gridcolor": "white",
           "linecolor": "white",
           "ticks": "",
           "title": {
            "standoff": 15
           },
           "zerolinecolor": "white",
           "zerolinewidth": 2
          }
         }
        },
        "title": {
         "text": "🌎 Sales Distribution Across States"
        }
       }
      }
     },
     "metadata": {},
     "output_type": "display_data"
    }
   ],
   "source": [
    "# Mapping full names to abbreviations\n",
    "us_state_abbrev = {\n",
    "    'Alabama': 'AL', 'Alaska': 'AK', 'Arizona': 'AZ', 'Arkansas': 'AR', 'California': 'CA',\n",
    "    'Colorado': 'CO', 'Connecticut': 'CT', 'Delaware': 'DE', 'Florida': 'FL', 'Georgia': 'GA',\n",
    "    'Hawaii': 'HI', 'Idaho': 'ID', 'Illinois': 'IL', 'Indiana': 'IN', 'Iowa': 'IA',\n",
    "    'Kansas': 'KS', 'Kentucky': 'KY', 'Louisiana': 'LA', 'Maine': 'ME', 'Maryland': 'MD',\n",
    "    'Massachusetts': 'MA', 'Michigan': 'MI', 'Minnesota': 'MN', 'Mississippi': 'MS',\n",
    "    'Missouri': 'MO', 'Montana': 'MT', 'Nebraska': 'NE', 'Nevada': 'NV', 'New Hampshire': 'NH',\n",
    "    'New Jersey': 'NJ', 'New Mexico': 'NM', 'New York': 'NY', 'North Carolina': 'NC',\n",
    "    'North Dakota': 'ND', 'Ohio': 'OH', 'Oklahoma': 'OK', 'Oregon': 'OR', 'Pennsylvania': 'PA',\n",
    "    'Rhode Island': 'RI', 'South Carolina': 'SC', 'South Dakota': 'SD', 'Tennessee': 'TN',\n",
    "    'Texas': 'TX', 'Utah': 'UT', 'Vermont': 'VT', 'Virginia': 'VA', 'Washington': 'WA',\n",
    "    'West Virginia': 'WV', 'Wisconsin': 'WI', 'Wyoming': 'WY'\n",
    "}\n",
    "\n",
    "# Add a new column with state codes\n",
    "df['state_code'] = df['State'].map(us_state_abbrev)\n",
    "\n",
    "# Group sales by state code\n",
    "state_sales = df.groupby(['state_code'])['Sales'].sum().reset_index()\n",
    "\n",
    "# Replot the choropleth map\n",
    "fig = px.choropleth(state_sales,\n",
    "                    locations='state_code',\n",
    "                    locationmode='USA-states',\n",
    "                    color='Sales',\n",
    "                    scope='usa',\n",
    "                    title='🌎 Sales Distribution Across States',\n",
    "                    color_continuous_scale='Viridis')\n",
    "fig.show()\n",
    "\n",
    "\n"
   ]
  },
  {
   "cell_type": "code",
   "execution_count": 152,
   "metadata": {},
   "outputs": [],
   "source": [
    "#save the region sales data to a CSV file\n",
    "#state_sales.to_csv(r\"C:\\Users\\Saurav Kumar\\python files\\UPWORK PROJECTS\\state_sales.csv\", index=False)"
   ]
  },
  {
   "cell_type": "code",
   "execution_count": 153,
   "metadata": {},
   "outputs": [
    {
     "data": {
      "text/plain": [
       "0         Kentucky\n",
       "1         Kentucky\n",
       "2       California\n",
       "3          Florida\n",
       "4          Florida\n",
       "           ...    \n",
       "9989       Florida\n",
       "9990    California\n",
       "9991    California\n",
       "9992    California\n",
       "9993    California\n",
       "Name: State, Length: 9994, dtype: object"
      ]
     },
     "execution_count": 153,
     "metadata": {},
     "output_type": "execute_result"
    }
   ],
   "source": [
    "df['State']"
   ]
  },
  {
   "cell_type": "markdown",
   "metadata": {},
   "source": [
    "Data cleaning for project scope"
   ]
  },
  {
   "cell_type": "code",
   "execution_count": 154,
   "metadata": {},
   "outputs": [
    {
     "name": "stdout",
     "output_type": "stream",
     "text": [
      "<class 'pandas.core.frame.DataFrame'>\n",
      "RangeIndex: 9994 entries, 0 to 9993\n",
      "Data columns (total 24 columns):\n",
      " #   Column             Non-Null Count  Dtype         \n",
      "---  ------             --------------  -----         \n",
      " 0   row_id             9994 non-null   int64         \n",
      " 1   order_id           9994 non-null   object        \n",
      " 2   order_date         9994 non-null   datetime64[ns]\n",
      " 3   ship_date          9994 non-null   object        \n",
      " 4   ship_mode          9994 non-null   object        \n",
      " 5   customer_id        9994 non-null   object        \n",
      " 6   customer_name      9994 non-null   object        \n",
      " 7   segment            9994 non-null   object        \n",
      " 8   country            9994 non-null   object        \n",
      " 9   city               9994 non-null   object        \n",
      " 10  state              9994 non-null   object        \n",
      " 11  postal_code        9994 non-null   int64         \n",
      " 12  region             9994 non-null   object        \n",
      " 13  product_id         9994 non-null   object        \n",
      " 14  category           9994 non-null   object        \n",
      " 15  sub-category       9994 non-null   object        \n",
      " 16  product_name       9994 non-null   object        \n",
      " 17  sales              9994 non-null   float64       \n",
      " 18  quantity           9994 non-null   int64         \n",
      " 19  discount           9994 non-null   float64       \n",
      " 20  profit             9994 non-null   float64       \n",
      " 21  order_month        9994 non-null   object        \n",
      " 22  profit_margin_(%)  9994 non-null   float64       \n",
      " 23  state_code         9984 non-null   object        \n",
      "dtypes: datetime64[ns](1), float64(4), int64(3), object(16)\n",
      "memory usage: 1.8+ MB\n"
     ]
    }
   ],
   "source": [
    "# Clean column names (optional standardization)\n",
    "df.columns = df.columns.str.strip().str.lower().str.replace(' ', '_')\n",
    "\n",
    "# Drop duplicates\n",
    "df.drop_duplicates(inplace=True)\n",
    "\n",
    "# Drop rows with critical nulls (if any)\n",
    "df.dropna(subset=['order_date', 'sales', 'profit'], inplace=True)\n",
    "\n",
    "# Reset index\n",
    "df.reset_index(drop=True, inplace=True)\n",
    "\n",
    "# Final check\n",
    "df.info()\n"
   ]
  },
  {
   "cell_type": "code",
   "execution_count": 155,
   "metadata": {},
   "outputs": [
    {
     "name": "stdout",
     "output_type": "stream",
     "text": [
      "✅ Cleaned dataset exported as 'cleaned_superstore_data.csv'\n"
     ]
    }
   ],
   "source": [
    "# Save the cleaned version\n",
    "#df.to_csv(\"cleaned_superstore_data.csv\", index=False)\n",
    "print(\"✅ Cleaned dataset exported as 'cleaned_superstore_data.csv'\")\n"
   ]
  },
  {
   "cell_type": "markdown",
   "metadata": {},
   "source": [
    "# Business KPI Computation"
   ]
  },
  {
   "cell_type": "markdown",
   "metadata": {},
   "source": [
    "Monthly KPIs: Sales, Profit, Quantity, Orders"
   ]
  },
  {
   "cell_type": "code",
   "execution_count": 156,
   "metadata": {},
   "outputs": [
    {
     "data": {
      "text/html": [
       "<div>\n",
       "<style scoped>\n",
       "    .dataframe tbody tr th:only-of-type {\n",
       "        vertical-align: middle;\n",
       "    }\n",
       "\n",
       "    .dataframe tbody tr th {\n",
       "        vertical-align: top;\n",
       "    }\n",
       "\n",
       "    .dataframe thead th {\n",
       "        text-align: right;\n",
       "    }\n",
       "</style>\n",
       "<table border=\"1\" class=\"dataframe\">\n",
       "  <thead>\n",
       "    <tr style=\"text-align: right;\">\n",
       "      <th></th>\n",
       "      <th>order_month</th>\n",
       "      <th>sales</th>\n",
       "      <th>profit</th>\n",
       "      <th>quantity</th>\n",
       "      <th>num_orders</th>\n",
       "      <th>profit_margin_%</th>\n",
       "    </tr>\n",
       "  </thead>\n",
       "  <tbody>\n",
       "    <tr>\n",
       "      <th>43</th>\n",
       "      <td>2017-08</td>\n",
       "      <td>63120.8880</td>\n",
       "      <td>9040.9557</td>\n",
       "      <td>884</td>\n",
       "      <td>111</td>\n",
       "      <td>14.32</td>\n",
       "    </tr>\n",
       "    <tr>\n",
       "      <th>44</th>\n",
       "      <td>2017-09</td>\n",
       "      <td>87866.6520</td>\n",
       "      <td>10991.5556</td>\n",
       "      <td>1660</td>\n",
       "      <td>226</td>\n",
       "      <td>12.51</td>\n",
       "    </tr>\n",
       "    <tr>\n",
       "      <th>45</th>\n",
       "      <td>2017-10</td>\n",
       "      <td>77776.9232</td>\n",
       "      <td>9275.2755</td>\n",
       "      <td>1133</td>\n",
       "      <td>147</td>\n",
       "      <td>11.93</td>\n",
       "    </tr>\n",
       "    <tr>\n",
       "      <th>46</th>\n",
       "      <td>2017-11</td>\n",
       "      <td>118447.8250</td>\n",
       "      <td>9690.1037</td>\n",
       "      <td>1840</td>\n",
       "      <td>261</td>\n",
       "      <td>8.18</td>\n",
       "    </tr>\n",
       "    <tr>\n",
       "      <th>47</th>\n",
       "      <td>2017-12</td>\n",
       "      <td>83829.3188</td>\n",
       "      <td>8483.3468</td>\n",
       "      <td>1723</td>\n",
       "      <td>224</td>\n",
       "      <td>10.12</td>\n",
       "    </tr>\n",
       "  </tbody>\n",
       "</table>\n",
       "</div>"
      ],
      "text/plain": [
       "   order_month        sales      profit  quantity  num_orders  profit_margin_%\n",
       "43     2017-08   63120.8880   9040.9557       884         111            14.32\n",
       "44     2017-09   87866.6520  10991.5556      1660         226            12.51\n",
       "45     2017-10   77776.9232   9275.2755      1133         147            11.93\n",
       "46     2017-11  118447.8250   9690.1037      1840         261             8.18\n",
       "47     2017-12   83829.3188   8483.3468      1723         224            10.12"
      ]
     },
     "execution_count": 156,
     "metadata": {},
     "output_type": "execute_result"
    }
   ],
   "source": [
    "# Ensure datetime\n",
    "df['order_date'] = pd.to_datetime(df['order_date'])\n",
    "\n",
    "# Extract month\n",
    "df['order_month'] = df['order_date'].dt.to_period('M').astype(str)\n",
    "\n",
    "# KPI Aggregation\n",
    "monthly_kpis = df.groupby('order_month').agg({\n",
    "    'sales': 'sum',\n",
    "    'profit': 'sum',\n",
    "    'quantity': 'sum',\n",
    "    'order_id': 'nunique'\n",
    "}).reset_index().rename(columns={\n",
    "    'order_id': 'num_orders'\n",
    "})\n",
    "\n",
    "# Profit Margin\n",
    "monthly_kpis['profit_margin_%'] = (monthly_kpis['profit'] / monthly_kpis['sales']) * 100\n",
    "monthly_kpis['profit_margin_%'] = monthly_kpis['profit_margin_%'].round(2)\n",
    "\n",
    "monthly_kpis.tail()\n"
   ]
  },
  {
   "cell_type": "markdown",
   "metadata": {},
   "source": [
    "Visualize Monthly Sales & Profit (Dual Axis Plot)"
   ]
  },
  {
   "cell_type": "code",
   "execution_count": 157,
   "metadata": {},
   "outputs": [
    {
     "data": {
      "application/vnd.plotly.v1+json": {
       "config": {
        "plotlyServerURL": "https://plot.ly"
       },
       "data": [
        {
         "line": {
          "color": "royalblue"
         },
         "mode": "lines+markers",
         "name": "Sales",
         "type": "scatter",
         "x": [
          "2014-01",
          "2014-02",
          "2014-03",
          "2014-04",
          "2014-05",
          "2014-06",
          "2014-07",
          "2014-08",
          "2014-09",
          "2014-10",
          "2014-11",
          "2014-12",
          "2015-01",
          "2015-02",
          "2015-03",
          "2015-04",
          "2015-05",
          "2015-06",
          "2015-07",
          "2015-08",
          "2015-09",
          "2015-10",
          "2015-11",
          "2015-12",
          "2016-01",
          "2016-02",
          "2016-03",
          "2016-04",
          "2016-05",
          "2016-06",
          "2016-07",
          "2016-08",
          "2016-09",
          "2016-10",
          "2016-11",
          "2016-12",
          "2017-01",
          "2017-02",
          "2017-03",
          "2017-04",
          "2017-05",
          "2017-06",
          "2017-07",
          "2017-08",
          "2017-09",
          "2017-10",
          "2017-11",
          "2017-12"
         ],
         "y": {
          "bdata": "9ihcj3LOy0AIrBxa5KexQDVeuklgMetASOF6FNah20B9PzVeEhjXQF+YTBVk5OBAarx0k0yT4ECLbOf7XUHbQPd14JwV9/NA1XjpJlm33kBRa5p3SzLzQHNoke2Z+vBA5WGh1oS/0UBU46WbtFfHQNNNYhDI6OJAJzEIrGay4EAtsp3v62zdQJzEILBSN9hAzczMzFQX3ED35GGhSgTiQDeJQWB9iu9Ad76fGjur3kB1kxgESYzyQKvP1VZ4SvJAlUOLbJ8b0kCPwvUotHDWQAAAAAB8QOlAku18P8Hr4kDwp8ZLd9PrQAIrhxYRs+NAQmDl0L4r40C5/If012LeQNuK/WUg7PFAcT0K1/ck7UBos+pzP2PzQJzEILBwrvdAF9nO92t45UBSJ6CJSNPTQME5I0oLv+xA7C+7JzHV4UCBJsKGo5zlQNc07zi33ulAZDvfTw0a5kDb+X5qHNLuQFCNl26qc/VA+1xtxQ798kAzMzMz/er8QF8HzhlVd/RA",
          "dtype": "f8"
         }
        },
        {
         "line": {
          "color": "green"
         },
         "mode": "lines+markers",
         "name": "Profit",
         "type": "scatter",
         "x": [
          "2014-01",
          "2014-02",
          "2014-03",
          "2014-04",
          "2014-05",
          "2014-06",
          "2014-07",
          "2014-08",
          "2014-09",
          "2014-10",
          "2014-11",
          "2014-12",
          "2015-01",
          "2015-02",
          "2015-03",
          "2015-04",
          "2015-05",
          "2015-06",
          "2015-07",
          "2015-08",
          "2015-09",
          "2015-10",
          "2015-11",
          "2015-12",
          "2016-01",
          "2016-02",
          "2016-03",
          "2016-04",
          "2016-05",
          "2016-06",
          "2016-07",
          "2016-08",
          "2016-09",
          "2016-10",
          "2016-11",
          "2016-12",
          "2017-01",
          "2017-02",
          "2017-03",
          "2017-04",
          "2017-05",
          "2017-06",
          "2017-07",
          "2017-08",
          "2017-09",
          "2017-10",
          "2017-11",
          "2017-12"
         ],
         "y": {
          "bdata": "si5uo2Eko0CxUGuad/KKQJtVn6utK39APZtVn6tBq0B88rBQa2WlQAYSFD+GcLNAZ4hjXdxLisAUrkfhGsa0QJyiI7kMRMBAhlrTvIPwqkDuWkI+ECbCQP+ye/LIi8FAJQaBlQOiqcDgvg6cs/ulQMbctYQMAsNARpT2Bn9bsEA5tMh23juyQKqCUUkdD6pA/kP67UuxqUAWak3zzuu0QIiFWtOUCMBArBxaZLsCpkAVjErqZF3IQDXvOEX3UL9AmN2Th6URpkAIrBxalIyzQA8tsp3vN6xABaOSOqFDp0ARNjy9EuvAQJ5eKctgjrJAKO0NvuBQsUA6I0p7IxygQO2ePCxUOMJA2KNwPZK5z0A9Ctej0FavQCo6kstTd9FArIvbaHDku0ByaJHtfDeZQDIIrBzyz8xAtx6F61EqjUAcfGEylca4QKK0N/iqD8BARpT2Bp8ou0BlqmBUeqjBQNSa5h3Hd8VABoGVQ6MdwkBMpgpGDe3CQCFB8WOskcBA",
          "dtype": "f8"
         },
         "yaxis": "y2"
        }
       ],
       "layout": {
        "template": {
         "data": {
          "bar": [
           {
            "error_x": {
             "color": "#2a3f5f"
            },
            "error_y": {
             "color": "#2a3f5f"
            },
            "marker": {
             "line": {
              "color": "white",
              "width": 0.5
             },
             "pattern": {
              "fillmode": "overlay",
              "size": 10,
              "solidity": 0.2
             }
            },
            "type": "bar"
           }
          ],
          "barpolar": [
           {
            "marker": {
             "line": {
              "color": "white",
              "width": 0.5
             },
             "pattern": {
              "fillmode": "overlay",
              "size": 10,
              "solidity": 0.2
             }
            },
            "type": "barpolar"
           }
          ],
          "carpet": [
           {
            "aaxis": {
             "endlinecolor": "#2a3f5f",
             "gridcolor": "#C8D4E3",
             "linecolor": "#C8D4E3",
             "minorgridcolor": "#C8D4E3",
             "startlinecolor": "#2a3f5f"
            },
            "baxis": {
             "endlinecolor": "#2a3f5f",
             "gridcolor": "#C8D4E3",
             "linecolor": "#C8D4E3",
             "minorgridcolor": "#C8D4E3",
             "startlinecolor": "#2a3f5f"
            },
            "type": "carpet"
           }
          ],
          "choropleth": [
           {
            "colorbar": {
             "outlinewidth": 0,
             "ticks": ""
            },
            "type": "choropleth"
           }
          ],
          "contour": [
           {
            "colorbar": {
             "outlinewidth": 0,
             "ticks": ""
            },
            "colorscale": [
             [
              0,
              "#0d0887"
             ],
             [
              0.1111111111111111,
              "#46039f"
             ],
             [
              0.2222222222222222,
              "#7201a8"
             ],
             [
              0.3333333333333333,
              "#9c179e"
             ],
             [
              0.4444444444444444,
              "#bd3786"
             ],
             [
              0.5555555555555556,
              "#d8576b"
             ],
             [
              0.6666666666666666,
              "#ed7953"
             ],
             [
              0.7777777777777778,
              "#fb9f3a"
             ],
             [
              0.8888888888888888,
              "#fdca26"
             ],
             [
              1,
              "#f0f921"
             ]
            ],
            "type": "contour"
           }
          ],
          "contourcarpet": [
           {
            "colorbar": {
             "outlinewidth": 0,
             "ticks": ""
            },
            "type": "contourcarpet"
           }
          ],
          "heatmap": [
           {
            "colorbar": {
             "outlinewidth": 0,
             "ticks": ""
            },
            "colorscale": [
             [
              0,
              "#0d0887"
             ],
             [
              0.1111111111111111,
              "#46039f"
             ],
             [
              0.2222222222222222,
              "#7201a8"
             ],
             [
              0.3333333333333333,
              "#9c179e"
             ],
             [
              0.4444444444444444,
              "#bd3786"
             ],
             [
              0.5555555555555556,
              "#d8576b"
             ],
             [
              0.6666666666666666,
              "#ed7953"
             ],
             [
              0.7777777777777778,
              "#fb9f3a"
             ],
             [
              0.8888888888888888,
              "#fdca26"
             ],
             [
              1,
              "#f0f921"
             ]
            ],
            "type": "heatmap"
           }
          ],
          "histogram": [
           {
            "marker": {
             "pattern": {
              "fillmode": "overlay",
              "size": 10,
              "solidity": 0.2
             }
            },
            "type": "histogram"
           }
          ],
          "histogram2d": [
           {
            "colorbar": {
             "outlinewidth": 0,
             "ticks": ""
            },
            "colorscale": [
             [
              0,
              "#0d0887"
             ],
             [
              0.1111111111111111,
              "#46039f"
             ],
             [
              0.2222222222222222,
              "#7201a8"
             ],
             [
              0.3333333333333333,
              "#9c179e"
             ],
             [
              0.4444444444444444,
              "#bd3786"
             ],
             [
              0.5555555555555556,
              "#d8576b"
             ],
             [
              0.6666666666666666,
              "#ed7953"
             ],
             [
              0.7777777777777778,
              "#fb9f3a"
             ],
             [
              0.8888888888888888,
              "#fdca26"
             ],
             [
              1,
              "#f0f921"
             ]
            ],
            "type": "histogram2d"
           }
          ],
          "histogram2dcontour": [
           {
            "colorbar": {
             "outlinewidth": 0,
             "ticks": ""
            },
            "colorscale": [
             [
              0,
              "#0d0887"
             ],
             [
              0.1111111111111111,
              "#46039f"
             ],
             [
              0.2222222222222222,
              "#7201a8"
             ],
             [
              0.3333333333333333,
              "#9c179e"
             ],
             [
              0.4444444444444444,
              "#bd3786"
             ],
             [
              0.5555555555555556,
              "#d8576b"
             ],
             [
              0.6666666666666666,
              "#ed7953"
             ],
             [
              0.7777777777777778,
              "#fb9f3a"
             ],
             [
              0.8888888888888888,
              "#fdca26"
             ],
             [
              1,
              "#f0f921"
             ]
            ],
            "type": "histogram2dcontour"
           }
          ],
          "mesh3d": [
           {
            "colorbar": {
             "outlinewidth": 0,
             "ticks": ""
            },
            "type": "mesh3d"
           }
          ],
          "parcoords": [
           {
            "line": {
             "colorbar": {
              "outlinewidth": 0,
              "ticks": ""
             }
            },
            "type": "parcoords"
           }
          ],
          "pie": [
           {
            "automargin": true,
            "type": "pie"
           }
          ],
          "scatter": [
           {
            "fillpattern": {
             "fillmode": "overlay",
             "size": 10,
             "solidity": 0.2
            },
            "type": "scatter"
           }
          ],
          "scatter3d": [
           {
            "line": {
             "colorbar": {
              "outlinewidth": 0,
              "ticks": ""
             }
            },
            "marker": {
             "colorbar": {
              "outlinewidth": 0,
              "ticks": ""
             }
            },
            "type": "scatter3d"
           }
          ],
          "scattercarpet": [
           {
            "marker": {
             "colorbar": {
              "outlinewidth": 0,
              "ticks": ""
             }
            },
            "type": "scattercarpet"
           }
          ],
          "scattergeo": [
           {
            "marker": {
             "colorbar": {
              "outlinewidth": 0,
              "ticks": ""
             }
            },
            "type": "scattergeo"
           }
          ],
          "scattergl": [
           {
            "marker": {
             "colorbar": {
              "outlinewidth": 0,
              "ticks": ""
             }
            },
            "type": "scattergl"
           }
          ],
          "scattermap": [
           {
            "marker": {
             "colorbar": {
              "outlinewidth": 0,
              "ticks": ""
             }
            },
            "type": "scattermap"
           }
          ],
          "scattermapbox": [
           {
            "marker": {
             "colorbar": {
              "outlinewidth": 0,
              "ticks": ""
             }
            },
            "type": "scattermapbox"
           }
          ],
          "scatterpolar": [
           {
            "marker": {
             "colorbar": {
              "outlinewidth": 0,
              "ticks": ""
             }
            },
            "type": "scatterpolar"
           }
          ],
          "scatterpolargl": [
           {
            "marker": {
             "colorbar": {
              "outlinewidth": 0,
              "ticks": ""
             }
            },
            "type": "scatterpolargl"
           }
          ],
          "scatterternary": [
           {
            "marker": {
             "colorbar": {
              "outlinewidth": 0,
              "ticks": ""
             }
            },
            "type": "scatterternary"
           }
          ],
          "surface": [
           {
            "colorbar": {
             "outlinewidth": 0,
             "ticks": ""
            },
            "colorscale": [
             [
              0,
              "#0d0887"
             ],
             [
              0.1111111111111111,
              "#46039f"
             ],
             [
              0.2222222222222222,
              "#7201a8"
             ],
             [
              0.3333333333333333,
              "#9c179e"
             ],
             [
              0.4444444444444444,
              "#bd3786"
             ],
             [
              0.5555555555555556,
              "#d8576b"
             ],
             [
              0.6666666666666666,
              "#ed7953"
             ],
             [
              0.7777777777777778,
              "#fb9f3a"
             ],
             [
              0.8888888888888888,
              "#fdca26"
             ],
             [
              1,
              "#f0f921"
             ]
            ],
            "type": "surface"
           }
          ],
          "table": [
           {
            "cells": {
             "fill": {
              "color": "#EBF0F8"
             },
             "line": {
              "color": "white"
             }
            },
            "header": {
             "fill": {
              "color": "#C8D4E3"
             },
             "line": {
              "color": "white"
             }
            },
            "type": "table"
           }
          ]
         },
         "layout": {
          "annotationdefaults": {
           "arrowcolor": "#2a3f5f",
           "arrowhead": 0,
           "arrowwidth": 1
          },
          "autotypenumbers": "strict",
          "coloraxis": {
           "colorbar": {
            "outlinewidth": 0,
            "ticks": ""
           }
          },
          "colorscale": {
           "diverging": [
            [
             0,
             "#8e0152"
            ],
            [
             0.1,
             "#c51b7d"
            ],
            [
             0.2,
             "#de77ae"
            ],
            [
             0.3,
             "#f1b6da"
            ],
            [
             0.4,
             "#fde0ef"
            ],
            [
             0.5,
             "#f7f7f7"
            ],
            [
             0.6,
             "#e6f5d0"
            ],
            [
             0.7,
             "#b8e186"
            ],
            [
             0.8,
             "#7fbc41"
            ],
            [
             0.9,
             "#4d9221"
            ],
            [
             1,
             "#276419"
            ]
           ],
           "sequential": [
            [
             0,
             "#0d0887"
            ],
            [
             0.1111111111111111,
             "#46039f"
            ],
            [
             0.2222222222222222,
             "#7201a8"
            ],
            [
             0.3333333333333333,
             "#9c179e"
            ],
            [
             0.4444444444444444,
             "#bd3786"
            ],
            [
             0.5555555555555556,
             "#d8576b"
            ],
            [
             0.6666666666666666,
             "#ed7953"
            ],
            [
             0.7777777777777778,
             "#fb9f3a"
            ],
            [
             0.8888888888888888,
             "#fdca26"
            ],
            [
             1,
             "#f0f921"
            ]
           ],
           "sequentialminus": [
            [
             0,
             "#0d0887"
            ],
            [
             0.1111111111111111,
             "#46039f"
            ],
            [
             0.2222222222222222,
             "#7201a8"
            ],
            [
             0.3333333333333333,
             "#9c179e"
            ],
            [
             0.4444444444444444,
             "#bd3786"
            ],
            [
             0.5555555555555556,
             "#d8576b"
            ],
            [
             0.6666666666666666,
             "#ed7953"
            ],
            [
             0.7777777777777778,
             "#fb9f3a"
            ],
            [
             0.8888888888888888,
             "#fdca26"
            ],
            [
             1,
             "#f0f921"
            ]
           ]
          },
          "colorway": [
           "#636efa",
           "#EF553B",
           "#00cc96",
           "#ab63fa",
           "#FFA15A",
           "#19d3f3",
           "#FF6692",
           "#B6E880",
           "#FF97FF",
           "#FECB52"
          ],
          "font": {
           "color": "#2a3f5f"
          },
          "geo": {
           "bgcolor": "white",
           "lakecolor": "white",
           "landcolor": "white",
           "showlakes": true,
           "showland": true,
           "subunitcolor": "#C8D4E3"
          },
          "hoverlabel": {
           "align": "left"
          },
          "hovermode": "closest",
          "mapbox": {
           "style": "light"
          },
          "paper_bgcolor": "white",
          "plot_bgcolor": "white",
          "polar": {
           "angularaxis": {
            "gridcolor": "#EBF0F8",
            "linecolor": "#EBF0F8",
            "ticks": ""
           },
           "bgcolor": "white",
           "radialaxis": {
            "gridcolor": "#EBF0F8",
            "linecolor": "#EBF0F8",
            "ticks": ""
           }
          },
          "scene": {
           "xaxis": {
            "backgroundcolor": "white",
            "gridcolor": "#DFE8F3",
            "gridwidth": 2,
            "linecolor": "#EBF0F8",
            "showbackground": true,
            "ticks": "",
            "zerolinecolor": "#EBF0F8"
           },
           "yaxis": {
            "backgroundcolor": "white",
            "gridcolor": "#DFE8F3",
            "gridwidth": 2,
            "linecolor": "#EBF0F8",
            "showbackground": true,
            "ticks": "",
            "zerolinecolor": "#EBF0F8"
           },
           "zaxis": {
            "backgroundcolor": "white",
            "gridcolor": "#DFE8F3",
            "gridwidth": 2,
            "linecolor": "#EBF0F8",
            "showbackground": true,
            "ticks": "",
            "zerolinecolor": "#EBF0F8"
           }
          },
          "shapedefaults": {
           "line": {
            "color": "#2a3f5f"
           }
          },
          "ternary": {
           "aaxis": {
            "gridcolor": "#DFE8F3",
            "linecolor": "#A2B1C6",
            "ticks": ""
           },
           "baxis": {
            "gridcolor": "#DFE8F3",
            "linecolor": "#A2B1C6",
            "ticks": ""
           },
           "bgcolor": "white",
           "caxis": {
            "gridcolor": "#DFE8F3",
            "linecolor": "#A2B1C6",
            "ticks": ""
           }
          },
          "title": {
           "x": 0.05
          },
          "xaxis": {
           "automargin": true,
           "gridcolor": "#EBF0F8",
           "linecolor": "#EBF0F8",
           "ticks": "",
           "title": {
            "standoff": 15
           },
           "zerolinecolor": "#EBF0F8",
           "zerolinewidth": 2
          },
          "yaxis": {
           "automargin": true,
           "gridcolor": "#EBF0F8",
           "linecolor": "#EBF0F8",
           "ticks": "",
           "title": {
            "standoff": 15
           },
           "zerolinecolor": "#EBF0F8",
           "zerolinewidth": 2
          }
         }
        },
        "title": {
         "text": "📈 Monthly Sales & Profit Trend"
        },
        "xaxis": {
         "title": {
          "text": "Month"
         }
        },
        "yaxis": {
         "side": "left",
         "title": {
          "text": "Sales"
         }
        },
        "yaxis2": {
         "overlaying": "y",
         "side": "right",
         "title": {
          "text": "Profit"
         }
        }
       }
      }
     },
     "metadata": {},
     "output_type": "display_data"
    }
   ],
   "source": [
    "fig = go.Figure()\n",
    "\n",
    "# Sales line\n",
    "fig.add_trace(go.Scatter(x=monthly_kpis['order_month'],\n",
    "                         y=monthly_kpis['sales'],\n",
    "                         name='Sales',\n",
    "                         mode='lines+markers',\n",
    "                         line=dict(color='royalblue')))\n",
    "\n",
    "# Profit line\n",
    "fig.add_trace(go.Scatter(x=monthly_kpis['order_month'],\n",
    "                         y=monthly_kpis['profit'],\n",
    "                         name='Profit',\n",
    "                         mode='lines+markers',\n",
    "                         line=dict(color='green'),\n",
    "                         yaxis='y2'))\n",
    "\n",
    "# Layout\n",
    "fig.update_layout(\n",
    "    title='📈 Monthly Sales & Profit Trend',\n",
    "    xaxis=dict(title='Month'),\n",
    "    yaxis=dict(title='Sales', side='left'),\n",
    "    yaxis2=dict(title='Profit', overlaying='y', side='right'),\n",
    "    template='plotly_white'\n",
    ")\n",
    "\n",
    "fig.show()\n"
   ]
  },
  {
   "cell_type": "markdown",
   "metadata": {},
   "source": [
    "Regional KPIs: Region-Level Sales & Profit\n"
   ]
  },
  {
   "cell_type": "code",
   "execution_count": 158,
   "metadata": {},
   "outputs": [
    {
     "data": {
      "text/html": [
       "<div>\n",
       "<style scoped>\n",
       "    .dataframe tbody tr th:only-of-type {\n",
       "        vertical-align: middle;\n",
       "    }\n",
       "\n",
       "    .dataframe tbody tr th {\n",
       "        vertical-align: top;\n",
       "    }\n",
       "\n",
       "    .dataframe thead th {\n",
       "        text-align: right;\n",
       "    }\n",
       "</style>\n",
       "<table border=\"1\" class=\"dataframe\">\n",
       "  <thead>\n",
       "    <tr style=\"text-align: right;\">\n",
       "      <th></th>\n",
       "      <th>region</th>\n",
       "      <th>sales</th>\n",
       "      <th>profit</th>\n",
       "      <th>num_orders</th>\n",
       "      <th>num_customers</th>\n",
       "      <th>profit_margin_%</th>\n",
       "    </tr>\n",
       "  </thead>\n",
       "  <tbody>\n",
       "    <tr>\n",
       "      <th>3</th>\n",
       "      <td>West</td>\n",
       "      <td>725457.8245</td>\n",
       "      <td>108418.4489</td>\n",
       "      <td>1611</td>\n",
       "      <td>686</td>\n",
       "      <td>14.94</td>\n",
       "    </tr>\n",
       "    <tr>\n",
       "      <th>1</th>\n",
       "      <td>East</td>\n",
       "      <td>678781.2400</td>\n",
       "      <td>91522.7800</td>\n",
       "      <td>1401</td>\n",
       "      <td>674</td>\n",
       "      <td>13.48</td>\n",
       "    </tr>\n",
       "    <tr>\n",
       "      <th>0</th>\n",
       "      <td>Central</td>\n",
       "      <td>501239.8908</td>\n",
       "      <td>39706.3625</td>\n",
       "      <td>1175</td>\n",
       "      <td>629</td>\n",
       "      <td>7.92</td>\n",
       "    </tr>\n",
       "    <tr>\n",
       "      <th>2</th>\n",
       "      <td>South</td>\n",
       "      <td>391721.9050</td>\n",
       "      <td>46749.4303</td>\n",
       "      <td>822</td>\n",
       "      <td>512</td>\n",
       "      <td>11.93</td>\n",
       "    </tr>\n",
       "  </tbody>\n",
       "</table>\n",
       "</div>"
      ],
      "text/plain": [
       "    region        sales       profit  num_orders  num_customers  \\\n",
       "3     West  725457.8245  108418.4489        1611            686   \n",
       "1     East  678781.2400   91522.7800        1401            674   \n",
       "0  Central  501239.8908   39706.3625        1175            629   \n",
       "2    South  391721.9050   46749.4303         822            512   \n",
       "\n",
       "   profit_margin_%  \n",
       "3            14.94  \n",
       "1            13.48  \n",
       "0             7.92  \n",
       "2            11.93  "
      ]
     },
     "execution_count": 158,
     "metadata": {},
     "output_type": "execute_result"
    }
   ],
   "source": [
    "region_kpis = df.groupby('region').agg({\n",
    "    'sales': 'sum',\n",
    "    'profit': 'sum',\n",
    "    'order_id': 'nunique',\n",
    "    'customer_id': 'nunique'\n",
    "}).reset_index().rename(columns={\n",
    "    'order_id': 'num_orders',\n",
    "    'customer_id': 'num_customers'\n",
    "})\n",
    "\n",
    "# Profit margin\n",
    "region_kpis['profit_margin_%'] = (region_kpis['profit'] / region_kpis['sales']) * 100\n",
    "region_kpis['profit_margin_%'] = region_kpis['profit_margin_%'].round(2)\n",
    "\n",
    "region_kpis.sort_values(by='sales', ascending=False)\n"
   ]
  },
  {
   "cell_type": "markdown",
   "metadata": {},
   "source": [
    "Visual: Region-wise Sales Breakdown (Bar Chart)"
   ]
  },
  {
   "cell_type": "code",
   "execution_count": 159,
   "metadata": {},
   "outputs": [
    {
     "data": {
      "application/vnd.plotly.v1+json": {
       "config": {
        "plotlyServerURL": "https://plot.ly"
       },
       "data": [
        {
         "hovertemplate": "region=%{x}<br>sales=%{y}<extra></extra>",
         "legendgroup": "Central",
         "marker": {
          "color": "#636efa",
          "pattern": {
           "shape": ""
          }
         },
         "name": "Central",
         "orientation": "v",
         "showlegend": true,
         "textposition": "auto",
         "texttemplate": "%{y:.2s}",
         "type": "bar",
         "x": [
          "Central"
         ],
         "xaxis": "x",
         "y": {
          "bdata": "DeAtkN+XHkE=",
          "dtype": "f8"
         },
         "yaxis": "y"
        },
        {
         "hovertemplate": "region=%{x}<br>sales=%{y}<extra></extra>",
         "legendgroup": "East",
         "marker": {
          "color": "#EF553B",
          "pattern": {
           "shape": ""
          }
         },
         "name": "East",
         "orientation": "v",
         "showlegend": true,
         "textposition": "auto",
         "texttemplate": "%{y:.2s}",
         "type": "bar",
         "x": [
          "East"
         ],
         "xaxis": "x",
         "y": {
          "bdata": "rkfhevq2JEE=",
          "dtype": "f8"
         },
         "yaxis": "y"
        },
        {
         "hovertemplate": "region=%{x}<br>sales=%{y}<extra></extra>",
         "legendgroup": "South",
         "marker": {
          "color": "#00cc96",
          "pattern": {
           "shape": ""
          }
         },
         "name": "South",
         "orientation": "v",
         "showlegend": true,
         "textposition": "auto",
         "texttemplate": "%{y:.2s}",
         "type": "bar",
         "x": [
          "South"
         ],
         "xaxis": "x",
         "y": {
          "bdata": "7FG4nqfoF0E=",
          "dtype": "f8"
         },
         "yaxis": "y"
        },
        {
         "hovertemplate": "region=%{x}<br>sales=%{y}<extra></extra>",
         "legendgroup": "West",
         "marker": {
          "color": "#ab63fa",
          "pattern": {
           "shape": ""
          }
         },
         "name": "West",
         "orientation": "v",
         "showlegend": true,
         "textposition": "auto",
         "texttemplate": "%{y:.2s}",
         "type": "bar",
         "x": [
          "West"
         ],
         "xaxis": "x",
         "y": {
          "bdata": "L90kpqMjJkE=",
          "dtype": "f8"
         },
         "yaxis": "y"
        }
       ],
       "layout": {
        "barmode": "relative",
        "legend": {
         "title": {
          "text": "region"
         },
         "tracegroupgap": 0
        },
        "showlegend": false,
        "template": {
         "data": {
          "bar": [
           {
            "error_x": {
             "color": "#2a3f5f"
            },
            "error_y": {
             "color": "#2a3f5f"
            },
            "marker": {
             "line": {
              "color": "white",
              "width": 0.5
             },
             "pattern": {
              "fillmode": "overlay",
              "size": 10,
              "solidity": 0.2
             }
            },
            "type": "bar"
           }
          ],
          "barpolar": [
           {
            "marker": {
             "line": {
              "color": "white",
              "width": 0.5
             },
             "pattern": {
              "fillmode": "overlay",
              "size": 10,
              "solidity": 0.2
             }
            },
            "type": "barpolar"
           }
          ],
          "carpet": [
           {
            "aaxis": {
             "endlinecolor": "#2a3f5f",
             "gridcolor": "#C8D4E3",
             "linecolor": "#C8D4E3",
             "minorgridcolor": "#C8D4E3",
             "startlinecolor": "#2a3f5f"
            },
            "baxis": {
             "endlinecolor": "#2a3f5f",
             "gridcolor": "#C8D4E3",
             "linecolor": "#C8D4E3",
             "minorgridcolor": "#C8D4E3",
             "startlinecolor": "#2a3f5f"
            },
            "type": "carpet"
           }
          ],
          "choropleth": [
           {
            "colorbar": {
             "outlinewidth": 0,
             "ticks": ""
            },
            "type": "choropleth"
           }
          ],
          "contour": [
           {
            "colorbar": {
             "outlinewidth": 0,
             "ticks": ""
            },
            "colorscale": [
             [
              0,
              "#0d0887"
             ],
             [
              0.1111111111111111,
              "#46039f"
             ],
             [
              0.2222222222222222,
              "#7201a8"
             ],
             [
              0.3333333333333333,
              "#9c179e"
             ],
             [
              0.4444444444444444,
              "#bd3786"
             ],
             [
              0.5555555555555556,
              "#d8576b"
             ],
             [
              0.6666666666666666,
              "#ed7953"
             ],
             [
              0.7777777777777778,
              "#fb9f3a"
             ],
             [
              0.8888888888888888,
              "#fdca26"
             ],
             [
              1,
              "#f0f921"
             ]
            ],
            "type": "contour"
           }
          ],
          "contourcarpet": [
           {
            "colorbar": {
             "outlinewidth": 0,
             "ticks": ""
            },
            "type": "contourcarpet"
           }
          ],
          "heatmap": [
           {
            "colorbar": {
             "outlinewidth": 0,
             "ticks": ""
            },
            "colorscale": [
             [
              0,
              "#0d0887"
             ],
             [
              0.1111111111111111,
              "#46039f"
             ],
             [
              0.2222222222222222,
              "#7201a8"
             ],
             [
              0.3333333333333333,
              "#9c179e"
             ],
             [
              0.4444444444444444,
              "#bd3786"
             ],
             [
              0.5555555555555556,
              "#d8576b"
             ],
             [
              0.6666666666666666,
              "#ed7953"
             ],
             [
              0.7777777777777778,
              "#fb9f3a"
             ],
             [
              0.8888888888888888,
              "#fdca26"
             ],
             [
              1,
              "#f0f921"
             ]
            ],
            "type": "heatmap"
           }
          ],
          "histogram": [
           {
            "marker": {
             "pattern": {
              "fillmode": "overlay",
              "size": 10,
              "solidity": 0.2
             }
            },
            "type": "histogram"
           }
          ],
          "histogram2d": [
           {
            "colorbar": {
             "outlinewidth": 0,
             "ticks": ""
            },
            "colorscale": [
             [
              0,
              "#0d0887"
             ],
             [
              0.1111111111111111,
              "#46039f"
             ],
             [
              0.2222222222222222,
              "#7201a8"
             ],
             [
              0.3333333333333333,
              "#9c179e"
             ],
             [
              0.4444444444444444,
              "#bd3786"
             ],
             [
              0.5555555555555556,
              "#d8576b"
             ],
             [
              0.6666666666666666,
              "#ed7953"
             ],
             [
              0.7777777777777778,
              "#fb9f3a"
             ],
             [
              0.8888888888888888,
              "#fdca26"
             ],
             [
              1,
              "#f0f921"
             ]
            ],
            "type": "histogram2d"
           }
          ],
          "histogram2dcontour": [
           {
            "colorbar": {
             "outlinewidth": 0,
             "ticks": ""
            },
            "colorscale": [
             [
              0,
              "#0d0887"
             ],
             [
              0.1111111111111111,
              "#46039f"
             ],
             [
              0.2222222222222222,
              "#7201a8"
             ],
             [
              0.3333333333333333,
              "#9c179e"
             ],
             [
              0.4444444444444444,
              "#bd3786"
             ],
             [
              0.5555555555555556,
              "#d8576b"
             ],
             [
              0.6666666666666666,
              "#ed7953"
             ],
             [
              0.7777777777777778,
              "#fb9f3a"
             ],
             [
              0.8888888888888888,
              "#fdca26"
             ],
             [
              1,
              "#f0f921"
             ]
            ],
            "type": "histogram2dcontour"
           }
          ],
          "mesh3d": [
           {
            "colorbar": {
             "outlinewidth": 0,
             "ticks": ""
            },
            "type": "mesh3d"
           }
          ],
          "parcoords": [
           {
            "line": {
             "colorbar": {
              "outlinewidth": 0,
              "ticks": ""
             }
            },
            "type": "parcoords"
           }
          ],
          "pie": [
           {
            "automargin": true,
            "type": "pie"
           }
          ],
          "scatter": [
           {
            "fillpattern": {
             "fillmode": "overlay",
             "size": 10,
             "solidity": 0.2
            },
            "type": "scatter"
           }
          ],
          "scatter3d": [
           {
            "line": {
             "colorbar": {
              "outlinewidth": 0,
              "ticks": ""
             }
            },
            "marker": {
             "colorbar": {
              "outlinewidth": 0,
              "ticks": ""
             }
            },
            "type": "scatter3d"
           }
          ],
          "scattercarpet": [
           {
            "marker": {
             "colorbar": {
              "outlinewidth": 0,
              "ticks": ""
             }
            },
            "type": "scattercarpet"
           }
          ],
          "scattergeo": [
           {
            "marker": {
             "colorbar": {
              "outlinewidth": 0,
              "ticks": ""
             }
            },
            "type": "scattergeo"
           }
          ],
          "scattergl": [
           {
            "marker": {
             "colorbar": {
              "outlinewidth": 0,
              "ticks": ""
             }
            },
            "type": "scattergl"
           }
          ],
          "scattermap": [
           {
            "marker": {
             "colorbar": {
              "outlinewidth": 0,
              "ticks": ""
             }
            },
            "type": "scattermap"
           }
          ],
          "scattermapbox": [
           {
            "marker": {
             "colorbar": {
              "outlinewidth": 0,
              "ticks": ""
             }
            },
            "type": "scattermapbox"
           }
          ],
          "scatterpolar": [
           {
            "marker": {
             "colorbar": {
              "outlinewidth": 0,
              "ticks": ""
             }
            },
            "type": "scatterpolar"
           }
          ],
          "scatterpolargl": [
           {
            "marker": {
             "colorbar": {
              "outlinewidth": 0,
              "ticks": ""
             }
            },
            "type": "scatterpolargl"
           }
          ],
          "scatterternary": [
           {
            "marker": {
             "colorbar": {
              "outlinewidth": 0,
              "ticks": ""
             }
            },
            "type": "scatterternary"
           }
          ],
          "surface": [
           {
            "colorbar": {
             "outlinewidth": 0,
             "ticks": ""
            },
            "colorscale": [
             [
              0,
              "#0d0887"
             ],
             [
              0.1111111111111111,
              "#46039f"
             ],
             [
              0.2222222222222222,
              "#7201a8"
             ],
             [
              0.3333333333333333,
              "#9c179e"
             ],
             [
              0.4444444444444444,
              "#bd3786"
             ],
             [
              0.5555555555555556,
              "#d8576b"
             ],
             [
              0.6666666666666666,
              "#ed7953"
             ],
             [
              0.7777777777777778,
              "#fb9f3a"
             ],
             [
              0.8888888888888888,
              "#fdca26"
             ],
             [
              1,
              "#f0f921"
             ]
            ],
            "type": "surface"
           }
          ],
          "table": [
           {
            "cells": {
             "fill": {
              "color": "#EBF0F8"
             },
             "line": {
              "color": "white"
             }
            },
            "header": {
             "fill": {
              "color": "#C8D4E3"
             },
             "line": {
              "color": "white"
             }
            },
            "type": "table"
           }
          ]
         },
         "layout": {
          "annotationdefaults": {
           "arrowcolor": "#2a3f5f",
           "arrowhead": 0,
           "arrowwidth": 1
          },
          "autotypenumbers": "strict",
          "coloraxis": {
           "colorbar": {
            "outlinewidth": 0,
            "ticks": ""
           }
          },
          "colorscale": {
           "diverging": [
            [
             0,
             "#8e0152"
            ],
            [
             0.1,
             "#c51b7d"
            ],
            [
             0.2,
             "#de77ae"
            ],
            [
             0.3,
             "#f1b6da"
            ],
            [
             0.4,
             "#fde0ef"
            ],
            [
             0.5,
             "#f7f7f7"
            ],
            [
             0.6,
             "#e6f5d0"
            ],
            [
             0.7,
             "#b8e186"
            ],
            [
             0.8,
             "#7fbc41"
            ],
            [
             0.9,
             "#4d9221"
            ],
            [
             1,
             "#276419"
            ]
           ],
           "sequential": [
            [
             0,
             "#0d0887"
            ],
            [
             0.1111111111111111,
             "#46039f"
            ],
            [
             0.2222222222222222,
             "#7201a8"
            ],
            [
             0.3333333333333333,
             "#9c179e"
            ],
            [
             0.4444444444444444,
             "#bd3786"
            ],
            [
             0.5555555555555556,
             "#d8576b"
            ],
            [
             0.6666666666666666,
             "#ed7953"
            ],
            [
             0.7777777777777778,
             "#fb9f3a"
            ],
            [
             0.8888888888888888,
             "#fdca26"
            ],
            [
             1,
             "#f0f921"
            ]
           ],
           "sequentialminus": [
            [
             0,
             "#0d0887"
            ],
            [
             0.1111111111111111,
             "#46039f"
            ],
            [
             0.2222222222222222,
             "#7201a8"
            ],
            [
             0.3333333333333333,
             "#9c179e"
            ],
            [
             0.4444444444444444,
             "#bd3786"
            ],
            [
             0.5555555555555556,
             "#d8576b"
            ],
            [
             0.6666666666666666,
             "#ed7953"
            ],
            [
             0.7777777777777778,
             "#fb9f3a"
            ],
            [
             0.8888888888888888,
             "#fdca26"
            ],
            [
             1,
             "#f0f921"
            ]
           ]
          },
          "colorway": [
           "#636efa",
           "#EF553B",
           "#00cc96",
           "#ab63fa",
           "#FFA15A",
           "#19d3f3",
           "#FF6692",
           "#B6E880",
           "#FF97FF",
           "#FECB52"
          ],
          "font": {
           "color": "#2a3f5f"
          },
          "geo": {
           "bgcolor": "white",
           "lakecolor": "white",
           "landcolor": "white",
           "showlakes": true,
           "showland": true,
           "subunitcolor": "#C8D4E3"
          },
          "hoverlabel": {
           "align": "left"
          },
          "hovermode": "closest",
          "mapbox": {
           "style": "light"
          },
          "paper_bgcolor": "white",
          "plot_bgcolor": "white",
          "polar": {
           "angularaxis": {
            "gridcolor": "#EBF0F8",
            "linecolor": "#EBF0F8",
            "ticks": ""
           },
           "bgcolor": "white",
           "radialaxis": {
            "gridcolor": "#EBF0F8",
            "linecolor": "#EBF0F8",
            "ticks": ""
           }
          },
          "scene": {
           "xaxis": {
            "backgroundcolor": "white",
            "gridcolor": "#DFE8F3",
            "gridwidth": 2,
            "linecolor": "#EBF0F8",
            "showbackground": true,
            "ticks": "",
            "zerolinecolor": "#EBF0F8"
           },
           "yaxis": {
            "backgroundcolor": "white",
            "gridcolor": "#DFE8F3",
            "gridwidth": 2,
            "linecolor": "#EBF0F8",
            "showbackground": true,
            "ticks": "",
            "zerolinecolor": "#EBF0F8"
           },
           "zaxis": {
            "backgroundcolor": "white",
            "gridcolor": "#DFE8F3",
            "gridwidth": 2,
            "linecolor": "#EBF0F8",
            "showbackground": true,
            "ticks": "",
            "zerolinecolor": "#EBF0F8"
           }
          },
          "shapedefaults": {
           "line": {
            "color": "#2a3f5f"
           }
          },
          "ternary": {
           "aaxis": {
            "gridcolor": "#DFE8F3",
            "linecolor": "#A2B1C6",
            "ticks": ""
           },
           "baxis": {
            "gridcolor": "#DFE8F3",
            "linecolor": "#A2B1C6",
            "ticks": ""
           },
           "bgcolor": "white",
           "caxis": {
            "gridcolor": "#DFE8F3",
            "linecolor": "#A2B1C6",
            "ticks": ""
           }
          },
          "title": {
           "x": 0.05
          },
          "xaxis": {
           "automargin": true,
           "gridcolor": "#EBF0F8",
           "linecolor": "#EBF0F8",
           "ticks": "",
           "title": {
            "standoff": 15
           },
           "zerolinecolor": "#EBF0F8",
           "zerolinewidth": 2
          },
          "yaxis": {
           "automargin": true,
           "gridcolor": "#EBF0F8",
           "linecolor": "#EBF0F8",
           "ticks": "",
           "title": {
            "standoff": 15
           },
           "zerolinecolor": "#EBF0F8",
           "zerolinewidth": 2
          }
         }
        },
        "title": {
         "text": "📊 Sales by Region"
        },
        "xaxis": {
         "anchor": "y",
         "categoryarray": [
          "Central",
          "East",
          "South",
          "West"
         ],
         "categoryorder": "array",
         "domain": [
          0,
          1
         ],
         "title": {
          "text": "region"
         }
        },
        "yaxis": {
         "anchor": "x",
         "domain": [
          0,
          1
         ],
         "title": {
          "text": "sales"
         }
        }
       }
      }
     },
     "metadata": {},
     "output_type": "display_data"
    }
   ],
   "source": [
    "fig = px.bar(region_kpis, x='region', y='sales', color='region',\n",
    "             title='📊 Sales by Region',\n",
    "             text_auto='.2s', template='plotly_white')\n",
    "fig.update_layout(showlegend=False)\n",
    "fig.show()\n"
   ]
  },
  {
   "cell_type": "markdown",
   "metadata": {},
   "source": [
    "Customer KPIs & Behavior Insights"
   ]
  },
  {
   "cell_type": "markdown",
   "metadata": {},
   "source": [
    "Customer-Level Metrics: CLTV, AOV, Frequency"
   ]
  },
  {
   "cell_type": "code",
   "execution_count": 160,
   "metadata": {},
   "outputs": [
    {
     "data": {
      "text/html": [
       "<div>\n",
       "<style scoped>\n",
       "    .dataframe tbody tr th:only-of-type {\n",
       "        vertical-align: middle;\n",
       "    }\n",
       "\n",
       "    .dataframe tbody tr th {\n",
       "        vertical-align: top;\n",
       "    }\n",
       "\n",
       "    .dataframe thead th {\n",
       "        text-align: right;\n",
       "    }\n",
       "</style>\n",
       "<table border=\"1\" class=\"dataframe\">\n",
       "  <thead>\n",
       "    <tr style=\"text-align: right;\">\n",
       "      <th></th>\n",
       "      <th>customer_id</th>\n",
       "      <th>total_sales</th>\n",
       "      <th>total_profit</th>\n",
       "      <th>order_count</th>\n",
       "      <th>total_quantity</th>\n",
       "      <th>avg_order_value</th>\n",
       "      <th>cltv</th>\n",
       "    </tr>\n",
       "  </thead>\n",
       "  <tbody>\n",
       "    <tr>\n",
       "      <th>0</th>\n",
       "      <td>AA-10315</td>\n",
       "      <td>5563.560</td>\n",
       "      <td>-362.8825</td>\n",
       "      <td>5</td>\n",
       "      <td>30</td>\n",
       "      <td>1112.71</td>\n",
       "      <td>5563.55</td>\n",
       "    </tr>\n",
       "    <tr>\n",
       "      <th>1</th>\n",
       "      <td>AA-10375</td>\n",
       "      <td>1056.390</td>\n",
       "      <td>277.3824</td>\n",
       "      <td>9</td>\n",
       "      <td>41</td>\n",
       "      <td>117.38</td>\n",
       "      <td>1056.42</td>\n",
       "    </tr>\n",
       "    <tr>\n",
       "      <th>2</th>\n",
       "      <td>AA-10480</td>\n",
       "      <td>1790.512</td>\n",
       "      <td>435.8274</td>\n",
       "      <td>4</td>\n",
       "      <td>36</td>\n",
       "      <td>447.63</td>\n",
       "      <td>1790.52</td>\n",
       "    </tr>\n",
       "    <tr>\n",
       "      <th>3</th>\n",
       "      <td>AA-10645</td>\n",
       "      <td>5086.935</td>\n",
       "      <td>857.8033</td>\n",
       "      <td>6</td>\n",
       "      <td>64</td>\n",
       "      <td>847.82</td>\n",
       "      <td>5086.92</td>\n",
       "    </tr>\n",
       "    <tr>\n",
       "      <th>4</th>\n",
       "      <td>AB-10015</td>\n",
       "      <td>886.156</td>\n",
       "      <td>129.3465</td>\n",
       "      <td>3</td>\n",
       "      <td>13</td>\n",
       "      <td>295.39</td>\n",
       "      <td>886.17</td>\n",
       "    </tr>\n",
       "  </tbody>\n",
       "</table>\n",
       "</div>"
      ],
      "text/plain": [
       "  customer_id  total_sales  total_profit  order_count  total_quantity  \\\n",
       "0    AA-10315     5563.560     -362.8825            5              30   \n",
       "1    AA-10375     1056.390      277.3824            9              41   \n",
       "2    AA-10480     1790.512      435.8274            4              36   \n",
       "3    AA-10645     5086.935      857.8033            6              64   \n",
       "4    AB-10015      886.156      129.3465            3              13   \n",
       "\n",
       "   avg_order_value     cltv  \n",
       "0          1112.71  5563.55  \n",
       "1           117.38  1056.42  \n",
       "2           447.63  1790.52  \n",
       "3           847.82  5086.92  \n",
       "4           295.39   886.17  "
      ]
     },
     "execution_count": 160,
     "metadata": {},
     "output_type": "execute_result"
    }
   ],
   "source": [
    "# Group by customer\n",
    "customer_kpis = df.groupby('customer_id').agg({\n",
    "    'sales': 'sum',\n",
    "    'profit': 'sum',\n",
    "    'order_id': 'nunique',\n",
    "    'quantity': 'sum'\n",
    "}).reset_index()\n",
    "\n",
    "# Rename\n",
    "customer_kpis = customer_kpis.rename(columns={\n",
    "    'sales': 'total_sales',\n",
    "    'profit': 'total_profit',\n",
    "    'order_id': 'order_count',\n",
    "    'quantity': 'total_quantity'\n",
    "})\n",
    "\n",
    "# Derive KPIs\n",
    "customer_kpis['avg_order_value'] = (customer_kpis['total_sales'] / customer_kpis['order_count']).round(2)\n",
    "customer_kpis['cltv'] = (customer_kpis['avg_order_value'] * customer_kpis['order_count']).round(2)\n",
    "\n",
    "customer_kpis.head()\n"
   ]
  },
  {
   "cell_type": "code",
   "execution_count": 161,
   "metadata": {},
   "outputs": [
    {
     "data": {
      "application/vnd.plotly.v1+json": {
       "config": {
        "plotlyServerURL": "https://plot.ly"
       },
       "data": [
        {
         "hovertemplate": "customer_id=%{x}<br>total_sales=%{y}<extra></extra>",
         "legendgroup": "",
         "marker": {
          "color": "#636efa",
          "pattern": {
           "shape": ""
          }
         },
         "name": "",
         "orientation": "v",
         "showlegend": false,
         "textposition": "auto",
         "texttemplate": "%{y:.2s}",
         "type": "bar",
         "x": [
          "SM-20320",
          "TC-20980",
          "RB-19360",
          "TA-21385",
          "AB-10105",
          "KL-16645",
          "SC-20095",
          "HL-15040",
          "SE-20110",
          "CC-12370"
         ],
         "xaxis": "x",
         "y": {
          "bdata": "MzMzM8N02ECiRbbzDZvSQKwcWmSrhs1Aw/UoXM+BzEABK4cWyUTMQGU730+dr8tAbhKDwCqfy0AaL90kpiTJQNRNYhC42MdAqcZLN4mwx0A=",
          "dtype": "f8"
         },
         "yaxis": "y"
        }
       ],
       "layout": {
        "barmode": "relative",
        "legend": {
         "tracegroupgap": 0
        },
        "showlegend": false,
        "template": {
         "data": {
          "bar": [
           {
            "error_x": {
             "color": "#2a3f5f"
            },
            "error_y": {
             "color": "#2a3f5f"
            },
            "marker": {
             "line": {
              "color": "white",
              "width": 0.5
             },
             "pattern": {
              "fillmode": "overlay",
              "size": 10,
              "solidity": 0.2
             }
            },
            "type": "bar"
           }
          ],
          "barpolar": [
           {
            "marker": {
             "line": {
              "color": "white",
              "width": 0.5
             },
             "pattern": {
              "fillmode": "overlay",
              "size": 10,
              "solidity": 0.2
             }
            },
            "type": "barpolar"
           }
          ],
          "carpet": [
           {
            "aaxis": {
             "endlinecolor": "#2a3f5f",
             "gridcolor": "#C8D4E3",
             "linecolor": "#C8D4E3",
             "minorgridcolor": "#C8D4E3",
             "startlinecolor": "#2a3f5f"
            },
            "baxis": {
             "endlinecolor": "#2a3f5f",
             "gridcolor": "#C8D4E3",
             "linecolor": "#C8D4E3",
             "minorgridcolor": "#C8D4E3",
             "startlinecolor": "#2a3f5f"
            },
            "type": "carpet"
           }
          ],
          "choropleth": [
           {
            "colorbar": {
             "outlinewidth": 0,
             "ticks": ""
            },
            "type": "choropleth"
           }
          ],
          "contour": [
           {
            "colorbar": {
             "outlinewidth": 0,
             "ticks": ""
            },
            "colorscale": [
             [
              0,
              "#0d0887"
             ],
             [
              0.1111111111111111,
              "#46039f"
             ],
             [
              0.2222222222222222,
              "#7201a8"
             ],
             [
              0.3333333333333333,
              "#9c179e"
             ],
             [
              0.4444444444444444,
              "#bd3786"
             ],
             [
              0.5555555555555556,
              "#d8576b"
             ],
             [
              0.6666666666666666,
              "#ed7953"
             ],
             [
              0.7777777777777778,
              "#fb9f3a"
             ],
             [
              0.8888888888888888,
              "#fdca26"
             ],
             [
              1,
              "#f0f921"
             ]
            ],
            "type": "contour"
           }
          ],
          "contourcarpet": [
           {
            "colorbar": {
             "outlinewidth": 0,
             "ticks": ""
            },
            "type": "contourcarpet"
           }
          ],
          "heatmap": [
           {
            "colorbar": {
             "outlinewidth": 0,
             "ticks": ""
            },
            "colorscale": [
             [
              0,
              "#0d0887"
             ],
             [
              0.1111111111111111,
              "#46039f"
             ],
             [
              0.2222222222222222,
              "#7201a8"
             ],
             [
              0.3333333333333333,
              "#9c179e"
             ],
             [
              0.4444444444444444,
              "#bd3786"
             ],
             [
              0.5555555555555556,
              "#d8576b"
             ],
             [
              0.6666666666666666,
              "#ed7953"
             ],
             [
              0.7777777777777778,
              "#fb9f3a"
             ],
             [
              0.8888888888888888,
              "#fdca26"
             ],
             [
              1,
              "#f0f921"
             ]
            ],
            "type": "heatmap"
           }
          ],
          "histogram": [
           {
            "marker": {
             "pattern": {
              "fillmode": "overlay",
              "size": 10,
              "solidity": 0.2
             }
            },
            "type": "histogram"
           }
          ],
          "histogram2d": [
           {
            "colorbar": {
             "outlinewidth": 0,
             "ticks": ""
            },
            "colorscale": [
             [
              0,
              "#0d0887"
             ],
             [
              0.1111111111111111,
              "#46039f"
             ],
             [
              0.2222222222222222,
              "#7201a8"
             ],
             [
              0.3333333333333333,
              "#9c179e"
             ],
             [
              0.4444444444444444,
              "#bd3786"
             ],
             [
              0.5555555555555556,
              "#d8576b"
             ],
             [
              0.6666666666666666,
              "#ed7953"
             ],
             [
              0.7777777777777778,
              "#fb9f3a"
             ],
             [
              0.8888888888888888,
              "#fdca26"
             ],
             [
              1,
              "#f0f921"
             ]
            ],
            "type": "histogram2d"
           }
          ],
          "histogram2dcontour": [
           {
            "colorbar": {
             "outlinewidth": 0,
             "ticks": ""
            },
            "colorscale": [
             [
              0,
              "#0d0887"
             ],
             [
              0.1111111111111111,
              "#46039f"
             ],
             [
              0.2222222222222222,
              "#7201a8"
             ],
             [
              0.3333333333333333,
              "#9c179e"
             ],
             [
              0.4444444444444444,
              "#bd3786"
             ],
             [
              0.5555555555555556,
              "#d8576b"
             ],
             [
              0.6666666666666666,
              "#ed7953"
             ],
             [
              0.7777777777777778,
              "#fb9f3a"
             ],
             [
              0.8888888888888888,
              "#fdca26"
             ],
             [
              1,
              "#f0f921"
             ]
            ],
            "type": "histogram2dcontour"
           }
          ],
          "mesh3d": [
           {
            "colorbar": {
             "outlinewidth": 0,
             "ticks": ""
            },
            "type": "mesh3d"
           }
          ],
          "parcoords": [
           {
            "line": {
             "colorbar": {
              "outlinewidth": 0,
              "ticks": ""
             }
            },
            "type": "parcoords"
           }
          ],
          "pie": [
           {
            "automargin": true,
            "type": "pie"
           }
          ],
          "scatter": [
           {
            "fillpattern": {
             "fillmode": "overlay",
             "size": 10,
             "solidity": 0.2
            },
            "type": "scatter"
           }
          ],
          "scatter3d": [
           {
            "line": {
             "colorbar": {
              "outlinewidth": 0,
              "ticks": ""
             }
            },
            "marker": {
             "colorbar": {
              "outlinewidth": 0,
              "ticks": ""
             }
            },
            "type": "scatter3d"
           }
          ],
          "scattercarpet": [
           {
            "marker": {
             "colorbar": {
              "outlinewidth": 0,
              "ticks": ""
             }
            },
            "type": "scattercarpet"
           }
          ],
          "scattergeo": [
           {
            "marker": {
             "colorbar": {
              "outlinewidth": 0,
              "ticks": ""
             }
            },
            "type": "scattergeo"
           }
          ],
          "scattergl": [
           {
            "marker": {
             "colorbar": {
              "outlinewidth": 0,
              "ticks": ""
             }
            },
            "type": "scattergl"
           }
          ],
          "scattermap": [
           {
            "marker": {
             "colorbar": {
              "outlinewidth": 0,
              "ticks": ""
             }
            },
            "type": "scattermap"
           }
          ],
          "scattermapbox": [
           {
            "marker": {
             "colorbar": {
              "outlinewidth": 0,
              "ticks": ""
             }
            },
            "type": "scattermapbox"
           }
          ],
          "scatterpolar": [
           {
            "marker": {
             "colorbar": {
              "outlinewidth": 0,
              "ticks": ""
             }
            },
            "type": "scatterpolar"
           }
          ],
          "scatterpolargl": [
           {
            "marker": {
             "colorbar": {
              "outlinewidth": 0,
              "ticks": ""
             }
            },
            "type": "scatterpolargl"
           }
          ],
          "scatterternary": [
           {
            "marker": {
             "colorbar": {
              "outlinewidth": 0,
              "ticks": ""
             }
            },
            "type": "scatterternary"
           }
          ],
          "surface": [
           {
            "colorbar": {
             "outlinewidth": 0,
             "ticks": ""
            },
            "colorscale": [
             [
              0,
              "#0d0887"
             ],
             [
              0.1111111111111111,
              "#46039f"
             ],
             [
              0.2222222222222222,
              "#7201a8"
             ],
             [
              0.3333333333333333,
              "#9c179e"
             ],
             [
              0.4444444444444444,
              "#bd3786"
             ],
             [
              0.5555555555555556,
              "#d8576b"
             ],
             [
              0.6666666666666666,
              "#ed7953"
             ],
             [
              0.7777777777777778,
              "#fb9f3a"
             ],
             [
              0.8888888888888888,
              "#fdca26"
             ],
             [
              1,
              "#f0f921"
             ]
            ],
            "type": "surface"
           }
          ],
          "table": [
           {
            "cells": {
             "fill": {
              "color": "#EBF0F8"
             },
             "line": {
              "color": "white"
             }
            },
            "header": {
             "fill": {
              "color": "#C8D4E3"
             },
             "line": {
              "color": "white"
             }
            },
            "type": "table"
           }
          ]
         },
         "layout": {
          "annotationdefaults": {
           "arrowcolor": "#2a3f5f",
           "arrowhead": 0,
           "arrowwidth": 1
          },
          "autotypenumbers": "strict",
          "coloraxis": {
           "colorbar": {
            "outlinewidth": 0,
            "ticks": ""
           }
          },
          "colorscale": {
           "diverging": [
            [
             0,
             "#8e0152"
            ],
            [
             0.1,
             "#c51b7d"
            ],
            [
             0.2,
             "#de77ae"
            ],
            [
             0.3,
             "#f1b6da"
            ],
            [
             0.4,
             "#fde0ef"
            ],
            [
             0.5,
             "#f7f7f7"
            ],
            [
             0.6,
             "#e6f5d0"
            ],
            [
             0.7,
             "#b8e186"
            ],
            [
             0.8,
             "#7fbc41"
            ],
            [
             0.9,
             "#4d9221"
            ],
            [
             1,
             "#276419"
            ]
           ],
           "sequential": [
            [
             0,
             "#0d0887"
            ],
            [
             0.1111111111111111,
             "#46039f"
            ],
            [
             0.2222222222222222,
             "#7201a8"
            ],
            [
             0.3333333333333333,
             "#9c179e"
            ],
            [
             0.4444444444444444,
             "#bd3786"
            ],
            [
             0.5555555555555556,
             "#d8576b"
            ],
            [
             0.6666666666666666,
             "#ed7953"
            ],
            [
             0.7777777777777778,
             "#fb9f3a"
            ],
            [
             0.8888888888888888,
             "#fdca26"
            ],
            [
             1,
             "#f0f921"
            ]
           ],
           "sequentialminus": [
            [
             0,
             "#0d0887"
            ],
            [
             0.1111111111111111,
             "#46039f"
            ],
            [
             0.2222222222222222,
             "#7201a8"
            ],
            [
             0.3333333333333333,
             "#9c179e"
            ],
            [
             0.4444444444444444,
             "#bd3786"
            ],
            [
             0.5555555555555556,
             "#d8576b"
            ],
            [
             0.6666666666666666,
             "#ed7953"
            ],
            [
             0.7777777777777778,
             "#fb9f3a"
            ],
            [
             0.8888888888888888,
             "#fdca26"
            ],
            [
             1,
             "#f0f921"
            ]
           ]
          },
          "colorway": [
           "#636efa",
           "#EF553B",
           "#00cc96",
           "#ab63fa",
           "#FFA15A",
           "#19d3f3",
           "#FF6692",
           "#B6E880",
           "#FF97FF",
           "#FECB52"
          ],
          "font": {
           "color": "#2a3f5f"
          },
          "geo": {
           "bgcolor": "white",
           "lakecolor": "white",
           "landcolor": "white",
           "showlakes": true,
           "showland": true,
           "subunitcolor": "#C8D4E3"
          },
          "hoverlabel": {
           "align": "left"
          },
          "hovermode": "closest",
          "mapbox": {
           "style": "light"
          },
          "paper_bgcolor": "white",
          "plot_bgcolor": "white",
          "polar": {
           "angularaxis": {
            "gridcolor": "#EBF0F8",
            "linecolor": "#EBF0F8",
            "ticks": ""
           },
           "bgcolor": "white",
           "radialaxis": {
            "gridcolor": "#EBF0F8",
            "linecolor": "#EBF0F8",
            "ticks": ""
           }
          },
          "scene": {
           "xaxis": {
            "backgroundcolor": "white",
            "gridcolor": "#DFE8F3",
            "gridwidth": 2,
            "linecolor": "#EBF0F8",
            "showbackground": true,
            "ticks": "",
            "zerolinecolor": "#EBF0F8"
           },
           "yaxis": {
            "backgroundcolor": "white",
            "gridcolor": "#DFE8F3",
            "gridwidth": 2,
            "linecolor": "#EBF0F8",
            "showbackground": true,
            "ticks": "",
            "zerolinecolor": "#EBF0F8"
           },
           "zaxis": {
            "backgroundcolor": "white",
            "gridcolor": "#DFE8F3",
            "gridwidth": 2,
            "linecolor": "#EBF0F8",
            "showbackground": true,
            "ticks": "",
            "zerolinecolor": "#EBF0F8"
           }
          },
          "shapedefaults": {
           "line": {
            "color": "#2a3f5f"
           }
          },
          "ternary": {
           "aaxis": {
            "gridcolor": "#DFE8F3",
            "linecolor": "#A2B1C6",
            "ticks": ""
           },
           "baxis": {
            "gridcolor": "#DFE8F3",
            "linecolor": "#A2B1C6",
            "ticks": ""
           },
           "bgcolor": "white",
           "caxis": {
            "gridcolor": "#DFE8F3",
            "linecolor": "#A2B1C6",
            "ticks": ""
           }
          },
          "title": {
           "x": 0.05
          },
          "xaxis": {
           "automargin": true,
           "gridcolor": "#EBF0F8",
           "linecolor": "#EBF0F8",
           "ticks": "",
           "title": {
            "standoff": 15
           },
           "zerolinecolor": "#EBF0F8",
           "zerolinewidth": 2
          },
          "yaxis": {
           "automargin": true,
           "gridcolor": "#EBF0F8",
           "linecolor": "#EBF0F8",
           "ticks": "",
           "title": {
            "standoff": 15
           },
           "zerolinecolor": "#EBF0F8",
           "zerolinewidth": 2
          }
         }
        },
        "title": {
         "text": "🏆 Top 10 Customers by Sales"
        },
        "xaxis": {
         "anchor": "y",
         "domain": [
          0,
          1
         ],
         "title": {
          "text": "customer_id"
         }
        },
        "yaxis": {
         "anchor": "x",
         "domain": [
          0,
          1
         ],
         "title": {
          "text": "total_sales"
         }
        }
       }
      }
     },
     "metadata": {},
     "output_type": "display_data"
    }
   ],
   "source": [
    "# Top 10 customers by sales\n",
    "top_10_customers = customer_kpis.nlargest(10, 'total_sales')\n",
    "fig = px.bar(top_10_customers, x='customer_id', y='total_sales',\n",
    "             title='🏆 Top 10 Customers by Sales',\n",
    "             text_auto='.2s', template='plotly_white')\n",
    "fig.update_layout(showlegend=False)\n",
    "fig.show()\n"
   ]
  },
  {
   "cell_type": "markdown",
   "metadata": {},
   "source": [
    "Churn & Frequency Estimation (Basic Signals)"
   ]
  },
  {
   "cell_type": "code",
   "execution_count": 162,
   "metadata": {},
   "outputs": [
    {
     "data": {
      "text/plain": [
       "Index(['row_id', 'order_id', 'order_date', 'ship_date', 'ship_mode',\n",
       "       'customer_id', 'customer_name', 'segment', 'country', 'city', 'state',\n",
       "       'postal_code', 'region', 'product_id', 'category', 'sub-category',\n",
       "       'product_name', 'sales', 'quantity', 'discount', 'profit',\n",
       "       'order_month', 'profit_margin_(%)', 'state_code'],\n",
       "      dtype='object')"
      ]
     },
     "execution_count": 162,
     "metadata": {},
     "output_type": "execute_result"
    }
   ],
   "source": [
    "df.columns"
   ]
  },
  {
   "cell_type": "code",
   "execution_count": 163,
   "metadata": {},
   "outputs": [
    {
     "data": {
      "text/html": [
       "<div>\n",
       "<style scoped>\n",
       "    .dataframe tbody tr th:only-of-type {\n",
       "        vertical-align: middle;\n",
       "    }\n",
       "\n",
       "    .dataframe tbody tr th {\n",
       "        vertical-align: top;\n",
       "    }\n",
       "\n",
       "    .dataframe thead th {\n",
       "        text-align: right;\n",
       "    }\n",
       "</style>\n",
       "<table border=\"1\" class=\"dataframe\">\n",
       "  <thead>\n",
       "    <tr style=\"text-align: right;\">\n",
       "      <th></th>\n",
       "      <th>customer_id</th>\n",
       "      <th>cltv</th>\n",
       "      <th>avg_order_value</th>\n",
       "      <th>days_since_last_order</th>\n",
       "      <th>likely_churned</th>\n",
       "    </tr>\n",
       "  </thead>\n",
       "  <tbody>\n",
       "    <tr>\n",
       "      <th>0</th>\n",
       "      <td>AA-10315</td>\n",
       "      <td>5563.55</td>\n",
       "      <td>1112.71</td>\n",
       "      <td>184</td>\n",
       "      <td>True</td>\n",
       "    </tr>\n",
       "    <tr>\n",
       "      <th>1</th>\n",
       "      <td>AA-10375</td>\n",
       "      <td>1056.42</td>\n",
       "      <td>117.38</td>\n",
       "      <td>19</td>\n",
       "      <td>False</td>\n",
       "    </tr>\n",
       "    <tr>\n",
       "      <th>2</th>\n",
       "      <td>AA-10480</td>\n",
       "      <td>1790.52</td>\n",
       "      <td>447.63</td>\n",
       "      <td>259</td>\n",
       "      <td>True</td>\n",
       "    </tr>\n",
       "    <tr>\n",
       "      <th>3</th>\n",
       "      <td>AA-10645</td>\n",
       "      <td>5086.92</td>\n",
       "      <td>847.82</td>\n",
       "      <td>55</td>\n",
       "      <td>False</td>\n",
       "    </tr>\n",
       "    <tr>\n",
       "      <th>4</th>\n",
       "      <td>AB-10015</td>\n",
       "      <td>886.17</td>\n",
       "      <td>295.39</td>\n",
       "      <td>415</td>\n",
       "      <td>True</td>\n",
       "    </tr>\n",
       "  </tbody>\n",
       "</table>\n",
       "</div>"
      ],
      "text/plain": [
       "  customer_id     cltv  avg_order_value  days_since_last_order  likely_churned\n",
       "0    AA-10315  5563.55          1112.71                    184            True\n",
       "1    AA-10375  1056.42           117.38                     19           False\n",
       "2    AA-10480  1790.52           447.63                    259            True\n",
       "3    AA-10645  5086.92           847.82                     55           False\n",
       "4    AB-10015   886.17           295.39                    415            True"
      ]
     },
     "execution_count": 163,
     "metadata": {},
     "output_type": "execute_result"
    }
   ],
   "source": [
    "# Most recent order date per customer\n",
    "latest_order = df.groupby('customer_id')['order_date'].max().reset_index()\n",
    "latest_order.columns = ['customer_id', 'last_order_date']\n",
    "\n",
    "# Merge into customer KPIs\n",
    "customer_kpis = customer_kpis.merge(latest_order, on='customer_id', how='left')\n",
    "\n",
    "# Reference date for churn calc (e.g., max order date in dataset)\n",
    "ref_date = df['order_date'].max()\n",
    "\n",
    "# Days since last order\n",
    "customer_kpis['days_since_last_order'] = (ref_date - customer_kpis['last_order_date']).dt.days\n",
    "\n",
    "# Basic churn signal (if >180 days since last order)\n",
    "customer_kpis['likely_churned'] = customer_kpis['days_since_last_order'] > 180\n",
    "\n",
    "customer_kpis[['customer_id', 'cltv', 'avg_order_value', 'days_since_last_order', 'likely_churned']].head()\n",
    "#customer_kpis.head()\n"
   ]
  },
  {
   "cell_type": "markdown",
   "metadata": {},
   "source": [
    "Churn Risk Visualization"
   ]
  },
  {
   "cell_type": "code",
   "execution_count": 164,
   "metadata": {},
   "outputs": [
    {
     "data": {
      "application/vnd.plotly.v1+json": {
       "config": {
        "plotlyServerURL": "https://plot.ly"
       },
       "data": [
        {
         "domain": {
          "x": [
           0,
           1
          ],
          "y": [
           0,
           1
          ]
         },
         "hovertemplate": "status=%{label}<br>count=%{value}<extra></extra>",
         "labels": [
          "Active",
          "Churned"
         ],
         "legendgroup": "",
         "name": "",
         "showlegend": true,
         "type": "pie",
         "values": {
          "bdata": "UgLHAA==",
          "dtype": "i2"
         }
        }
       ],
       "layout": {
        "legend": {
         "tracegroupgap": 0
        },
        "piecolorway": [
         "rgb(102, 197, 204)",
         "rgb(246, 207, 113)",
         "rgb(248, 156, 116)",
         "rgb(220, 176, 242)",
         "rgb(135, 197, 95)",
         "rgb(158, 185, 243)",
         "rgb(254, 136, 177)",
         "rgb(201, 219, 116)",
         "rgb(139, 224, 164)",
         "rgb(180, 151, 231)",
         "rgb(179, 179, 179)"
        ],
        "template": {
         "data": {
          "bar": [
           {
            "error_x": {
             "color": "#2a3f5f"
            },
            "error_y": {
             "color": "#2a3f5f"
            },
            "marker": {
             "line": {
              "color": "#E5ECF6",
              "width": 0.5
             },
             "pattern": {
              "fillmode": "overlay",
              "size": 10,
              "solidity": 0.2
             }
            },
            "type": "bar"
           }
          ],
          "barpolar": [
           {
            "marker": {
             "line": {
              "color": "#E5ECF6",
              "width": 0.5
             },
             "pattern": {
              "fillmode": "overlay",
              "size": 10,
              "solidity": 0.2
             }
            },
            "type": "barpolar"
           }
          ],
          "carpet": [
           {
            "aaxis": {
             "endlinecolor": "#2a3f5f",
             "gridcolor": "white",
             "linecolor": "white",
             "minorgridcolor": "white",
             "startlinecolor": "#2a3f5f"
            },
            "baxis": {
             "endlinecolor": "#2a3f5f",
             "gridcolor": "white",
             "linecolor": "white",
             "minorgridcolor": "white",
             "startlinecolor": "#2a3f5f"
            },
            "type": "carpet"
           }
          ],
          "choropleth": [
           {
            "colorbar": {
             "outlinewidth": 0,
             "ticks": ""
            },
            "type": "choropleth"
           }
          ],
          "contour": [
           {
            "colorbar": {
             "outlinewidth": 0,
             "ticks": ""
            },
            "colorscale": [
             [
              0,
              "#0d0887"
             ],
             [
              0.1111111111111111,
              "#46039f"
             ],
             [
              0.2222222222222222,
              "#7201a8"
             ],
             [
              0.3333333333333333,
              "#9c179e"
             ],
             [
              0.4444444444444444,
              "#bd3786"
             ],
             [
              0.5555555555555556,
              "#d8576b"
             ],
             [
              0.6666666666666666,
              "#ed7953"
             ],
             [
              0.7777777777777778,
              "#fb9f3a"
             ],
             [
              0.8888888888888888,
              "#fdca26"
             ],
             [
              1,
              "#f0f921"
             ]
            ],
            "type": "contour"
           }
          ],
          "contourcarpet": [
           {
            "colorbar": {
             "outlinewidth": 0,
             "ticks": ""
            },
            "type": "contourcarpet"
           }
          ],
          "heatmap": [
           {
            "colorbar": {
             "outlinewidth": 0,
             "ticks": ""
            },
            "colorscale": [
             [
              0,
              "#0d0887"
             ],
             [
              0.1111111111111111,
              "#46039f"
             ],
             [
              0.2222222222222222,
              "#7201a8"
             ],
             [
              0.3333333333333333,
              "#9c179e"
             ],
             [
              0.4444444444444444,
              "#bd3786"
             ],
             [
              0.5555555555555556,
              "#d8576b"
             ],
             [
              0.6666666666666666,
              "#ed7953"
             ],
             [
              0.7777777777777778,
              "#fb9f3a"
             ],
             [
              0.8888888888888888,
              "#fdca26"
             ],
             [
              1,
              "#f0f921"
             ]
            ],
            "type": "heatmap"
           }
          ],
          "histogram": [
           {
            "marker": {
             "pattern": {
              "fillmode": "overlay",
              "size": 10,
              "solidity": 0.2
             }
            },
            "type": "histogram"
           }
          ],
          "histogram2d": [
           {
            "colorbar": {
             "outlinewidth": 0,
             "ticks": ""
            },
            "colorscale": [
             [
              0,
              "#0d0887"
             ],
             [
              0.1111111111111111,
              "#46039f"
             ],
             [
              0.2222222222222222,
              "#7201a8"
             ],
             [
              0.3333333333333333,
              "#9c179e"
             ],
             [
              0.4444444444444444,
              "#bd3786"
             ],
             [
              0.5555555555555556,
              "#d8576b"
             ],
             [
              0.6666666666666666,
              "#ed7953"
             ],
             [
              0.7777777777777778,
              "#fb9f3a"
             ],
             [
              0.8888888888888888,
              "#fdca26"
             ],
             [
              1,
              "#f0f921"
             ]
            ],
            "type": "histogram2d"
           }
          ],
          "histogram2dcontour": [
           {
            "colorbar": {
             "outlinewidth": 0,
             "ticks": ""
            },
            "colorscale": [
             [
              0,
              "#0d0887"
             ],
             [
              0.1111111111111111,
              "#46039f"
             ],
             [
              0.2222222222222222,
              "#7201a8"
             ],
             [
              0.3333333333333333,
              "#9c179e"
             ],
             [
              0.4444444444444444,
              "#bd3786"
             ],
             [
              0.5555555555555556,
              "#d8576b"
             ],
             [
              0.6666666666666666,
              "#ed7953"
             ],
             [
              0.7777777777777778,
              "#fb9f3a"
             ],
             [
              0.8888888888888888,
              "#fdca26"
             ],
             [
              1,
              "#f0f921"
             ]
            ],
            "type": "histogram2dcontour"
           }
          ],
          "mesh3d": [
           {
            "colorbar": {
             "outlinewidth": 0,
             "ticks": ""
            },
            "type": "mesh3d"
           }
          ],
          "parcoords": [
           {
            "line": {
             "colorbar": {
              "outlinewidth": 0,
              "ticks": ""
             }
            },
            "type": "parcoords"
           }
          ],
          "pie": [
           {
            "automargin": true,
            "type": "pie"
           }
          ],
          "scatter": [
           {
            "fillpattern": {
             "fillmode": "overlay",
             "size": 10,
             "solidity": 0.2
            },
            "type": "scatter"
           }
          ],
          "scatter3d": [
           {
            "line": {
             "colorbar": {
              "outlinewidth": 0,
              "ticks": ""
             }
            },
            "marker": {
             "colorbar": {
              "outlinewidth": 0,
              "ticks": ""
             }
            },
            "type": "scatter3d"
           }
          ],
          "scattercarpet": [
           {
            "marker": {
             "colorbar": {
              "outlinewidth": 0,
              "ticks": ""
             }
            },
            "type": "scattercarpet"
           }
          ],
          "scattergeo": [
           {
            "marker": {
             "colorbar": {
              "outlinewidth": 0,
              "ticks": ""
             }
            },
            "type": "scattergeo"
           }
          ],
          "scattergl": [
           {
            "marker": {
             "colorbar": {
              "outlinewidth": 0,
              "ticks": ""
             }
            },
            "type": "scattergl"
           }
          ],
          "scattermap": [
           {
            "marker": {
             "colorbar": {
              "outlinewidth": 0,
              "ticks": ""
             }
            },
            "type": "scattermap"
           }
          ],
          "scattermapbox": [
           {
            "marker": {
             "colorbar": {
              "outlinewidth": 0,
              "ticks": ""
             }
            },
            "type": "scattermapbox"
           }
          ],
          "scatterpolar": [
           {
            "marker": {
             "colorbar": {
              "outlinewidth": 0,
              "ticks": ""
             }
            },
            "type": "scatterpolar"
           }
          ],
          "scatterpolargl": [
           {
            "marker": {
             "colorbar": {
              "outlinewidth": 0,
              "ticks": ""
             }
            },
            "type": "scatterpolargl"
           }
          ],
          "scatterternary": [
           {
            "marker": {
             "colorbar": {
              "outlinewidth": 0,
              "ticks": ""
             }
            },
            "type": "scatterternary"
           }
          ],
          "surface": [
           {
            "colorbar": {
             "outlinewidth": 0,
             "ticks": ""
            },
            "colorscale": [
             [
              0,
              "#0d0887"
             ],
             [
              0.1111111111111111,
              "#46039f"
             ],
             [
              0.2222222222222222,
              "#7201a8"
             ],
             [
              0.3333333333333333,
              "#9c179e"
             ],
             [
              0.4444444444444444,
              "#bd3786"
             ],
             [
              0.5555555555555556,
              "#d8576b"
             ],
             [
              0.6666666666666666,
              "#ed7953"
             ],
             [
              0.7777777777777778,
              "#fb9f3a"
             ],
             [
              0.8888888888888888,
              "#fdca26"
             ],
             [
              1,
              "#f0f921"
             ]
            ],
            "type": "surface"
           }
          ],
          "table": [
           {
            "cells": {
             "fill": {
              "color": "#EBF0F8"
             },
             "line": {
              "color": "white"
             }
            },
            "header": {
             "fill": {
              "color": "#C8D4E3"
             },
             "line": {
              "color": "white"
             }
            },
            "type": "table"
           }
          ]
         },
         "layout": {
          "annotationdefaults": {
           "arrowcolor": "#2a3f5f",
           "arrowhead": 0,
           "arrowwidth": 1
          },
          "autotypenumbers": "strict",
          "coloraxis": {
           "colorbar": {
            "outlinewidth": 0,
            "ticks": ""
           }
          },
          "colorscale": {
           "diverging": [
            [
             0,
             "#8e0152"
            ],
            [
             0.1,
             "#c51b7d"
            ],
            [
             0.2,
             "#de77ae"
            ],
            [
             0.3,
             "#f1b6da"
            ],
            [
             0.4,
             "#fde0ef"
            ],
            [
             0.5,
             "#f7f7f7"
            ],
            [
             0.6,
             "#e6f5d0"
            ],
            [
             0.7,
             "#b8e186"
            ],
            [
             0.8,
             "#7fbc41"
            ],
            [
             0.9,
             "#4d9221"
            ],
            [
             1,
             "#276419"
            ]
           ],
           "sequential": [
            [
             0,
             "#0d0887"
            ],
            [
             0.1111111111111111,
             "#46039f"
            ],
            [
             0.2222222222222222,
             "#7201a8"
            ],
            [
             0.3333333333333333,
             "#9c179e"
            ],
            [
             0.4444444444444444,
             "#bd3786"
            ],
            [
             0.5555555555555556,
             "#d8576b"
            ],
            [
             0.6666666666666666,
             "#ed7953"
            ],
            [
             0.7777777777777778,
             "#fb9f3a"
            ],
            [
             0.8888888888888888,
             "#fdca26"
            ],
            [
             1,
             "#f0f921"
            ]
           ],
           "sequentialminus": [
            [
             0,
             "#0d0887"
            ],
            [
             0.1111111111111111,
             "#46039f"
            ],
            [
             0.2222222222222222,
             "#7201a8"
            ],
            [
             0.3333333333333333,
             "#9c179e"
            ],
            [
             0.4444444444444444,
             "#bd3786"
            ],
            [
             0.5555555555555556,
             "#d8576b"
            ],
            [
             0.6666666666666666,
             "#ed7953"
            ],
            [
             0.7777777777777778,
             "#fb9f3a"
            ],
            [
             0.8888888888888888,
             "#fdca26"
            ],
            [
             1,
             "#f0f921"
            ]
           ]
          },
          "colorway": [
           "#636efa",
           "#EF553B",
           "#00cc96",
           "#ab63fa",
           "#FFA15A",
           "#19d3f3",
           "#FF6692",
           "#B6E880",
           "#FF97FF",
           "#FECB52"
          ],
          "font": {
           "color": "#2a3f5f"
          },
          "geo": {
           "bgcolor": "white",
           "lakecolor": "white",
           "landcolor": "#E5ECF6",
           "showlakes": true,
           "showland": true,
           "subunitcolor": "white"
          },
          "hoverlabel": {
           "align": "left"
          },
          "hovermode": "closest",
          "mapbox": {
           "style": "light"
          },
          "paper_bgcolor": "white",
          "plot_bgcolor": "#E5ECF6",
          "polar": {
           "angularaxis": {
            "gridcolor": "white",
            "linecolor": "white",
            "ticks": ""
           },
           "bgcolor": "#E5ECF6",
           "radialaxis": {
            "gridcolor": "white",
            "linecolor": "white",
            "ticks": ""
           }
          },
          "scene": {
           "xaxis": {
            "backgroundcolor": "#E5ECF6",
            "gridcolor": "white",
            "gridwidth": 2,
            "linecolor": "white",
            "showbackground": true,
            "ticks": "",
            "zerolinecolor": "white"
           },
           "yaxis": {
            "backgroundcolor": "#E5ECF6",
            "gridcolor": "white",
            "gridwidth": 2,
            "linecolor": "white",
            "showbackground": true,
            "ticks": "",
            "zerolinecolor": "white"
           },
           "zaxis": {
            "backgroundcolor": "#E5ECF6",
            "gridcolor": "white",
            "gridwidth": 2,
            "linecolor": "white",
            "showbackground": true,
            "ticks": "",
            "zerolinecolor": "white"
           }
          },
          "shapedefaults": {
           "line": {
            "color": "#2a3f5f"
           }
          },
          "ternary": {
           "aaxis": {
            "gridcolor": "white",
            "linecolor": "white",
            "ticks": ""
           },
           "baxis": {
            "gridcolor": "white",
            "linecolor": "white",
            "ticks": ""
           },
           "bgcolor": "#E5ECF6",
           "caxis": {
            "gridcolor": "white",
            "linecolor": "white",
            "ticks": ""
           }
          },
          "title": {
           "x": 0.05
          },
          "xaxis": {
           "automargin": true,
           "gridcolor": "white",
           "linecolor": "white",
           "ticks": "",
           "title": {
            "standoff": 15
           },
           "zerolinecolor": "white",
           "zerolinewidth": 2
          },
          "yaxis": {
           "automargin": true,
           "gridcolor": "white",
           "linecolor": "white",
           "ticks": "",
           "title": {
            "standoff": 15
           },
           "zerolinecolor": "white",
           "zerolinewidth": 2
          }
         }
        },
        "title": {
         "text": "🔁 Customer Churn Risk Distribution"
        }
       }
      }
     },
     "metadata": {},
     "output_type": "display_data"
    }
   ],
   "source": [
    "# Count of churned vs active\n",
    "churn_counts = customer_kpis['likely_churned'].value_counts().rename({True: 'Churned', False: 'Active'}).reset_index()\n",
    "churn_counts.columns = ['status', 'count']\n",
    "\n",
    "fig = px.pie(churn_counts, names='status', values='count', \n",
    "             title='🔁 Customer Churn Risk Distribution',\n",
    "             color_discrete_sequence=px.colors.qualitative.Pastel)\n",
    "\n",
    "fig.show()\n"
   ]
  },
  {
   "cell_type": "code",
   "execution_count": 165,
   "metadata": {},
   "outputs": [
    {
     "data": {
      "text/html": [
       "<div>\n",
       "<style scoped>\n",
       "    .dataframe tbody tr th:only-of-type {\n",
       "        vertical-align: middle;\n",
       "    }\n",
       "\n",
       "    .dataframe tbody tr th {\n",
       "        vertical-align: top;\n",
       "    }\n",
       "\n",
       "    .dataframe thead th {\n",
       "        text-align: right;\n",
       "    }\n",
       "</style>\n",
       "<table border=\"1\" class=\"dataframe\">\n",
       "  <thead>\n",
       "    <tr style=\"text-align: right;\">\n",
       "      <th></th>\n",
       "      <th>order_month</th>\n",
       "      <th>sales</th>\n",
       "      <th>profit</th>\n",
       "      <th>quantity</th>\n",
       "      <th>num_orders</th>\n",
       "      <th>profit_margin_%</th>\n",
       "    </tr>\n",
       "  </thead>\n",
       "  <tbody>\n",
       "    <tr>\n",
       "      <th>0</th>\n",
       "      <td>2014-01</td>\n",
       "      <td>14236.895</td>\n",
       "      <td>2450.1907</td>\n",
       "      <td>284</td>\n",
       "      <td>32</td>\n",
       "      <td>17.21</td>\n",
       "    </tr>\n",
       "    <tr>\n",
       "      <th>1</th>\n",
       "      <td>2014-02</td>\n",
       "      <td>4519.892</td>\n",
       "      <td>862.3084</td>\n",
       "      <td>159</td>\n",
       "      <td>28</td>\n",
       "      <td>19.08</td>\n",
       "    </tr>\n",
       "    <tr>\n",
       "      <th>2</th>\n",
       "      <td>2014-03</td>\n",
       "      <td>55691.009</td>\n",
       "      <td>498.7299</td>\n",
       "      <td>585</td>\n",
       "      <td>71</td>\n",
       "      <td>0.90</td>\n",
       "    </tr>\n",
       "    <tr>\n",
       "      <th>3</th>\n",
       "      <td>2014-04</td>\n",
       "      <td>28295.345</td>\n",
       "      <td>3488.8352</td>\n",
       "      <td>536</td>\n",
       "      <td>66</td>\n",
       "      <td>12.33</td>\n",
       "    </tr>\n",
       "    <tr>\n",
       "      <th>4</th>\n",
       "      <td>2014-05</td>\n",
       "      <td>23648.287</td>\n",
       "      <td>2738.7096</td>\n",
       "      <td>466</td>\n",
       "      <td>69</td>\n",
       "      <td>11.58</td>\n",
       "    </tr>\n",
       "  </tbody>\n",
       "</table>\n",
       "</div>"
      ],
      "text/plain": [
       "  order_month      sales     profit  quantity  num_orders  profit_margin_%\n",
       "0     2014-01  14236.895  2450.1907       284          32            17.21\n",
       "1     2014-02   4519.892   862.3084       159          28            19.08\n",
       "2     2014-03  55691.009   498.7299       585          71             0.90\n",
       "3     2014-04  28295.345  3488.8352       536          66            12.33\n",
       "4     2014-05  23648.287  2738.7096       466          69            11.58"
      ]
     },
     "execution_count": 165,
     "metadata": {},
     "output_type": "execute_result"
    }
   ],
   "source": [
    "monthly_kpis.head()"
   ]
  },
  {
   "cell_type": "code",
   "execution_count": 166,
   "metadata": {},
   "outputs": [
    {
     "name": "stdout",
     "output_type": "stream",
     "text": [
      "✅ KPI datasets exported for Tableau / ML:\n",
      "- monthly_kpis.csv\n",
      "- region_kpis.csv\n",
      "- customer_kpis.csv\n"
     ]
    }
   ],
   "source": [
    "# Save monthly & regional KPIs\n",
    "#monthly_kpis.to_csv(\"monthly_kpis.csv\", index=False)\n",
    "#region_kpis.to_csv(\"region_kpis.csv\", index=False)\n",
    "#customer_kpis.to_csv(\"customer_kpis.csv\", index=False)\n",
    "\n",
    "print(\"✅ KPI datasets exported for Tableau / ML:\")\n",
    "print(\"- monthly_kpis.csv\")\n",
    "print(\"- region_kpis.csv\")\n",
    "print(\"- customer_kpis.csv\")\n"
   ]
  },
  {
   "cell_type": "markdown",
   "metadata": {},
   "source": [
    "# Revenue Forecasting (Time Series) machine learning"
   ]
  },
  {
   "cell_type": "markdown",
   "metadata": {},
   "source": [
    "Predict future monthly revenue using historical sales"
   ]
  },
  {
   "cell_type": "markdown",
   "metadata": {},
   "source": [
    "Prepare Monthly Revenue Time Series"
   ]
  },
  {
   "cell_type": "code",
   "execution_count": 167,
   "metadata": {},
   "outputs": [
    {
     "name": "stderr",
     "output_type": "stream",
     "text": [
      "C:\\Users\\Saurav Kumar\\AppData\\Local\\Temp\\ipykernel_6548\\3461054863.py:5: FutureWarning:\n",
      "\n",
      "'M' is deprecated and will be removed in a future version, please use 'ME' instead.\n",
      "\n"
     ]
    },
    {
     "data": {
      "text/html": [
       "<div>\n",
       "<style scoped>\n",
       "    .dataframe tbody tr th:only-of-type {\n",
       "        vertical-align: middle;\n",
       "    }\n",
       "\n",
       "    .dataframe tbody tr th {\n",
       "        vertical-align: top;\n",
       "    }\n",
       "\n",
       "    .dataframe thead th {\n",
       "        text-align: right;\n",
       "    }\n",
       "</style>\n",
       "<table border=\"1\" class=\"dataframe\">\n",
       "  <thead>\n",
       "    <tr style=\"text-align: right;\">\n",
       "      <th></th>\n",
       "      <th>month</th>\n",
       "      <th>revenue</th>\n",
       "    </tr>\n",
       "  </thead>\n",
       "  <tbody>\n",
       "    <tr>\n",
       "      <th>0</th>\n",
       "      <td>2014-01-31</td>\n",
       "      <td>14236.895</td>\n",
       "    </tr>\n",
       "    <tr>\n",
       "      <th>1</th>\n",
       "      <td>2014-02-28</td>\n",
       "      <td>4519.892</td>\n",
       "    </tr>\n",
       "    <tr>\n",
       "      <th>2</th>\n",
       "      <td>2014-03-31</td>\n",
       "      <td>55691.009</td>\n",
       "    </tr>\n",
       "    <tr>\n",
       "      <th>3</th>\n",
       "      <td>2014-04-30</td>\n",
       "      <td>28295.345</td>\n",
       "    </tr>\n",
       "    <tr>\n",
       "      <th>4</th>\n",
       "      <td>2014-05-31</td>\n",
       "      <td>23648.287</td>\n",
       "    </tr>\n",
       "  </tbody>\n",
       "</table>\n",
       "</div>"
      ],
      "text/plain": [
       "       month    revenue\n",
       "0 2014-01-31  14236.895\n",
       "1 2014-02-28   4519.892\n",
       "2 2014-03-31  55691.009\n",
       "3 2014-04-30  28295.345\n",
       "4 2014-05-31  23648.287"
      ]
     },
     "execution_count": 167,
     "metadata": {},
     "output_type": "execute_result"
    }
   ],
   "source": [
    "# Convert to datetime if not already\n",
    "df['order_date'] = pd.to_datetime(df['order_date'])\n",
    "\n",
    "# Monthly revenue aggregation\n",
    "monthly_revenue = df.groupby(pd.Grouper(key='order_date', freq='M'))['sales'].sum().reset_index()\n",
    "monthly_revenue.columns = ['month', 'revenue']\n",
    "monthly_revenue.head()\n"
   ]
  },
  {
   "cell_type": "code",
   "execution_count": 168,
   "metadata": {},
   "outputs": [
    {
     "data": {
      "application/vnd.plotly.v1+json": {
       "config": {
        "plotlyServerURL": "https://plot.ly"
       },
       "data": [
        {
         "hovertemplate": "month=%{x}<br>revenue=%{y}<extra></extra>",
         "legendgroup": "",
         "line": {
          "color": "#636efa",
          "dash": "solid"
         },
         "marker": {
          "symbol": "circle"
         },
         "mode": "lines+markers",
         "name": "",
         "orientation": "v",
         "showlegend": false,
         "type": "scatter",
         "x": [
          "2014-01-31T00:00:00.000000000",
          "2014-02-28T00:00:00.000000000",
          "2014-03-31T00:00:00.000000000",
          "2014-04-30T00:00:00.000000000",
          "2014-05-31T00:00:00.000000000",
          "2014-06-30T00:00:00.000000000",
          "2014-07-31T00:00:00.000000000",
          "2014-08-31T00:00:00.000000000",
          "2014-09-30T00:00:00.000000000",
          "2014-10-31T00:00:00.000000000",
          "2014-11-30T00:00:00.000000000",
          "2014-12-31T00:00:00.000000000",
          "2015-01-31T00:00:00.000000000",
          "2015-02-28T00:00:00.000000000",
          "2015-03-31T00:00:00.000000000",
          "2015-04-30T00:00:00.000000000",
          "2015-05-31T00:00:00.000000000",
          "2015-06-30T00:00:00.000000000",
          "2015-07-31T00:00:00.000000000",
          "2015-08-31T00:00:00.000000000",
          "2015-09-30T00:00:00.000000000",
          "2015-10-31T00:00:00.000000000",
          "2015-11-30T00:00:00.000000000",
          "2015-12-31T00:00:00.000000000",
          "2016-01-31T00:00:00.000000000",
          "2016-02-29T00:00:00.000000000",
          "2016-03-31T00:00:00.000000000",
          "2016-04-30T00:00:00.000000000",
          "2016-05-31T00:00:00.000000000",
          "2016-06-30T00:00:00.000000000",
          "2016-07-31T00:00:00.000000000",
          "2016-08-31T00:00:00.000000000",
          "2016-09-30T00:00:00.000000000",
          "2016-10-31T00:00:00.000000000",
          "2016-11-30T00:00:00.000000000",
          "2016-12-31T00:00:00.000000000",
          "2017-01-31T00:00:00.000000000",
          "2017-02-28T00:00:00.000000000",
          "2017-03-31T00:00:00.000000000",
          "2017-04-30T00:00:00.000000000",
          "2017-05-31T00:00:00.000000000",
          "2017-06-30T00:00:00.000000000",
          "2017-07-31T00:00:00.000000000",
          "2017-08-31T00:00:00.000000000",
          "2017-09-30T00:00:00.000000000",
          "2017-10-31T00:00:00.000000000",
          "2017-11-30T00:00:00.000000000",
          "2017-12-31T00:00:00.000000000"
         ],
         "xaxis": "x",
         "y": {
          "bdata": "9ihcj3LOy0AIrBxa5KexQDVeuklgMetASOF6FNah20B9PzVeEhjXQF+YTBVk5OBAarx0k0yT4ECLbOf7XUHbQPd14JwV9/NA1XjpJlm33kBRa5p3SzLzQHNoke2Z+vBA5WGh1oS/0UBU46WbtFfHQNNNYhDI6OJAJzEIrGay4EAtsp3v62zdQJzEILBSN9hAzczMzFQX3ED35GGhSgTiQDeJQWB9iu9Ad76fGjur3kB1kxgESYzyQKvP1VZ4SvJAlUOLbJ8b0kCQwvUotHDWQAAAAAB8QOlAke18P8Hr4kDwp8ZLd9PrQAIrhxYRs+NAQmDl0L4r40C5/If012LeQNuK/WUg7PFAcT0K1/ck7UBos+pzP2PzQJzEILBwrvdAF9nO92t45UBSJ6CJSNPTQME5I0oLv+xA7C+7JzHV4UCBJsKGo5zlQNc07zi33ulAZDvfTw0a5kDb+X5qHNLuQFCNl26qc/VA+1xtxQ798kAzMzMz/er8QF8HzhlVd/RA",
          "dtype": "f8"
         },
         "yaxis": "y"
        }
       ],
       "layout": {
        "legend": {
         "tracegroupgap": 0
        },
        "template": {
         "data": {
          "bar": [
           {
            "error_x": {
             "color": "#2a3f5f"
            },
            "error_y": {
             "color": "#2a3f5f"
            },
            "marker": {
             "line": {
              "color": "white",
              "width": 0.5
             },
             "pattern": {
              "fillmode": "overlay",
              "size": 10,
              "solidity": 0.2
             }
            },
            "type": "bar"
           }
          ],
          "barpolar": [
           {
            "marker": {
             "line": {
              "color": "white",
              "width": 0.5
             },
             "pattern": {
              "fillmode": "overlay",
              "size": 10,
              "solidity": 0.2
             }
            },
            "type": "barpolar"
           }
          ],
          "carpet": [
           {
            "aaxis": {
             "endlinecolor": "#2a3f5f",
             "gridcolor": "#C8D4E3",
             "linecolor": "#C8D4E3",
             "minorgridcolor": "#C8D4E3",
             "startlinecolor": "#2a3f5f"
            },
            "baxis": {
             "endlinecolor": "#2a3f5f",
             "gridcolor": "#C8D4E3",
             "linecolor": "#C8D4E3",
             "minorgridcolor": "#C8D4E3",
             "startlinecolor": "#2a3f5f"
            },
            "type": "carpet"
           }
          ],
          "choropleth": [
           {
            "colorbar": {
             "outlinewidth": 0,
             "ticks": ""
            },
            "type": "choropleth"
           }
          ],
          "contour": [
           {
            "colorbar": {
             "outlinewidth": 0,
             "ticks": ""
            },
            "colorscale": [
             [
              0,
              "#0d0887"
             ],
             [
              0.1111111111111111,
              "#46039f"
             ],
             [
              0.2222222222222222,
              "#7201a8"
             ],
             [
              0.3333333333333333,
              "#9c179e"
             ],
             [
              0.4444444444444444,
              "#bd3786"
             ],
             [
              0.5555555555555556,
              "#d8576b"
             ],
             [
              0.6666666666666666,
              "#ed7953"
             ],
             [
              0.7777777777777778,
              "#fb9f3a"
             ],
             [
              0.8888888888888888,
              "#fdca26"
             ],
             [
              1,
              "#f0f921"
             ]
            ],
            "type": "contour"
           }
          ],
          "contourcarpet": [
           {
            "colorbar": {
             "outlinewidth": 0,
             "ticks": ""
            },
            "type": "contourcarpet"
           }
          ],
          "heatmap": [
           {
            "colorbar": {
             "outlinewidth": 0,
             "ticks": ""
            },
            "colorscale": [
             [
              0,
              "#0d0887"
             ],
             [
              0.1111111111111111,
              "#46039f"
             ],
             [
              0.2222222222222222,
              "#7201a8"
             ],
             [
              0.3333333333333333,
              "#9c179e"
             ],
             [
              0.4444444444444444,
              "#bd3786"
             ],
             [
              0.5555555555555556,
              "#d8576b"
             ],
             [
              0.6666666666666666,
              "#ed7953"
             ],
             [
              0.7777777777777778,
              "#fb9f3a"
             ],
             [
              0.8888888888888888,
              "#fdca26"
             ],
             [
              1,
              "#f0f921"
             ]
            ],
            "type": "heatmap"
           }
          ],
          "histogram": [
           {
            "marker": {
             "pattern": {
              "fillmode": "overlay",
              "size": 10,
              "solidity": 0.2
             }
            },
            "type": "histogram"
           }
          ],
          "histogram2d": [
           {
            "colorbar": {
             "outlinewidth": 0,
             "ticks": ""
            },
            "colorscale": [
             [
              0,
              "#0d0887"
             ],
             [
              0.1111111111111111,
              "#46039f"
             ],
             [
              0.2222222222222222,
              "#7201a8"
             ],
             [
              0.3333333333333333,
              "#9c179e"
             ],
             [
              0.4444444444444444,
              "#bd3786"
             ],
             [
              0.5555555555555556,
              "#d8576b"
             ],
             [
              0.6666666666666666,
              "#ed7953"
             ],
             [
              0.7777777777777778,
              "#fb9f3a"
             ],
             [
              0.8888888888888888,
              "#fdca26"
             ],
             [
              1,
              "#f0f921"
             ]
            ],
            "type": "histogram2d"
           }
          ],
          "histogram2dcontour": [
           {
            "colorbar": {
             "outlinewidth": 0,
             "ticks": ""
            },
            "colorscale": [
             [
              0,
              "#0d0887"
             ],
             [
              0.1111111111111111,
              "#46039f"
             ],
             [
              0.2222222222222222,
              "#7201a8"
             ],
             [
              0.3333333333333333,
              "#9c179e"
             ],
             [
              0.4444444444444444,
              "#bd3786"
             ],
             [
              0.5555555555555556,
              "#d8576b"
             ],
             [
              0.6666666666666666,
              "#ed7953"
             ],
             [
              0.7777777777777778,
              "#fb9f3a"
             ],
             [
              0.8888888888888888,
              "#fdca26"
             ],
             [
              1,
              "#f0f921"
             ]
            ],
            "type": "histogram2dcontour"
           }
          ],
          "mesh3d": [
           {
            "colorbar": {
             "outlinewidth": 0,
             "ticks": ""
            },
            "type": "mesh3d"
           }
          ],
          "parcoords": [
           {
            "line": {
             "colorbar": {
              "outlinewidth": 0,
              "ticks": ""
             }
            },
            "type": "parcoords"
           }
          ],
          "pie": [
           {
            "automargin": true,
            "type": "pie"
           }
          ],
          "scatter": [
           {
            "fillpattern": {
             "fillmode": "overlay",
             "size": 10,
             "solidity": 0.2
            },
            "type": "scatter"
           }
          ],
          "scatter3d": [
           {
            "line": {
             "colorbar": {
              "outlinewidth": 0,
              "ticks": ""
             }
            },
            "marker": {
             "colorbar": {
              "outlinewidth": 0,
              "ticks": ""
             }
            },
            "type": "scatter3d"
           }
          ],
          "scattercarpet": [
           {
            "marker": {
             "colorbar": {
              "outlinewidth": 0,
              "ticks": ""
             }
            },
            "type": "scattercarpet"
           }
          ],
          "scattergeo": [
           {
            "marker": {
             "colorbar": {
              "outlinewidth": 0,
              "ticks": ""
             }
            },
            "type": "scattergeo"
           }
          ],
          "scattergl": [
           {
            "marker": {
             "colorbar": {
              "outlinewidth": 0,
              "ticks": ""
             }
            },
            "type": "scattergl"
           }
          ],
          "scattermap": [
           {
            "marker": {
             "colorbar": {
              "outlinewidth": 0,
              "ticks": ""
             }
            },
            "type": "scattermap"
           }
          ],
          "scattermapbox": [
           {
            "marker": {
             "colorbar": {
              "outlinewidth": 0,
              "ticks": ""
             }
            },
            "type": "scattermapbox"
           }
          ],
          "scatterpolar": [
           {
            "marker": {
             "colorbar": {
              "outlinewidth": 0,
              "ticks": ""
             }
            },
            "type": "scatterpolar"
           }
          ],
          "scatterpolargl": [
           {
            "marker": {
             "colorbar": {
              "outlinewidth": 0,
              "ticks": ""
             }
            },
            "type": "scatterpolargl"
           }
          ],
          "scatterternary": [
           {
            "marker": {
             "colorbar": {
              "outlinewidth": 0,
              "ticks": ""
             }
            },
            "type": "scatterternary"
           }
          ],
          "surface": [
           {
            "colorbar": {
             "outlinewidth": 0,
             "ticks": ""
            },
            "colorscale": [
             [
              0,
              "#0d0887"
             ],
             [
              0.1111111111111111,
              "#46039f"
             ],
             [
              0.2222222222222222,
              "#7201a8"
             ],
             [
              0.3333333333333333,
              "#9c179e"
             ],
             [
              0.4444444444444444,
              "#bd3786"
             ],
             [
              0.5555555555555556,
              "#d8576b"
             ],
             [
              0.6666666666666666,
              "#ed7953"
             ],
             [
              0.7777777777777778,
              "#fb9f3a"
             ],
             [
              0.8888888888888888,
              "#fdca26"
             ],
             [
              1,
              "#f0f921"
             ]
            ],
            "type": "surface"
           }
          ],
          "table": [
           {
            "cells": {
             "fill": {
              "color": "#EBF0F8"
             },
             "line": {
              "color": "white"
             }
            },
            "header": {
             "fill": {
              "color": "#C8D4E3"
             },
             "line": {
              "color": "white"
             }
            },
            "type": "table"
           }
          ]
         },
         "layout": {
          "annotationdefaults": {
           "arrowcolor": "#2a3f5f",
           "arrowhead": 0,
           "arrowwidth": 1
          },
          "autotypenumbers": "strict",
          "coloraxis": {
           "colorbar": {
            "outlinewidth": 0,
            "ticks": ""
           }
          },
          "colorscale": {
           "diverging": [
            [
             0,
             "#8e0152"
            ],
            [
             0.1,
             "#c51b7d"
            ],
            [
             0.2,
             "#de77ae"
            ],
            [
             0.3,
             "#f1b6da"
            ],
            [
             0.4,
             "#fde0ef"
            ],
            [
             0.5,
             "#f7f7f7"
            ],
            [
             0.6,
             "#e6f5d0"
            ],
            [
             0.7,
             "#b8e186"
            ],
            [
             0.8,
             "#7fbc41"
            ],
            [
             0.9,
             "#4d9221"
            ],
            [
             1,
             "#276419"
            ]
           ],
           "sequential": [
            [
             0,
             "#0d0887"
            ],
            [
             0.1111111111111111,
             "#46039f"
            ],
            [
             0.2222222222222222,
             "#7201a8"
            ],
            [
             0.3333333333333333,
             "#9c179e"
            ],
            [
             0.4444444444444444,
             "#bd3786"
            ],
            [
             0.5555555555555556,
             "#d8576b"
            ],
            [
             0.6666666666666666,
             "#ed7953"
            ],
            [
             0.7777777777777778,
             "#fb9f3a"
            ],
            [
             0.8888888888888888,
             "#fdca26"
            ],
            [
             1,
             "#f0f921"
            ]
           ],
           "sequentialminus": [
            [
             0,
             "#0d0887"
            ],
            [
             0.1111111111111111,
             "#46039f"
            ],
            [
             0.2222222222222222,
             "#7201a8"
            ],
            [
             0.3333333333333333,
             "#9c179e"
            ],
            [
             0.4444444444444444,
             "#bd3786"
            ],
            [
             0.5555555555555556,
             "#d8576b"
            ],
            [
             0.6666666666666666,
             "#ed7953"
            ],
            [
             0.7777777777777778,
             "#fb9f3a"
            ],
            [
             0.8888888888888888,
             "#fdca26"
            ],
            [
             1,
             "#f0f921"
            ]
           ]
          },
          "colorway": [
           "#636efa",
           "#EF553B",
           "#00cc96",
           "#ab63fa",
           "#FFA15A",
           "#19d3f3",
           "#FF6692",
           "#B6E880",
           "#FF97FF",
           "#FECB52"
          ],
          "font": {
           "color": "#2a3f5f"
          },
          "geo": {
           "bgcolor": "white",
           "lakecolor": "white",
           "landcolor": "white",
           "showlakes": true,
           "showland": true,
           "subunitcolor": "#C8D4E3"
          },
          "hoverlabel": {
           "align": "left"
          },
          "hovermode": "closest",
          "mapbox": {
           "style": "light"
          },
          "paper_bgcolor": "white",
          "plot_bgcolor": "white",
          "polar": {
           "angularaxis": {
            "gridcolor": "#EBF0F8",
            "linecolor": "#EBF0F8",
            "ticks": ""
           },
           "bgcolor": "white",
           "radialaxis": {
            "gridcolor": "#EBF0F8",
            "linecolor": "#EBF0F8",
            "ticks": ""
           }
          },
          "scene": {
           "xaxis": {
            "backgroundcolor": "white",
            "gridcolor": "#DFE8F3",
            "gridwidth": 2,
            "linecolor": "#EBF0F8",
            "showbackground": true,
            "ticks": "",
            "zerolinecolor": "#EBF0F8"
           },
           "yaxis": {
            "backgroundcolor": "white",
            "gridcolor": "#DFE8F3",
            "gridwidth": 2,
            "linecolor": "#EBF0F8",
            "showbackground": true,
            "ticks": "",
            "zerolinecolor": "#EBF0F8"
           },
           "zaxis": {
            "backgroundcolor": "white",
            "gridcolor": "#DFE8F3",
            "gridwidth": 2,
            "linecolor": "#EBF0F8",
            "showbackground": true,
            "ticks": "",
            "zerolinecolor": "#EBF0F8"
           }
          },
          "shapedefaults": {
           "line": {
            "color": "#2a3f5f"
           }
          },
          "ternary": {
           "aaxis": {
            "gridcolor": "#DFE8F3",
            "linecolor": "#A2B1C6",
            "ticks": ""
           },
           "baxis": {
            "gridcolor": "#DFE8F3",
            "linecolor": "#A2B1C6",
            "ticks": ""
           },
           "bgcolor": "white",
           "caxis": {
            "gridcolor": "#DFE8F3",
            "linecolor": "#A2B1C6",
            "ticks": ""
           }
          },
          "title": {
           "x": 0.05
          },
          "xaxis": {
           "automargin": true,
           "gridcolor": "#EBF0F8",
           "linecolor": "#EBF0F8",
           "ticks": "",
           "title": {
            "standoff": 15
           },
           "zerolinecolor": "#EBF0F8",
           "zerolinewidth": 2
          },
          "yaxis": {
           "automargin": true,
           "gridcolor": "#EBF0F8",
           "linecolor": "#EBF0F8",
           "ticks": "",
           "title": {
            "standoff": 15
           },
           "zerolinecolor": "#EBF0F8",
           "zerolinewidth": 2
          }
         }
        },
        "title": {
         "text": "📉 Monthly Revenue Over Time"
        },
        "xaxis": {
         "anchor": "y",
         "domain": [
          0,
          1
         ],
         "title": {
          "text": "Month"
         }
        },
        "yaxis": {
         "anchor": "x",
         "domain": [
          0,
          1
         ],
         "title": {
          "text": "Revenue ($)"
         }
        }
       }
      }
     },
     "metadata": {},
     "output_type": "display_data"
    }
   ],
   "source": [
    "fig = px.line(monthly_revenue, x='month', y='revenue',\n",
    "              title='📉 Monthly Revenue Over Time',\n",
    "              markers=True, template='plotly_white')\n",
    "\n",
    "fig.update_layout(xaxis_title='Month', yaxis_title='Revenue ($)')\n",
    "fig.show()\n",
    "\n"
   ]
  },
  {
   "cell_type": "markdown",
   "metadata": {},
   "source": [
    "Time Series Forecasting with Prophet"
   ]
  },
  {
   "cell_type": "code",
   "execution_count": 169,
   "metadata": {},
   "outputs": [
    {
     "name": "stderr",
     "output_type": "stream",
     "text": [
      "15:29:02 - cmdstanpy - INFO - Chain [1] start processing\n",
      "15:29:03 - cmdstanpy - INFO - Chain [1] done processing\n",
      "c:\\Users\\Saurav Kumar\\AppData\\Local\\Programs\\Python\\Python313\\Lib\\site-packages\\prophet\\forecaster.py:1854: FutureWarning:\n",
      "\n",
      "'M' is deprecated and will be removed in a future version, please use 'ME' instead.\n",
      "\n"
     ]
    },
    {
     "data": {
      "image/png": "[encoded data removed]",
      "text/plain": [
       "<Figure size 1000x600 with 1 Axes>"
      ]
     },
     "metadata": {},
     "output_type": "display_data"
    }
   ],
   "source": [
    "from prophet import Prophet\n",
    "\n",
    "# Rename columns for Prophet\n",
    "prophet_df = monthly_revenue.rename(columns={'month': 'ds', 'revenue': 'y'})\n",
    "\n",
    "# Initialize and fit the model\n",
    "model = Prophet()\n",
    "model.fit(prophet_df)\n",
    "\n",
    "# Future dataframe: 6 months ahead\n",
    "future = model.make_future_dataframe(periods=6, freq='M')\n",
    "forecast = model.predict(future)\n",
    "\n",
    "# Plot forecast\n",
    "fig1 = model.plot(forecast)\n"
   ]
  },
  {
   "cell_type": "markdown",
   "metadata": {},
   "source": [
    "Intercative forecast visualization"
   ]
  },
  {
   "cell_type": "code",
   "execution_count": 170,
   "metadata": {},
   "outputs": [
    {
     "data": {
      "application/vnd.plotly.v1+json": {
       "config": {
        "plotlyServerURL": "https://plot.ly"
       },
       "data": [
        {
         "hovertemplate": "Date=%{x}<br>Predicted Revenue=%{y}<extra></extra>",
         "legendgroup": "",
         "line": {
          "color": "#636efa",
          "dash": "solid"
         },
         "marker": {
          "symbol": "circle"
         },
         "mode": "lines",
         "name": "",
         "orientation": "v",
         "showlegend": false,
         "type": "scatter",
         "x": [
          "2014-01-31T00:00:00.000000000",
          "2014-02-28T00:00:00.000000000",
          "2014-03-31T00:00:00.000000000",
          "2014-04-30T00:00:00.000000000",
          "2014-05-31T00:00:00.000000000",
          "2014-06-30T00:00:00.000000000",
          "2014-07-31T00:00:00.000000000",
          "2014-08-31T00:00:00.000000000",
          "2014-09-30T00:00:00.000000000",
          "2014-10-31T00:00:00.000000000",
          "2014-11-30T00:00:00.000000000",
          "2014-12-31T00:00:00.000000000",
          "2015-01-31T00:00:00.000000000",
          "2015-02-28T00:00:00.000000000",
          "2015-03-31T00:00:00.000000000",
          "2015-04-30T00:00:00.000000000",
          "2015-05-31T00:00:00.000000000",
          "2015-06-30T00:00:00.000000000",
          "2015-07-31T00:00:00.000000000",
          "2015-08-31T00:00:00.000000000",
          "2015-09-30T00:00:00.000000000",
          "2015-10-31T00:00:00.000000000",
          "2015-11-30T00:00:00.000000000",
          "2015-12-31T00:00:00.000000000",
          "2016-01-31T00:00:00.000000000",
          "2016-02-29T00:00:00.000000000",
          "2016-03-31T00:00:00.000000000",
          "2016-04-30T00:00:00.000000000",
          "2016-05-31T00:00:00.000000000",
          "2016-06-30T00:00:00.000000000",
          "2016-07-31T00:00:00.000000000",
          "2016-08-31T00:00:00.000000000",
          "2016-09-30T00:00:00.000000000",
          "2016-10-31T00:00:00.000000000",
          "2016-11-30T00:00:00.000000000",
          "2016-12-31T00:00:00.000000000",
          "2017-01-31T00:00:00.000000000",
          "2017-02-28T00:00:00.000000000",
          "2017-03-31T00:00:00.000000000",
          "2017-04-30T00:00:00.000000000",
          "2017-05-31T00:00:00.000000000",
          "2017-06-30T00:00:00.000000000",
          "2017-07-31T00:00:00.000000000",
          "2017-08-31T00:00:00.000000000",
          "2017-09-30T00:00:00.000000000",
          "2017-10-31T00:00:00.000000000",
          "2017-11-30T00:00:00.000000000",
          "2017-12-31T00:00:00.000000000",
          "2018-01-31T00:00:00.000000000",
          "2018-02-28T00:00:00.000000000",
          "2018-03-31T00:00:00.000000000",
          "2018-04-30T00:00:00.000000000",
          "2018-05-31T00:00:00.000000000",
          "2018-06-30T00:00:00.000000000"
         ],
         "xaxis": "x",
         "y": {
          "bdata": "wF6jhkbjzEBMhQCdppK2QHYChEFxcuRACCEqw6cP2UBS1Xi3/RvZQPQ/MYHyFdpAfpfZbozR2UAsiPMQLCLeQAGiqudOgvBAR2eVI7Cd4UB50HQw1h3zQKDd2Ex4FvFA90eSj5VM0kD8iSp5ahzLQMAiUZraN+hAa3Smhv3h4EBOxGgU6sTZQHy81Dx/W95Aluc7Qvk84EBWwRa1DNvjQFpWNTu+rPJArOQU0QmS4UDeXZXlkzj1QLSg3dIIifJAiA/UfVKf1kD+Co9pGBvNQG/O+36AQelAXE/xLgYf4EB080uxiFnoQDZbFBN4k+VAc4gpGvcu40Da0QNLjWjiQMIJU6TIjfJAuTcPqX697kDXq2iZXYf1QMEc3BKB5vRAMJNxA2io4kBnuU1Ys6fYQEU2dMHGMu5AnWCDxPy+5UCRoMNBvOnpQMQME8l9xuhAUIYUq2eO50A2NbJVqFDoQOaLsq/nXfVANNNU2ube70Ao1P+CBy/4QI3tip/O4/ZANl+FZGO55UAW2onaqmnhQIy+uwB+kfFA8P6RM8NQ60AHhMHmInDrQIXFoN2BBexA",
          "dtype": "f8"
         },
         "yaxis": "y"
        },
        {
         "line": {
          "width": 0
         },
         "mode": "lines",
         "name": "Upper Bound",
         "showlegend": false,
         "type": "scatter",
         "x": [
          "2014-01-31T00:00:00.000000000",
          "2014-02-28T00:00:00.000000000",
          "2014-03-31T00:00:00.000000000",
          "2014-04-30T00:00:00.000000000",
          "2014-05-31T00:00:00.000000000",
          "2014-06-30T00:00:00.000000000",
          "2014-07-31T00:00:00.000000000",
          "2014-08-31T00:00:00.000000000",
          "2014-09-30T00:00:00.000000000",
          "2014-10-31T00:00:00.000000000",
          "2014-11-30T00:00:00.000000000",
          "2014-12-31T00:00:00.000000000",
          "2015-01-31T00:00:00.000000000",
          "2015-02-28T00:00:00.000000000",
          "2015-03-31T00:00:00.000000000",
          "2015-04-30T00:00:00.000000000",
          "2015-05-31T00:00:00.000000000",
          "2015-06-30T00:00:00.000000000",
          "2015-07-31T00:00:00.000000000",
          "2015-08-31T00:00:00.000000000",
          "2015-09-30T00:00:00.000000000",
          "2015-10-31T00:00:00.000000000",
          "2015-11-30T00:00:00.000000000",
          "2015-12-31T00:00:00.000000000",
          "2016-01-31T00:00:00.000000000",
          "2016-02-29T00:00:00.000000000",
          "2016-03-31T00:00:00.000000000",
          "2016-04-30T00:00:00.000000000",
          "2016-05-31T00:00:00.000000000",
          "2016-06-30T00:00:00.000000000",
          "2016-07-31T00:00:00.000000000",
          "2016-08-31T00:00:00.000000000",
          "2016-09-30T00:00:00.000000000",
          "2016-10-31T00:00:00.000000000",
          "2016-11-30T00:00:00.000000000",
          "2016-12-31T00:00:00.000000000",
          "2017-01-31T00:00:00.000000000",
          "2017-02-28T00:00:00.000000000",
          "2017-03-31T00:00:00.000000000",
          "2017-04-30T00:00:00.000000000",
          "2017-05-31T00:00:00.000000000",
          "2017-06-30T00:00:00.000000000",
          "2017-07-31T00:00:00.000000000",
          "2017-08-31T00:00:00.000000000",
          "2017-09-30T00:00:00.000000000",
          "2017-10-31T00:00:00.000000000",
          "2017-11-30T00:00:00.000000000",
          "2017-12-31T00:00:00.000000000",
          "2018-01-31T00:00:00.000000000",
          "2018-02-28T00:00:00.000000000",
          "2018-03-31T00:00:00.000000000",
          "2018-04-30T00:00:00.000000000",
          "2018-05-31T00:00:00.000000000",
          "2018-06-30T00:00:00.000000000"
         ],
         "y": {
          "bdata": "5hnKApzk10B32x7wilrOQCixYPhf/+hAuR/rFNzT4EBYMByXbODgQDrLJ8BTiuFArK49qL6p4UD6zp9Kur3jQIud1E8X5vJAg0bNoNXs5UDDNVHRG2T1QE6HKENUefNA2j+1AGXC20Ambg/BBnPWQPaeRnazX+xAynxU5QzZ5UAWit6/5prhQONiRAvAoONA/UkfVjHD5ED3y4BueoroQO+0cZhz5vRAjeWMUCyD5kBpaFYTHX33QIv6nYdTrfRANjBbBYdC30CDlbB3R4bXQPGlf3wG9+1AXLF+L6vf5ECqcsX0N/XsQBfGllq2AupAlsTc8Eyq50CVUwmLN+nmQNdlfk6o1/RAAXWlZxuH8UD79xWicN73QE0uEH3kIPdAQWKc2FUB50CUj7CQcLjgQLET7eKNQfFADZYHQhlt6kBNySoKyKzuQIQtwEDTS+1AyFKZoAfK60AofSZe77PsQHONmdhsq/dAIwl5pR038kANBe0n74n6QKfeAEoULflAQOt+77xl6kBQ7SjXvhrmQGgWLtB86PNAIzHye5QU8EAjcwFPBu3vQCpyU/35SvBA",
          "dtype": "f8"
         }
        },
        {
         "fill": "tonexty",
         "fillcolor": "rgba(0,100,80,0.2)",
         "line": {
          "width": 0
         },
         "mode": "lines",
         "name": "Lower Bound",
         "showlegend": false,
         "type": "scatter",
         "x": [
          "2014-01-31T00:00:00.000000000",
          "2014-02-28T00:00:00.000000000",
          "2014-03-31T00:00:00.000000000",
          "2014-04-30T00:00:00.000000000",
          "2014-05-31T00:00:00.000000000",
          "2014-06-30T00:00:00.000000000",
          "2014-07-31T00:00:00.000000000",
          "2014-08-31T00:00:00.000000000",
          "2014-09-30T00:00:00.000000000",
          "2014-10-31T00:00:00.000000000",
          "2014-11-30T00:00:00.000000000",
          "2014-12-31T00:00:00.000000000",
          "2015-01-31T00:00:00.000000000",
          "2015-02-28T00:00:00.000000000",
          "2015-03-31T00:00:00.000000000",
          "2015-04-30T00:00:00.000000000",
          "2015-05-31T00:00:00.000000000",
          "2015-06-30T00:00:00.000000000",
          "2015-07-31T00:00:00.000000000",
          "2015-08-31T00:00:00.000000000",
          "2015-09-30T00:00:00.000000000",
          "2015-10-31T00:00:00.000000000",
          "2015-11-30T00:00:00.000000000",
          "2015-12-31T00:00:00.000000000",
          "2016-01-31T00:00:00.000000000",
          "2016-02-29T00:00:00.000000000",
          "2016-03-31T00:00:00.000000000",
          "2016-04-30T00:00:00.000000000",
          "2016-05-31T00:00:00.000000000",
          "2016-06-30T00:00:00.000000000",
          "2016-07-31T00:00:00.000000000",
          "2016-08-31T00:00:00.000000000",
          "2016-09-30T00:00:00.000000000",
          "2016-10-31T00:00:00.000000000",
          "2016-11-30T00:00:00.000000000",
          "2016-12-31T00:00:00.000000000",
          "2017-01-31T00:00:00.000000000",
          "2017-02-28T00:00:00.000000000",
          "2017-03-31T00:00:00.000000000",
          "2017-04-30T00:00:00.000000000",
          "2017-05-31T00:00:00.000000000",
          "2017-06-30T00:00:00.000000000",
          "2017-07-31T00:00:00.000000000",
          "2017-08-31T00:00:00.000000000",
          "2017-09-30T00:00:00.000000000",
          "2017-10-31T00:00:00.000000000",
          "2017-11-30T00:00:00.000000000",
          "2017-12-31T00:00:00.000000000",
          "2018-01-31T00:00:00.000000000",
          "2018-02-28T00:00:00.000000000",
          "2018-03-31T00:00:00.000000000",
          "2018-04-30T00:00:00.000000000",
          "2018-05-31T00:00:00.000000000",
          "2018-06-30T00:00:00.000000000"
         ],
         "y": {
          "bdata": "WDlZpmAXt0Bxqr8vEGmtwEMki0pK9d9Api+Sov450EBZm7keIirQQEwgyS4wwtBABsqZj0NR0EBhuYzOVJ3VQL4n+CPCI+xA2V9v544a2kD9TRZG6djwQA3/xoQyJe1ALU91CLYawkDx+AqoAdeyQBkefsc//ONAsnO6zAm62ECyVATLx+/QQLpj1s05zNVAZivuaFNG10BF0V92r2PeQDynuDxGa/BARQdbi3Lv2UCMJLsnYeTyQJxSDNjsR/BAct99tURDy0DP2IIPHSi1QI1/Gx0B4+RAvwDbdV1t10BsAJEP4NzjQMfyZOyQ1uBAX3QrZcdV3UAbuvTx6iXcQOOTxC6WMvBAzTVwYlIh6kAedzDoPUDzQPWgPSJ6rvJASwuyorKx3ECF4L6u1NzPQND4Xa0/u+lAZ11cmq824UCG1Om0zoblQKkOk2BFaORArmlwKfvt4kCOkzirkOvjQCi4/R5iDvNA0dFCTQ0v60AJuf7WPuX1QP16b4zGs/RAIAjfJydG4UASbSC+zxbaQAmAfCikg+5AsqIqo+IF50AvpdZ0dY3mQBAy13FkRudA",
          "dtype": "f8"
         }
        }
       ],
       "layout": {
        "legend": {
         "tracegroupgap": 0
        },
        "template": {
         "data": {
          "bar": [
           {
            "error_x": {
             "color": "#2a3f5f"
            },
            "error_y": {
             "color": "#2a3f5f"
            },
            "marker": {
             "line": {
              "color": "white",
              "width": 0.5
             },
             "pattern": {
              "fillmode": "overlay",
              "size": 10,
              "solidity": 0.2
             }
            },
            "type": "bar"
           }
          ],
          "barpolar": [
           {
            "marker": {
             "line": {
              "color": "white",
              "width": 0.5
             },
             "pattern": {
              "fillmode": "overlay",
              "size": 10,
              "solidity": 0.2
             }
            },
            "type": "barpolar"
           }
          ],
          "carpet": [
           {
            "aaxis": {
             "endlinecolor": "#2a3f5f",
             "gridcolor": "#C8D4E3",
             "linecolor": "#C8D4E3",
             "minorgridcolor": "#C8D4E3",
             "startlinecolor": "#2a3f5f"
            },
            "baxis": {
             "endlinecolor": "#2a3f5f",
             "gridcolor": "#C8D4E3",
             "linecolor": "#C8D4E3",
             "minorgridcolor": "#C8D4E3",
             "startlinecolor": "#2a3f5f"
            },
            "type": "carpet"
           }
          ],
          "choropleth": [
           {
            "colorbar": {
             "outlinewidth": 0,
             "ticks": ""
            },
            "type": "choropleth"
           }
          ],
          "contour": [
           {
            "colorbar": {
             "outlinewidth": 0,
             "ticks": ""
            },
            "colorscale": [
             [
              0,
              "#0d0887"
             ],
             [
              0.1111111111111111,
              "#46039f"
             ],
             [
              0.2222222222222222,
              "#7201a8"
             ],
             [
              0.3333333333333333,
              "#9c179e"
             ],
             [
              0.4444444444444444,
              "#bd3786"
             ],
             [
              0.5555555555555556,
              "#d8576b"
             ],
             [
              0.6666666666666666,
              "#ed7953"
             ],
             [
              0.7777777777777778,
              "#fb9f3a"
             ],
             [
              0.8888888888888888,
              "#fdca26"
             ],
             [
              1,
              "#f0f921"
             ]
            ],
            "type": "contour"
           }
          ],
          "contourcarpet": [
           {
            "colorbar": {
             "outlinewidth": 0,
             "ticks": ""
            },
            "type": "contourcarpet"
           }
          ],
          "heatmap": [
           {
            "colorbar": {
             "outlinewidth": 0,
             "ticks": ""
            },
            "colorscale": [
             [
              0,
              "#0d0887"
             ],
             [
              0.1111111111111111,
              "#46039f"
             ],
             [
              0.2222222222222222,
              "#7201a8"
             ],
             [
              0.3333333333333333,
              "#9c179e"
             ],
             [
              0.4444444444444444,
              "#bd3786"
             ],
             [
              0.5555555555555556,
              "#d8576b"
             ],
             [
              0.6666666666666666,
              "#ed7953"
             ],
             [
              0.7777777777777778,
              "#fb9f3a"
             ],
             [
              0.8888888888888888,
              "#fdca26"
             ],
             [
              1,
              "#f0f921"
             ]
            ],
            "type": "heatmap"
           }
          ],
          "histogram": [
           {
            "marker": {
             "pattern": {
              "fillmode": "overlay",
              "size": 10,
              "solidity": 0.2
             }
            },
            "type": "histogram"
           }
          ],
          "histogram2d": [
           {
            "colorbar": {
             "outlinewidth": 0,
             "ticks": ""
            },
            "colorscale": [
             [
              0,
              "#0d0887"
             ],
             [
              0.1111111111111111,
              "#46039f"
             ],
             [
              0.2222222222222222,
              "#7201a8"
             ],
             [
              0.3333333333333333,
              "#9c179e"
             ],
             [
              0.4444444444444444,
              "#bd3786"
             ],
             [
              0.5555555555555556,
              "#d8576b"
             ],
             [
              0.6666666666666666,
              "#ed7953"
             ],
             [
              0.7777777777777778,
              "#fb9f3a"
             ],
             [
              0.8888888888888888,
              "#fdca26"
             ],
             [
              1,
              "#f0f921"
             ]
            ],
            "type": "histogram2d"
           }
          ],
          "histogram2dcontour": [
           {
            "colorbar": {
             "outlinewidth": 0,
             "ticks": ""
            },
            "colorscale": [
             [
              0,
              "#0d0887"
             ],
             [
              0.1111111111111111,
              "#46039f"
             ],
             [
              0.2222222222222222,
              "#7201a8"
             ],
             [
              0.3333333333333333,
              "#9c179e"
             ],
             [
              0.4444444444444444,
              "#bd3786"
             ],
             [
              0.5555555555555556,
              "#d8576b"
             ],
             [
              0.6666666666666666,
              "#ed7953"
             ],
             [
              0.7777777777777778,
              "#fb9f3a"
             ],
             [
              0.8888888888888888,
              "#fdca26"
             ],
             [
              1,
              "#f0f921"
             ]
            ],
            "type": "histogram2dcontour"
           }
          ],
          "mesh3d": [
           {
            "colorbar": {
             "outlinewidth": 0,
             "ticks": ""
            },
            "type": "mesh3d"
           }
          ],
          "parcoords": [
           {
            "line": {
             "colorbar": {
              "outlinewidth": 0,
              "ticks": ""
             }
            },
            "type": "parcoords"
           }
          ],
          "pie": [
           {
            "automargin": true,
            "type": "pie"
           }
          ],
          "scatter": [
           {
            "fillpattern": {
             "fillmode": "overlay",
             "size": 10,
             "solidity": 0.2
            },
            "type": "scatter"
           }
          ],
          "scatter3d": [
           {
            "line": {
             "colorbar": {
              "outlinewidth": 0,
              "ticks": ""
             }
            },
            "marker": {
             "colorbar": {
              "outlinewidth": 0,
              "ticks": ""
             }
            },
            "type": "scatter3d"
           }
          ],
          "scattercarpet": [
           {
            "marker": {
             "colorbar": {
              "outlinewidth": 0,
              "ticks": ""
             }
            },
            "type": "scattercarpet"
           }
          ],
          "scattergeo": [
           {
            "marker": {
             "colorbar": {
              "outlinewidth": 0,
              "ticks": ""
             }
            },
            "type": "scattergeo"
           }
          ],
          "scattergl": [
           {
            "marker": {
             "colorbar": {
              "outlinewidth": 0,
              "ticks": ""
             }
            },
            "type": "scattergl"
           }
          ],
          "scattermap": [
           {
            "marker": {
             "colorbar": {
              "outlinewidth": 0,
              "ticks": ""
             }
            },
            "type": "scattermap"
           }
          ],
          "scattermapbox": [
           {
            "marker": {
             "colorbar": {
              "outlinewidth": 0,
              "ticks": ""
             }
            },
            "type": "scattermapbox"
           }
          ],
          "scatterpolar": [
           {
            "marker": {
             "colorbar": {
              "outlinewidth": 0,
              "ticks": ""
             }
            },
            "type": "scatterpolar"
           }
          ],
          "scatterpolargl": [
           {
            "marker": {
             "colorbar": {
              "outlinewidth": 0,
              "ticks": ""
             }
            },
            "type": "scatterpolargl"
           }
          ],
          "scatterternary": [
           {
            "marker": {
             "colorbar": {
              "outlinewidth": 0,
              "ticks": ""
             }
            },
            "type": "scatterternary"
           }
          ],
          "surface": [
           {
            "colorbar": {
             "outlinewidth": 0,
             "ticks": ""
            },
            "colorscale": [
             [
              0,
              "#0d0887"
             ],
             [
              0.1111111111111111,
              "#46039f"
             ],
             [
              0.2222222222222222,
              "#7201a8"
             ],
             [
              0.3333333333333333,
              "#9c179e"
             ],
             [
              0.4444444444444444,
              "#bd3786"
             ],
             [
              0.5555555555555556,
              "#d8576b"
             ],
             [
              0.6666666666666666,
              "#ed7953"
             ],
             [
              0.7777777777777778,
              "#fb9f3a"
             ],
             [
              0.8888888888888888,
              "#fdca26"
             ],
             [
              1,
              "#f0f921"
             ]
            ],
            "type": "surface"
           }
          ],
          "table": [
           {
            "cells": {
             "fill": {
              "color": "#EBF0F8"
             },
             "line": {
              "color": "white"
             }
            },
            "header": {
             "fill": {
              "color": "#C8D4E3"
             },
             "line": {
              "color": "white"
             }
            },
            "type": "table"
           }
          ]
         },
         "layout": {
          "annotationdefaults": {
           "arrowcolor": "#2a3f5f",
           "arrowhead": 0,
           "arrowwidth": 1
          },
          "autotypenumbers": "strict",
          "coloraxis": {
           "colorbar": {
            "outlinewidth": 0,
            "ticks": ""
           }
          },
          "colorscale": {
           "diverging": [
            [
             0,
             "#8e0152"
            ],
            [
             0.1,
             "#c51b7d"
            ],
            [
             0.2,
             "#de77ae"
            ],
            [
             0.3,
             "#f1b6da"
            ],
            [
             0.4,
             "#fde0ef"
            ],
            [
             0.5,
             "#f7f7f7"
            ],
            [
             0.6,
             "#e6f5d0"
            ],
            [
             0.7,
             "#b8e186"
            ],
            [
             0.8,
             "#7fbc41"
            ],
            [
             0.9,
             "#4d9221"
            ],
            [
             1,
             "#276419"
            ]
           ],
           "sequential": [
            [
             0,
             "#0d0887"
            ],
            [
             0.1111111111111111,
             "#46039f"
            ],
            [
             0.2222222222222222,
             "#7201a8"
            ],
            [
             0.3333333333333333,
             "#9c179e"
            ],
            [
             0.4444444444444444,
             "#bd3786"
            ],
            [
             0.5555555555555556,
             "#d8576b"
            ],
            [
             0.6666666666666666,
             "#ed7953"
            ],
            [
             0.7777777777777778,
             "#fb9f3a"
            ],
            [
             0.8888888888888888,
             "#fdca26"
            ],
            [
             1,
             "#f0f921"
            ]
           ],
           "sequentialminus": [
            [
             0,
             "#0d0887"
            ],
            [
             0.1111111111111111,
             "#46039f"
            ],
            [
             0.2222222222222222,
             "#7201a8"
            ],
            [
             0.3333333333333333,
             "#9c179e"
            ],
            [
             0.4444444444444444,
             "#bd3786"
            ],
            [
             0.5555555555555556,
             "#d8576b"
            ],
            [
             0.6666666666666666,
             "#ed7953"
            ],
            [
             0.7777777777777778,
             "#fb9f3a"
            ],
            [
             0.8888888888888888,
             "#fdca26"
            ],
            [
             1,
             "#f0f921"
            ]
           ]
          },
          "colorway": [
           "#636efa",
           "#EF553B",
           "#00cc96",
           "#ab63fa",
           "#FFA15A",
           "#19d3f3",
           "#FF6692",
           "#B6E880",
           "#FF97FF",
           "#FECB52"
          ],
          "font": {
           "color": "#2a3f5f"
          },
          "geo": {
           "bgcolor": "white",
           "lakecolor": "white",
           "landcolor": "white",
           "showlakes": true,
           "showland": true,
           "subunitcolor": "#C8D4E3"
          },
          "hoverlabel": {
           "align": "left"
          },
          "hovermode": "closest",
          "mapbox": {
           "style": "light"
          },
          "paper_bgcolor": "white",
          "plot_bgcolor": "white",
          "polar": {
           "angularaxis": {
            "gridcolor": "#EBF0F8",
            "linecolor": "#EBF0F8",
            "ticks": ""
           },
           "bgcolor": "white",
           "radialaxis": {
            "gridcolor": "#EBF0F8",
            "linecolor": "#EBF0F8",
            "ticks": ""
           }
          },
          "scene": {
           "xaxis": {
            "backgroundcolor": "white",
            "gridcolor": "#DFE8F3",
            "gridwidth": 2,
            "linecolor": "#EBF0F8",
            "showbackground": true,
            "ticks": "",
            "zerolinecolor": "#EBF0F8"
           },
           "yaxis": {
            "backgroundcolor": "white",
            "gridcolor": "#DFE8F3",
            "gridwidth": 2,
            "linecolor": "#EBF0F8",
            "showbackground": true,
            "ticks": "",
            "zerolinecolor": "#EBF0F8"
           },
           "zaxis": {
            "backgroundcolor": "white",
            "gridcolor": "#DFE8F3",
            "gridwidth": 2,
            "linecolor": "#EBF0F8",
            "showbackground": true,
            "ticks": "",
            "zerolinecolor": "#EBF0F8"
           }
          },
          "shapedefaults": {
           "line": {
            "color": "#2a3f5f"
           }
          },
          "ternary": {
           "aaxis": {
            "gridcolor": "#DFE8F3",
            "linecolor": "#A2B1C6",
            "ticks": ""
           },
           "baxis": {
            "gridcolor": "#DFE8F3",
            "linecolor": "#A2B1C6",
            "ticks": ""
           },
           "bgcolor": "white",
           "caxis": {
            "gridcolor": "#DFE8F3",
            "linecolor": "#A2B1C6",
            "ticks": ""
           }
          },
          "title": {
           "x": 0.05
          },
          "xaxis": {
           "automargin": true,
           "gridcolor": "#EBF0F8",
           "linecolor": "#EBF0F8",
           "ticks": "",
           "title": {
            "standoff": 15
           },
           "zerolinecolor": "#EBF0F8",
           "zerolinewidth": 2
          },
          "yaxis": {
           "automargin": true,
           "gridcolor": "#EBF0F8",
           "linecolor": "#EBF0F8",
           "ticks": "",
           "title": {
            "standoff": 15
           },
           "zerolinecolor": "#EBF0F8",
           "zerolinewidth": 2
          }
         }
        },
        "title": {
         "text": "🔮 Forecasted Revenue (Prophet)"
        },
        "xaxis": {
         "anchor": "y",
         "domain": [
          0,
          1
         ],
         "title": {
          "text": "Date"
         }
        },
        "yaxis": {
         "anchor": "x",
         "domain": [
          0,
          1
         ],
         "title": {
          "text": "Predicted Revenue"
         }
        }
       }
      }
     },
     "metadata": {},
     "output_type": "display_data"
    }
   ],
   "source": [
    "forecast_df = forecast[['ds', 'yhat', 'yhat_lower', 'yhat_upper']]\n",
    "fig = px.line(forecast_df, x='ds', y='yhat', title='🔮 Forecasted Revenue (Prophet)',\n",
    "              labels={'ds': 'Date', 'yhat': 'Predicted Revenue'}, template='plotly_white')\n",
    "\n",
    "fig.add_scatter(x=forecast_df['ds'], y=forecast_df['yhat_upper'], mode='lines',\n",
    "                line=dict(width=0), name='Upper Bound', showlegend=False)\n",
    "\n",
    "fig.add_scatter(x=forecast_df['ds'], y=forecast_df['yhat_lower'], mode='lines',\n",
    "                fill='tonexty', fillcolor='rgba(0,100,80,0.2)',\n",
    "                line=dict(width=0), name='Lower Bound', showlegend=False)\n",
    "\n",
    "fig.show()\n"
   ]
  },
  {
   "cell_type": "code",
   "execution_count": 171,
   "metadata": {},
   "outputs": [
    {
     "data": {
      "text/html": [
       "<div>\n",
       "<style scoped>\n",
       "    .dataframe tbody tr th:only-of-type {\n",
       "        vertical-align: middle;\n",
       "    }\n",
       "\n",
       "    .dataframe tbody tr th {\n",
       "        vertical-align: top;\n",
       "    }\n",
       "\n",
       "    .dataframe thead th {\n",
       "        text-align: right;\n",
       "    }\n",
       "</style>\n",
       "<table border=\"1\" class=\"dataframe\">\n",
       "  <thead>\n",
       "    <tr style=\"text-align: right;\">\n",
       "      <th></th>\n",
       "      <th>ds</th>\n",
       "      <th>yhat</th>\n",
       "      <th>yhat_lower</th>\n",
       "      <th>yhat_upper</th>\n",
       "    </tr>\n",
       "  </thead>\n",
       "  <tbody>\n",
       "    <tr>\n",
       "      <th>0</th>\n",
       "      <td>2014-01-31</td>\n",
       "      <td>14790.550984</td>\n",
       "      <td>5911.377538</td>\n",
       "      <td>24466.437670</td>\n",
       "    </tr>\n",
       "    <tr>\n",
       "      <th>1</th>\n",
       "      <td>2014-02-28</td>\n",
       "      <td>5778.650833</td>\n",
       "      <td>-3764.531614</td>\n",
       "      <td>15541.085453</td>\n",
       "    </tr>\n",
       "    <tr>\n",
       "      <th>2</th>\n",
       "      <td>2014-03-31</td>\n",
       "      <td>41875.539248</td>\n",
       "      <td>32725.160800</td>\n",
       "      <td>51194.999070</td>\n",
       "    </tr>\n",
       "    <tr>\n",
       "      <th>3</th>\n",
       "      <td>2014-04-30</td>\n",
       "      <td>25662.621287</td>\n",
       "      <td>16615.978673</td>\n",
       "      <td>34462.877554</td>\n",
       "    </tr>\n",
       "    <tr>\n",
       "      <th>4</th>\n",
       "      <td>2014-05-31</td>\n",
       "      <td>25711.964323</td>\n",
       "      <td>16552.533125</td>\n",
       "      <td>34563.393446</td>\n",
       "    </tr>\n",
       "  </tbody>\n",
       "</table>\n",
       "</div>"
      ],
      "text/plain": [
       "          ds          yhat    yhat_lower    yhat_upper\n",
       "0 2014-01-31  14790.550984   5911.377538  24466.437670\n",
       "1 2014-02-28   5778.650833  -3764.531614  15541.085453\n",
       "2 2014-03-31  41875.539248  32725.160800  51194.999070\n",
       "3 2014-04-30  25662.621287  16615.978673  34462.877554\n",
       "4 2014-05-31  25711.964323  16552.533125  34563.393446"
      ]
     },
     "execution_count": 171,
     "metadata": {},
     "output_type": "execute_result"
    }
   ],
   "source": [
    "forecast_df.head()"
   ]
  },
  {
   "cell_type": "code",
   "execution_count": 172,
   "metadata": {},
   "outputs": [],
   "source": [
    "#save the forecast data with date modified to year-month-day format using .loc[row_indexer,col_indexer] = value and yhat column renamed to revenue\n",
    "#recast_df.to_csv(r\"C:\\Users\\Saurav Kumar\\python files\\UPWORK PROJECTS\\forecast.csv\", index=False)\n"
   ]
  },
  {
   "cell_type": "markdown",
   "metadata": {},
   "source": [
    "# Customer Churn Prediction (Binary Classification)"
   ]
  },
  {
   "cell_type": "markdown",
   "metadata": {},
   "source": [
    "Prepare Labeled Dataset"
   ]
  },
  {
   "cell_type": "code",
   "execution_count": 173,
   "metadata": {},
   "outputs": [],
   "source": [
    "# Select features\n",
    "features = ['total_sales', 'total_profit', 'order_count', 'avg_order_value', 'days_since_last_order']\n",
    "X = customer_kpis[features]\n",
    "y = customer_kpis['likely_churned']\n"
   ]
  },
  {
   "cell_type": "markdown",
   "metadata": {},
   "source": [
    " Train/Test Split & Scaling"
   ]
  },
  {
   "cell_type": "code",
   "execution_count": 174,
   "metadata": {},
   "outputs": [],
   "source": [
    "from sklearn.model_selection import train_test_split\n",
    "from sklearn.preprocessing import StandardScaler\n",
    "\n",
    "# Split\n",
    "X_train, X_test, y_train, y_test = train_test_split(X, y, test_size=0.2, random_state=42)\n",
    "\n",
    "# Scale features\n",
    "scaler = StandardScaler()\n",
    "X_train_scaled = scaler.fit_transform(X_train)\n",
    "X_test_scaled = scaler.transform(X_test)\n"
   ]
  },
  {
   "cell_type": "markdown",
   "metadata": {},
   "source": [
    "Training a Classifier(Random forest)"
   ]
  },
  {
   "cell_type": "code",
   "execution_count": 175,
   "metadata": {},
   "outputs": [
    {
     "name": "stdout",
     "output_type": "stream",
     "text": [
      "[[122   0]\n",
      " [  0  37]]\n",
      "              precision    recall  f1-score   support\n",
      "\n",
      "       False       1.00      1.00      1.00       122\n",
      "        True       1.00      1.00      1.00        37\n",
      "\n",
      "    accuracy                           1.00       159\n",
      "   macro avg       1.00      1.00      1.00       159\n",
      "weighted avg       1.00      1.00      1.00       159\n",
      "\n"
     ]
    }
   ],
   "source": [
    "from sklearn.ensemble import RandomForestClassifier\n",
    "from sklearn.metrics import classification_report, confusion_matrix\n",
    "\n",
    "model = RandomForestClassifier(n_estimators=100, random_state=42)\n",
    "model.fit(X_train_scaled, y_train)\n",
    "\n",
    "# Predictions\n",
    "y_pred = model.predict(X_test_scaled)\n",
    "print(confusion_matrix(y_test, y_pred))\n",
    "print(classification_report(y_test, y_pred))\n"
   ]
  },
  {
   "cell_type": "markdown",
   "metadata": {},
   "source": [
    "Feature importance plot"
   ]
  },
  {
   "cell_type": "code",
   "execution_count": 176,
   "metadata": {},
   "outputs": [
    {
     "data": {
      "application/vnd.plotly.v1+json": {
       "config": {
        "plotlyServerURL": "https://plot.ly"
       },
       "data": [
        {
         "hovertemplate": "Feature=%{x}<br>Importance=%{y}<extra></extra>",
         "legendgroup": "",
         "marker": {
          "color": "#636efa",
          "pattern": {
           "shape": ""
          }
         },
         "name": "",
         "orientation": "v",
         "showlegend": false,
         "textposition": "auto",
         "type": "bar",
         "x": [
          "total_sales",
          "total_profit",
          "order_count",
          "avg_order_value",
          "days_since_last_order"
         ],
         "xaxis": "x",
         "y": {
          "bdata": "/cGX+FE0mT8jzaufkHaNP9MAPwe3pKk/BxBduixDkD8uunVXHqTsPw==",
          "dtype": "f8"
         },
         "yaxis": "y"
        }
       ],
       "layout": {
        "barmode": "relative",
        "legend": {
         "tracegroupgap": 0
        },
        "template": {
         "data": {
          "bar": [
           {
            "error_x": {
             "color": "#2a3f5f"
            },
            "error_y": {
             "color": "#2a3f5f"
            },
            "marker": {
             "line": {
              "color": "white",
              "width": 0.5
             },
             "pattern": {
              "fillmode": "overlay",
              "size": 10,
              "solidity": 0.2
             }
            },
            "type": "bar"
           }
          ],
          "barpolar": [
           {
            "marker": {
             "line": {
              "color": "white",
              "width": 0.5
             },
             "pattern": {
              "fillmode": "overlay",
              "size": 10,
              "solidity": 0.2
             }
            },
            "type": "barpolar"
           }
          ],
          "carpet": [
           {
            "aaxis": {
             "endlinecolor": "#2a3f5f",
             "gridcolor": "#C8D4E3",
             "linecolor": "#C8D4E3",
             "minorgridcolor": "#C8D4E3",
             "startlinecolor": "#2a3f5f"
            },
            "baxis": {
             "endlinecolor": "#2a3f5f",
             "gridcolor": "#C8D4E3",
             "linecolor": "#C8D4E3",
             "minorgridcolor": "#C8D4E3",
             "startlinecolor": "#2a3f5f"
            },
            "type": "carpet"
           }
          ],
          "choropleth": [
           {
            "colorbar": {
             "outlinewidth": 0,
             "ticks": ""
            },
            "type": "choropleth"
           }
          ],
          "contour": [
           {
            "colorbar": {
             "outlinewidth": 0,
             "ticks": ""
            },
            "colorscale": [
             [
              0,
              "#0d0887"
             ],
             [
              0.1111111111111111,
              "#46039f"
             ],
             [
              0.2222222222222222,
              "#7201a8"
             ],
             [
              0.3333333333333333,
              "#9c179e"
             ],
             [
              0.4444444444444444,
              "#bd3786"
             ],
             [
              0.5555555555555556,
              "#d8576b"
             ],
             [
              0.6666666666666666,
              "#ed7953"
             ],
             [
              0.7777777777777778,
              "#fb9f3a"
             ],
             [
              0.8888888888888888,
              "#fdca26"
             ],
             [
              1,
              "#f0f921"
             ]
            ],
            "type": "contour"
           }
          ],
          "contourcarpet": [
           {
            "colorbar": {
             "outlinewidth": 0,
             "ticks": ""
            },
            "type": "contourcarpet"
           }
          ],
          "heatmap": [
           {
            "colorbar": {
             "outlinewidth": 0,
             "ticks": ""
            },
            "colorscale": [
             [
              0,
              "#0d0887"
             ],
             [
              0.1111111111111111,
              "#46039f"
             ],
             [
              0.2222222222222222,
              "#7201a8"
             ],
             [
              0.3333333333333333,
              "#9c179e"
             ],
             [
              0.4444444444444444,
              "#bd3786"
             ],
             [
              0.5555555555555556,
              "#d8576b"
             ],
             [
              0.6666666666666666,
              "#ed7953"
             ],
             [
              0.7777777777777778,
              "#fb9f3a"
             ],
             [
              0.8888888888888888,
              "#fdca26"
             ],
             [
              1,
              "#f0f921"
             ]
            ],
            "type": "heatmap"
           }
          ],
          "histogram": [
           {
            "marker": {
             "pattern": {
              "fillmode": "overlay",
              "size": 10,
              "solidity": 0.2
             }
            },
            "type": "histogram"
           }
          ],
          "histogram2d": [
           {
            "colorbar": {
             "outlinewidth": 0,
             "ticks": ""
            },
            "colorscale": [
             [
              0,
              "#0d0887"
             ],
             [
              0.1111111111111111,
              "#46039f"
             ],
             [
              0.2222222222222222,
              "#7201a8"
             ],
             [
              0.3333333333333333,
              "#9c179e"
             ],
             [
              0.4444444444444444,
              "#bd3786"
             ],
             [
              0.5555555555555556,
              "#d8576b"
             ],
             [
              0.6666666666666666,
              "#ed7953"
             ],
             [
              0.7777777777777778,
              "#fb9f3a"
             ],
             [
              0.8888888888888888,
              "#fdca26"
             ],
             [
              1,
              "#f0f921"
             ]
            ],
            "type": "histogram2d"
           }
          ],
          "histogram2dcontour": [
           {
            "colorbar": {
             "outlinewidth": 0,
             "ticks": ""
            },
            "colorscale": [
             [
              0,
              "#0d0887"
             ],
             [
              0.1111111111111111,
              "#46039f"
             ],
             [
              0.2222222222222222,
              "#7201a8"
             ],
             [
              0.3333333333333333,
              "#9c179e"
             ],
             [
              0.4444444444444444,
              "#bd3786"
             ],
             [
              0.5555555555555556,
              "#d8576b"
             ],
             [
              0.6666666666666666,
              "#ed7953"
             ],
             [
              0.7777777777777778,
              "#fb9f3a"
             ],
             [
              0.8888888888888888,
              "#fdca26"
             ],
             [
              1,
              "#f0f921"
             ]
            ],
            "type": "histogram2dcontour"
           }
          ],
          "mesh3d": [
           {
            "colorbar": {
             "outlinewidth": 0,
             "ticks": ""
            },
            "type": "mesh3d"
           }
          ],
          "parcoords": [
           {
            "line": {
             "colorbar": {
              "outlinewidth": 0,
              "ticks": ""
             }
            },
            "type": "parcoords"
           }
          ],
          "pie": [
           {
            "automargin": true,
            "type": "pie"
           }
          ],
          "scatter": [
           {
            "fillpattern": {
             "fillmode": "overlay",
             "size": 10,
             "solidity": 0.2
            },
            "type": "scatter"
           }
          ],
          "scatter3d": [
           {
            "line": {
             "colorbar": {
              "outlinewidth": 0,
              "ticks": ""
             }
            },
            "marker": {
             "colorbar": {
              "outlinewidth": 0,
              "ticks": ""
             }
            },
            "type": "scatter3d"
           }
          ],
          "scattercarpet": [
           {
            "marker": {
             "colorbar": {
              "outlinewidth": 0,
              "ticks": ""
             }
            },
            "type": "scattercarpet"
           }
          ],
          "scattergeo": [
           {
            "marker": {
             "colorbar": {
              "outlinewidth": 0,
              "ticks": ""
             }
            },
            "type": "scattergeo"
           }
          ],
          "scattergl": [
           {
            "marker": {
             "colorbar": {
              "outlinewidth": 0,
              "ticks": ""
             }
            },
            "type": "scattergl"
           }
          ],
          "scattermap": [
           {
            "marker": {
             "colorbar": {
              "outlinewidth": 0,
              "ticks": ""
             }
            },
            "type": "scattermap"
           }
          ],
          "scattermapbox": [
           {
            "marker": {
             "colorbar": {
              "outlinewidth": 0,
              "ticks": ""
             }
            },
            "type": "scattermapbox"
           }
          ],
          "scatterpolar": [
           {
            "marker": {
             "colorbar": {
              "outlinewidth": 0,
              "ticks": ""
             }
            },
            "type": "scatterpolar"
           }
          ],
          "scatterpolargl": [
           {
            "marker": {
             "colorbar": {
              "outlinewidth": 0,
              "ticks": ""
             }
            },
            "type": "scatterpolargl"
           }
          ],
          "scatterternary": [
           {
            "marker": {
             "colorbar": {
              "outlinewidth": 0,
              "ticks": ""
             }
            },
            "type": "scatterternary"
           }
          ],
          "surface": [
           {
            "colorbar": {
             "outlinewidth": 0,
             "ticks": ""
            },
            "colorscale": [
             [
              0,
              "#0d0887"
             ],
             [
              0.1111111111111111,
              "#46039f"
             ],
             [
              0.2222222222222222,
              "#7201a8"
             ],
             [
              0.3333333333333333,
              "#9c179e"
             ],
             [
              0.4444444444444444,
              "#bd3786"
             ],
             [
              0.5555555555555556,
              "#d8576b"
             ],
             [
              0.6666666666666666,
              "#ed7953"
             ],
             [
              0.7777777777777778,
              "#fb9f3a"
             ],
             [
              0.8888888888888888,
              "#fdca26"
             ],
             [
              1,
              "#f0f921"
             ]
            ],
            "type": "surface"
           }
          ],
          "table": [
           {
            "cells": {
             "fill": {
              "color": "#EBF0F8"
             },
             "line": {
              "color": "white"
             }
            },
            "header": {
             "fill": {
              "color": "#C8D4E3"
             },
             "line": {
              "color": "white"
             }
            },
            "type": "table"
           }
          ]
         },
         "layout": {
          "annotationdefaults": {
           "arrowcolor": "#2a3f5f",
           "arrowhead": 0,
           "arrowwidth": 1
          },
          "autotypenumbers": "strict",
          "coloraxis": {
           "colorbar": {
            "outlinewidth": 0,
            "ticks": ""
           }
          },
          "colorscale": {
           "diverging": [
            [
             0,
             "#8e0152"
            ],
            [
             0.1,
             "#c51b7d"
            ],
            [
             0.2,
             "#de77ae"
            ],
            [
             0.3,
             "#f1b6da"
            ],
            [
             0.4,
             "#fde0ef"
            ],
            [
             0.5,
             "#f7f7f7"
            ],
            [
             0.6,
             "#e6f5d0"
            ],
            [
             0.7,
             "#b8e186"
            ],
            [
             0.8,
             "#7fbc41"
            ],
            [
             0.9,
             "#4d9221"
            ],
            [
             1,
             "#276419"
            ]
           ],
           "sequential": [
            [
             0,
             "#0d0887"
            ],
            [
             0.1111111111111111,
             "#46039f"
            ],
            [
             0.2222222222222222,
             "#7201a8"
            ],
            [
             0.3333333333333333,
             "#9c179e"
            ],
            [
             0.4444444444444444,
             "#bd3786"
            ],
            [
             0.5555555555555556,
             "#d8576b"
            ],
            [
             0.6666666666666666,
             "#ed7953"
            ],
            [
             0.7777777777777778,
             "#fb9f3a"
            ],
            [
             0.8888888888888888,
             "#fdca26"
            ],
            [
             1,
             "#f0f921"
            ]
           ],
           "sequentialminus": [
            [
             0,
             "#0d0887"
            ],
            [
             0.1111111111111111,
             "#46039f"
            ],
            [
             0.2222222222222222,
             "#7201a8"
            ],
            [
             0.3333333333333333,
             "#9c179e"
            ],
            [
             0.4444444444444444,
             "#bd3786"
            ],
            [
             0.5555555555555556,
             "#d8576b"
            ],
            [
             0.6666666666666666,
             "#ed7953"
            ],
            [
             0.7777777777777778,
             "#fb9f3a"
            ],
            [
             0.8888888888888888,
             "#fdca26"
            ],
            [
             1,
             "#f0f921"
            ]
           ]
          },
          "colorway": [
           "#636efa",
           "#EF553B",
           "#00cc96",
           "#ab63fa",
           "#FFA15A",
           "#19d3f3",
           "#FF6692",
           "#B6E880",
           "#FF97FF",
           "#FECB52"
          ],
          "font": {
           "color": "#2a3f5f"
          },
          "geo": {
           "bgcolor": "white",
           "lakecolor": "white",
           "landcolor": "white",
           "showlakes": true,
           "showland": true,
           "subunitcolor": "#C8D4E3"
          },
          "hoverlabel": {
           "align": "left"
          },
          "hovermode": "closest",
          "mapbox": {
           "style": "light"
          },
          "paper_bgcolor": "white",
          "plot_bgcolor": "white",
          "polar": {
           "angularaxis": {
            "gridcolor": "#EBF0F8",
            "linecolor": "#EBF0F8",
            "ticks": ""
           },
           "bgcolor": "white",
           "radialaxis": {
            "gridcolor": "#EBF0F8",
            "linecolor": "#EBF0F8",
            "ticks": ""
           }
          },
          "scene": {
           "xaxis": {
            "backgroundcolor": "white",
            "gridcolor": "#DFE8F3",
            "gridwidth": 2,
            "linecolor": "#EBF0F8",
            "showbackground": true,
            "ticks": "",
            "zerolinecolor": "#EBF0F8"
           },
           "yaxis": {
            "backgroundcolor": "white",
            "gridcolor": "#DFE8F3",
            "gridwidth": 2,
            "linecolor": "#EBF0F8",
            "showbackground": true,
            "ticks": "",
            "zerolinecolor": "#EBF0F8"
           },
           "zaxis": {
            "backgroundcolor": "white",
            "gridcolor": "#DFE8F3",
            "gridwidth": 2,
            "linecolor": "#EBF0F8",
            "showbackground": true,
            "ticks": "",
            "zerolinecolor": "#EBF0F8"
           }
          },
          "shapedefaults": {
           "line": {
            "color": "#2a3f5f"
           }
          },
          "ternary": {
           "aaxis": {
            "gridcolor": "#DFE8F3",
            "linecolor": "#A2B1C6",
            "ticks": ""
           },
           "baxis": {
            "gridcolor": "#DFE8F3",
            "linecolor": "#A2B1C6",
            "ticks": ""
           },
           "bgcolor": "white",
           "caxis": {
            "gridcolor": "#DFE8F3",
            "linecolor": "#A2B1C6",
            "ticks": ""
           }
          },
          "title": {
           "x": 0.05
          },
          "xaxis": {
           "automargin": true,
           "gridcolor": "#EBF0F8",
           "linecolor": "#EBF0F8",
           "ticks": "",
           "title": {
            "standoff": 15
           },
           "zerolinecolor": "#EBF0F8",
           "zerolinewidth": 2
          },
          "yaxis": {
           "automargin": true,
           "gridcolor": "#EBF0F8",
           "linecolor": "#EBF0F8",
           "ticks": "",
           "title": {
            "standoff": 15
           },
           "zerolinecolor": "#EBF0F8",
           "zerolinewidth": 2
          }
         }
        },
        "title": {
         "text": "📌 Churn Prediction Feature Importances"
        },
        "xaxis": {
         "anchor": "y",
         "domain": [
          0,
          1
         ],
         "title": {
          "text": "Feature"
         }
        },
        "yaxis": {
         "anchor": "x",
         "domain": [
          0,
          1
         ],
         "title": {
          "text": "Importance"
         }
        }
       }
      }
     },
     "metadata": {},
     "output_type": "display_data"
    }
   ],
   "source": [
    "importances = model.feature_importances_\n",
    "feature_names = X.columns\n",
    "\n",
    "fig = px.bar(x=feature_names, y=importances, title='📌 Churn Prediction Feature Importances',\n",
    "             labels={'x': 'Feature', 'y': 'Importance'}, template='plotly_white')\n",
    "\n",
    "fig.show()\n"
   ]
  },
  {
   "cell_type": "code",
   "execution_count": 177,
   "metadata": {},
   "outputs": [],
   "source": [
    "# Predict churn on all customers (not just test set)\n",
    "X_scaled_all = scaler.transform(X[features])\n",
    "customer_kpis['churn_prediction'] = model.predict(X_scaled_all)\n",
    "customer_kpis['churn_probability'] = model.predict_proba(X_scaled_all)[:, 1]  # probability of churn (class=1)\n"
   ]
  },
  {
   "cell_type": "markdown",
   "metadata": {},
   "source": [
    "churn prediction results"
   ]
  },
  {
   "cell_type": "code",
   "execution_count": 178,
   "metadata": {},
   "outputs": [
    {
     "data": {
      "application/vnd.plotly.v1+json": {
       "config": {
        "plotlyServerURL": "https://plot.ly"
       },
       "data": [
        {
         "domain": {
          "x": [
           0,
           1
          ],
          "y": [
           0,
           1
          ]
         },
         "hovertemplate": "status=%{label}<br>count=%{value}<extra></extra>",
         "labels": [
          "Active",
          "Predicted Churned"
         ],
         "legendgroup": "",
         "name": "",
         "showlegend": true,
         "type": "pie",
         "values": {
          "bdata": "UgLHAA==",
          "dtype": "i2"
         }
        }
       ],
       "layout": {
        "legend": {
         "tracegroupgap": 0
        },
        "piecolorway": [
         "rgb(103,0,31)",
         "rgb(178,24,43)",
         "rgb(214,96,77)",
         "rgb(244,165,130)",
         "rgb(253,219,199)",
         "rgb(247,247,247)",
         "rgb(209,229,240)",
         "rgb(146,197,222)",
         "rgb(67,147,195)",
         "rgb(33,102,172)",
         "rgb(5,48,97)"
        ],
        "template": {
         "data": {
          "bar": [
           {
            "error_x": {
             "color": "#2a3f5f"
            },
            "error_y": {
             "color": "#2a3f5f"
            },
            "marker": {
             "line": {
              "color": "#E5ECF6",
              "width": 0.5
             },
             "pattern": {
              "fillmode": "overlay",
              "size": 10,
              "solidity": 0.2
             }
            },
            "type": "bar"
           }
          ],
          "barpolar": [
           {
            "marker": {
             "line": {
              "color": "#E5ECF6",
              "width": 0.5
             },
             "pattern": {
              "fillmode": "overlay",
              "size": 10,
              "solidity": 0.2
             }
            },
            "type": "barpolar"
           }
          ],
          "carpet": [
           {
            "aaxis": {
             "endlinecolor": "#2a3f5f",
             "gridcolor": "white",
             "linecolor": "white",
             "minorgridcolor": "white",
             "startlinecolor": "#2a3f5f"
            },
            "baxis": {
             "endlinecolor": "#2a3f5f",
             "gridcolor": "white",
             "linecolor": "white",
             "minorgridcolor": "white",
             "startlinecolor": "#2a3f5f"
            },
            "type": "carpet"
           }
          ],
          "choropleth": [
           {
            "colorbar": {
             "outlinewidth": 0,
             "ticks": ""
            },
            "type": "choropleth"
           }
          ],
          "contour": [
           {
            "colorbar": {
             "outlinewidth": 0,
             "ticks": ""
            },
            "colorscale": [
             [
              0,
              "#0d0887"
             ],
             [
              0.1111111111111111,
              "#46039f"
             ],
             [
              0.2222222222222222,
              "#7201a8"
             ],
             [
              0.3333333333333333,
              "#9c179e"
             ],
             [
              0.4444444444444444,
              "#bd3786"
             ],
             [
              0.5555555555555556,
              "#d8576b"
             ],
             [
              0.6666666666666666,
              "#ed7953"
             ],
             [
              0.7777777777777778,
              "#fb9f3a"
             ],
             [
              0.8888888888888888,
              "#fdca26"
             ],
             [
              1,
              "#f0f921"
             ]
            ],
            "type": "contour"
           }
          ],
          "contourcarpet": [
           {
            "colorbar": {
             "outlinewidth": 0,
             "ticks": ""
            },
            "type": "contourcarpet"
           }
          ],
          "heatmap": [
           {
            "colorbar": {
             "outlinewidth": 0,
             "ticks": ""
            },
            "colorscale": [
             [
              0,
              "#0d0887"
             ],
             [
              0.1111111111111111,
              "#46039f"
             ],
             [
              0.2222222222222222,
              "#7201a8"
             ],
             [
              0.3333333333333333,
              "#9c179e"
             ],
             [
              0.4444444444444444,
              "#bd3786"
             ],
             [
              0.5555555555555556,
              "#d8576b"
             ],
             [
              0.6666666666666666,
              "#ed7953"
             ],
             [
              0.7777777777777778,
              "#fb9f3a"
             ],
             [
              0.8888888888888888,
              "#fdca26"
             ],
             [
              1,
              "#f0f921"
             ]
            ],
            "type": "heatmap"
           }
          ],
          "histogram": [
           {
            "marker": {
             "pattern": {
              "fillmode": "overlay",
              "size": 10,
              "solidity": 0.2
             }
            },
            "type": "histogram"
           }
          ],
          "histogram2d": [
           {
            "colorbar": {
             "outlinewidth": 0,
             "ticks": ""
            },
            "colorscale": [
             [
              0,
              "#0d0887"
             ],
             [
              0.1111111111111111,
              "#46039f"
             ],
             [
              0.2222222222222222,
              "#7201a8"
             ],
             [
              0.3333333333333333,
              "#9c179e"
             ],
             [
              0.4444444444444444,
              "#bd3786"
             ],
             [
              0.5555555555555556,
              "#d8576b"
             ],
             [
              0.6666666666666666,
              "#ed7953"
             ],
             [
              0.7777777777777778,
              "#fb9f3a"
             ],
             [
              0.8888888888888888,
              "#fdca26"
             ],
             [
              1,
              "#f0f921"
             ]
            ],
            "type": "histogram2d"
           }
          ],
          "histogram2dcontour": [
           {
            "colorbar": {
             "outlinewidth": 0,
             "ticks": ""
            },
            "colorscale": [
             [
              0,
              "#0d0887"
             ],
             [
              0.1111111111111111,
              "#46039f"
             ],
             [
              0.2222222222222222,
              "#7201a8"
             ],
             [
              0.3333333333333333,
              "#9c179e"
             ],
             [
              0.4444444444444444,
              "#bd3786"
             ],
             [
              0.5555555555555556,
              "#d8576b"
             ],
             [
              0.6666666666666666,
              "#ed7953"
             ],
             [
              0.7777777777777778,
              "#fb9f3a"
             ],
             [
              0.8888888888888888,
              "#fdca26"
             ],
             [
              1,
              "#f0f921"
             ]
            ],
            "type": "histogram2dcontour"
           }
          ],
          "mesh3d": [
           {
            "colorbar": {
             "outlinewidth": 0,
             "ticks": ""
            },
            "type": "mesh3d"
           }
          ],
          "parcoords": [
           {
            "line": {
             "colorbar": {
              "outlinewidth": 0,
              "ticks": ""
             }
            },
            "type": "parcoords"
           }
          ],
          "pie": [
           {
            "automargin": true,
            "type": "pie"
           }
          ],
          "scatter": [
           {
            "fillpattern": {
             "fillmode": "overlay",
             "size": 10,
             "solidity": 0.2
            },
            "type": "scatter"
           }
          ],
          "scatter3d": [
           {
            "line": {
             "colorbar": {
              "outlinewidth": 0,
              "ticks": ""
             }
            },
            "marker": {
             "colorbar": {
              "outlinewidth": 0,
              "ticks": ""
             }
            },
            "type": "scatter3d"
           }
          ],
          "scattercarpet": [
           {
            "marker": {
             "colorbar": {
              "outlinewidth": 0,
              "ticks": ""
             }
            },
            "type": "scattercarpet"
           }
          ],
          "scattergeo": [
           {
            "marker": {
             "colorbar": {
              "outlinewidth": 0,
              "ticks": ""
             }
            },
            "type": "scattergeo"
           }
          ],
          "scattergl": [
           {
            "marker": {
             "colorbar": {
              "outlinewidth": 0,
              "ticks": ""
             }
            },
            "type": "scattergl"
           }
          ],
          "scattermap": [
           {
            "marker": {
             "colorbar": {
              "outlinewidth": 0,
              "ticks": ""
             }
            },
            "type": "scattermap"
           }
          ],
          "scattermapbox": [
           {
            "marker": {
             "colorbar": {
              "outlinewidth": 0,
              "ticks": ""
             }
            },
            "type": "scattermapbox"
           }
          ],
          "scatterpolar": [
           {
            "marker": {
             "colorbar": {
              "outlinewidth": 0,
              "ticks": ""
             }
            },
            "type": "scatterpolar"
           }
          ],
          "scatterpolargl": [
           {
            "marker": {
             "colorbar": {
              "outlinewidth": 0,
              "ticks": ""
             }
            },
            "type": "scatterpolargl"
           }
          ],
          "scatterternary": [
           {
            "marker": {
             "colorbar": {
              "outlinewidth": 0,
              "ticks": ""
             }
            },
            "type": "scatterternary"
           }
          ],
          "surface": [
           {
            "colorbar": {
             "outlinewidth": 0,
             "ticks": ""
            },
            "colorscale": [
             [
              0,
              "#0d0887"
             ],
             [
              0.1111111111111111,
              "#46039f"
             ],
             [
              0.2222222222222222,
              "#7201a8"
             ],
             [
              0.3333333333333333,
              "#9c179e"
             ],
             [
              0.4444444444444444,
              "#bd3786"
             ],
             [
              0.5555555555555556,
              "#d8576b"
             ],
             [
              0.6666666666666666,
              "#ed7953"
             ],
             [
              0.7777777777777778,
              "#fb9f3a"
             ],
             [
              0.8888888888888888,
              "#fdca26"
             ],
             [
              1,
              "#f0f921"
             ]
            ],
            "type": "surface"
           }
          ],
          "table": [
           {
            "cells": {
             "fill": {
              "color": "#EBF0F8"
             },
             "line": {
              "color": "white"
             }
            },
            "header": {
             "fill": {
              "color": "#C8D4E3"
             },
             "line": {
              "color": "white"
             }
            },
            "type": "table"
           }
          ]
         },
         "layout": {
          "annotationdefaults": {
           "arrowcolor": "#2a3f5f",
           "arrowhead": 0,
           "arrowwidth": 1
          },
          "autotypenumbers": "strict",
          "coloraxis": {
           "colorbar": {
            "outlinewidth": 0,
            "ticks": ""
           }
          },
          "colorscale": {
           "diverging": [
            [
             0,
             "#8e0152"
            ],
            [
             0.1,
             "#c51b7d"
            ],
            [
             0.2,
             "#de77ae"
            ],
            [
             0.3,
             "#f1b6da"
            ],
            [
             0.4,
             "#fde0ef"
            ],
            [
             0.5,
             "#f7f7f7"
            ],
            [
             0.6,
             "#e6f5d0"
            ],
            [
             0.7,
             "#b8e186"
            ],
            [
             0.8,
             "#7fbc41"
            ],
            [
             0.9,
             "#4d9221"
            ],
            [
             1,
             "#276419"
            ]
           ],
           "sequential": [
            [
             0,
             "#0d0887"
            ],
            [
             0.1111111111111111,
             "#46039f"
            ],
            [
             0.2222222222222222,
             "#7201a8"
            ],
            [
             0.3333333333333333,
             "#9c179e"
            ],
            [
             0.4444444444444444,
             "#bd3786"
            ],
            [
             0.5555555555555556,
             "#d8576b"
            ],
            [
             0.6666666666666666,
             "#ed7953"
            ],
            [
             0.7777777777777778,
             "#fb9f3a"
            ],
            [
             0.8888888888888888,
             "#fdca26"
            ],
            [
             1,
             "#f0f921"
            ]
           ],
           "sequentialminus": [
            [
             0,
             "#0d0887"
            ],
            [
             0.1111111111111111,
             "#46039f"
            ],
            [
             0.2222222222222222,
             "#7201a8"
            ],
            [
             0.3333333333333333,
             "#9c179e"
            ],
            [
             0.4444444444444444,
             "#bd3786"
            ],
            [
             0.5555555555555556,
             "#d8576b"
            ],
            [
             0.6666666666666666,
             "#ed7953"
            ],
            [
             0.7777777777777778,
             "#fb9f3a"
            ],
            [
             0.8888888888888888,
             "#fdca26"
            ],
            [
             1,
             "#f0f921"
            ]
           ]
          },
          "colorway": [
           "#636efa",
           "#EF553B",
           "#00cc96",
           "#ab63fa",
           "#FFA15A",
           "#19d3f3",
           "#FF6692",
           "#B6E880",
           "#FF97FF",
           "#FECB52"
          ],
          "font": {
           "color": "#2a3f5f"
          },
          "geo": {
           "bgcolor": "white",
           "lakecolor": "white",
           "landcolor": "#E5ECF6",
           "showlakes": true,
           "showland": true,
           "subunitcolor": "white"
          },
          "hoverlabel": {
           "align": "left"
          },
          "hovermode": "closest",
          "mapbox": {
           "style": "light"
          },
          "paper_bgcolor": "white",
          "plot_bgcolor": "#E5ECF6",
          "polar": {
           "angularaxis": {
            "gridcolor": "white",
            "linecolor": "white",
            "ticks": ""
           },
           "bgcolor": "#E5ECF6",
           "radialaxis": {
            "gridcolor": "white",
            "linecolor": "white",
            "ticks": ""
           }
          },
          "scene": {
           "xaxis": {
            "backgroundcolor": "#E5ECF6",
            "gridcolor": "white",
            "gridwidth": 2,
            "linecolor": "white",
            "showbackground": true,
            "ticks": "",
            "zerolinecolor": "white"
           },
           "yaxis": {
            "backgroundcolor": "#E5ECF6",
            "gridcolor": "white",
            "gridwidth": 2,
            "linecolor": "white",
            "showbackground": true,
            "ticks": "",
            "zerolinecolor": "white"
           },
           "zaxis": {
            "backgroundcolor": "#E5ECF6",
            "gridcolor": "white",
            "gridwidth": 2,
            "linecolor": "white",
            "showbackground": true,
            "ticks": "",
            "zerolinecolor": "white"
           }
          },
          "shapedefaults": {
           "line": {
            "color": "#2a3f5f"
           }
          },
          "ternary": {
           "aaxis": {
            "gridcolor": "white",
            "linecolor": "white",
            "ticks": ""
           },
           "baxis": {
            "gridcolor": "white",
            "linecolor": "white",
            "ticks": ""
           },
           "bgcolor": "#E5ECF6",
           "caxis": {
            "gridcolor": "white",
            "linecolor": "white",
            "ticks": ""
           }
          },
          "title": {
           "x": 0.05
          },
          "xaxis": {
           "automargin": true,
           "gridcolor": "white",
           "linecolor": "white",
           "ticks": "",
           "title": {
            "standoff": 15
           },
           "zerolinecolor": "white",
           "zerolinewidth": 2
          },
          "yaxis": {
           "automargin": true,
           "gridcolor": "white",
           "linecolor": "white",
           "ticks": "",
           "title": {
            "standoff": 15
           },
           "zerolinecolor": "white",
           "zerolinewidth": 2
          }
         }
        },
        "title": {
         "text": "🔁 Predicted Customer Churn Distribution"
        }
       }
      }
     },
     "metadata": {},
     "output_type": "display_data"
    }
   ],
   "source": [
    "# Prediction counts\n",
    "pred_counts = customer_kpis['churn_prediction'].value_counts().rename({0: 'Active', 1: 'Predicted Churned'}).reset_index()\n",
    "pred_counts.columns = ['status', 'count']\n",
    "\n",
    "fig = px.pie(pred_counts, names='status', values='count',\n",
    "             title='🔁 Predicted Customer Churn Distribution',\n",
    "             color_discrete_sequence=px.colors.sequential.RdBu)\n",
    "\n",
    "fig.show()\n"
   ]
  },
  {
   "cell_type": "markdown",
   "metadata": {},
   "source": [
    "Top 20 Customers Likely to Churn (Highest Risk)"
   ]
  },
  {
   "cell_type": "code",
   "execution_count": 179,
   "metadata": {},
   "outputs": [
    {
     "data": {
      "application/vnd.plotly.v1+json": {
       "config": {
        "plotlyServerURL": "https://plot.ly"
       },
       "data": [
        {
         "hovertemplate": "Customer=%{x}<br>Churn Risk=%{marker.color}<extra></extra>",
         "legendgroup": "",
         "marker": {
          "color": {
           "bdata": "AAAAAAAA8D8AAAAAAADwPwAAAAAAAPA/AAAAAAAA8D8AAAAAAADwPwAAAAAAAPA/AAAAAAAA8D8AAAAAAADwPwAAAAAAAPA/AAAAAAAA8D8AAAAAAADwPwAAAAAAAPA/AAAAAAAA8D8AAAAAAADwPwAAAAAAAPA/AAAAAAAA8D8AAAAAAADwPwAAAAAAAPA/AAAAAAAA8D8AAAAAAADwPw==",
           "dtype": "f8"
          },
          "coloraxis": "coloraxis",
          "pattern": {
           "shape": ""
          }
         },
         "name": "",
         "orientation": "v",
         "showlegend": false,
         "textposition": "auto",
         "texttemplate": "%{y:.2s}",
         "type": "bar",
         "x": [
          "AH-10465",
          "ZD-21925",
          "AH-10690",
          "VT-21700",
          "SS-20515",
          "TH-21100",
          "SW-20755",
          "RE-19405",
          "SJ-20500",
          "TG-21310",
          "TB-21595",
          "SC-20260",
          "ON-18715",
          "NM-18520",
          "PC-19000",
          "RC-19825",
          "NR-18550",
          "SB-20170",
          "RM-19750",
          "RP-19270"
         ],
         "xaxis": "x",
         "y": {
          "bdata": "AAAAAAAA8D8AAAAAAADwPwAAAAAAAPA/AAAAAAAA8D8AAAAAAADwPwAAAAAAAPA/AAAAAAAA8D8AAAAAAADwPwAAAAAAAPA/AAAAAAAA8D8AAAAAAADwPwAAAAAAAPA/AAAAAAAA8D8AAAAAAADwPwAAAAAAAPA/AAAAAAAA8D8AAAAAAADwPwAAAAAAAPA/AAAAAAAA8D8AAAAAAADwPw==",
          "dtype": "f8"
         },
         "yaxis": "y"
        }
       ],
       "layout": {
        "barmode": "relative",
        "coloraxis": {
         "colorbar": {
          "title": {
           "text": "Churn Risk"
          }
         },
         "colorscale": [
          [
           0,
           "rgb(255,245,240)"
          ],
          [
           0.125,
           "rgb(254,224,210)"
          ],
          [
           0.25,
           "rgb(252,187,161)"
          ],
          [
           0.375,
           "rgb(252,146,114)"
          ],
          [
           0.5,
           "rgb(251,106,74)"
          ],
          [
           0.625,
           "rgb(239,59,44)"
          ],
          [
           0.75,
           "rgb(203,24,29)"
          ],
          [
           0.875,
           "rgb(165,15,21)"
          ],
          [
           1,
           "rgb(103,0,13)"
          ]
         ]
        },
        "legend": {
         "tracegroupgap": 0
        },
        "template": {
         "data": {
          "bar": [
           {
            "error_x": {
             "color": "#2a3f5f"
            },
            "error_y": {
             "color": "#2a3f5f"
            },
            "marker": {
             "line": {
              "color": "white",
              "width": 0.5
             },
             "pattern": {
              "fillmode": "overlay",
              "size": 10,
              "solidity": 0.2
             }
            },
            "type": "bar"
           }
          ],
          "barpolar": [
           {
            "marker": {
             "line": {
              "color": "white",
              "width": 0.5
             },
             "pattern": {
              "fillmode": "overlay",
              "size": 10,
              "solidity": 0.2
             }
            },
            "type": "barpolar"
           }
          ],
          "carpet": [
           {
            "aaxis": {
             "endlinecolor": "#2a3f5f",
             "gridcolor": "#C8D4E3",
             "linecolor": "#C8D4E3",
             "minorgridcolor": "#C8D4E3",
             "startlinecolor": "#2a3f5f"
            },
            "baxis": {
             "endlinecolor": "#2a3f5f",
             "gridcolor": "#C8D4E3",
             "linecolor": "#C8D4E3",
             "minorgridcolor": "#C8D4E3",
             "startlinecolor": "#2a3f5f"
            },
            "type": "carpet"
           }
          ],
          "choropleth": [
           {
            "colorbar": {
             "outlinewidth": 0,
             "ticks": ""
            },
            "type": "choropleth"
           }
          ],
          "contour": [
           {
            "colorbar": {
             "outlinewidth": 0,
             "ticks": ""
            },
            "colorscale": [
             [
              0,
              "#0d0887"
             ],
             [
              0.1111111111111111,
              "#46039f"
             ],
             [
              0.2222222222222222,
              "#7201a8"
             ],
             [
              0.3333333333333333,
              "#9c179e"
             ],
             [
              0.4444444444444444,
              "#bd3786"
             ],
             [
              0.5555555555555556,
              "#d8576b"
             ],
             [
              0.6666666666666666,
              "#ed7953"
             ],
             [
              0.7777777777777778,
              "#fb9f3a"
             ],
             [
              0.8888888888888888,
              "#fdca26"
             ],
             [
              1,
              "#f0f921"
             ]
            ],
            "type": "contour"
           }
          ],
          "contourcarpet": [
           {
            "colorbar": {
             "outlinewidth": 0,
             "ticks": ""
            },
            "type": "contourcarpet"
           }
          ],
          "heatmap": [
           {
            "colorbar": {
             "outlinewidth": 0,
             "ticks": ""
            },
            "colorscale": [
             [
              0,
              "#0d0887"
             ],
             [
              0.1111111111111111,
              "#46039f"
             ],
             [
              0.2222222222222222,
              "#7201a8"
             ],
             [
              0.3333333333333333,
              "#9c179e"
             ],
             [
              0.4444444444444444,
              "#bd3786"
             ],
             [
              0.5555555555555556,
              "#d8576b"
             ],
             [
              0.6666666666666666,
              "#ed7953"
             ],
             [
              0.7777777777777778,
              "#fb9f3a"
             ],
             [
              0.8888888888888888,
              "#fdca26"
             ],
             [
              1,
              "#f0f921"
             ]
            ],
            "type": "heatmap"
           }
          ],
          "histogram": [
           {
            "marker": {
             "pattern": {
              "fillmode": "overlay",
              "size": 10,
              "solidity": 0.2
             }
            },
            "type": "histogram"
           }
          ],
          "histogram2d": [
           {
            "colorbar": {
             "outlinewidth": 0,
             "ticks": ""
            },
            "colorscale": [
             [
              0,
              "#0d0887"
             ],
             [
              0.1111111111111111,
              "#46039f"
             ],
             [
              0.2222222222222222,
              "#7201a8"
             ],
             [
              0.3333333333333333,
              "#9c179e"
             ],
             [
              0.4444444444444444,
              "#bd3786"
             ],
             [
              0.5555555555555556,
              "#d8576b"
             ],
             [
              0.6666666666666666,
              "#ed7953"
             ],
             [
              0.7777777777777778,
              "#fb9f3a"
             ],
             [
              0.8888888888888888,
              "#fdca26"
             ],
             [
              1,
              "#f0f921"
             ]
            ],
            "type": "histogram2d"
           }
          ],
          "histogram2dcontour": [
           {
            "colorbar": {
             "outlinewidth": 0,
             "ticks": ""
            },
            "colorscale": [
             [
              0,
              "#0d0887"
             ],
             [
              0.1111111111111111,
              "#46039f"
             ],
             [
              0.2222222222222222,
              "#7201a8"
             ],
             [
              0.3333333333333333,
              "#9c179e"
             ],
             [
              0.4444444444444444,
              "#bd3786"
             ],
             [
              0.5555555555555556,
              "#d8576b"
             ],
             [
              0.6666666666666666,
              "#ed7953"
             ],
             [
              0.7777777777777778,
              "#fb9f3a"
             ],
             [
              0.8888888888888888,
              "#fdca26"
             ],
             [
              1,
              "#f0f921"
             ]
            ],
            "type": "histogram2dcontour"
           }
          ],
          "mesh3d": [
           {
            "colorbar": {
             "outlinewidth": 0,
             "ticks": ""
            },
            "type": "mesh3d"
           }
          ],
          "parcoords": [
           {
            "line": {
             "colorbar": {
              "outlinewidth": 0,
              "ticks": ""
             }
            },
            "type": "parcoords"
           }
          ],
          "pie": [
           {
            "automargin": true,
            "type": "pie"
           }
          ],
          "scatter": [
           {
            "fillpattern": {
             "fillmode": "overlay",
             "size": 10,
             "solidity": 0.2
            },
            "type": "scatter"
           }
          ],
          "scatter3d": [
           {
            "line": {
             "colorbar": {
              "outlinewidth": 0,
              "ticks": ""
             }
            },
            "marker": {
             "colorbar": {
              "outlinewidth": 0,
              "ticks": ""
             }
            },
            "type": "scatter3d"
           }
          ],
          "scattercarpet": [
           {
            "marker": {
             "colorbar": {
              "outlinewidth": 0,
              "ticks": ""
             }
            },
            "type": "scattercarpet"
           }
          ],
          "scattergeo": [
           {
            "marker": {
             "colorbar": {
              "outlinewidth": 0,
              "ticks": ""
             }
            },
            "type": "scattergeo"
           }
          ],
          "scattergl": [
           {
            "marker": {
             "colorbar": {
              "outlinewidth": 0,
              "ticks": ""
             }
            },
            "type": "scattergl"
           }
          ],
          "scattermap": [
           {
            "marker": {
             "colorbar": {
              "outlinewidth": 0,
              "ticks": ""
             }
            },
            "type": "scattermap"
           }
          ],
          "scattermapbox": [
           {
            "marker": {
             "colorbar": {
              "outlinewidth": 0,
              "ticks": ""
             }
            },
            "type": "scattermapbox"
           }
          ],
          "scatterpolar": [
           {
            "marker": {
             "colorbar": {
              "outlinewidth": 0,
              "ticks": ""
             }
            },
            "type": "scatterpolar"
           }
          ],
          "scatterpolargl": [
           {
            "marker": {
             "colorbar": {
              "outlinewidth": 0,
              "ticks": ""
             }
            },
            "type": "scatterpolargl"
           }
          ],
          "scatterternary": [
           {
            "marker": {
             "colorbar": {
              "outlinewidth": 0,
              "ticks": ""
             }
            },
            "type": "scatterternary"
           }
          ],
          "surface": [
           {
            "colorbar": {
             "outlinewidth": 0,
             "ticks": ""
            },
            "colorscale": [
             [
              0,
              "#0d0887"
             ],
             [
              0.1111111111111111,
              "#46039f"
             ],
             [
              0.2222222222222222,
              "#7201a8"
             ],
             [
              0.3333333333333333,
              "#9c179e"
             ],
             [
              0.4444444444444444,
              "#bd3786"
             ],
             [
              0.5555555555555556,
              "#d8576b"
             ],
             [
              0.6666666666666666,
              "#ed7953"
             ],
             [
              0.7777777777777778,
              "#fb9f3a"
             ],
             [
              0.8888888888888888,
              "#fdca26"
             ],
             [
              1,
              "#f0f921"
             ]
            ],
            "type": "surface"
           }
          ],
          "table": [
           {
            "cells": {
             "fill": {
              "color": "#EBF0F8"
             },
             "line": {
              "color": "white"
             }
            },
            "header": {
             "fill": {
              "color": "#C8D4E3"
             },
             "line": {
              "color": "white"
             }
            },
            "type": "table"
           }
          ]
         },
         "layout": {
          "annotationdefaults": {
           "arrowcolor": "#2a3f5f",
           "arrowhead": 0,
           "arrowwidth": 1
          },
          "autotypenumbers": "strict",
          "coloraxis": {
           "colorbar": {
            "outlinewidth": 0,
            "ticks": ""
           }
          },
          "colorscale": {
           "diverging": [
            [
             0,
             "#8e0152"
            ],
            [
             0.1,
             "#c51b7d"
            ],
            [
             0.2,
             "#de77ae"
            ],
            [
             0.3,
             "#f1b6da"
            ],
            [
             0.4,
             "#fde0ef"
            ],
            [
             0.5,
             "#f7f7f7"
            ],
            [
             0.6,
             "#e6f5d0"
            ],
            [
             0.7,
             "#b8e186"
            ],
            [
             0.8,
             "#7fbc41"
            ],
            [
             0.9,
             "#4d9221"
            ],
            [
             1,
             "#276419"
            ]
           ],
           "sequential": [
            [
             0,
             "#0d0887"
            ],
            [
             0.1111111111111111,
             "#46039f"
            ],
            [
             0.2222222222222222,
             "#7201a8"
            ],
            [
             0.3333333333333333,
             "#9c179e"
            ],
            [
             0.4444444444444444,
             "#bd3786"
            ],
            [
             0.5555555555555556,
             "#d8576b"
            ],
            [
             0.6666666666666666,
             "#ed7953"
            ],
            [
             0.7777777777777778,
             "#fb9f3a"
            ],
            [
             0.8888888888888888,
             "#fdca26"
            ],
            [
             1,
             "#f0f921"
            ]
           ],
           "sequentialminus": [
            [
             0,
             "#0d0887"
            ],
            [
             0.1111111111111111,
             "#46039f"
            ],
            [
             0.2222222222222222,
             "#7201a8"
            ],
            [
             0.3333333333333333,
             "#9c179e"
            ],
            [
             0.4444444444444444,
             "#bd3786"
            ],
            [
             0.5555555555555556,
             "#d8576b"
            ],
            [
             0.6666666666666666,
             "#ed7953"
            ],
            [
             0.7777777777777778,
             "#fb9f3a"
            ],
            [
             0.8888888888888888,
             "#fdca26"
            ],
            [
             1,
             "#f0f921"
            ]
           ]
          },
          "colorway": [
           "#636efa",
           "#EF553B",
           "#00cc96",
           "#ab63fa",
           "#FFA15A",
           "#19d3f3",
           "#FF6692",
           "#B6E880",
           "#FF97FF",
           "#FECB52"
          ],
          "font": {
           "color": "#2a3f5f"
          },
          "geo": {
           "bgcolor": "white",
           "lakecolor": "white",
           "landcolor": "white",
           "showlakes": true,
           "showland": true,
           "subunitcolor": "#C8D4E3"
          },
          "hoverlabel": {
           "align": "left"
          },
          "hovermode": "closest",
          "mapbox": {
           "style": "light"
          },
          "paper_bgcolor": "white",
          "plot_bgcolor": "white",
          "polar": {
           "angularaxis": {
            "gridcolor": "#EBF0F8",
            "linecolor": "#EBF0F8",
            "ticks": ""
           },
           "bgcolor": "white",
           "radialaxis": {
            "gridcolor": "#EBF0F8",
            "linecolor": "#EBF0F8",
            "ticks": ""
           }
          },
          "scene": {
           "xaxis": {
            "backgroundcolor": "white",
            "gridcolor": "#DFE8F3",
            "gridwidth": 2,
            "linecolor": "#EBF0F8",
            "showbackground": true,
            "ticks": "",
            "zerolinecolor": "#EBF0F8"
           },
           "yaxis": {
            "backgroundcolor": "white",
            "gridcolor": "#DFE8F3",
            "gridwidth": 2,
            "linecolor": "#EBF0F8",
            "showbackground": true,
            "ticks": "",
            "zerolinecolor": "#EBF0F8"
           },
           "zaxis": {
            "backgroundcolor": "white",
            "gridcolor": "#DFE8F3",
            "gridwidth": 2,
            "linecolor": "#EBF0F8",
            "showbackground": true,
            "ticks": "",
            "zerolinecolor": "#EBF0F8"
           }
          },
          "shapedefaults": {
           "line": {
            "color": "#2a3f5f"
           }
          },
          "ternary": {
           "aaxis": {
            "gridcolor": "#DFE8F3",
            "linecolor": "#A2B1C6",
            "ticks": ""
           },
           "baxis": {
            "gridcolor": "#DFE8F3",
            "linecolor": "#A2B1C6",
            "ticks": ""
           },
           "bgcolor": "white",
           "caxis": {
            "gridcolor": "#DFE8F3",
            "linecolor": "#A2B1C6",
            "ticks": ""
           }
          },
          "title": {
           "x": 0.05
          },
          "xaxis": {
           "automargin": true,
           "gridcolor": "#EBF0F8",
           "linecolor": "#EBF0F8",
           "ticks": "",
           "title": {
            "standoff": 15
           },
           "zerolinecolor": "#EBF0F8",
           "zerolinewidth": 2
          },
          "yaxis": {
           "automargin": true,
           "gridcolor": "#EBF0F8",
           "linecolor": "#EBF0F8",
           "ticks": "",
           "title": {
            "standoff": 15
           },
           "zerolinecolor": "#EBF0F8",
           "zerolinewidth": 2
          }
         }
        },
        "title": {
         "text": "⚠️ Top 20 Customers Most Likely to Churn"
        },
        "xaxis": {
         "anchor": "y",
         "domain": [
          0,
          1
         ],
         "tickangle": -45,
         "title": {
          "text": "Customer"
         }
        },
        "yaxis": {
         "anchor": "x",
         "domain": [
          0,
          1
         ],
         "title": {
          "text": "Churn Risk"
         }
        }
       }
      }
     },
     "metadata": {},
     "output_type": "display_data"
    }
   ],
   "source": [
    "top_risk_customers = customer_kpis.sort_values(by='churn_probability', ascending=False).head(20)\n",
    "\n",
    "fig = px.bar(top_risk_customers, \n",
    "             x='customer_id', y='churn_probability',\n",
    "             color='churn_probability', color_continuous_scale='reds',\n",
    "             title='⚠️ Top 20 Customers Most Likely to Churn',\n",
    "             labels={'customer_id': 'Customer', 'churn_probability': 'Churn Risk'},\n",
    "             template='plotly_white', text_auto='.2s')\n",
    "\n",
    "fig.update_layout(xaxis_tickangle=-45)\n",
    "fig.show()\n"
   ]
  },
  {
   "cell_type": "code",
   "execution_count": 180,
   "metadata": {},
   "outputs": [
    {
     "data": {
      "text/plain": [
       "'# Save the predictions\\ncustomer_kpis[[\\'customer_id\\', \\'cltv\\', \\'avg_order_value\\', \\'days_since_last_order\\',\\n               \\'likely_churned\\', \\'churn_prediction\\', \\'churn_probability\\']].to_csv(\\'churn_predictions.csv\\', index=False)\\n\\nprint(\"✅ Exported churn_predictions.csv\")\\n\\n'"
      ]
     },
     "execution_count": 180,
     "metadata": {},
     "output_type": "execute_result"
    }
   ],
   "source": [
    "'''# Save the predictions\n",
    "customer_kpis[['customer_id', 'cltv', 'avg_order_value', 'days_since_last_order',\n",
    "               'likely_churned', 'churn_prediction', 'churn_probability']].to_csv('churn_predictions.csv', index=False)\n",
    "\n",
    "print(\"✅ Exported churn_predictions.csv\")\n",
    "\n",
    "'''"
   ]
  },
  {
   "cell_type": "markdown",
   "metadata": {},
   "source": [
    "# Anomaly Detection in Business Metrics"
   ]
  },
  {
   "cell_type": "markdown",
   "metadata": {},
   "source": [
    "Detect Anomalies in Monthly Revenue using IQR"
   ]
  },
  {
   "cell_type": "code",
   "execution_count": 181,
   "metadata": {},
   "outputs": [
    {
     "name": "stderr",
     "output_type": "stream",
     "text": [
      "C:\\Users\\Saurav Kumar\\AppData\\Local\\Temp\\ipykernel_6548\\3616844462.py:2: FutureWarning:\n",
      "\n",
      "'M' is deprecated and will be removed in a future version, please use 'ME' instead.\n",
      "\n"
     ]
    }
   ],
   "source": [
    "# Monthly Revenue\n",
    "monthly_revenue = df.groupby(pd.Grouper(key='order_date', freq='M'))['sales'].sum().reset_index()\n",
    "monthly_revenue.columns = ['month', 'revenue']\n",
    "\n",
    "# Calculate IQR\n",
    "Q1 = monthly_revenue['revenue'].quantile(0.25)\n",
    "Q3 = monthly_revenue['revenue'].quantile(0.75)\n",
    "IQR = Q3 - Q1\n",
    "\n",
    "# Define bounds\n",
    "lower_bound = Q1 - 1.5 * IQR\n",
    "upper_bound = Q3 + 1.5 * IQR\n",
    "\n",
    "# Flag anomalies\n",
    "monthly_revenue['anomaly'] = monthly_revenue['revenue'].apply(lambda x: 'Anomaly' if (x < lower_bound or x > upper_bound) else 'Normal')\n"
   ]
  },
  {
   "cell_type": "markdown",
   "metadata": {},
   "source": [
    "Visualize Revenue Anomalies"
   ]
  },
  {
   "cell_type": "code",
   "execution_count": 182,
   "metadata": {},
   "outputs": [
    {
     "data": {
      "application/vnd.plotly.v1+json": {
       "config": {
        "plotlyServerURL": "https://plot.ly"
       },
       "data": [
        {
         "hovertemplate": "anomaly=Normal<br>month=%{x}<br>revenue=%{y}<extra></extra>",
         "legendgroup": "Normal",
         "marker": {
          "color": "blue",
          "symbol": "circle"
         },
         "mode": "markers",
         "name": "Normal",
         "orientation": "v",
         "showlegend": true,
         "type": "scatter",
         "x": [
          "2014-01-31T00:00:00.000000000",
          "2014-02-28T00:00:00.000000000",
          "2014-03-31T00:00:00.000000000",
          "2014-04-30T00:00:00.000000000",
          "2014-05-31T00:00:00.000000000",
          "2014-06-30T00:00:00.000000000",
          "2014-07-31T00:00:00.000000000",
          "2014-08-31T00:00:00.000000000",
          "2014-09-30T00:00:00.000000000",
          "2014-10-31T00:00:00.000000000",
          "2014-11-30T00:00:00.000000000",
          "2014-12-31T00:00:00.000000000",
          "2015-01-31T00:00:00.000000000",
          "2015-02-28T00:00:00.000000000",
          "2015-03-31T00:00:00.000000000",
          "2015-04-30T00:00:00.000000000",
          "2015-05-31T00:00:00.000000000",
          "2015-06-30T00:00:00.000000000",
          "2015-07-31T00:00:00.000000000",
          "2015-08-31T00:00:00.000000000",
          "2015-09-30T00:00:00.000000000",
          "2015-10-31T00:00:00.000000000",
          "2015-11-30T00:00:00.000000000",
          "2015-12-31T00:00:00.000000000",
          "2016-01-31T00:00:00.000000000",
          "2016-02-29T00:00:00.000000000",
          "2016-03-31T00:00:00.000000000",
          "2016-04-30T00:00:00.000000000",
          "2016-05-31T00:00:00.000000000",
          "2016-06-30T00:00:00.000000000",
          "2016-07-31T00:00:00.000000000",
          "2016-08-31T00:00:00.000000000",
          "2016-09-30T00:00:00.000000000",
          "2016-10-31T00:00:00.000000000",
          "2016-11-30T00:00:00.000000000",
          "2016-12-31T00:00:00.000000000",
          "2017-01-31T00:00:00.000000000",
          "2017-02-28T00:00:00.000000000",
          "2017-03-31T00:00:00.000000000",
          "2017-04-30T00:00:00.000000000",
          "2017-05-31T00:00:00.000000000",
          "2017-06-30T00:00:00.000000000",
          "2017-07-31T00:00:00.000000000",
          "2017-08-31T00:00:00.000000000",
          "2017-09-30T00:00:00.000000000",
          "2017-10-31T00:00:00.000000000",
          "2017-11-30T00:00:00.000000000",
          "2017-12-31T00:00:00.000000000"
         ],
         "xaxis": "x",
         "y": {
          "bdata": "9ihcj3LOy0AIrBxa5KexQDVeuklgMetASOF6FNah20B9PzVeEhjXQF+YTBVk5OBAarx0k0yT4ECLbOf7XUHbQPd14JwV9/NA1XjpJlm33kBRa5p3SzLzQHNoke2Z+vBA5WGh1oS/0UBU46WbtFfHQNNNYhDI6OJAJzEIrGay4EAtsp3v62zdQJzEILBSN9hAzczMzFQX3ED35GGhSgTiQDeJQWB9iu9Ad76fGjur3kB1kxgESYzyQKvP1VZ4SvJAlUOLbJ8b0kCQwvUotHDWQAAAAAB8QOlAke18P8Hr4kDwp8ZLd9PrQAIrhxYRs+NAQmDl0L4r40C5/If012LeQNuK/WUg7PFAcT0K1/ck7UBos+pzP2PzQJzEILBwrvdAF9nO92t45UBSJ6CJSNPTQME5I0oLv+xA7C+7JzHV4UCBJsKGo5zlQNc07zi33ulAZDvfTw0a5kDb+X5qHNLuQFCNl26qc/VA+1xtxQ798kAzMzMz/er8QF8HzhlVd/RA",
          "dtype": "f8"
         },
         "yaxis": "y"
        },
        {
         "line": {
          "color": "gray"
         },
         "mode": "lines",
         "name": "Revenue",
         "type": "scatter",
         "x": [
          "2014-01-31T00:00:00.000000000",
          "2014-02-28T00:00:00.000000000",
          "2014-03-31T00:00:00.000000000",
          "2014-04-30T00:00:00.000000000",
          "2014-05-31T00:00:00.000000000",
          "2014-06-30T00:00:00.000000000",
          "2014-07-31T00:00:00.000000000",
          "2014-08-31T00:00:00.000000000",
          "2014-09-30T00:00:00.000000000",
          "2014-10-31T00:00:00.000000000",
          "2014-11-30T00:00:00.000000000",
          "2014-12-31T00:00:00.000000000",
          "2015-01-31T00:00:00.000000000",
          "2015-02-28T00:00:00.000000000",
          "2015-03-31T00:00:00.000000000",
          "2015-04-30T00:00:00.000000000",
          "2015-05-31T00:00:00.000000000",
          "2015-06-30T00:00:00.000000000",
          "2015-07-31T00:00:00.000000000",
          "2015-08-31T00:00:00.000000000",
          "2015-09-30T00:00:00.000000000",
          "2015-10-31T00:00:00.000000000",
          "2015-11-30T00:00:00.000000000",
          "2015-12-31T00:00:00.000000000",
          "2016-01-31T00:00:00.000000000",
          "2016-02-29T00:00:00.000000000",
          "2016-03-31T00:00:00.000000000",
          "2016-04-30T00:00:00.000000000",
          "2016-05-31T00:00:00.000000000",
          "2016-06-30T00:00:00.000000000",
          "2016-07-31T00:00:00.000000000",
          "2016-08-31T00:00:00.000000000",
          "2016-09-30T00:00:00.000000000",
          "2016-10-31T00:00:00.000000000",
          "2016-11-30T00:00:00.000000000",
          "2016-12-31T00:00:00.000000000",
          "2017-01-31T00:00:00.000000000",
          "2017-02-28T00:00:00.000000000",
          "2017-03-31T00:00:00.000000000",
          "2017-04-30T00:00:00.000000000",
          "2017-05-31T00:00:00.000000000",
          "2017-06-30T00:00:00.000000000",
          "2017-07-31T00:00:00.000000000",
          "2017-08-31T00:00:00.000000000",
          "2017-09-30T00:00:00.000000000",
          "2017-10-31T00:00:00.000000000",
          "2017-11-30T00:00:00.000000000",
          "2017-12-31T00:00:00.000000000"
         ],
         "y": {
          "bdata": "9ihcj3LOy0AIrBxa5KexQDVeuklgMetASOF6FNah20B9PzVeEhjXQF+YTBVk5OBAarx0k0yT4ECLbOf7XUHbQPd14JwV9/NA1XjpJlm33kBRa5p3SzLzQHNoke2Z+vBA5WGh1oS/0UBU46WbtFfHQNNNYhDI6OJAJzEIrGay4EAtsp3v62zdQJzEILBSN9hAzczMzFQX3ED35GGhSgTiQDeJQWB9iu9Ad76fGjur3kB1kxgESYzyQKvP1VZ4SvJAlUOLbJ8b0kCQwvUotHDWQAAAAAB8QOlAke18P8Hr4kDwp8ZLd9PrQAIrhxYRs+NAQmDl0L4r40C5/If012LeQNuK/WUg7PFAcT0K1/ck7UBos+pzP2PzQJzEILBwrvdAF9nO92t45UBSJ6CJSNPTQME5I0oLv+xA7C+7JzHV4UCBJsKGo5zlQNc07zi33ulAZDvfTw0a5kDb+X5qHNLuQFCNl26qc/VA+1xtxQ798kAzMzMz/er8QF8HzhlVd/RA",
          "dtype": "f8"
         }
        }
       ],
       "layout": {
        "legend": {
         "title": {
          "text": "anomaly"
         },
         "tracegroupgap": 0
        },
        "template": {
         "data": {
          "bar": [
           {
            "error_x": {
             "color": "#2a3f5f"
            },
            "error_y": {
             "color": "#2a3f5f"
            },
            "marker": {
             "line": {
              "color": "white",
              "width": 0.5
             },
             "pattern": {
              "fillmode": "overlay",
              "size": 10,
              "solidity": 0.2
             }
            },
            "type": "bar"
           }
          ],
          "barpolar": [
           {
            "marker": {
             "line": {
              "color": "white",
              "width": 0.5
             },
             "pattern": {
              "fillmode": "overlay",
              "size": 10,
              "solidity": 0.2
             }
            },
            "type": "barpolar"
           }
          ],
          "carpet": [
           {
            "aaxis": {
             "endlinecolor": "#2a3f5f",
             "gridcolor": "#C8D4E3",
             "linecolor": "#C8D4E3",
             "minorgridcolor": "#C8D4E3",
             "startlinecolor": "#2a3f5f"
            },
            "baxis": {
             "endlinecolor": "#2a3f5f",
             "gridcolor": "#C8D4E3",
             "linecolor": "#C8D4E3",
             "minorgridcolor": "#C8D4E3",
             "startlinecolor": "#2a3f5f"
            },
            "type": "carpet"
           }
          ],
          "choropleth": [
           {
            "colorbar": {
             "outlinewidth": 0,
             "ticks": ""
            },
            "type": "choropleth"
           }
          ],
          "contour": [
           {
            "colorbar": {
             "outlinewidth": 0,
             "ticks": ""
            },
            "colorscale": [
             [
              0,
              "#0d0887"
             ],
             [
              0.1111111111111111,
              "#46039f"
             ],
             [
              0.2222222222222222,
              "#7201a8"
             ],
             [
              0.3333333333333333,
              "#9c179e"
             ],
             [
              0.4444444444444444,
              "#bd3786"
             ],
             [
              0.5555555555555556,
              "#d8576b"
             ],
             [
              0.6666666666666666,
              "#ed7953"
             ],
             [
              0.7777777777777778,
              "#fb9f3a"
             ],
             [
              0.8888888888888888,
              "#fdca26"
             ],
             [
              1,
              "#f0f921"
             ]
            ],
            "type": "contour"
           }
          ],
          "contourcarpet": [
           {
            "colorbar": {
             "outlinewidth": 0,
             "ticks": ""
            },
            "type": "contourcarpet"
           }
          ],
          "heatmap": [
           {
            "colorbar": {
             "outlinewidth": 0,
             "ticks": ""
            },
            "colorscale": [
             [
              0,
              "#0d0887"
             ],
             [
              0.1111111111111111,
              "#46039f"
             ],
             [
              0.2222222222222222,
              "#7201a8"
             ],
             [
              0.3333333333333333,
              "#9c179e"
             ],
             [
              0.4444444444444444,
              "#bd3786"
             ],
             [
              0.5555555555555556,
              "#d8576b"
             ],
             [
              0.6666666666666666,
              "#ed7953"
             ],
             [
              0.7777777777777778,
              "#fb9f3a"
             ],
             [
              0.8888888888888888,
              "#fdca26"
             ],
             [
              1,
              "#f0f921"
             ]
            ],
            "type": "heatmap"
           }
          ],
          "histogram": [
           {
            "marker": {
             "pattern": {
              "fillmode": "overlay",
              "size": 10,
              "solidity": 0.2
             }
            },
            "type": "histogram"
           }
          ],
          "histogram2d": [
           {
            "colorbar": {
             "outlinewidth": 0,
             "ticks": ""
            },
            "colorscale": [
             [
              0,
              "#0d0887"
             ],
             [
              0.1111111111111111,
              "#46039f"
             ],
             [
              0.2222222222222222,
              "#7201a8"
             ],
             [
              0.3333333333333333,
              "#9c179e"
             ],
             [
              0.4444444444444444,
              "#bd3786"
             ],
             [
              0.5555555555555556,
              "#d8576b"
             ],
             [
              0.6666666666666666,
              "#ed7953"
             ],
             [
              0.7777777777777778,
              "#fb9f3a"
             ],
             [
              0.8888888888888888,
              "#fdca26"
             ],
             [
              1,
              "#f0f921"
             ]
            ],
            "type": "histogram2d"
           }
          ],
          "histogram2dcontour": [
           {
            "colorbar": {
             "outlinewidth": 0,
             "ticks": ""
            },
            "colorscale": [
             [
              0,
              "#0d0887"
             ],
             [
              0.1111111111111111,
              "#46039f"
             ],
             [
              0.2222222222222222,
              "#7201a8"
             ],
             [
              0.3333333333333333,
              "#9c179e"
             ],
             [
              0.4444444444444444,
              "#bd3786"
             ],
             [
              0.5555555555555556,
              "#d8576b"
             ],
             [
              0.6666666666666666,
              "#ed7953"
             ],
             [
              0.7777777777777778,
              "#fb9f3a"
             ],
             [
              0.8888888888888888,
              "#fdca26"
             ],
             [
              1,
              "#f0f921"
             ]
            ],
            "type": "histogram2dcontour"
           }
          ],
          "mesh3d": [
           {
            "colorbar": {
             "outlinewidth": 0,
             "ticks": ""
            },
            "type": "mesh3d"
           }
          ],
          "parcoords": [
           {
            "line": {
             "colorbar": {
              "outlinewidth": 0,
              "ticks": ""
             }
            },
            "type": "parcoords"
           }
          ],
          "pie": [
           {
            "automargin": true,
            "type": "pie"
           }
          ],
          "scatter": [
           {
            "fillpattern": {
             "fillmode": "overlay",
             "size": 10,
             "solidity": 0.2
            },
            "type": "scatter"
           }
          ],
          "scatter3d": [
           {
            "line": {
             "colorbar": {
              "outlinewidth": 0,
              "ticks": ""
             }
            },
            "marker": {
             "colorbar": {
              "outlinewidth": 0,
              "ticks": ""
             }
            },
            "type": "scatter3d"
           }
          ],
          "scattercarpet": [
           {
            "marker": {
             "colorbar": {
              "outlinewidth": 0,
              "ticks": ""
             }
            },
            "type": "scattercarpet"
           }
          ],
          "scattergeo": [
           {
            "marker": {
             "colorbar": {
              "outlinewidth": 0,
              "ticks": ""
             }
            },
            "type": "scattergeo"
           }
          ],
          "scattergl": [
           {
            "marker": {
             "colorbar": {
              "outlinewidth": 0,
              "ticks": ""
             }
            },
            "type": "scattergl"
           }
          ],
          "scattermap": [
           {
            "marker": {
             "colorbar": {
              "outlinewidth": 0,
              "ticks": ""
             }
            },
            "type": "scattermap"
           }
          ],
          "scattermapbox": [
           {
            "marker": {
             "colorbar": {
              "outlinewidth": 0,
              "ticks": ""
             }
            },
            "type": "scattermapbox"
           }
          ],
          "scatterpolar": [
           {
            "marker": {
             "colorbar": {
              "outlinewidth": 0,
              "ticks": ""
             }
            },
            "type": "scatterpolar"
           }
          ],
          "scatterpolargl": [
           {
            "marker": {
             "colorbar": {
              "outlinewidth": 0,
              "ticks": ""
             }
            },
            "type": "scatterpolargl"
           }
          ],
          "scatterternary": [
           {
            "marker": {
             "colorbar": {
              "outlinewidth": 0,
              "ticks": ""
             }
            },
            "type": "scatterternary"
           }
          ],
          "surface": [
           {
            "colorbar": {
             "outlinewidth": 0,
             "ticks": ""
            },
            "colorscale": [
             [
              0,
              "#0d0887"
             ],
             [
              0.1111111111111111,
              "#46039f"
             ],
             [
              0.2222222222222222,
              "#7201a8"
             ],
             [
              0.3333333333333333,
              "#9c179e"
             ],
             [
              0.4444444444444444,
              "#bd3786"
             ],
             [
              0.5555555555555556,
              "#d8576b"
             ],
             [
              0.6666666666666666,
              "#ed7953"
             ],
             [
              0.7777777777777778,
              "#fb9f3a"
             ],
             [
              0.8888888888888888,
              "#fdca26"
             ],
             [
              1,
              "#f0f921"
             ]
            ],
            "type": "surface"
           }
          ],
          "table": [
           {
            "cells": {
             "fill": {
              "color": "#EBF0F8"
             },
             "line": {
              "color": "white"
             }
            },
            "header": {
             "fill": {
              "color": "#C8D4E3"
             },
             "line": {
              "color": "white"
             }
            },
            "type": "table"
           }
          ]
         },
         "layout": {
          "annotationdefaults": {
           "arrowcolor": "#2a3f5f",
           "arrowhead": 0,
           "arrowwidth": 1
          },
          "autotypenumbers": "strict",
          "coloraxis": {
           "colorbar": {
            "outlinewidth": 0,
            "ticks": ""
           }
          },
          "colorscale": {
           "diverging": [
            [
             0,
             "#8e0152"
            ],
            [
             0.1,
             "#c51b7d"
            ],
            [
             0.2,
             "#de77ae"
            ],
            [
             0.3,
             "#f1b6da"
            ],
            [
             0.4,
             "#fde0ef"
            ],
            [
             0.5,
             "#f7f7f7"
            ],
            [
             0.6,
             "#e6f5d0"
            ],
            [
             0.7,
             "#b8e186"
            ],
            [
             0.8,
             "#7fbc41"
            ],
            [
             0.9,
             "#4d9221"
            ],
            [
             1,
             "#276419"
            ]
           ],
           "sequential": [
            [
             0,
             "#0d0887"
            ],
            [
             0.1111111111111111,
             "#46039f"
            ],
            [
             0.2222222222222222,
             "#7201a8"
            ],
            [
             0.3333333333333333,
             "#9c179e"
            ],
            [
             0.4444444444444444,
             "#bd3786"
            ],
            [
             0.5555555555555556,
             "#d8576b"
            ],
            [
             0.6666666666666666,
             "#ed7953"
            ],
            [
             0.7777777777777778,
             "#fb9f3a"
            ],
            [
             0.8888888888888888,
             "#fdca26"
            ],
            [
             1,
             "#f0f921"
            ]
           ],
           "sequentialminus": [
            [
             0,
             "#0d0887"
            ],
            [
             0.1111111111111111,
             "#46039f"
            ],
            [
             0.2222222222222222,
             "#7201a8"
            ],
            [
             0.3333333333333333,
             "#9c179e"
            ],
            [
             0.4444444444444444,
             "#bd3786"
            ],
            [
             0.5555555555555556,
             "#d8576b"
            ],
            [
             0.6666666666666666,
             "#ed7953"
            ],
            [
             0.7777777777777778,
             "#fb9f3a"
            ],
            [
             0.8888888888888888,
             "#fdca26"
            ],
            [
             1,
             "#f0f921"
            ]
           ]
          },
          "colorway": [
           "#636efa",
           "#EF553B",
           "#00cc96",
           "#ab63fa",
           "#FFA15A",
           "#19d3f3",
           "#FF6692",
           "#B6E880",
           "#FF97FF",
           "#FECB52"
          ],
          "font": {
           "color": "#2a3f5f"
          },
          "geo": {
           "bgcolor": "white",
           "lakecolor": "white",
           "landcolor": "white",
           "showlakes": true,
           "showland": true,
           "subunitcolor": "#C8D4E3"
          },
          "hoverlabel": {
           "align": "left"
          },
          "hovermode": "closest",
          "mapbox": {
           "style": "light"
          },
          "paper_bgcolor": "white",
          "plot_bgcolor": "white",
          "polar": {
           "angularaxis": {
            "gridcolor": "#EBF0F8",
            "linecolor": "#EBF0F8",
            "ticks": ""
           },
           "bgcolor": "white",
           "radialaxis": {
            "gridcolor": "#EBF0F8",
            "linecolor": "#EBF0F8",
            "ticks": ""
           }
          },
          "scene": {
           "xaxis": {
            "backgroundcolor": "white",
            "gridcolor": "#DFE8F3",
            "gridwidth": 2,
            "linecolor": "#EBF0F8",
            "showbackground": true,
            "ticks": "",
            "zerolinecolor": "#EBF0F8"
           },
           "yaxis": {
            "backgroundcolor": "white",
            "gridcolor": "#DFE8F3",
            "gridwidth": 2,
            "linecolor": "#EBF0F8",
            "showbackground": true,
            "ticks": "",
            "zerolinecolor": "#EBF0F8"
           },
           "zaxis": {
            "backgroundcolor": "white",
            "gridcolor": "#DFE8F3",
            "gridwidth": 2,
            "linecolor": "#EBF0F8",
            "showbackground": true,
            "ticks": "",
            "zerolinecolor": "#EBF0F8"
           }
          },
          "shapedefaults": {
           "line": {
            "color": "#2a3f5f"
           }
          },
          "ternary": {
           "aaxis": {
            "gridcolor": "#DFE8F3",
            "linecolor": "#A2B1C6",
            "ticks": ""
           },
           "baxis": {
            "gridcolor": "#DFE8F3",
            "linecolor": "#A2B1C6",
            "ticks": ""
           },
           "bgcolor": "white",
           "caxis": {
            "gridcolor": "#DFE8F3",
            "linecolor": "#A2B1C6",
            "ticks": ""
           }
          },
          "title": {
           "x": 0.05
          },
          "xaxis": {
           "automargin": true,
           "gridcolor": "#EBF0F8",
           "linecolor": "#EBF0F8",
           "ticks": "",
           "title": {
            "standoff": 15
           },
           "zerolinecolor": "#EBF0F8",
           "zerolinewidth": 2
          },
          "yaxis": {
           "automargin": true,
           "gridcolor": "#EBF0F8",
           "linecolor": "#EBF0F8",
           "ticks": "",
           "title": {
            "standoff": 15
           },
           "zerolinecolor": "#EBF0F8",
           "zerolinewidth": 2
          }
         }
        },
        "title": {
         "text": "🚨 Monthly Revenue Anomalies"
        },
        "xaxis": {
         "anchor": "y",
         "domain": [
          0,
          1
         ],
         "title": {
          "text": "month"
         }
        },
        "yaxis": {
         "anchor": "x",
         "domain": [
          0,
          1
         ],
         "title": {
          "text": "revenue"
         }
        }
       }
      }
     },
     "metadata": {},
     "output_type": "display_data"
    }
   ],
   "source": [
    "fig = px.scatter(monthly_revenue, x='month', y='revenue',\n",
    "                 color='anomaly', title='🚨 Monthly Revenue Anomalies',\n",
    "                 color_discrete_map={'Normal': 'blue', 'Anomaly': 'red'},\n",
    "                 template='plotly_white', size_max=10)\n",
    "\n",
    "fig.add_scatter(x=monthly_revenue['month'], y=monthly_revenue['revenue'],\n",
    "                mode='lines', name='Revenue', line=dict(color='gray'))\n",
    "\n",
    "fig.show()\n"
   ]
  },
  {
   "cell_type": "markdown",
   "metadata": {},
   "source": [
    "Anomaly Detection in Profit"
   ]
  },
  {
   "cell_type": "code",
   "execution_count": 183,
   "metadata": {},
   "outputs": [
    {
     "name": "stderr",
     "output_type": "stream",
     "text": [
      "C:\\Users\\Saurav Kumar\\AppData\\Local\\Temp\\ipykernel_6548\\1084086405.py:1: FutureWarning:\n",
      "\n",
      "'M' is deprecated and will be removed in a future version, please use 'ME' instead.\n",
      "\n"
     ]
    }
   ],
   "source": [
    "monthly_profit = df.groupby(pd.Grouper(key='order_date', freq='M'))['profit'].sum().reset_index()\n",
    "monthly_profit.columns = ['month', 'profit']\n",
    "\n",
    "Q1 = monthly_profit['profit'].quantile(0.25)\n",
    "Q3 = monthly_profit['profit'].quantile(0.75)\n",
    "IQR = Q3 - Q1\n",
    "\n",
    "lower_bound = Q1 - 1.5 * IQR\n",
    "upper_bound = Q3 + 1.5 * IQR\n",
    "\n",
    "monthly_profit['anomaly'] = monthly_profit['profit'].apply(lambda x: 'Anomaly' if (x < lower_bound or x > upper_bound) else 'Normal')\n"
   ]
  },
  {
   "cell_type": "markdown",
   "metadata": {},
   "source": [
    "Visuzlize Anomaly"
   ]
  },
  {
   "cell_type": "code",
   "execution_count": 184,
   "metadata": {},
   "outputs": [
    {
     "data": {
      "application/vnd.plotly.v1+json": {
       "config": {
        "plotlyServerURL": "https://plot.ly"
       },
       "data": [
        {
         "hovertemplate": "anomaly=Normal<br>month=%{x}<br>profit=%{y}<extra></extra>",
         "legendgroup": "Normal",
         "marker": {
          "color": "green",
          "symbol": "circle"
         },
         "mode": "markers",
         "name": "Normal",
         "orientation": "v",
         "showlegend": true,
         "type": "scatter",
         "x": [
          "2014-01-31T00:00:00.000000000",
          "2014-02-28T00:00:00.000000000",
          "2014-03-31T00:00:00.000000000",
          "2014-04-30T00:00:00.000000000",
          "2014-05-31T00:00:00.000000000",
          "2014-06-30T00:00:00.000000000",
          "2014-07-31T00:00:00.000000000",
          "2014-08-31T00:00:00.000000000",
          "2014-09-30T00:00:00.000000000",
          "2014-10-31T00:00:00.000000000",
          "2014-11-30T00:00:00.000000000",
          "2014-12-31T00:00:00.000000000",
          "2015-01-31T00:00:00.000000000",
          "2015-02-28T00:00:00.000000000",
          "2015-03-31T00:00:00.000000000",
          "2015-04-30T00:00:00.000000000",
          "2015-05-31T00:00:00.000000000",
          "2015-06-30T00:00:00.000000000",
          "2015-07-31T00:00:00.000000000",
          "2015-08-31T00:00:00.000000000",
          "2015-09-30T00:00:00.000000000",
          "2015-10-31T00:00:00.000000000",
          "2015-11-30T00:00:00.000000000",
          "2015-12-31T00:00:00.000000000",
          "2016-01-31T00:00:00.000000000",
          "2016-02-29T00:00:00.000000000",
          "2016-03-31T00:00:00.000000000",
          "2016-04-30T00:00:00.000000000",
          "2016-05-31T00:00:00.000000000",
          "2016-06-30T00:00:00.000000000",
          "2016-07-31T00:00:00.000000000",
          "2016-08-31T00:00:00.000000000",
          "2016-09-30T00:00:00.000000000",
          "2016-10-31T00:00:00.000000000",
          "2016-11-30T00:00:00.000000000",
          "2017-01-31T00:00:00.000000000",
          "2017-02-28T00:00:00.000000000",
          "2017-03-31T00:00:00.000000000",
          "2017-04-30T00:00:00.000000000",
          "2017-05-31T00:00:00.000000000",
          "2017-06-30T00:00:00.000000000",
          "2017-07-31T00:00:00.000000000",
          "2017-08-31T00:00:00.000000000",
          "2017-09-30T00:00:00.000000000",
          "2017-10-31T00:00:00.000000000",
          "2017-11-30T00:00:00.000000000",
          "2017-12-31T00:00:00.000000000"
         ],
         "xaxis": "x",
         "y": {
          "bdata": "si5uo2Eko0CxUGuad/KKQJlVn6utK39APZtVn6tBq0B88rBQa2WlQAYSFD+GcLNAZohjXdxLisAUrkfhGsa0QJyiI7kMRMBAhlrTvIPwqkDuWkI+ECbCQP+ye/LIi8FAJQaBlQOiqcDgvg6cs/ulQMfctYQMAsNARpT2Bn9bsEA5tMh23juyQKqCUUkdD6pA/kP67UuxqUAWak3zzuu0QIeFWtOUCMBArBxaZLsCpkAVjErqZF3IQDTvOEX3UL9AmN2Th6URpkAIrBxalIyzQA4tsp3vN6xABaOSOqFDp0ARNjy9EuvAQJ5eKctgjrJAKO0NvuBQsUA6I0p7IxygQO2ePCxUOMJA16NwPZK5z0A+Ctej0FavQKyL22hw5LtAc2iR7Xw3mUAxCKwc8s/MQLkehetRKo1AHHxhMpXGuECitDf4qg/AQEaU9gafKLtAZapgVHqowUDUmuYdx3fFQAaBlUOjHcJATKYKRg3twkAhQfFjrJHAQA==",
          "dtype": "f8"
         },
         "yaxis": "y"
        },
        {
         "hovertemplate": "anomaly=Anomaly<br>month=%{x}<br>profit=%{y}<extra></extra>",
         "legendgroup": "Anomaly",
         "marker": {
          "color": "orange",
          "symbol": "circle"
         },
         "mode": "markers",
         "name": "Anomaly",
         "orientation": "v",
         "showlegend": true,
         "type": "scatter",
         "x": [
          "2016-12-31T00:00:00.000000000"
         ],
         "xaxis": "x",
         "y": {
          "bdata": "KjqSy1N30UA=",
          "dtype": "f8"
         },
         "yaxis": "y"
        },
        {
         "line": {
          "color": "gray"
         },
         "mode": "lines",
         "name": "Profit",
         "type": "scatter",
         "x": [
          "2014-01-31T00:00:00.000000000",
          "2014-02-28T00:00:00.000000000",
          "2014-03-31T00:00:00.000000000",
          "2014-04-30T00:00:00.000000000",
          "2014-05-31T00:00:00.000000000",
          "2014-06-30T00:00:00.000000000",
          "2014-07-31T00:00:00.000000000",
          "2014-08-31T00:00:00.000000000",
          "2014-09-30T00:00:00.000000000",
          "2014-10-31T00:00:00.000000000",
          "2014-11-30T00:00:00.000000000",
          "2014-12-31T00:00:00.000000000",
          "2015-01-31T00:00:00.000000000",
          "2015-02-28T00:00:00.000000000",
          "2015-03-31T00:00:00.000000000",
          "2015-04-30T00:00:00.000000000",
          "2015-05-31T00:00:00.000000000",
          "2015-06-30T00:00:00.000000000",
          "2015-07-31T00:00:00.000000000",
          "2015-08-31T00:00:00.000000000",
          "2015-09-30T00:00:00.000000000",
          "2015-10-31T00:00:00.000000000",
          "2015-11-30T00:00:00.000000000",
          "2015-12-31T00:00:00.000000000",
          "2016-01-31T00:00:00.000000000",
          "2016-02-29T00:00:00.000000000",
          "2016-03-31T00:00:00.000000000",
          "2016-04-30T00:00:00.000000000",
          "2016-05-31T00:00:00.000000000",
          "2016-06-30T00:00:00.000000000",
          "2016-07-31T00:00:00.000000000",
          "2016-08-31T00:00:00.000000000",
          "2016-09-30T00:00:00.000000000",
          "2016-10-31T00:00:00.000000000",
          "2016-11-30T00:00:00.000000000",
          "2016-12-31T00:00:00.000000000",
          "2017-01-31T00:00:00.000000000",
          "2017-02-28T00:00:00.000000000",
          "2017-03-31T00:00:00.000000000",
          "2017-04-30T00:00:00.000000000",
          "2017-05-31T00:00:00.000000000",
          "2017-06-30T00:00:00.000000000",
          "2017-07-31T00:00:00.000000000",
          "2017-08-31T00:00:00.000000000",
          "2017-09-30T00:00:00.000000000",
          "2017-10-31T00:00:00.000000000",
          "2017-11-30T00:00:00.000000000",
          "2017-12-31T00:00:00.000000000"
         ],
         "y": {
          "bdata": "si5uo2Eko0CxUGuad/KKQJlVn6utK39APZtVn6tBq0B88rBQa2WlQAYSFD+GcLNAZohjXdxLisAUrkfhGsa0QJyiI7kMRMBAhlrTvIPwqkDuWkI+ECbCQP+ye/LIi8FAJQaBlQOiqcDgvg6cs/ulQMfctYQMAsNARpT2Bn9bsEA5tMh23juyQKqCUUkdD6pA/kP67UuxqUAWak3zzuu0QIeFWtOUCMBArBxaZLsCpkAVjErqZF3IQDTvOEX3UL9AmN2Th6URpkAIrBxalIyzQA4tsp3vN6xABaOSOqFDp0ARNjy9EuvAQJ5eKctgjrJAKO0NvuBQsUA6I0p7IxygQO2ePCxUOMJA16NwPZK5z0A+Ctej0FavQCo6kstTd9FArIvbaHDku0BzaJHtfDeZQDEIrBzyz8xAuR6F61EqjUAcfGEylca4QKK0N/iqD8BARpT2Bp8ou0BlqmBUeqjBQNSa5h3Hd8VABoGVQ6MdwkBMpgpGDe3CQCFB8WOskcBA",
          "dtype": "f8"
         }
        }
       ],
       "layout": {
        "legend": {
         "title": {
          "text": "anomaly"
         },
         "tracegroupgap": 0
        },
        "template": {
         "data": {
          "bar": [
           {
            "error_x": {
             "color": "#2a3f5f"
            },
            "error_y": {
             "color": "#2a3f5f"
            },
            "marker": {
             "line": {
              "color": "white",
              "width": 0.5
             },
             "pattern": {
              "fillmode": "overlay",
              "size": 10,
              "solidity": 0.2
             }
            },
            "type": "bar"
           }
          ],
          "barpolar": [
           {
            "marker": {
             "line": {
              "color": "white",
              "width": 0.5
             },
             "pattern": {
              "fillmode": "overlay",
              "size": 10,
              "solidity": 0.2
             }
            },
            "type": "barpolar"
           }
          ],
          "carpet": [
           {
            "aaxis": {
             "endlinecolor": "#2a3f5f",
             "gridcolor": "#C8D4E3",
             "linecolor": "#C8D4E3",
             "minorgridcolor": "#C8D4E3",
             "startlinecolor": "#2a3f5f"
            },
            "baxis": {
             "endlinecolor": "#2a3f5f",
             "gridcolor": "#C8D4E3",
             "linecolor": "#C8D4E3",
             "minorgridcolor": "#C8D4E3",
             "startlinecolor": "#2a3f5f"
            },
            "type": "carpet"
           }
          ],
          "choropleth": [
           {
            "colorbar": {
             "outlinewidth": 0,
             "ticks": ""
            },
            "type": "choropleth"
           }
          ],
          "contour": [
           {
            "colorbar": {
             "outlinewidth": 0,
             "ticks": ""
            },
            "colorscale": [
             [
              0,
              "#0d0887"
             ],
             [
              0.1111111111111111,
              "#46039f"
             ],
             [
              0.2222222222222222,
              "#7201a8"
             ],
             [
              0.3333333333333333,
              "#9c179e"
             ],
             [
              0.4444444444444444,
              "#bd3786"
             ],
             [
              0.5555555555555556,
              "#d8576b"
             ],
             [
              0.6666666666666666,
              "#ed7953"
             ],
             [
              0.7777777777777778,
              "#fb9f3a"
             ],
             [
              0.8888888888888888,
              "#fdca26"
             ],
             [
              1,
              "#f0f921"
             ]
            ],
            "type": "contour"
           }
          ],
          "contourcarpet": [
           {
            "colorbar": {
             "outlinewidth": 0,
             "ticks": ""
            },
            "type": "contourcarpet"
           }
          ],
          "heatmap": [
           {
            "colorbar": {
             "outlinewidth": 0,
             "ticks": ""
            },
            "colorscale": [
             [
              0,
              "#0d0887"
             ],
             [
              0.1111111111111111,
              "#46039f"
             ],
             [
              0.2222222222222222,
              "#7201a8"
             ],
             [
              0.3333333333333333,
              "#9c179e"
             ],
             [
              0.4444444444444444,
              "#bd3786"
             ],
             [
              0.5555555555555556,
              "#d8576b"
             ],
             [
              0.6666666666666666,
              "#ed7953"
             ],
             [
              0.7777777777777778,
              "#fb9f3a"
             ],
             [
              0.8888888888888888,
              "#fdca26"
             ],
             [
              1,
              "#f0f921"
             ]
            ],
            "type": "heatmap"
           }
          ],
          "histogram": [
           {
            "marker": {
             "pattern": {
              "fillmode": "overlay",
              "size": 10,
              "solidity": 0.2
             }
            },
            "type": "histogram"
           }
          ],
          "histogram2d": [
           {
            "colorbar": {
             "outlinewidth": 0,
             "ticks": ""
            },
            "colorscale": [
             [
              0,
              "#0d0887"
             ],
             [
              0.1111111111111111,
              "#46039f"
             ],
             [
              0.2222222222222222,
              "#7201a8"
             ],
             [
              0.3333333333333333,
              "#9c179e"
             ],
             [
              0.4444444444444444,
              "#bd3786"
             ],
             [
              0.5555555555555556,
              "#d8576b"
             ],
             [
              0.6666666666666666,
              "#ed7953"
             ],
             [
              0.7777777777777778,
              "#fb9f3a"
             ],
             [
              0.8888888888888888,
              "#fdca26"
             ],
             [
              1,
              "#f0f921"
             ]
            ],
            "type": "histogram2d"
           }
          ],
          "histogram2dcontour": [
           {
            "colorbar": {
             "outlinewidth": 0,
             "ticks": ""
            },
            "colorscale": [
             [
              0,
              "#0d0887"
             ],
             [
              0.1111111111111111,
              "#46039f"
             ],
             [
              0.2222222222222222,
              "#7201a8"
             ],
             [
              0.3333333333333333,
              "#9c179e"
             ],
             [
              0.4444444444444444,
              "#bd3786"
             ],
             [
              0.5555555555555556,
              "#d8576b"
             ],
             [
              0.6666666666666666,
              "#ed7953"
             ],
             [
              0.7777777777777778,
              "#fb9f3a"
             ],
             [
              0.8888888888888888,
              "#fdca26"
             ],
             [
              1,
              "#f0f921"
             ]
            ],
            "type": "histogram2dcontour"
           }
          ],
          "mesh3d": [
           {
            "colorbar": {
             "outlinewidth": 0,
             "ticks": ""
            },
            "type": "mesh3d"
           }
          ],
          "parcoords": [
           {
            "line": {
             "colorbar": {
              "outlinewidth": 0,
              "ticks": ""
             }
            },
            "type": "parcoords"
           }
          ],
          "pie": [
           {
            "automargin": true,
            "type": "pie"
           }
          ],
          "scatter": [
           {
            "fillpattern": {
             "fillmode": "overlay",
             "size": 10,
             "solidity": 0.2
            },
            "type": "scatter"
           }
          ],
          "scatter3d": [
           {
            "line": {
             "colorbar": {
              "outlinewidth": 0,
              "ticks": ""
             }
            },
            "marker": {
             "colorbar": {
              "outlinewidth": 0,
              "ticks": ""
             }
            },
            "type": "scatter3d"
           }
          ],
          "scattercarpet": [
           {
            "marker": {
             "colorbar": {
              "outlinewidth": 0,
              "ticks": ""
             }
            },
            "type": "scattercarpet"
           }
          ],
          "scattergeo": [
           {
            "marker": {
             "colorbar": {
              "outlinewidth": 0,
              "ticks": ""
             }
            },
            "type": "scattergeo"
           }
          ],
          "scattergl": [
           {
            "marker": {
             "colorbar": {
              "outlinewidth": 0,
              "ticks": ""
             }
            },
            "type": "scattergl"
           }
          ],
          "scattermap": [
           {
            "marker": {
             "colorbar": {
              "outlinewidth": 0,
              "ticks": ""
             }
            },
            "type": "scattermap"
           }
          ],
          "scattermapbox": [
           {
            "marker": {
             "colorbar": {
              "outlinewidth": 0,
              "ticks": ""
             }
            },
            "type": "scattermapbox"
           }
          ],
          "scatterpolar": [
           {
            "marker": {
             "colorbar": {
              "outlinewidth": 0,
              "ticks": ""
             }
            },
            "type": "scatterpolar"
           }
          ],
          "scatterpolargl": [
           {
            "marker": {
             "colorbar": {
              "outlinewidth": 0,
              "ticks": ""
             }
            },
            "type": "scatterpolargl"
           }
          ],
          "scatterternary": [
           {
            "marker": {
             "colorbar": {
              "outlinewidth": 0,
              "ticks": ""
             }
            },
            "type": "scatterternary"
           }
          ],
          "surface": [
           {
            "colorbar": {
             "outlinewidth": 0,
             "ticks": ""
            },
            "colorscale": [
             [
              0,
              "#0d0887"
             ],
             [
              0.1111111111111111,
              "#46039f"
             ],
             [
              0.2222222222222222,
              "#7201a8"
             ],
             [
              0.3333333333333333,
              "#9c179e"
             ],
             [
              0.4444444444444444,
              "#bd3786"
             ],
             [
              0.5555555555555556,
              "#d8576b"
             ],
             [
              0.6666666666666666,
              "#ed7953"
             ],
             [
              0.7777777777777778,
              "#fb9f3a"
             ],
             [
              0.8888888888888888,
              "#fdca26"
             ],
             [
              1,
              "#f0f921"
             ]
            ],
            "type": "surface"
           }
          ],
          "table": [
           {
            "cells": {
             "fill": {
              "color": "#EBF0F8"
             },
             "line": {
              "color": "white"
             }
            },
            "header": {
             "fill": {
              "color": "#C8D4E3"
             },
             "line": {
              "color": "white"
             }
            },
            "type": "table"
           }
          ]
         },
         "layout": {
          "annotationdefaults": {
           "arrowcolor": "#2a3f5f",
           "arrowhead": 0,
           "arrowwidth": 1
          },
          "autotypenumbers": "strict",
          "coloraxis": {
           "colorbar": {
            "outlinewidth": 0,
            "ticks": ""
           }
          },
          "colorscale": {
           "diverging": [
            [
             0,
             "#8e0152"
            ],
            [
             0.1,
             "#c51b7d"
            ],
            [
             0.2,
             "#de77ae"
            ],
            [
             0.3,
             "#f1b6da"
            ],
            [
             0.4,
             "#fde0ef"
            ],
            [
             0.5,
             "#f7f7f7"
            ],
            [
             0.6,
             "#e6f5d0"
            ],
            [
             0.7,
             "#b8e186"
            ],
            [
             0.8,
             "#7fbc41"
            ],
            [
             0.9,
             "#4d9221"
            ],
            [
             1,
             "#276419"
            ]
           ],
           "sequential": [
            [
             0,
             "#0d0887"
            ],
            [
             0.1111111111111111,
             "#46039f"
            ],
            [
             0.2222222222222222,
             "#7201a8"
            ],
            [
             0.3333333333333333,
             "#9c179e"
            ],
            [
             0.4444444444444444,
             "#bd3786"
            ],
            [
             0.5555555555555556,
             "#d8576b"
            ],
            [
             0.6666666666666666,
             "#ed7953"
            ],
            [
             0.7777777777777778,
             "#fb9f3a"
            ],
            [
             0.8888888888888888,
             "#fdca26"
            ],
            [
             1,
             "#f0f921"
            ]
           ],
           "sequentialminus": [
            [
             0,
             "#0d0887"
            ],
            [
             0.1111111111111111,
             "#46039f"
            ],
            [
             0.2222222222222222,
             "#7201a8"
            ],
            [
             0.3333333333333333,
             "#9c179e"
            ],
            [
             0.4444444444444444,
             "#bd3786"
            ],
            [
             0.5555555555555556,
             "#d8576b"
            ],
            [
             0.6666666666666666,
             "#ed7953"
            ],
            [
             0.7777777777777778,
             "#fb9f3a"
            ],
            [
             0.8888888888888888,
             "#fdca26"
            ],
            [
             1,
             "#f0f921"
            ]
           ]
          },
          "colorway": [
           "#636efa",
           "#EF553B",
           "#00cc96",
           "#ab63fa",
           "#FFA15A",
           "#19d3f3",
           "#FF6692",
           "#B6E880",
           "#FF97FF",
           "#FECB52"
          ],
          "font": {
           "color": "#2a3f5f"
          },
          "geo": {
           "bgcolor": "white",
           "lakecolor": "white",
           "landcolor": "white",
           "showlakes": true,
           "showland": true,
           "subunitcolor": "#C8D4E3"
          },
          "hoverlabel": {
           "align": "left"
          },
          "hovermode": "closest",
          "mapbox": {
           "style": "light"
          },
          "paper_bgcolor": "white",
          "plot_bgcolor": "white",
          "polar": {
           "angularaxis": {
            "gridcolor": "#EBF0F8",
            "linecolor": "#EBF0F8",
            "ticks": ""
           },
           "bgcolor": "white",
           "radialaxis": {
            "gridcolor": "#EBF0F8",
            "linecolor": "#EBF0F8",
            "ticks": ""
           }
          },
          "scene": {
           "xaxis": {
            "backgroundcolor": "white",
            "gridcolor": "#DFE8F3",
            "gridwidth": 2,
            "linecolor": "#EBF0F8",
            "showbackground": true,
            "ticks": "",
            "zerolinecolor": "#EBF0F8"
           },
           "yaxis": {
            "backgroundcolor": "white",
            "gridcolor": "#DFE8F3",
            "gridwidth": 2,
            "linecolor": "#EBF0F8",
            "showbackground": true,
            "ticks": "",
            "zerolinecolor": "#EBF0F8"
           },
           "zaxis": {
            "backgroundcolor": "white",
            "gridcolor": "#DFE8F3",
            "gridwidth": 2,
            "linecolor": "#EBF0F8",
            "showbackground": true,
            "ticks": "",
            "zerolinecolor": "#EBF0F8"
           }
          },
          "shapedefaults": {
           "line": {
            "color": "#2a3f5f"
           }
          },
          "ternary": {
           "aaxis": {
            "gridcolor": "#DFE8F3",
            "linecolor": "#A2B1C6",
            "ticks": ""
           },
           "baxis": {
            "gridcolor": "#DFE8F3",
            "linecolor": "#A2B1C6",
            "ticks": ""
           },
           "bgcolor": "white",
           "caxis": {
            "gridcolor": "#DFE8F3",
            "linecolor": "#A2B1C6",
            "ticks": ""
           }
          },
          "title": {
           "x": 0.05
          },
          "xaxis": {
           "automargin": true,
           "gridcolor": "#EBF0F8",
           "linecolor": "#EBF0F8",
           "ticks": "",
           "title": {
            "standoff": 15
           },
           "zerolinecolor": "#EBF0F8",
           "zerolinewidth": 2
          },
          "yaxis": {
           "automargin": true,
           "gridcolor": "#EBF0F8",
           "linecolor": "#EBF0F8",
           "ticks": "",
           "title": {
            "standoff": 15
           },
           "zerolinecolor": "#EBF0F8",
           "zerolinewidth": 2
          }
         }
        },
        "title": {
         "text": "🚨 Monthly Profit Anomalies"
        },
        "xaxis": {
         "anchor": "y",
         "domain": [
          0,
          1
         ],
         "title": {
          "text": "month"
         }
        },
        "yaxis": {
         "anchor": "x",
         "domain": [
          0,
          1
         ],
         "title": {
          "text": "profit"
         }
        }
       }
      }
     },
     "metadata": {},
     "output_type": "display_data"
    }
   ],
   "source": [
    "fig = px.scatter(monthly_profit, x='month', y='profit',\n",
    "                 color='anomaly', title='🚨 Monthly Profit Anomalies',\n",
    "                 color_discrete_map={'Normal': 'green', 'Anomaly': 'orange'},\n",
    "                 template='plotly_white')\n",
    "\n",
    "fig.add_scatter(x=monthly_profit['month'], y=monthly_profit['profit'],\n",
    "                mode='lines', name='Profit', line=dict(color='gray'))\n",
    "\n",
    "fig.show()\n"
   ]
  },
  {
   "cell_type": "code",
   "execution_count": 185,
   "metadata": {},
   "outputs": [],
   "source": [
    "# save the anomaly data\n",
    "#monthly_revenue.to_csv(\"monthly_revenue_anomalies.csv\", index=False)\n",
    "#monthly_profit.to_csv(\"monthly_profit_anomalies.csv\", index=False)"
   ]
  },
  {
   "cell_type": "markdown",
   "metadata": {},
   "source": [
    "# Customer Segmentation & Behavior Analysis"
   ]
  },
  {
   "cell_type": "markdown",
   "metadata": {},
   "source": [
    "Customer Features for Segmentation"
   ]
  },
  {
   "cell_type": "markdown",
   "metadata": {},
   "source": [
    "Scale Features and Apply KMeans Clustering(unsupervised machine learning)"
   ]
  },
  {
   "cell_type": "code",
   "execution_count": 186,
   "metadata": {},
   "outputs": [
    {
     "data": {
      "text/html": [
       "<div>\n",
       "<style scoped>\n",
       "    .dataframe tbody tr th:only-of-type {\n",
       "        vertical-align: middle;\n",
       "    }\n",
       "\n",
       "    .dataframe tbody tr th {\n",
       "        vertical-align: top;\n",
       "    }\n",
       "\n",
       "    .dataframe thead th {\n",
       "        text-align: right;\n",
       "    }\n",
       "</style>\n",
       "<table border=\"1\" class=\"dataframe\">\n",
       "  <thead>\n",
       "    <tr style=\"text-align: right;\">\n",
       "      <th></th>\n",
       "      <th>customer_id</th>\n",
       "      <th>total_sales</th>\n",
       "      <th>total_profit</th>\n",
       "      <th>order_count</th>\n",
       "      <th>days_since_last_order</th>\n",
       "      <th>avg_order_value</th>\n",
       "    </tr>\n",
       "  </thead>\n",
       "  <tbody>\n",
       "    <tr>\n",
       "      <th>0</th>\n",
       "      <td>AA-10315</td>\n",
       "      <td>5563.560</td>\n",
       "      <td>-362.8825</td>\n",
       "      <td>5</td>\n",
       "      <td>184</td>\n",
       "      <td>1112.712000</td>\n",
       "    </tr>\n",
       "    <tr>\n",
       "      <th>1</th>\n",
       "      <td>AA-10375</td>\n",
       "      <td>1056.390</td>\n",
       "      <td>277.3824</td>\n",
       "      <td>9</td>\n",
       "      <td>19</td>\n",
       "      <td>117.376667</td>\n",
       "    </tr>\n",
       "    <tr>\n",
       "      <th>2</th>\n",
       "      <td>AA-10480</td>\n",
       "      <td>1790.512</td>\n",
       "      <td>435.8274</td>\n",
       "      <td>4</td>\n",
       "      <td>259</td>\n",
       "      <td>447.628000</td>\n",
       "    </tr>\n",
       "    <tr>\n",
       "      <th>3</th>\n",
       "      <td>AA-10645</td>\n",
       "      <td>5086.935</td>\n",
       "      <td>857.8033</td>\n",
       "      <td>6</td>\n",
       "      <td>55</td>\n",
       "      <td>847.822500</td>\n",
       "    </tr>\n",
       "    <tr>\n",
       "      <th>4</th>\n",
       "      <td>AB-10015</td>\n",
       "      <td>886.156</td>\n",
       "      <td>129.3465</td>\n",
       "      <td>3</td>\n",
       "      <td>415</td>\n",
       "      <td>295.385333</td>\n",
       "    </tr>\n",
       "  </tbody>\n",
       "</table>\n",
       "</div>"
      ],
      "text/plain": [
       "  customer_id  total_sales  total_profit  order_count  days_since_last_order  \\\n",
       "0    AA-10315     5563.560     -362.8825            5                    184   \n",
       "1    AA-10375     1056.390      277.3824            9                     19   \n",
       "2    AA-10480     1790.512      435.8274            4                    259   \n",
       "3    AA-10645     5086.935      857.8033            6                     55   \n",
       "4    AB-10015      886.156      129.3465            3                    415   \n",
       "\n",
       "   avg_order_value  \n",
       "0      1112.712000  \n",
       "1       117.376667  \n",
       "2       447.628000  \n",
       "3       847.822500  \n",
       "4       295.385333  "
      ]
     },
     "execution_count": 186,
     "metadata": {},
     "output_type": "execute_result"
    }
   ],
   "source": [
    "from datetime import datetime\n",
    "\n",
    "# Prepare features again (in case we need fresh ones)\n",
    "latest_date = df['order_date'].max()\n",
    "customer_features = df.groupby('customer_id').agg({\n",
    "    'sales': 'sum',\n",
    "    'profit': 'sum',\n",
    "    'order_id': 'nunique',\n",
    "    'order_date': lambda x: (latest_date - x.max()).days\n",
    "}).reset_index()\n",
    "\n",
    "customer_features['avg_order_value'] = customer_features['sales'] / customer_features['order_id']\n",
    "customer_features.columns = ['customer_id', 'total_sales', 'total_profit', 'order_count', 'days_since_last_order', 'avg_order_value']\n",
    "customer_features.head()\n"
   ]
  },
  {
   "cell_type": "code",
   "execution_count": 187,
   "metadata": {},
   "outputs": [],
   "source": [
    "from sklearn.cluster import KMeans\n",
    "from sklearn.preprocessing import StandardScaler\n",
    "\n",
    "# Select features\n",
    "features_for_segmentation = ['total_sales', 'total_profit', 'order_count', 'avg_order_value', 'days_since_last_order']\n",
    "X = customer_features[features_for_segmentation]\n",
    "\n",
    "# Scale\n",
    "scaler = StandardScaler()\n",
    "X_scaled = scaler.fit_transform(X)\n",
    "\n",
    "# Fit KMeans\n",
    "kmeans = KMeans(n_clusters=4, random_state=42)\n",
    "customer_features['segment'] = kmeans.fit_predict(X_scaled)\n",
    "\n"
   ]
  },
  {
   "cell_type": "markdown",
   "metadata": {},
   "source": [
    "Visualize customer segments"
   ]
  },
  {
   "cell_type": "code",
   "execution_count": 188,
   "metadata": {},
   "outputs": [
    {
     "data": {
      "application/vnd.plotly.v1+json": {
       "config": {
        "plotlyServerURL": "https://plot.ly"
       },
       "data": [
        {
         "domain": {
          "x": [
           0,
           1
          ],
          "y": [
           0,
           1
          ]
         },
         "hovertemplate": "segment=%{label}<br>count=%{value}<extra></extra>",
         "labels": [
          "High Value",
          "Low Value",
          "Medium Value",
          "At Risk"
         ],
         "legendgroup": "",
         "name": "",
         "showlegend": true,
         "type": "pie",
         "values": {
          "bdata": "0wHPAGoADQA=",
          "dtype": "i2"
         }
        }
       ],
       "layout": {
        "legend": {
         "tracegroupgap": 0
        },
        "piecolorway": [
         "#0d0887",
         "#46039f",
         "#7201a8",
         "#9c179e",
         "#bd3786",
         "#d8576b",
         "#ed7953",
         "#fb9f3a",
         "#fdca26",
         "#f0f921"
        ],
        "template": {
         "data": {
          "bar": [
           {
            "error_x": {
             "color": "#2a3f5f"
            },
            "error_y": {
             "color": "#2a3f5f"
            },
            "marker": {
             "line": {
              "color": "#E5ECF6",
              "width": 0.5
             },
             "pattern": {
              "fillmode": "overlay",
              "size": 10,
              "solidity": 0.2
             }
            },
            "type": "bar"
           }
          ],
          "barpolar": [
           {
            "marker": {
             "line": {
              "color": "#E5ECF6",
              "width": 0.5
             },
             "pattern": {
              "fillmode": "overlay",
              "size": 10,
              "solidity": 0.2
             }
            },
            "type": "barpolar"
           }
          ],
          "carpet": [
           {
            "aaxis": {
             "endlinecolor": "#2a3f5f",
             "gridcolor": "white",
             "linecolor": "white",
             "minorgridcolor": "white",
             "startlinecolor": "#2a3f5f"
            },
            "baxis": {
             "endlinecolor": "#2a3f5f",
             "gridcolor": "white",
             "linecolor": "white",
             "minorgridcolor": "white",
             "startlinecolor": "#2a3f5f"
            },
            "type": "carpet"
           }
          ],
          "choropleth": [
           {
            "colorbar": {
             "outlinewidth": 0,
             "ticks": ""
            },
            "type": "choropleth"
           }
          ],
          "contour": [
           {
            "colorbar": {
             "outlinewidth": 0,
             "ticks": ""
            },
            "colorscale": [
             [
              0,
              "#0d0887"
             ],
             [
              0.1111111111111111,
              "#46039f"
             ],
             [
              0.2222222222222222,
              "#7201a8"
             ],
             [
              0.3333333333333333,
              "#9c179e"
             ],
             [
              0.4444444444444444,
              "#bd3786"
             ],
             [
              0.5555555555555556,
              "#d8576b"
             ],
             [
              0.6666666666666666,
              "#ed7953"
             ],
             [
              0.7777777777777778,
              "#fb9f3a"
             ],
             [
              0.8888888888888888,
              "#fdca26"
             ],
             [
              1,
              "#f0f921"
             ]
            ],
            "type": "contour"
           }
          ],
          "contourcarpet": [
           {
            "colorbar": {
             "outlinewidth": 0,
             "ticks": ""
            },
            "type": "contourcarpet"
           }
          ],
          "heatmap": [
           {
            "colorbar": {
             "outlinewidth": 0,
             "ticks": ""
            },
            "colorscale": [
             [
              0,
              "#0d0887"
             ],
             [
              0.1111111111111111,
              "#46039f"
             ],
             [
              0.2222222222222222,
              "#7201a8"
             ],
             [
              0.3333333333333333,
              "#9c179e"
             ],
             [
              0.4444444444444444,
              "#bd3786"
             ],
             [
              0.5555555555555556,
              "#d8576b"
             ],
             [
              0.6666666666666666,
              "#ed7953"
             ],
             [
              0.7777777777777778,
              "#fb9f3a"
             ],
             [
              0.8888888888888888,
              "#fdca26"
             ],
             [
              1,
              "#f0f921"
             ]
            ],
            "type": "heatmap"
           }
          ],
          "histogram": [
           {
            "marker": {
             "pattern": {
              "fillmode": "overlay",
              "size": 10,
              "solidity": 0.2
             }
            },
            "type": "histogram"
           }
          ],
          "histogram2d": [
           {
            "colorbar": {
             "outlinewidth": 0,
             "ticks": ""
            },
            "colorscale": [
             [
              0,
              "#0d0887"
             ],
             [
              0.1111111111111111,
              "#46039f"
             ],
             [
              0.2222222222222222,
              "#7201a8"
             ],
             [
              0.3333333333333333,
              "#9c179e"
             ],
             [
              0.4444444444444444,
              "#bd3786"
             ],
             [
              0.5555555555555556,
              "#d8576b"
             ],
             [
              0.6666666666666666,
              "#ed7953"
             ],
             [
              0.7777777777777778,
              "#fb9f3a"
             ],
             [
              0.8888888888888888,
              "#fdca26"
             ],
             [
              1,
              "#f0f921"
             ]
            ],
            "type": "histogram2d"
           }
          ],
          "histogram2dcontour": [
           {
            "colorbar": {
             "outlinewidth": 0,
             "ticks": ""
            },
            "colorscale": [
             [
              0,
              "#0d0887"
             ],
             [
              0.1111111111111111,
              "#46039f"
             ],
             [
              0.2222222222222222,
              "#7201a8"
             ],
             [
              0.3333333333333333,
              "#9c179e"
             ],
             [
              0.4444444444444444,
              "#bd3786"
             ],
             [
              0.5555555555555556,
              "#d8576b"
             ],
             [
              0.6666666666666666,
              "#ed7953"
             ],
             [
              0.7777777777777778,
              "#fb9f3a"
             ],
             [
              0.8888888888888888,
              "#fdca26"
             ],
             [
              1,
              "#f0f921"
             ]
            ],
            "type": "histogram2dcontour"
           }
          ],
          "mesh3d": [
           {
            "colorbar": {
             "outlinewidth": 0,
             "ticks": ""
            },
            "type": "mesh3d"
           }
          ],
          "parcoords": [
           {
            "line": {
             "colorbar": {
              "outlinewidth": 0,
              "ticks": ""
             }
            },
            "type": "parcoords"
           }
          ],
          "pie": [
           {
            "automargin": true,
            "type": "pie"
           }
          ],
          "scatter": [
           {
            "fillpattern": {
             "fillmode": "overlay",
             "size": 10,
             "solidity": 0.2
            },
            "type": "scatter"
           }
          ],
          "scatter3d": [
           {
            "line": {
             "colorbar": {
              "outlinewidth": 0,
              "ticks": ""
             }
            },
            "marker": {
             "colorbar": {
              "outlinewidth": 0,
              "ticks": ""
             }
            },
            "type": "scatter3d"
           }
          ],
          "scattercarpet": [
           {
            "marker": {
             "colorbar": {
              "outlinewidth": 0,
              "ticks": ""
             }
            },
            "type": "scattercarpet"
           }
          ],
          "scattergeo": [
           {
            "marker": {
             "colorbar": {
              "outlinewidth": 0,
              "ticks": ""
             }
            },
            "type": "scattergeo"
           }
          ],
          "scattergl": [
           {
            "marker": {
             "colorbar": {
              "outlinewidth": 0,
              "ticks": ""
             }
            },
            "type": "scattergl"
           }
          ],
          "scattermap": [
           {
            "marker": {
             "colorbar": {
              "outlinewidth": 0,
              "ticks": ""
             }
            },
            "type": "scattermap"
           }
          ],
          "scattermapbox": [
           {
            "marker": {
             "colorbar": {
              "outlinewidth": 0,
              "ticks": ""
             }
            },
            "type": "scattermapbox"
           }
          ],
          "scatterpolar": [
           {
            "marker": {
             "colorbar": {
              "outlinewidth": 0,
              "ticks": ""
             }
            },
            "type": "scatterpolar"
           }
          ],
          "scatterpolargl": [
           {
            "marker": {
             "colorbar": {
              "outlinewidth": 0,
              "ticks": ""
             }
            },
            "type": "scatterpolargl"
           }
          ],
          "scatterternary": [
           {
            "marker": {
             "colorbar": {
              "outlinewidth": 0,
              "ticks": ""
             }
            },
            "type": "scatterternary"
           }
          ],
          "surface": [
           {
            "colorbar": {
             "outlinewidth": 0,
             "ticks": ""
            },
            "colorscale": [
             [
              0,
              "#0d0887"
             ],
             [
              0.1111111111111111,
              "#46039f"
             ],
             [
              0.2222222222222222,
              "#7201a8"
             ],
             [
              0.3333333333333333,
              "#9c179e"
             ],
             [
              0.4444444444444444,
              "#bd3786"
             ],
             [
              0.5555555555555556,
              "#d8576b"
             ],
             [
              0.6666666666666666,
              "#ed7953"
             ],
             [
              0.7777777777777778,
              "#fb9f3a"
             ],
             [
              0.8888888888888888,
              "#fdca26"
             ],
             [
              1,
              "#f0f921"
             ]
            ],
            "type": "surface"
           }
          ],
          "table": [
           {
            "cells": {
             "fill": {
              "color": "#EBF0F8"
             },
             "line": {
              "color": "white"
             }
            },
            "header": {
             "fill": {
              "color": "#C8D4E3"
             },
             "line": {
              "color": "white"
             }
            },
            "type": "table"
           }
          ]
         },
         "layout": {
          "annotationdefaults": {
           "arrowcolor": "#2a3f5f",
           "arrowhead": 0,
           "arrowwidth": 1
          },
          "autotypenumbers": "strict",
          "coloraxis": {
           "colorbar": {
            "outlinewidth": 0,
            "ticks": ""
           }
          },
          "colorscale": {
           "diverging": [
            [
             0,
             "#8e0152"
            ],
            [
             0.1,
             "#c51b7d"
            ],
            [
             0.2,
             "#de77ae"
            ],
            [
             0.3,
             "#f1b6da"
            ],
            [
             0.4,
             "#fde0ef"
            ],
            [
             0.5,
             "#f7f7f7"
            ],
            [
             0.6,
             "#e6f5d0"
            ],
            [
             0.7,
             "#b8e186"
            ],
            [
             0.8,
             "#7fbc41"
            ],
            [
             0.9,
             "#4d9221"
            ],
            [
             1,
             "#276419"
            ]
           ],
           "sequential": [
            [
             0,
             "#0d0887"
            ],
            [
             0.1111111111111111,
             "#46039f"
            ],
            [
             0.2222222222222222,
             "#7201a8"
            ],
            [
             0.3333333333333333,
             "#9c179e"
            ],
            [
             0.4444444444444444,
             "#bd3786"
            ],
            [
             0.5555555555555556,
             "#d8576b"
            ],
            [
             0.6666666666666666,
             "#ed7953"
            ],
            [
             0.7777777777777778,
             "#fb9f3a"
            ],
            [
             0.8888888888888888,
             "#fdca26"
            ],
            [
             1,
             "#f0f921"
            ]
           ],
           "sequentialminus": [
            [
             0,
             "#0d0887"
            ],
            [
             0.1111111111111111,
             "#46039f"
            ],
            [
             0.2222222222222222,
             "#7201a8"
            ],
            [
             0.3333333333333333,
             "#9c179e"
            ],
            [
             0.4444444444444444,
             "#bd3786"
            ],
            [
             0.5555555555555556,
             "#d8576b"
            ],
            [
             0.6666666666666666,
             "#ed7953"
            ],
            [
             0.7777777777777778,
             "#fb9f3a"
            ],
            [
             0.8888888888888888,
             "#fdca26"
            ],
            [
             1,
             "#f0f921"
            ]
           ]
          },
          "colorway": [
           "#636efa",
           "#EF553B",
           "#00cc96",
           "#ab63fa",
           "#FFA15A",
           "#19d3f3",
           "#FF6692",
           "#B6E880",
           "#FF97FF",
           "#FECB52"
          ],
          "font": {
           "color": "#2a3f5f"
          },
          "geo": {
           "bgcolor": "white",
           "lakecolor": "white",
           "landcolor": "#E5ECF6",
           "showlakes": true,
           "showland": true,
           "subunitcolor": "white"
          },
          "hoverlabel": {
           "align": "left"
          },
          "hovermode": "closest",
          "mapbox": {
           "style": "light"
          },
          "paper_bgcolor": "white",
          "plot_bgcolor": "#E5ECF6",
          "polar": {
           "angularaxis": {
            "gridcolor": "white",
            "linecolor": "white",
            "ticks": ""
           },
           "bgcolor": "#E5ECF6",
           "radialaxis": {
            "gridcolor": "white",
            "linecolor": "white",
            "ticks": ""
           }
          },
          "scene": {
           "xaxis": {
            "backgroundcolor": "#E5ECF6",
            "gridcolor": "white",
            "gridwidth": 2,
            "linecolor": "white",
            "showbackground": true,
            "ticks": "",
            "zerolinecolor": "white"
           },
           "yaxis": {
            "backgroundcolor": "#E5ECF6",
            "gridcolor": "white",
            "gridwidth": 2,
            "linecolor": "white",
            "showbackground": true,
            "ticks": "",
            "zerolinecolor": "white"
           },
           "zaxis": {
            "backgroundcolor": "#E5ECF6",
            "gridcolor": "white",
            "gridwidth": 2,
            "linecolor": "white",
            "showbackground": true,
            "ticks": "",
            "zerolinecolor": "white"
           }
          },
          "shapedefaults": {
           "line": {
            "color": "#2a3f5f"
           }
          },
          "ternary": {
           "aaxis": {
            "gridcolor": "white",
            "linecolor": "white",
            "ticks": ""
           },
           "baxis": {
            "gridcolor": "white",
            "linecolor": "white",
            "ticks": ""
           },
           "bgcolor": "#E5ECF6",
           "caxis": {
            "gridcolor": "white",
            "linecolor": "white",
            "ticks": ""
           }
          },
          "title": {
           "x": 0.05
          },
          "xaxis": {
           "automargin": true,
           "gridcolor": "white",
           "linecolor": "white",
           "ticks": "",
           "title": {
            "standoff": 15
           },
           "zerolinecolor": "white",
           "zerolinewidth": 2
          },
          "yaxis": {
           "automargin": true,
           "gridcolor": "white",
           "linecolor": "white",
           "ticks": "",
           "title": {
            "standoff": 15
           },
           "zerolinecolor": "white",
           "zerolinewidth": 2
          }
         }
        },
        "title": {
         "text": "🔍 Customer Segmentation Distribution"
        }
       }
      }
     },
     "metadata": {},
     "output_type": "display_data"
    }
   ],
   "source": [
    "# Map segments to names\n",
    "segment_mapping = {\n",
    "    0: 'High Value',\n",
    "    1: 'Medium Value',\n",
    "    2: 'Low Value',\n",
    "    3: 'At Risk'\n",
    "}\n",
    "customer_features['segment'] = customer_features['segment'].map(segment_mapping)\n",
    "# Check distribution of segments\n",
    "segment_counts = customer_features['segment'].value_counts().reset_index()\n",
    "segment_counts.columns = ['segment', 'count']\n",
    "fig = px.pie(segment_counts, names='segment', values='count',\n",
    "             title='🔍 Customer Segmentation Distribution',\n",
    "             color_discrete_sequence=px.colors.sequential.Plasma)\n",
    "fig.show()"
   ]
  },
  {
   "cell_type": "code",
   "execution_count": 189,
   "metadata": {},
   "outputs": [
    {
     "data": {
      "text/html": [
       "<div>\n",
       "<style scoped>\n",
       "    .dataframe tbody tr th:only-of-type {\n",
       "        vertical-align: middle;\n",
       "    }\n",
       "\n",
       "    .dataframe tbody tr th {\n",
       "        vertical-align: top;\n",
       "    }\n",
       "\n",
       "    .dataframe thead th {\n",
       "        text-align: right;\n",
       "    }\n",
       "</style>\n",
       "<table border=\"1\" class=\"dataframe\">\n",
       "  <thead>\n",
       "    <tr style=\"text-align: right;\">\n",
       "      <th></th>\n",
       "      <th>customer_id</th>\n",
       "      <th>total_sales</th>\n",
       "      <th>total_profit</th>\n",
       "      <th>order_count</th>\n",
       "      <th>days_since_last_order</th>\n",
       "      <th>avg_order_value</th>\n",
       "      <th>segment</th>\n",
       "    </tr>\n",
       "  </thead>\n",
       "  <tbody>\n",
       "    <tr>\n",
       "      <th>0</th>\n",
       "      <td>AA-10315</td>\n",
       "      <td>5563.560</td>\n",
       "      <td>-362.8825</td>\n",
       "      <td>5</td>\n",
       "      <td>184</td>\n",
       "      <td>1112.712000</td>\n",
       "      <td>Low Value</td>\n",
       "    </tr>\n",
       "    <tr>\n",
       "      <th>1</th>\n",
       "      <td>AA-10375</td>\n",
       "      <td>1056.390</td>\n",
       "      <td>277.3824</td>\n",
       "      <td>9</td>\n",
       "      <td>19</td>\n",
       "      <td>117.376667</td>\n",
       "      <td>High Value</td>\n",
       "    </tr>\n",
       "    <tr>\n",
       "      <th>2</th>\n",
       "      <td>AA-10480</td>\n",
       "      <td>1790.512</td>\n",
       "      <td>435.8274</td>\n",
       "      <td>4</td>\n",
       "      <td>259</td>\n",
       "      <td>447.628000</td>\n",
       "      <td>High Value</td>\n",
       "    </tr>\n",
       "    <tr>\n",
       "      <th>3</th>\n",
       "      <td>AA-10645</td>\n",
       "      <td>5086.935</td>\n",
       "      <td>857.8033</td>\n",
       "      <td>6</td>\n",
       "      <td>55</td>\n",
       "      <td>847.822500</td>\n",
       "      <td>Low Value</td>\n",
       "    </tr>\n",
       "    <tr>\n",
       "      <th>4</th>\n",
       "      <td>AB-10015</td>\n",
       "      <td>886.156</td>\n",
       "      <td>129.3465</td>\n",
       "      <td>3</td>\n",
       "      <td>415</td>\n",
       "      <td>295.385333</td>\n",
       "      <td>Medium Value</td>\n",
       "    </tr>\n",
       "  </tbody>\n",
       "</table>\n",
       "</div>"
      ],
      "text/plain": [
       "  customer_id  total_sales  total_profit  order_count  days_since_last_order  \\\n",
       "0    AA-10315     5563.560     -362.8825            5                    184   \n",
       "1    AA-10375     1056.390      277.3824            9                     19   \n",
       "2    AA-10480     1790.512      435.8274            4                    259   \n",
       "3    AA-10645     5086.935      857.8033            6                     55   \n",
       "4    AB-10015      886.156      129.3465            3                    415   \n",
       "\n",
       "   avg_order_value       segment  \n",
       "0      1112.712000     Low Value  \n",
       "1       117.376667    High Value  \n",
       "2       447.628000    High Value  \n",
       "3       847.822500     Low Value  \n",
       "4       295.385333  Medium Value  "
      ]
     },
     "execution_count": 189,
     "metadata": {},
     "output_type": "execute_result"
    }
   ],
   "source": [
    "customer_features.head()"
   ]
  },
  {
   "cell_type": "code",
   "execution_count": 190,
   "metadata": {},
   "outputs": [
    {
     "data": {
      "application/vnd.plotly.v1+json": {
       "config": {
        "plotlyServerURL": "https://plot.ly"
       },
       "data": [
        {
         "customdata": [
          [
           "AA-10315",
           5563.56,
           5,
           184
          ],
          [
           "AA-10645",
           5086.9349999999995,
           6,
           55
          ],
          [
           "AB-10060",
           7755.62,
           8,
           54
          ],
          [
           "AC-10450",
           5527.846,
           7,
           11
          ],
          [
           "AD-10180",
           6106.88,
           8,
           29
          ],
          [
           "AG-10900",
           4510.797,
           10,
           96
          ],
          [
           "AH-10075",
           3250.337,
           10,
           34
          ],
          [
           "AH-10210",
           4805.344,
           9,
           6
          ],
          [
           "AH-10690",
           7888.294,
           12,
           410
          ],
          [
           "AI-10855",
           4375.786,
           10,
           13
          ],
          [
           "AJ-10780",
           4867.344,
           7,
           75
          ],
          [
           "AJ-10795",
           4501.391,
           7,
           166
          ],
          [
           "AM-10705",
           5664.022,
           8,
           162
          ],
          [
           "AP-10915",
           3323.556,
           10,
           98
          ],
          [
           "AR-10540",
           6608.448,
           6,
           6
          ],
          [
           "AR-10825",
           4523.336,
           8,
           58
          ],
          [
           "AS-10225",
           4260.784,
           5,
           22
          ],
          [
           "AT-10735",
           3831.864,
           10,
           13
          ],
          [
           "BB-11545",
           6765.728,
           9,
           28
          ],
          [
           "BD-11320",
           5718.521,
           12,
           33
          ],
          [
           "BD-11500",
           4411.2429999999995,
           6,
           35
          ],
          [
           "BE-11335",
           4204.676,
           5,
           119
          ],
          [
           "BF-11170",
           5907.972,
           11,
           16
          ],
          [
           "BH-11710",
           6255.351,
           8,
           23
          ],
          [
           "BM-11650",
           7294.185,
           11,
           33
          ],
          [
           "BP-11095",
           2442.044,
           12,
           17
          ],
          [
           "BP-11185",
           3675.861,
           9,
           1
          ],
          [
           "BW-11110",
           4750.358,
           8,
           121
          ],
          [
           "CA-11965",
           3789.7228,
           6,
           96
          ],
          [
           "CB-12025",
           6076.139,
           10,
           47
          ],
          [
           "CB-12535",
           4246.4555,
           8,
           197
          ],
          [
           "CC-12220",
           3913.418,
           12,
           20
          ],
          [
           "CC-12430",
           2870.05,
           10,
           0
          ],
          [
           "CJ-12010",
           11164.974,
           8,
           189
          ],
          [
           "CK-12205",
           3154.855,
           13,
           39
          ],
          [
           "CK-12595",
           2372.75,
           11,
           43
          ],
          [
           "CL-12565",
           10880.546,
           12,
           284
          ],
          [
           "CM-12655",
           6339.5576,
           6,
           27
          ],
          [
           "CP-12085",
           5402.254,
           8,
           82
          ],
          [
           "CS-11950",
           3036.547,
           11,
           25
          ],
          [
           "CS-12250",
           2754.216,
           12,
           26
          ],
          [
           "CS-12355",
           3202.1620000000003,
           11,
           6
          ],
          [
           "DB-13060",
           4531.646,
           7,
           16
          ],
          [
           "DB-13270",
           4655.897,
           8,
           53
          ],
          [
           "DH-13075",
           4932.872,
           6,
           277
          ],
          [
           "DK-12835",
           3256.48,
           12,
           21
          ],
          [
           "DK-12895",
           4282.176,
           5,
           45
          ],
          [
           "DK-13225",
           4802.394,
           9,
           10
          ],
          [
           "DM-13015",
           6345.103,
           7,
           57
          ],
          [
           "DM-13345",
           4074.4719999999998,
           8,
           22
          ],
          [
           "DP-13390",
           5480.723999999999,
           9,
           358
          ],
          [
           "DR-12880",
           6528.034000000001,
           9,
           3
          ],
          [
           "DR-12940",
           8350.868,
           8,
           50
          ],
          [
           "DW-13480",
           5271.628,
           5,
           217
          ],
          [
           "Dp-13240",
           7198.7609999999995,
           11,
           84
          ],
          [
           "EA-14035",
           2846.705,
           13,
           152
          ],
          [
           "EB-13705",
           3644.978,
           9,
           48
          ],
          [
           "EB-13750",
           3236.314,
           10,
           35
          ],
          [
           "EB-13840",
           4358.128,
           5,
           90
          ],
          [
           "EB-13870",
           2767.219,
           10,
           100
          ],
          [
           "ED-13885",
           3484.92,
           8,
           135
          ],
          [
           "EH-13765",
           10310.880000000001,
           12,
           135
          ],
          [
           "EH-14125",
           3082.653,
           10,
           152
          ],
          [
           "EM-14140",
           4588.436000000001,
           6,
           48
          ],
          [
           "EP-13915",
           5478.0608,
           17,
           12
          ],
          [
           "ES-14080",
           4657.924,
           9,
           28
          ],
          [
           "FC-14245",
           3418.742,
           7,
           70
          ],
          [
           "FC-14335",
           3889.366,
           7,
           184
          ],
          [
           "FH-14275",
           4256.272,
           10,
           37
          ],
          [
           "FH-14365",
           6987.196,
           8,
           5
          ],
          [
           "FM-14290",
           3736.198,
           9,
           36
          ],
          [
           "FP-14320",
           4046.746,
           8,
           23
          ],
          [
           "GA-14515",
           3919.7760000000003,
           8,
           149
          ],
          [
           "GB-14575",
           4716.288,
           5,
           13
          ],
          [
           "GH-14425",
           4172.8460000000005,
           4,
           50
          ],
          [
           "GK-14620",
           6497.27,
           9,
           112
          ],
          [
           "GM-14695",
           6049.966,
           3,
           117
          ],
          [
           "GT-14635",
           9351.212,
           3,
           56
          ],
          [
           "GT-14710",
           11820.119999999999,
           11,
           36
          ],
          [
           "GZ-14470",
           4355.150000000001,
           9,
           7
          ],
          [
           "HG-15025",
           3690.284,
           7,
           6
          ],
          [
           "HK-14890",
           4877.784,
           8,
           151
          ],
          [
           "HM-14860",
           8236.7648,
           10,
           2
          ],
          [
           "HR-14830",
           5248.787,
           7,
           159
          ],
          [
           "HW-14935",
           9300.254,
           8,
           117
          ],
          [
           "IL-15100",
           5040.736,
           7,
           142
          ],
          [
           "IM-15070",
           4930.474,
           7,
           390
          ],
          [
           "JA-15970",
           6491.026,
           8,
           92
          ],
          [
           "JD-15895",
           7610.8640000000005,
           11,
           394
          ],
          [
           "JD-16150",
           8828.0305,
           8,
           41
          ],
          [
           "JE-15610",
           7754.976,
           7,
           48
          ],
          [
           "JE-15715",
           8697.842999999999,
           10,
           46
          ],
          [
           "JE-15745",
           6760.8150000000005,
           13,
           51
          ],
          [
           "JF-15565",
           4198.332,
           8,
           54
          ],
          [
           "JG-15160",
           6366.392,
           11,
           1
          ],
          [
           "JH-15985",
           7954.9980000000005,
           6,
           29
          ],
          [
           "JK-15205",
           4427.142,
           5,
           61
          ],
          [
           "JK-15625",
           3760.028,
           7,
           61
          ],
          [
           "JK-15640",
           4760.434,
           9,
           180
          ],
          [
           "JK-15730",
           4867.2,
           10,
           84
          ],
          [
           "JK-16120",
           2932.484,
           10,
           117
          ],
          [
           "JL-15835",
           9799.923,
           11,
           21
          ],
          [
           "JM-15865",
           7625.076000000001,
           7,
           109
          ],
          [
           "JM-16195",
           2833.9260000000004,
           10,
           57
          ],
          [
           "JO-15145",
           3254.949,
           9,
           57
          ],
          [
           "JP-15520",
           3635.594,
           7,
           8
          ],
          [
           "JW-15220",
           7721.714,
           6,
           42
          ],
          [
           "KB-16585",
           2744.742,
           12,
           230
          ],
          [
           "KD-16270",
           8282.358,
           5,
           484
          ],
          [
           "KD-16495",
           8181.256,
           12,
           112
          ],
          [
           "KF-16285",
           10604.266,
           7,
           97
          ],
          [
           "KH-16510",
           5952.859,
           7,
           22
          ],
          [
           "KH-16630",
           3918.9660000000003,
           9,
           58
          ],
          [
           "KH-16690",
           5990.799,
           7,
           2
          ],
          [
           "KL-16555",
           5016.488,
           8,
           16
          ],
          [
           "KL-16645",
           14175.229000000001,
           12,
           47
          ],
          [
           "KM-16375",
           5620.186,
           8,
           56
          ],
          [
           "KM-16720",
           4909.472,
           8,
           28
          ],
          [
           "KT-16480",
           4642.088400000001,
           10,
           100
          ],
          [
           "KW-16435",
           4416.5199999999995,
           5,
           96
          ],
          [
           "LA-16780",
           8673.222,
           11,
           154
          ],
          [
           "LB-16795",
           4985.676,
           8,
           152
          ],
          [
           "LC-16885",
           7663.126,
           12,
           16
          ],
          [
           "LC-16930",
           4492.946,
           8,
           41
          ],
          [
           "LR-16915",
           5142.892,
           6,
           26
          ],
          [
           "LW-17215",
           5420.514,
           7,
           21
          ],
          [
           "MA-17560",
           4299.161,
           11,
           64
          ],
          [
           "MC-17425",
           4432.138,
           5,
           399
          ],
          [
           "MC-17845",
           3805.714,
           7,
           1
          ],
          [
           "ME-17320",
           10663.728000000001,
           10,
           42
          ],
          [
           "MH-18115",
           5503.093,
           9,
           5
          ],
          [
           "MJ-17740",
           6320.746,
           7,
           22
          ],
          [
           "ML-17395",
           2722.843,
           9,
           69
          ],
          [
           "MM-17920",
           3794.0800000000004,
           11,
           7
          ],
          [
           "MP-17965",
           3983.6420000000003,
           9,
           72
          ],
          [
           "MP-18175",
           5087.92,
           9,
           16
          ],
          [
           "MS-17365",
           7443.6900000000005,
           10,
           273
          ],
          [
           "MW-18220",
           5341.900000000001,
           7,
           17
          ],
          [
           "MY-18295",
           4152.696,
           11,
           71
          ],
          [
           "NC-18535",
           8241.739,
           7,
           6
          ],
          [
           "ND-18370",
           4326.139,
           9,
           27
          ],
          [
           "NF-18385",
           8322.826,
           7,
           79
          ],
          [
           "NM-18445",
           6459.344,
           7,
           160
          ],
          [
           "NM-18520",
           2161.979,
           10,
           244
          ],
          [
           "NP-18325",
           5529.62,
           6,
           25
          ],
          [
           "NP-18700",
           7903.1825,
           7,
           138
          ],
          [
           "NS-18640",
           2964.823,
           13,
           174
          ],
          [
           "NW-18400",
           7234.014,
           7,
           172
          ],
          [
           "PG-18820",
           3086.907,
           13,
           36
          ],
          [
           "PK-19075",
           8646.934,
           12,
           9
          ],
          [
           "PO-18850",
           7473.8282,
           11,
           4
          ],
          [
           "PO-19180",
           4893.043,
           9,
           160
          ],
          [
           "PP-18955",
           7252.608,
           10,
           97
          ],
          [
           "PS-19045",
           6843.634,
           7,
           236
          ],
          [
           "PW-19030",
           3454.916,
           10,
           46
          ],
          [
           "QJ-19255",
           6108.338,
           9,
           25
          ],
          [
           "RA-19885",
           3832.314,
           7,
           43
          ],
          [
           "RA-19915",
           4793.543,
           9,
           12
          ],
          [
           "RB-19465",
           4715.466,
           12,
           9
          ],
          [
           "RB-19795",
           5633.316000000001,
           8,
           32
          ],
          [
           "RD-19480",
           4272.93,
           8,
           72
          ],
          [
           "RD-19585",
           2912.8940000000002,
           10,
           180
          ],
          [
           "RD-19900",
           3133.924,
           9,
           114
          ],
          [
           "RF-19345",
           3309.15,
           8,
           390
          ],
          [
           "RH-19510",
           6979.18,
           6,
           467
          ],
          [
           "RL-19615",
           6234.91,
           8,
           121
          ],
          [
           "RM-19675",
           5979.0960000000005,
           5,
           6
          ],
          [
           "RP-19390",
           5153.084,
           12,
           33
          ],
          [
           "RS-19765",
           4159.7699999999995,
           8,
           36
          ],
          [
           "RW-19540",
           7397.401,
           7,
           120
          ],
          [
           "RW-19630",
           3279.746,
           9,
           89
          ],
          [
           "SA-20830",
           4767.3415,
           10,
           63
          ],
          [
           "SB-20185",
           6410.996,
           6,
           188
          ],
          [
           "SB-20290",
           8057.891,
           7,
           47
          ],
          [
           "SC-20050",
           4624.572,
           9,
           40
          ],
          [
           "SC-20230",
           4371.9580000000005,
           4,
           149
          ],
          [
           "SC-20260",
           3729.7929999999997,
           8,
           187
          ],
          [
           "SC-20380",
           5992.536,
           9,
           30
          ],
          [
           "SC-20695",
           2576.408,
           10,
           89
          ],
          [
           "SC-20725",
           5226.21,
           11,
           187
          ],
          [
           "SD-20485",
           6121.114,
           9,
           200
          ],
          [
           "SE-20110",
           12209.438000000002,
           11,
           9
          ],
          [
           "SF-20200",
           3422.7859999999996,
           9,
           59
          ],
          [
           "SF-20965",
           3336.535,
           9,
           48
          ],
          [
           "SH-19975",
           3406.8395,
           13,
           29
          ],
          [
           "SJ-20125",
           3949.656,
           12,
           95
          ],
          [
           "SM-20950",
           5563.392,
           12,
           25
          ],
          [
           "SP-20620",
           5440.319,
           9,
           47
          ],
          [
           "SP-20860",
           4282.94,
           10,
           79
          ],
          [
           "SR-20740",
           4345.8859999999995,
           8,
           196
          ],
          [
           "SV-20365",
           11470.949999999999,
           10,
           101
          ],
          [
           "SV-20785",
           4105.305,
           9,
           320
          ],
          [
           "SZ-20035",
           3625.329,
           11,
           35
          ],
          [
           "TB-21400",
           9133.99,
           7,
           202
          ],
          [
           "TC-21295",
           4266.812,
           8,
           27
          ],
          [
           "TP-21130",
           4454.0560000000005,
           9,
           8
          ],
          [
           "TS-21205",
           5371.09,
           7,
           198
          ],
          [
           "TT-21070",
           4915.602,
           7,
           31
          ],
          [
           "TT-21460",
           5364.808,
           7,
           12
          ],
          [
           "TW-21025",
           5278.826,
           7,
           64
          ],
          [
           "VD-21670",
           6442.254,
           6,
           581
          ],
          [
           "VW-21775",
           6134.0380000000005,
           10,
           28
          ],
          [
           "WB-21850",
           6160.102,
           11,
           20
          ],
          [
           "XP-21865",
           2374.658,
           11,
           43
          ],
          [
           "YC-21895",
           5454.35,
           5,
           4
          ],
          [
           "YS-21880",
           6720.4439999999995,
           8,
           9
          ],
          [
           "ZC-21910",
           8025.707,
           13,
           54
          ]
         ],
         "hovertemplate": "segment=Low Value<br>PC1=%{x}<br>PC2=%{y}<br>customer_id=%{customdata[0]}<br>total_sales=%{customdata[1]}<br>order_count=%{customdata[2]}<br>days_since_last_order=%{customdata[3]}<extra></extra>",
         "legendgroup": "Low Value",
         "marker": {
          "color": "#636efa",
          "symbol": "circle"
         },
         "mode": "markers",
         "name": "Low Value",
         "orientation": "v",
         "showlegend": true,
         "type": "scatter",
         "x": {
          "bdata": "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",
          "dtype": "f8"
         },
         "xaxis": "x",
         "y": {
          "bdata": "2Siw5oXg7j+FVb0C+RTKP2iirbfW0bA/idZpFa18xL+xxZJ6WjvRv60Dofxe1/C/eeNylpzO9r97zdu24hvtv0Z1qXRdQXE/tu1bkTic9L9STfVsuffKvyoe4EInNcw/jJGSZfHloT/bfuWHvjvyv9k7/seq3uI/DemlOKGh4r/MzmJU54vSP9qnY5cWTvW/rAirF/iD5L9iVdsasqH5v7XCM0ZP9q8/lD6Pk83y5z8AD8OCGbv0v3jQRMmn2Nu/uAS9IrG3778wLeN1EpkAwNpZMQ70UPO/mPAzh5GN0L95hre31BrHP4eevLG4aPG/bt33zXkJnr8tw4lwBt7+vyeJ2Fy2GPm/dHMjQLwy6j8ECNuXcdwBwBPDW1icffu/9WQ6Rjitsb9tQa1WAOLaP5SoLzn5/Ni/usPzpy77/L9C60knBnP/vy5xFLmddvu/ea3y72Ao278xp8HkUvTgv2w8sD2kjvA/D+EyO9ie/r/xKGb66UnaP1inp0yXBfG/ob69zVlDxj9L23krOKbkvwjjcmAvOt8/X2TVYg9A5b/4rGQJUkHQP9w6jhdKpPQ/HM4nR1Sh8b+KWBUS1RX+v81lmwB5gfG/p3ONc/ao979FNXEyvHXhP4WhYwq73/O/M+63TEJf2r/p0XZ4neXnvzWNT6oQtfC/QcV2DUlGxT9se1QWknAJwCI4cWymKfC/wotWxne70b8tA+MhOGbAP0zektJn7PK/YOUXycJOy78Ec1mtZZPxv0+tJJ72H+m/KgvxMQjO0b/btoxyrDXaP6y9Yl+Bres/R8pxLz1U078mTLrdY5QAQAqjokDNqQFA9LdLpePB4L9JKiEaEcvvvz8pLLQ1DOG/3azl4nNXwL/SsoTW0Drlvw8CPgP/19M/oRjQmTtt4D92kjbUo27KP5SmkxX+5e8/+NlUZZrD2b8sWAeoxlPGP5wGTlurpLc/qMz4sriy1T+97jNRrUTkv3UcgYULn/2/LTceRiWf4b+XwOCEJSf1v64Xy4WUy9Y/czWtMdhJ4T94yYJdzDPVv/DUdLoOgdO/c1//y4We8b+PGdatA/Dyv4oK9WH8SvG/K27T8xQV4T+RXB6rWQv1v4wAxDzVVfC/n7izS8xN4b/w7cg5gHzpP6+gto7dA/S/PL/FMGZ1BkCVKVWbAwXpv0/7b3YyCu4/YtTjDRRbxb8JI7/6KE7tv6GF6bwUucK/TWuK3wrD6L86HThewifpv28dYkx41de/66RZMZ5D47+uBtMKz77wv/usNn/y6ec/tNYJcuS1278V6rW4ge7Qv2h3JENwKve/AmJJP6++5b/dYuK2i/KtPyUVQpRmOcy/nGDy++FN9b+W8ZZg6LP9PxoQ7nLpm+G/7S1LqNLK1b+Zb9TlHxLwv5DufVfjoqq/ZZ4Xwm5m8L8W6TKa30b8v1ALTeAG3+u/j8SDyaAW8L+yqeCNcAOIvzoLYz+jrse/0Rx0e/cW+b8LU6C9lvLKP4X24SVhl/C/qvb72sRgmj/NZm1yqlLnP42DaS4qk+a/7M5I9eB2zD/gC+RnUR/hP+ORNEKXFf2/48D8M37c4z9VeOWmfAACwOViJeYfOvS/9TWmnuWL9r9FCdUndE3XvzgK4JUlSeK/k8G2IjD+7D/OOUjSQ3j0v/elU5Zlcua/R4aokbpj078RsS+9lrDwv7NwDc9RrP2/+CMMsuuv5b9EIVx6PiDiv3MQT6afoeu/H0fVR0ci678BUM8KrPzeP6JiOsWooQBAPSol1b61wL8payVK/+nnPzeYzFRKCvy/Pm2GXyk447+fGCindFrhPxjjQHE5Sey/kxGoV/qm8b8ROSTBlSPtP8kI0BfwGci/LMdex9VO67/j+d2SlYjyP7N0wG1lfMi/IPJwbvAM6785V6t5Fv3zv70ekJj4H+m/Im9YCfjtqz9krKWhyTrgvzNKwZIEn/C/PKo8ZrrN8L8kH/tjNnUBwGJEheptEvu/nr5OVlCX+7/5lm1Exqvtv6QxIpZorvG/l6oTJ+jOvz8PqpMUc8vBv0tT5NbRCJQ/btkdKgM7+r/v5T5zeHf0P8MTz3j4wea/t+BSptAY779P/u0nncPaP1LBmetpWdG/UI8TpEbPy78zWPSCZL25v7rJ6vmkoANA8Crky0Ts9L/85BlkYhv2v07+fUJHL/u/LyY7YuB84T+H6h3oGqHRv1T2bBH9sf6/",
          "dtype": "f8"
         },
         "yaxis": "y"
        },
        {
         "customdata": [
          [
           "AA-10375",
           1056.39,
           9,
           19
          ],
          [
           "AA-10480",
           1790.5120000000002,
           4,
           259
          ],
          [
           "AB-10150",
           966.71,
           5,
           41
          ],
          [
           "AB-10165",
           1113.838,
           8,
           25
          ],
          [
           "AB-10255",
           914.5319999999999,
           9,
           166
          ],
          [
           "AB-10600",
           1515.862,
           4,
           50
          ],
          [
           "AC-10420",
           925.8,
           3,
           232
          ],
          [
           "AC-10615",
           2537.6859999999997,
           5,
           6
          ],
          [
           "AC-10660",
           657.316,
           5,
           282
          ],
          [
           "AF-10870",
           2052.908,
           7,
           41
          ],
          [
           "AG-10270",
           2582.898,
           5,
           278
          ],
          [
           "AG-10300",
           367.548,
           4,
           118
          ],
          [
           "AG-10330",
           660.972,
           5,
           8
          ],
          [
           "AG-10390",
           200.945,
           5,
           114
          ],
          [
           "AG-10495",
           2356.855,
           8,
           78
          ],
          [
           "AG-10675",
           3489.0396000000005,
           7,
           97
          ],
          [
           "AG-10765",
           170.584,
           4,
           77
          ],
          [
           "AH-10030",
           1744.7,
           7,
           12
          ],
          [
           "AH-10120",
           1735.5140000000001,
           7,
           60
          ],
          [
           "AH-10195",
           1587.452,
           4,
           55
          ],
          [
           "AH-10465",
           2495.3916,
           5,
           230
          ],
          [
           "AH-10585",
           738.504,
           4,
           21
          ],
          [
           "AJ-10945",
           1839.24,
           7,
           85
          ],
          [
           "AJ-10960",
           629.2479999999999,
           3,
           74
          ],
          [
           "AM-10360",
           814.012,
           5,
           28
          ],
          [
           "AP-10720",
           1638.554,
           8,
           41
          ],
          [
           "AR-10345",
           1055.694,
           4,
           111
          ],
          [
           "AR-10405",
           2236.128,
           5,
           125
          ],
          [
           "AR-10510",
           264.86400000000003,
           5,
           14
          ],
          [
           "AS-10045",
           3050.692,
           7,
           88
          ],
          [
           "AS-10090",
           3255.31,
           9,
           28
          ],
          [
           "AS-10135",
           58.82,
           2,
           41
          ],
          [
           "AS-10240",
           584.6080000000001,
           7,
           192
          ],
          [
           "AS-10285",
           3214.236,
           6,
           19
          ],
          [
           "AS-10630",
           833.398,
           7,
           92
          ],
          [
           "AT-10435",
           1171.814,
           6,
           21
          ],
          [
           "AW-10840",
           649.376,
           4,
           20
          ],
          [
           "AW-10930",
           2852.968,
           7,
           46
          ],
          [
           "AY-10555",
           497.014,
           4,
           14
          ],
          [
           "AZ-10750",
           1622.0179999999998,
           6,
           160
          ],
          [
           "BB-10990",
           744.3399999999999,
           5,
           105
          ],
          [
           "BC-11125",
           2933.676,
           9,
           202
          ],
          [
           "BD-11605",
           3288.471,
           7,
           97
          ],
          [
           "BD-11620",
           1538.11,
           6,
           69
          ],
          [
           "BD-11635",
           582.646,
           3,
           9
          ],
          [
           "BD-11725",
           1526.5,
           6,
           93
          ],
          [
           "BD-11770",
           658.466,
           6,
           327
          ],
          [
           "BE-11410",
           2261.438,
           5,
           98
          ],
          [
           "BE-11455",
           1727.652,
           6,
           254
          ],
          [
           "BF-10975",
           599.798,
           7,
           91
          ],
          [
           "BF-11005",
           1333.88,
           4,
           39
          ],
          [
           "BF-11020",
           2888.506,
           8,
           74
          ],
          [
           "BF-11080",
           272.95,
           3,
           25
          ],
          [
           "BF-11215",
           1585.162,
           4,
           65
          ],
          [
           "BF-11275",
           791.9899999999999,
           3,
           57
          ],
          [
           "BG-11035",
           2798.948,
           8,
           28
          ],
          [
           "BG-11695",
           1874.172,
           6,
           36
          ],
          [
           "BG-11740",
           1006.356,
           6,
           57
          ],
          [
           "BK-11260",
           659.1379999999999,
           6,
           77
          ],
          [
           "BM-11575",
           808.162,
           6,
           100
          ],
          [
           "BM-11785",
           1338.842,
           10,
           218
          ],
          [
           "BN-11470",
           265.296,
           4,
           24
          ],
          [
           "BN-11515",
           1459.344,
           5,
           9
          ],
          [
           "BO-11350",
           2682.728,
           5,
           137
          ],
          [
           "BO-11425",
           130.83,
           2,
           75
          ],
          [
           "BP-11050",
           983.42,
           5,
           83
          ],
          [
           "BP-11155",
           1697.8609999999999,
           6,
           89
          ],
          [
           "BP-11230",
           1181.49,
           5,
           39
          ],
          [
           "BP-11290",
           2475.157,
           7,
           12
          ],
          [
           "BS-11380",
           3887.834,
           5,
           28
          ],
          [
           "BS-11590",
           2454.928,
           6,
           35
          ],
          [
           "BS-11755",
           2562.382,
           7,
           1
          ],
          [
           "BT-11395",
           2186.6130000000003,
           6,
           302
          ],
          [
           "BT-11530",
           2684.4919999999997,
           5,
           91
          ],
          [
           "BT-11680",
           3196.752,
           7,
           20
          ],
          [
           "BW-11065",
           385.516,
           3,
           212
          ],
          [
           "BW-11200",
           1738.406,
           6,
           203
          ],
          [
           "CA-12265",
           2648.2872,
           9,
           56
          ],
          [
           "CA-12310",
           1421.954,
           4,
           13
          ],
          [
           "CA-12775",
           3041.566,
           7,
           120
          ],
          [
           "CB-12415",
           1949.2,
           8,
           26
          ],
          [
           "CC-12145",
           2471.65,
           7,
           106
          ],
          [
           "CC-12475",
           1659.438,
           9,
           39
          ],
          [
           "CC-12550",
           113.832,
           3,
           27
          ],
          [
           "CC-12610",
           2540.631,
           7,
           34
          ],
          [
           "CC-12670",
           2269.7015,
           7,
           29
          ],
          [
           "CD-11920",
           2033.968,
           5,
           40
          ],
          [
           "CD-11980",
           639.766,
           3,
           54
          ],
          [
           "CD-12280",
           1205.584,
           2,
           42
          ],
          [
           "CG-12040",
           904.4680000000001,
           6,
           49
          ],
          [
           "CK-12325",
           2945.321,
           5,
           120
          ],
          [
           "CK-12760",
           1582.109,
           9,
           82
          ],
          [
           "CL-11890",
           1262.0140000000001,
           4,
           106
          ],
          [
           "CL-12700",
           2353.586,
           5,
           105
          ],
          [
           "CM-11815",
           1673.888,
           6,
           131
          ],
          [
           "CM-12115",
           1661.6100000000001,
           4,
           8
          ],
          [
           "CM-12160",
           2533.314,
           6,
           26
          ],
          [
           "CM-12190",
           1475.144,
           6,
           8
          ],
          [
           "CP-12340",
           5888.275,
           8,
           160
          ],
          [
           "CR-12580",
           2148.852,
           4,
           57
          ],
          [
           "CR-12730",
           1600.55,
           4,
           78
          ],
          [
           "CR-12820",
           1397.8724,
           3,
           85
          ],
          [
           "CS-11845",
           1278.954,
           5,
           91
          ],
          [
           "CS-11860",
           537.632,
           6,
           162
          ],
          [
           "CS-12175",
           844.4580000000001,
           5,
           232
          ],
          [
           "CS-12400",
           3651.8585000000003,
           9,
           2
          ],
          [
           "CS-12460",
           550.644,
           2,
           27
          ],
          [
           "CS-12505",
           5690.054999999999,
           6,
           58
          ],
          [
           "CT-11995",
           3241.898,
           8,
           96
          ],
          [
           "CV-12295",
           2830.6279999999997,
           5,
           254
          ],
          [
           "CV-12805",
           2370.3136,
           9,
           5
          ],
          [
           "CW-11905",
           1136.592,
           6,
           22
          ],
          [
           "CY-12745",
           2900.026,
           8,
           60
          ],
          [
           "DB-12910",
           2171.599,
           8,
           21
          ],
          [
           "DB-12970",
           2839.2272,
           5,
           241
          ],
          [
           "DB-13120",
           2973.094,
           7,
           48
          ],
          [
           "DB-13210",
           2332.577,
           10,
           9
          ],
          [
           "DB-13360",
           1081.466,
           5,
           264
          ],
          [
           "DB-13405",
           1711.692,
           4,
           187
          ],
          [
           "DB-13555",
           3908.8028,
           7,
           107
          ],
          [
           "DB-13615",
           1989.05,
           7,
           33
          ],
          [
           "DB-13660",
           1155.202,
           7,
           12
          ],
          [
           "DC-12850",
           3336.168,
           9,
           37
          ],
          [
           "DC-13285",
           1174.618,
           5,
           23
          ],
          [
           "DD-13570",
           269.542,
           6,
           41
          ],
          [
           "DG-13300",
           3195.818,
           5,
           32
          ],
          [
           "DJ-13510",
           2501.6879999999996,
           8,
           48
          ],
          [
           "DJ-13630",
           3356.398,
           3,
           12
          ],
          [
           "DK-12985",
           1687.04,
           5,
           7
          ],
          [
           "DK-13090",
           2650.557,
           7,
           42
          ],
          [
           "DK-13150",
           797.832,
           2,
           10
          ],
          [
           "DK-13375",
           3318.486,
           8,
           19
          ],
          [
           "DL-12865",
           1503.112,
           8,
           100
          ],
          [
           "DL-12925",
           3272.2,
           6,
           57
          ],
          [
           "DL-13315",
           1458.258,
           8,
           22
          ],
          [
           "DL-13330",
           585.02,
           4,
           57
          ],
          [
           "DL-13495",
           3539.322,
           8,
           76
          ],
          [
           "DM-12955",
           1322.034,
           7,
           114
          ],
          [
           "DN-13690",
           2139.79,
           7,
           217
          ],
          [
           "DO-13435",
           1300.0315,
           9,
           133
          ],
          [
           "DO-13645",
           1267.316,
           7,
           26
          ],
          [
           "DP-13000",
           1050.636,
           9,
           126
          ],
          [
           "DP-13105",
           2215.002,
           8,
           6
          ],
          [
           "DS-13030",
           1762.213,
           4,
           93
          ],
          [
           "DS-13180",
           2881.8128,
           9,
           23
          ],
          [
           "DV-13045",
           1119.483,
           5,
           19
          ],
          [
           "DV-13465",
           3341.587,
           6,
           29
          ],
          [
           "DW-13195",
           1080.751,
           6,
           69
          ],
          [
           "DW-13540",
           344.08,
           5,
           98
          ],
          [
           "DW-13585",
           1204.854,
           7,
           242
          ],
          [
           "Dl-13600",
           755.602,
           5,
           119
          ],
          [
           "EB-13930",
           944.6000000000001,
           5,
           161
          ],
          [
           "EB-13975",
           1643.255,
           4,
           0
          ],
          [
           "EB-14110",
           3071.126,
           6,
           113
          ],
          [
           "EB-14170",
           1186.326,
           6,
           82
          ],
          [
           "EC-14050",
           461.914,
           5,
           53
          ],
          [
           "EG-13900",
           1832.02,
           5,
           22
          ],
          [
           "EH-13945",
           684.1709999999999,
           8,
           217
          ],
          [
           "EH-14005",
           1219.53,
           7,
           2
          ],
          [
           "EH-14185",
           923.884,
           6,
           105
          ],
          [
           "EJ-14155",
           2656.691,
           5,
           57
          ],
          [
           "EK-13795",
           1303.478,
           4,
           44
          ],
          [
           "EL-13735",
           124.28,
           2,
           77
          ],
          [
           "EM-13810",
           2567.0099999999998,
           5,
           132
          ],
          [
           "EM-13825",
           2339.598,
           8,
           55
          ],
          [
           "EM-13960",
           933.704,
           5,
           151
          ],
          [
           "EM-14065",
           228.99,
           4,
           47
          ],
          [
           "EM-14095",
           1041.0420000000001,
           4,
           113
          ],
          [
           "EM-14200",
           366.822,
           3,
           158
          ],
          [
           "ES-14020",
           3510.4579999999996,
           5,
           40
          ],
          [
           "FA-14230",
           2984.054,
           7,
           97
          ],
          [
           "FG-14260",
           1383.144,
           7,
           34
          ],
          [
           "FH-14350",
           2271.284,
           4,
           212
          ],
          [
           "FM-14215",
           2456.638,
           10,
           7
          ],
          [
           "FM-14380",
           2523.266,
           9,
           145
          ],
          [
           "FO-14305",
           2678.438,
           10,
           38
          ],
          [
           "GA-14725",
           1398.382,
           11,
           5
          ],
          [
           "GB-14530",
           1568.44,
           11,
           62
          ],
          [
           "GD-14590",
           1888.07,
           4,
           5
          ],
          [
           "GG-14650",
           2224,
           9,
           43
          ],
          [
           "GH-14410",
           2819.4669999999996,
           9,
           75
          ],
          [
           "GH-14665",
           146.94080000000002,
           2,
           2
          ],
          [
           "GM-14440",
           3582.8199999999997,
           7,
           83
          ],
          [
           "GM-14455",
           3078.624,
           6,
           16
          ],
          [
           "GM-14500",
           1255.682,
           10,
           106
          ],
          [
           "GM-14680",
           3163.628,
           6,
           152
          ],
          [
           "GT-14755",
           226.436,
           4,
           34
          ],
          [
           "GW-14605",
           2189.019,
           7,
           28
          ],
          [
           "GZ-14545",
           2454.6220000000003,
           4,
           157
          ],
          [
           "HA-14905",
           2163.3,
           7,
           69
          ],
          [
           "HA-14920",
           2584.158,
           8,
           20
          ],
          [
           "HE-14800",
           883.5319999999999,
           4,
           12
          ],
          [
           "HF-14995",
           2533.1639999999998,
           7,
           21
          ],
          [
           "HG-14845",
           785.628,
           5,
           54
          ],
          [
           "HG-14965",
           3247.642,
           12,
           23
          ],
          [
           "HH-15010",
           218.668,
           2,
           72
          ],
          [
           "HJ-14875",
           358.1,
           5,
           126
          ],
          [
           "HM-14980",
           736.276,
           4,
           247
          ],
          [
           "HP-14815",
           1990.314,
           7,
           30
          ],
          [
           "HR-14770",
           1299.288,
           5,
           13
          ],
          [
           "HZ-14950",
           886.52,
           5,
           35
          ],
          [
           "IG-15085",
           744.574,
           4,
           71
          ],
          [
           "JB-15400",
           1791.605,
           10,
           7
          ],
          [
           "JB-16000",
           644.1188,
           7,
           43
          ],
          [
           "JB-16045",
           2518.115,
           5,
           7
          ],
          [
           "JC-15340",
           71.263,
           4,
           114
          ],
          [
           "JC-15385",
           1058.108,
           1,
           175
          ],
          [
           "JC-15775",
           2772.055,
           9,
           158
          ],
          [
           "JC-16105",
           858.576,
           5,
           57
          ],
          [
           "JD-15790",
           2152.352,
           5,
           117
          ],
          [
           "JD-16015",
           385.43,
           6,
           112
          ],
          [
           "JE-15475",
           1388.682,
           6,
           193
          ],
          [
           "JE-16165",
           2697.248,
           3,
           20
          ],
          [
           "JF-15190",
           2279.5860000000002,
           7,
           65
          ],
          [
           "JF-15295",
           955.124,
           5,
           225
          ],
          [
           "JF-15355",
           1911.844,
           6,
           105
          ],
          [
           "JF-15415",
           2371.448,
           6,
           2
          ],
          [
           "JF-15490",
           1082.918,
           11,
           121
          ],
          [
           "JG-15310",
           2240.58,
           6,
           2
          ],
          [
           "JG-15805",
           1507.018,
           6,
           223
          ],
          [
           "JH-15430",
           309.281,
           4,
           5
          ],
          [
           "JH-15820",
           528.91,
           6,
           174
          ],
          [
           "JH-15910",
           959.477,
           7,
           41
          ],
          [
           "JK-15370",
           2709.632,
           8,
           44
          ],
          [
           "JK-16090",
           3747.668,
           3,
           28
          ],
          [
           "JL-15130",
           1214.956,
           6,
           8
          ],
          [
           "JL-15175",
           1571.523,
           5,
           6
          ],
          [
           "JL-15235",
           2203.7,
           5,
           119
          ],
          [
           "JL-15505",
           3173.874,
           6,
           49
          ],
          [
           "JM-15250",
           3159.1220000000003,
           6,
           37
          ],
          [
           "JM-15265",
           1804.146,
           5,
           37
          ],
          [
           "JM-15535",
           1733.443,
           7,
           102
          ],
          [
           "JM-15580",
           303.948,
           5,
           0
          ],
          [
           "JM-15655",
           864.947,
           5,
           8
          ],
          [
           "JO-15280",
           1934.272,
           6,
           92
          ],
          [
           "JO-15550",
           1090.838,
           5,
           215
          ],
          [
           "JP-15460",
           1669.135,
           7,
           37
          ],
          [
           "JP-16135",
           1707.71,
           9,
           102
          ],
          [
           "JR-15700",
           863.88,
           1,
           68
          ],
          [
           "JR-16210",
           2201.686,
           5,
           33
          ],
          [
           "JS-15595",
           1417.654,
           4,
           119
          ],
          [
           "JS-15685",
           1131.0639999999999,
           4,
           42
          ],
          [
           "JS-16030",
           2516.494,
           6,
           28
          ],
          [
           "JW-15955",
           1244.086,
           7,
           5
          ],
          [
           "KA-16525",
           1519.506,
           7,
           36
          ],
          [
           "KB-16240",
           3152.6150000000002,
           7,
           4
          ],
          [
           "KB-16315",
           1569.464,
           9,
           296
          ],
          [
           "KB-16405",
           908.821,
           3,
           117
          ],
          [
           "KB-16600",
           983.922,
           7,
           1
          ],
          [
           "KC-16540",
           3908.262,
           4,
           97
          ],
          [
           "KC-16675",
           1146.05,
           4,
           57
          ],
          [
           "KD-16345",
           1888.964,
           6,
           41
          ],
          [
           "KD-16615",
           2243.5099999999998,
           5,
           289
          ],
          [
           "KE-16420",
           1686.7312,
           8,
           26
          ],
          [
           "KH-16330",
           3312.864,
           8,
           40
          ],
          [
           "KH-16360",
           3100.612,
           6,
           1
          ],
          [
           "KM-16225",
           2260.958,
           6,
           14
          ],
          [
           "KM-16660",
           453.538,
           5,
           15
          ],
          [
           "KN-16390",
           2617.272,
           9,
           19
          ],
          [
           "KN-16450",
           2171.962,
           5,
           52
          ],
          [
           "KN-16705",
           2280.58,
           8,
           98
          ],
          [
           "LB-16735",
           50.188,
           3,
           48
          ],
          [
           "LC-16870",
           2580.7039999999997,
           8,
           27
          ],
          [
           "LC-17050",
           2095.064,
           5,
           54
          ],
          [
           "LC-17140",
           2633.582,
           9,
           13
          ],
          [
           "LE-16810",
           1469.45,
           6,
           21
          ],
          [
           "LF-17185",
           3930.5089999999996,
           7,
           22
          ],
          [
           "LH-16750",
           287.426,
           3,
           151
          ],
          [
           "LH-16900",
           2295.332,
           9,
           21
          ],
          [
           "LH-17020",
           318.239,
           4,
           239
          ],
          [
           "LH-17155",
           1739.689,
           9,
           385
          ],
          [
           "LL-16840",
           2741.2039999999997,
           6,
           249
          ],
          [
           "LO-17170",
           644.35,
           5,
           2
          ],
          [
           "LP-17080",
           756.606,
           4,
           40
          ],
          [
           "LP-17095",
           3653.399,
           7,
           9
          ],
          [
           "LR-17035",
           1879.306,
           5,
           132
          ],
          [
           "LS-16945",
           2845.27,
           6,
           178
          ],
          [
           "LS-16975",
           2988.674,
           9,
           20
          ],
          [
           "LS-17200",
           1010.2560000000001,
           6,
           96
          ],
          [
           "LS-17245",
           1008.1360000000001,
           6,
           34
          ],
          [
           "LT-16765",
           329.876,
           3,
           26
          ],
          [
           "LT-17110",
           2936.252,
           8,
           34
          ],
          [
           "LW-16825",
           2238.061,
           5,
           88
          ],
          [
           "LW-16990",
           3230.308,
           6,
           33
          ],
          [
           "LW-17125",
           1259.04,
           3,
           205
          ],
          [
           "MA-17995",
           2453.284,
           6,
           186
          ],
          [
           "MB-17305",
           1548.702,
           10,
           48
          ],
          [
           "MB-18085",
           1428.231,
           7,
           44
          ],
          [
           "MC-17275",
           2725.982,
           8,
           76
          ],
          [
           "MC-17575",
           1303.893,
           8,
           27
          ],
          [
           "MC-17590",
           2426.067,
           6,
           51
          ],
          [
           "MC-17605",
           2258.192,
           8,
           112
          ],
          [
           "MC-17635",
           795.154,
           4,
           189
          ],
          [
           "MC-18100",
           2218.98,
           10,
           41
          ],
          [
           "MD-17350",
           3766.382,
           7,
           117
          ],
          [
           "MD-17860",
           1204.91,
           5,
           36
          ],
          [
           "ME-17725",
           1908.4532,
           8,
           28
          ],
          [
           "ME-18010",
           1256.944,
           4,
           92
          ],
          [
           "MF-18250",
           1758.3,
           5,
           7
          ],
          [
           "MG-17650",
           3785.276,
           7,
           29
          ],
          [
           "MG-17680",
           2350.188,
           4,
           92
          ],
          [
           "MG-17875",
           1242.8329999999999,
           5,
           116
          ],
          [
           "MG-17890",
           776.384,
           9,
           99
          ],
          [
           "MG-18145",
           3061.543,
           4,
           84
          ],
          [
           "MH-17290",
           2394.025,
           6,
           119
          ],
          [
           "MH-17455",
           2456.1820000000002,
           8,
           85
          ],
          [
           "MH-17620",
           1252.8,
           4,
           155
          ],
          [
           "MH-17785",
           2203.7780000000002,
           7,
           98
          ],
          [
           "MH-18025",
           2984.948,
           5,
           49
          ],
          [
           "MK-17905",
           2302.368,
           8,
           28
          ],
          [
           "MK-18160",
           1031.602,
           4,
           240
          ],
          [
           "ML-17410",
           2921.5,
           6,
           54
          ],
          [
           "ML-17755",
           2071.9139999999998,
           7,
           29
          ],
          [
           "ML-18040",
           742.082,
           3,
           79
          ],
          [
           "ML-18265",
           162.232,
           2,
           100
          ],
          [
           "MM-17260",
           1314.023,
           4,
           168
          ],
          [
           "MM-18055",
           2749.881,
           8,
           61
          ],
          [
           "MM-18280",
           775.414,
           9,
           85
          ],
          [
           "MN-17935",
           2477.946,
           6,
           34
          ],
          [
           "MO-17500",
           922.487,
           4,
           72
          ],
          [
           "MO-17800",
           1687.0269999999998,
           8,
           104
          ],
          [
           "MO-17950",
           154.288,
           2,
           180
          ],
          [
           "MR-17545",
           639.178,
           4,
           125
          ],
          [
           "MS-17770",
           3144.678,
           9,
           121
          ],
          [
           "MS-17980",
           855.116,
           6,
           26
          ],
          [
           "MT-17815",
           2890.139,
           6,
           49
          ],
          [
           "MT-18070",
           1319.4498,
           4,
           203
          ],
          [
           "MV-17485",
           1560.05,
           9,
           27
          ],
          [
           "MV-18190",
           1734.574,
           7,
           19
          ],
          [
           "MY-17380",
           2254.285,
           7,
           29
          ],
          [
           "MZ-17335",
           593.606,
           4,
           30
          ],
          [
           "MZ-17515",
           2564.906,
           6,
           282
          ],
          [
           "NB-18655",
           1972.599,
           9,
           19
          ],
          [
           "NC-18340",
           2461.404,
           5,
           224
          ],
          [
           "NC-18415",
           2218.9900000000002,
           6,
           41
          ],
          [
           "NC-18625",
           1821.742,
           5,
           204
          ],
          [
           "ND-18460",
           2893.455,
           6,
           183
          ],
          [
           "NF-18595",
           2031.472,
           7,
           114
          ],
          [
           "NG-18355",
           1869.58,
           5,
           48
          ],
          [
           "NG-18430",
           1395.9379999999999,
           5,
           48
          ],
          [
           "NH-18610",
           2673.29,
           7,
           189
          ],
          [
           "NK-18490",
           572.048,
           7,
           70
          ],
          [
           "NL-18310",
           1418.0900000000001,
           4,
           58
          ],
          [
           "NP-18670",
           3908.402,
           5,
           58
          ],
          [
           "NR-18550",
           2367.277,
           5,
           210
          ],
          [
           "NS-18505",
           2575.863,
           4,
           6
          ],
          [
           "NZ-18565",
           2488.31,
           9,
           85
          ],
          [
           "ON-18715",
           1567.52,
           9,
           410
          ],
          [
           "OT-18730",
           3818.624,
           5,
           65
          ],
          [
           "PA-19060",
           729.408,
           6,
           103
          ],
          [
           "PB-18805",
           740.356,
           3,
           25
          ],
          [
           "PB-19105",
           688.324,
           4,
           57
          ],
          [
           "PB-19150",
           1456.95,
           8,
           97
          ],
          [
           "PC-18745",
           1832.064,
           4,
           2
          ],
          [
           "PF-19165",
           2770,
           6,
           196
          ],
          [
           "PF-19225",
           2206.1279999999997,
           5,
           114
          ],
          [
           "PG-18895",
           1987.164,
           9,
           57
          ],
          [
           "PH-18790",
           729.648,
           1,
           70
          ],
          [
           "PJ-18835",
           1220.09,
           8,
           39
          ],
          [
           "PJ-19015",
           1824.2340000000002,
           7,
           134
          ],
          [
           "PL-18925",
           239.481,
           5,
           15
          ],
          [
           "PM-19135",
           4115.662,
           4,
           51
          ],
          [
           "PN-18775",
           1467.152,
           8,
           30
          ],
          [
           "PO-18865",
           2493.214,
           7,
           0
          ],
          [
           "PO-19195",
           1056.858,
           5,
           86
          ],
          [
           "PR-18880",
           1840.178,
           5,
           36
          ],
          [
           "PS-18760",
           2181.479,
           6,
           107
          ],
          [
           "PS-18970",
           1278.639,
           8,
           69
          ],
          [
           "PT-19090",
           160.572,
           4,
           71
          ],
          [
           "PV-18985",
           2876.046,
           5,
           89
          ],
          [
           "RA-19285",
           2617.906,
           9,
           5
          ],
          [
           "RA-19945",
           1686.9225,
           5,
           61
          ],
          [
           "RB-19330",
           1008.1959999999999,
           2,
           68
          ],
          [
           "RB-19435",
           2663.0860000000002,
           8,
           19
          ],
          [
           "RB-19570",
           528.546,
           5,
           25
          ],
          [
           "RB-19705",
           2067.45,
           4,
           54
          ],
          [
           "RC-19960",
           885.752,
           6,
           110
          ],
          [
           "RD-19660",
           2786.632,
           5,
           114
          ],
          [
           "RD-19720",
           1419.737,
           10,
           21
          ],
          [
           "RD-19810",
           1137.616,
           8,
           14
          ],
          [
           "RD-19930",
           970.9420000000001,
           4,
           42
          ],
          [
           "RE-19450",
           876.696,
           5,
           302
          ],
          [
           "RF-19735",
           2341.2960000000003,
           7,
           89
          ],
          [
           "RF-19840",
           945.222,
           8,
           6
          ],
          [
           "RH-19495",
           3621.3759999999997,
           5,
           32
          ],
          [
           "RK-19300",
           1460.192,
           3,
           119
          ],
          [
           "RO-19780",
           3815.478,
           7,
           35
          ],
          [
           "RP-19855",
           2170.716,
           8,
           28
          ],
          [
           "RR-19315",
           615.932,
           2,
           19
          ],
          [
           "RR-19525",
           3302.2619999999997,
           6,
           170
          ],
          [
           "RS-19420",
           3221.29,
           5,
           76
          ],
          [
           "RS-19870",
           22.328,
           2,
           19
          ],
          [
           "RW-19690",
           3495.646,
           5,
           79
          ],
          [
           "SB-20170",
           1348.02,
           3,
           201
          ],
          [
           "SC-20305",
           3979.065,
           7,
           29
          ],
          [
           "SC-20440",
           1874.998,
           7,
           36
          ],
          [
           "SC-20575",
           902.7280000000001,
           5,
           92
          ],
          [
           "SC-20680",
           1254.64,
           6,
           126
          ],
          [
           "SC-20770",
           4492.657,
           7,
           41
          ],
          [
           "SC-20800",
           279.25600000000003,
           4,
           30
          ],
          [
           "SC-20845",
           280.632,
           2,
           131
          ],
          [
           "SF-20065",
           763.5459999999999,
           7,
           59
          ],
          [
           "SG-20080",
           3406.5809999999997,
           3,
           8
          ],
          [
           "SG-20470",
           1884.798,
           8,
           183
          ],
          [
           "SG-20605",
           3124.832,
           6,
           108
          ],
          [
           "SG-20890",
           47.946,
           3,
           226
          ],
          [
           "SH-20395",
           2180.718,
           10,
           23
          ],
          [
           "SJ-20215",
           1341.036,
           6,
           29
          ],
          [
           "SJ-20500",
           1318.776,
           5,
           253
          ],
          [
           "SK-19990",
           883.409,
           3,
           8
          ],
          [
           "SL-20155",
           3053.012,
           7,
           70
          ],
          [
           "SN-20560",
           1860.418,
           6,
           111
          ],
          [
           "SN-20710",
           3127.9592,
           7,
           79
          ],
          [
           "SO-20335",
           2602.5755,
           6,
           29
          ],
          [
           "SP-20545",
           1306.086,
           6,
           327
          ],
          [
           "SP-20650",
           1872.4360000000001,
           9,
           386
          ],
          [
           "SP-20920",
           3990.689,
           6,
           70
          ],
          [
           "SR-20425",
           3233.481,
           5,
           8
          ],
          [
           "SS-20140",
           1324.028,
           8,
           15
          ],
          [
           "SS-20410",
           3056.8070000000002,
           6,
           110
          ],
          [
           "SS-20875",
           964.636,
           5,
           120
          ],
          [
           "ST-20530",
           433.34000000000003,
           7,
           125
          ],
          [
           "SU-20665",
           2595.364,
           7,
           20
          ],
          [
           "SV-20815",
           1271.0900000000001,
           4,
           76
          ],
          [
           "SV-20935",
           1903.491,
           8,
           2
          ],
          [
           "SW-20245",
           1085.078,
           7,
           81
          ],
          [
           "SW-20275",
           1966.65,
           6,
           30
          ],
          [
           "SW-20350",
           1019.044,
           3,
           162
          ],
          [
           "SW-20455",
           2921.544,
           7,
           162
          ],
          [
           "TB-21055",
           1467.881,
           5,
           119
          ],
          [
           "TB-21175",
           3589.296,
           4,
           58
          ],
          [
           "TB-21190",
           816.1740000000001,
           4,
           49
          ],
          [
           "TB-21250",
           1602.376,
           7,
           349
          ],
          [
           "TB-21355",
           834.328,
           5,
           146
          ],
          [
           "TB-21520",
           4737.486,
           9,
           107
          ],
          [
           "TB-21595",
           1387.559,
           5,
           285
          ],
          [
           "TB-21625",
           2797.668,
           9,
           30
          ],
          [
           "TC-21145",
           1038.26,
           1,
           106
          ],
          [
           "TC-21475",
           1244.976,
           9,
           153
          ],
          [
           "TC-21535",
           742.5580000000001,
           7,
           4
          ],
          [
           "TD-20995",
           1434.5480000000002,
           9,
           37
          ],
          [
           "TG-21640",
           2074.661,
           4,
           114
          ],
          [
           "TH-21115",
           2942.772,
           4,
           58
          ],
          [
           "TH-21235",
           1022.201,
           8,
           117
          ],
          [
           "TH-21550",
           4234.0960000000005,
           7,
           72
          ],
          [
           "TM-21010",
           2955.2259999999997,
           8,
           103
          ],
          [
           "TM-21490",
           1094.6779999999999,
           3,
           130
          ],
          [
           "TN-21040",
           3130.221,
           7,
           90
          ],
          [
           "TP-21415",
           5329.0048,
           5,
           104
          ],
          [
           "TR-21325",
           675.9419999999999,
           5,
           193
          ],
          [
           "TS-21340",
           974.7819999999999,
           5,
           226
          ],
          [
           "TS-21430",
           2054.14,
           5,
           172
          ],
          [
           "TS-21505",
           2243.274,
           6,
           11
          ],
          [
           "TS-21610",
           2820.424,
           7,
           55
          ],
          [
           "TS-21655",
           3368.094,
           5,
           238
          ],
          [
           "TT-21220",
           1427.0439999999999,
           8,
           183
          ],
          [
           "TZ-21580",
           1707.286,
           4,
           35
          ],
          [
           "VB-21745",
           2005.596,
           6,
           54
          ],
          [
           "VF-21715",
           847.944,
           5,
           13
          ],
          [
           "VG-21790",
           846.01,
           6,
           154
          ],
          [
           "VG-21805",
           427.372,
           5,
           286
          ],
          [
           "VM-21685",
           2454.866,
           7,
           54
          ],
          [
           "VM-21835",
           380.69,
           5,
           117
          ],
          [
           "VP-21730",
           993.9019999999999,
           3,
           30
          ],
          [
           "VP-21760",
           3360.526,
           7,
           75
          ],
          [
           "VS-21820",
           1055.981,
           4,
           221
          ],
          [
           "ZD-21925",
           1493.944,
           5,
           202
          ]
         ],
         "hovertemplate": "segment=High Value<br>PC1=%{x}<br>PC2=%{y}<br>customer_id=%{customdata[0]}<br>total_sales=%{customdata[1]}<br>order_count=%{customdata[2]}<br>days_since_last_order=%{customdata[3]}<extra></extra>",
         "legendgroup": "High Value",
         "marker": {
          "color": "#EF553B",
          "symbol": "circle"
         },
         "mode": "markers",
         "name": "High Value",
         "orientation": "v",
         "showlegend": true,
         "type": "scatter",
         "x": {
          "bdata": "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",
          "dtype": "f8"
         },
         "xaxis": "x",
         "y": {
          "bdata": "WrzTt9t6979jscDM4T3uP6VbNyioCta/6RsdQXMM87+yZ+6nm4Duvx+7IEcVpIo/a3H+q9cB7D/R6YDwfoDFvz6Re8X9sNo/c0yGL0IH57/uyiCJfZrsP0UsrvCL3qM/UiOiu1ZR4r+prGhQHgfRv620dJ5GXuq/4Mk9lYIp2b+fXnH4aV7Fv4cOwRWPmuu/eXyj6sDg57+a93ZuZYCgP+/nTmG47uE/ScZhTQVVzL+mdghvoOzhv6bHtlz5Z80/fBQ2ieAf3L9vyOg2bdzwvwIylcBPFsE/wBEXMqtvwj/XdQX7F9njv9+QXnnAa9+/cO9u+O1I87+WpgAHIyjHP0mLyuZahtu/LMm+asgu1L+/JMKolrPnvwpSBYoK+eW/7TfiOinbz7/v5k91Z8fkv36tWgI2Q9O/LhyTsCluub82+kjpb9XJvwbFD6Qrr+K/uuZs1vpk0r/Pmyupxt3bv/71MZEeOoC/aypEMcYr1b98cUK1rwTWPw+8i3X3S8c/UQulRrNu0D9qBTbpwnbovz1yS+y9kLK/M/YUMKKS6L9jFRATyIKpvzbO5d4qY8o/Vym9+AY+yz8orlfS56Dxv09PyYEVduC/vXgf/ZyV4r90b9Z0RwLjv3Ct/02kh92/oeNEF66t77/gvLdX/hvVv0Jqyb8REte/MgjYRW1E1T+HHIyKaejVP059lD61NMq/pYqgVKgz0b9jtvhfvtfYv6AJgOMzi+u/E0/mHNUgwD95OZp5tEjYv+5eEl1OZ+u/bCFyLdzP4D8DB0uDbMnHP04DlV4Je+O/w2vXUj1j5D/tKFDi6Q+3P6zFGZFhSvK/28sLhyJIsL8B+je44JXTvxwIzjYBHfG/anATBsZS2r9R/or+Jnj1v4fST8Lscrq/v0smnoF+5b9mNm0iqQvov9SppUTDgb+/jLh7neyWvj8ILTTA1GjnP2oYaqBYN+S/+g6EUiRr1D+9v1xBu1T0vweong9oy88/Lz3rA2+Bwj8mBiSHOejHvxaYk70WHQA/7w+L+lyT4L8xMRpKNOrlv9qZWmqvJNm/f6/IX8n2zj85iSoohqXMPxzELAX4TeA/wXd0tNQ4v7+eOD8frerRv0llH49kztI/eUHFUDsJ9b/J6Cxl4sXXPxGEtbizn+q/t7u2KHw65b/C99L7WC/qPxaefbgsOfa/f4VISGm45L/sH3o2RVXrv6ZK+yUpjPC/7w4iXStb5z9GW8u81XHqv8OpwlqeJPq/W5Aq4w/u3j9Q6v2Ad03lP3sKn4Mb2s6/YxLbyLWp57+IHoX5q0fvvwPDMQorTfa/bUAvhopp2b91rFAT6cTov/CYwkxlRbg/Wd25Yvv/7L8YS7xPGknuP4jMn2QhGNm/DEW+bOgL4783mpRGadjbP0FLmysuyey//2IIRGND67/lopsGC13Mv/YTN4B/VfK/B3ymbcYau7+8tGrnPlrnv3gWlyXM/+K/aVc/e9Smob/OAwejzCzxv7ClpGldj+y/9IeYdJle8b/zjDYJ/ADxv1bmIKx6JNM/1aCdbFwL9L+3zVfPlUHgv2vaM6UWhdC/pS58X5rO4b/MOlyNsvTSvx2/ocjaIcq/nml7CNevv78gnQAO176jP1c7Mj0lMbK/PIr0XfvTmL/vFjCZadrbv8oLoiMLrNu/SaqaUEm70b8ZSn95KW/iv+EENAOEvPC/uBmwHEyz2b+T8ybJK0iwPyt5F5ju0mC/K1ow2ujd1T9te0Yy8DzNP17hGup6Nuu/nTlNST4jkD80R8MCQUnQv9kPk5Cznso/rABsO1eo3D/OjINjvCnQP8d2INXXXNa/qm8cBaCY6r/658F3DMLtP3eOs8t+2Pm/SUNogBYp6780k6rHlb33v5p6lVsgFgDAgHLeTTfn/L/jHlRWC8GPP9Lkou1BgvS/g8bvFB728r8WGblQ5iOzP1jPwE9IttW/83YAEC4F0r+JSTRgl731vysIpuk8Frw/grCcJO7L07+IypNf58bqv68gGwFSXek/rruilE5+47/UVy1kM47wv4bFUrZtYMi/hI5DNze76L9l2U2Ix+nWv1UMY539xAPAfAI8TH4A2D9uxNXMpP7Hvxuu3ABIS+M/DXTDqNtS6L+tFBLJC6jZv9Ov88e9ydy/XQ9MJoblYr+MIcKZYT77v1XU7NBLUu6/FGtnAxBvx79w4wjk6i2sv7iK4GgJGv4/xv3OkUJF6L/euWTG6MXUv6moWohvsLI/vIfy8inr378i9a3MPpkhP6m8piISA+k/IFw94vjr4b9tToMWXmfSP18KA15rpMy/ZqKWt81X3r+gG1S+Alb6v5isYS9p9+K/uXRci1Qtvj8K780Ot3LZv7iZJPGQAdC/Xfvhv1/E7b9LXmlneqrsv//8jukspPE/+st2cQrE6L+gybW/wKjXv7cAz72Q2cE/EG4+gW6lxr+8Gz9o79/TvyZ4uEAmYcW/oUQ5iMtA4b8ePSjiluPkvzJnaoipcuC/CydecCtb0r+E3FzPbHbSP3iwPiIwvei/cpo3IG1X8b/41FeKYzb0P84v04ACpby/fjRxINlV0D8yP+3PZc2yv+MKPaWDBuC/Us7jrbhY8L+ANAH9moLqv3Z3I89c/uO/P5FwDhLw278owhwVeyTgP0VgocEIZfC/+UzoHjPW7D+6uEJ4zVmRP/DohPzJb92/F+1AZBvS6j8k+0GeD1vxv9kJpOOx/em/h8t8ujTe178IyKd6F73cvyatONkVU+K/gNgMUZuN9b//ySAo+L65v5npPkUSM+i/ax/aDKQdqb+Z9arEddzwvzZVa4GFzLy/vmtEZtLu9L/Q7JFAHRfkv/LwUpNdy/G/tLQ121hh2T+s8NxaA2T0v5W41J6D3No/eqrKAqbmqr8Pmferyi/eP0uu1TchW+K/ttSFt6hvwr/SJcXedCjjv/VQEiD66aw/MzXbDMTGuD8kLooxpMXzv7yZHrWL2dq/orLbGBMf5L+zD2orAcOiv7VYTx0b7Oy/WSiTGKgQnz+5ggzkX3rLv5NyWnH/Zu0/y954bteEwz+SALv1Iyf5v6Nk7Ykxleq/BL82uwY+6L+ge1SQFI/yv0E0YXqJydW/LN6GTL1T57+fRjcBdG/WPwVie0hHD/m/VOyK4cXh0b8Z663SM1rXv2rTeYxKj/G/0skD5r3PxD9xzt/TV6zSv+3yBDUBNOC/DcxsFgAv2j/KqFErXsbBvxw0Z55oofO/PXolxW/44D9HkLePncrBv1Et4QVLNui/jJ8vijsd2T9j5856uxjgvwyPMrs9L7o/LAfENjnr8b+IRDl6R0PlP2hsp6MyZtO/P1HDKCPi57/ja4p3OtrSP2MZ34PIctw/iQbAqh6c3T/3wTr0D7Luv5nOxka0uPS/e19cysop2b/4FS5MeUhsP2kXx7Yhx+q/GpiGLK3I5j+/Ue/y3XzCP6hujTQSI+u/zNVZ1T5N57++kQhQ907Ov/nzWD3X6uE/wShE6YJF9r/C2ucaYknrv1kyc6JNeee/mlQNbfqGzL+ldiHZIxrjPxxdTjG0H/a/Yws3dwPV5D/lOd6FvmLpvyJzDiwY2NM/czFhfkSvzj8TejAvcJ/cvxhRxYSlWcK/7eMj3fkE0L97vLnmpQCZv+81UHRLjeu/OGnRQMgYvT++5mST0oDUP6b7lBXZTd8/v9q7yhyJwj9unExClpzwv5inNJ00SKC/YGisMfiOuz//IgF/2GTcv0fkzc1Pr7w/h6TRJjAEtb/prxJ8RALsv0g+hwFFaWK/wgESAulBzT+D1zrlYh7KP95cXm3rW/O/twMgDatO8j8wgF3rhnjxv76RXobwBte/6dQEk5ob5L8BLpVloizoP8pD96OoFvK/7KUaGeUj6b9dEz3tBRPMv+50jNHF8sm/0sKzgJ4Wz78mlKVqWTTwv2rgsxWYr8i/720hUJUezD+yOceGn6f0vz+RSH0gws+/+ueHhLyk5T8X+rMcwArvv0h7PUdOxOC/tDeeqEtpzj/9d2AVcjfbvw6DI9tcr9Y/49qsmHb1+r96z7rk0GXzv/ZI1Gdy/Li/5XJgQhYz4j9NztlHS1vcv1G00LoFXPS/4Ft/37vAxj8UvjHrO8flP8A6lbnYO+e/BYRd92F8778Wl/ObzojVP/V2/mveZ9M/ShIvYbNK0T8ye47lZTa1P8tVKPyKIdY/8MJPG22k7T8XG/HDHLPfvzH7mLB4I+i/JAQc0KEvyr/rYikJpgzQv4dZMVOCeOC/D2laBw9b07807f8NWHfjP9QSeQOjaOu/CEe2D2eG7T/+1AwbnTHiv1VQzt1w54I/w/W6YUT14j98QLBCV176v6lcp/n1wOS/vJGJ1x8l3T/7snIktMq1Pym37jmG6du/NCJ24MC+179IcCJ+UZPZv+a4Q3Uipdy/vTvkJVpc2j+8lPy+0LWkv4dmx8gFUKu/H5hs6Fqg4r8owjU6OeryvxZSiuupQcy/47a/iwowvr9wGrnRUP/lv6v+Q8OTvuS/lAtsV9A+vz8W/f7e9gHzvyFn0JMdkei/4eTcBQ0f37/dw0FpM5PlP6uhz+RSuLS/jsieN6lxqD8SxUS1qXrmP7wJ0orsOba/lwtcpMap1D+LEvXKwWVvPxqenHdz7O+/5PyI4D+24T9DH0diwkTzv4LxN4ECPfk/8Saykb9277+jcuqgZfjwv5yJ/C6ILfa/K+CnRBZy3j9SBg3+rovYP006WIp6buy/VOgJX78w278ySX0+zZjjv96F0hvekeM/ALXI37VB4b/jVYf8IpTgP5n5u3HEacE/IyWQULoc0D/czJBY/E7TPxRmOqrP3uG/FUj0IKrR5L/JU3zr2lbqP3doxXF+KeK/OwaMAV+ftD92vXeyZcLYv6ZUSsY0BeG/3khxL+0e0L+TNprLZobYP1Rxfu9RruK/B4b9VPtBy7/G9XDlUi3KPyldffrjheO/YgR29BjW4D+9oAhhV0PVPw==",
          "dtype": "f8"
         },
         "yaxis": "y"
        },
        {
         "customdata": [
          [
           "AB-10015",
           886.156,
           3,
           415
          ],
          [
           "AF-10885",
           861.565,
           4,
           415
          ],
          [
           "AG-10525",
           1455.038,
           4,
           845
          ],
          [
           "AO-10810",
           161.28,
           1,
           501
          ],
          [
           "AR-10570",
           88.15,
           1,
           534
          ],
          [
           "BD-11560",
           320.54,
           2,
           278
          ],
          [
           "BS-11665",
           3288.1099999999997,
           3,
           582
          ],
          [
           "BS-11800",
           949.4300000000001,
           2,
           265
          ],
          [
           "BT-11305",
           2567.656,
           5,
           336
          ],
          [
           "BT-11440",
           603.876,
           4,
           560
          ],
          [
           "BT-11485",
           415.19599999999997,
           2,
           659
          ],
          [
           "BV-11245",
           1523.2730000000001,
           5,
           334
          ],
          [
           "CA-12055",
           1679.7240000000002,
           5,
           401
          ],
          [
           "CC-12100",
           1770.945,
           6,
           457
          ],
          [
           "CC-12685",
           2854.1150000000002,
           4,
           799
          ],
          [
           "CD-12790",
           1860.732,
           5,
           399
          ],
          [
           "CG-12520",
           1148.7800000000002,
           3,
           338
          ],
          [
           "CH-12070",
           1537.236,
           3,
           691
          ],
          [
           "CJ-11875",
           16.52,
           1,
           365
          ],
          [
           "CM-11935",
           565.392,
           2,
           708
          ],
          [
           "CM-12235",
           2305.712,
           5,
           385
          ],
          [
           "CM-12445",
           287.99,
           3,
           436
          ],
          [
           "CM-12715",
           3984.4524,
           4,
           1035
          ],
          [
           "CR-12625",
           475.9,
           3,
           470
          ],
          [
           "CS-12130",
           884.64,
           4,
           489
          ],
          [
           "CS-12490",
           1077.2285,
           4,
           424
          ],
          [
           "Co-12640",
           1300.076,
           5,
           549
          ],
          [
           "DA-13450",
           156.76,
           4,
           352
          ],
          [
           "DE-13255",
           2550.874,
           5,
           719
          ],
          [
           "DF-13135",
           2390.534,
           3,
           700
          ],
          [
           "DH-13675",
           1043.096,
           4,
           776
          ],
          [
           "DJ-13420",
           2012.52,
           4,
           637
          ],
          [
           "DM-13525",
           1376.792,
           3,
           481
          ],
          [
           "DP-13165",
           1058.616,
           2,
           812
          ],
          [
           "EH-13990",
           825.9499999999999,
           6,
           405
          ],
          [
           "EJ-13720",
           2162.174,
           4,
           302
          ],
          [
           "EN-13780",
           2199.366,
           4,
           287
          ],
          [
           "ER-13855",
           1245.788,
           3,
           421
          ],
          [
           "FW-14395",
           79.75,
           3,
           362
          ],
          [
           "GH-14485",
           1361.2440000000001,
           2,
           387
          ],
          [
           "GP-14740",
           236.53,
           2,
           765
          ],
          [
           "GR-14560",
           1284.38,
           2,
           1135
          ],
          [
           "HD-14785",
           251.36,
           3,
           769
          ],
          [
           "IM-15055",
           2872.63,
           3,
           409
          ],
          [
           "JB-15925",
           900.552,
           3,
           737
          ],
          [
           "JD-16060",
           695.442,
           3,
           300
          ],
          [
           "JG-15115",
           2358.676,
           3,
           758
          ],
          [
           "JH-16180",
           2256.3940000000002,
           4,
           404
          ],
          [
           "JJ-15445",
           709.178,
           5,
           483
          ],
          [
           "JJ-15760",
           195,
           2,
           753
          ],
          [
           "JK-15325",
           383.812,
           3,
           287
          ],
          [
           "JL-15850",
           2725.256,
           6,
           614
          ],
          [
           "JR-15670",
           1156.658,
           2,
           593
          ],
          [
           "JS-15880",
           3868.02,
           5,
           534
          ],
          [
           "JS-15940",
           469.169,
           5,
           463
          ],
          [
           "JW-16075",
           1428.731,
           4,
           461
          ],
          [
           "KC-16255",
           2120.954,
           6,
           407
          ],
          [
           "KS-16300",
           88.472,
           3,
           295
          ],
          [
           "KT-16465",
           3057.1,
           7,
           391
          ],
          [
           "KW-16570",
           449.096,
           4,
           771
          ],
          [
           "LC-16960",
           3246.626,
           4,
           436
          ],
          [
           "LD-16855",
           5.304,
           1,
           552
          ],
          [
           "LD-17005",
           1961.934,
           4,
           414
          ],
          [
           "LM-17065",
           1346.774,
           5,
           391
          ],
          [
           "LS-17230",
           368.88000000000005,
           3,
           777
          ],
          [
           "MC-18130",
           1581.9979999999998,
           5,
           369
          ],
          [
           "MF-17665",
           937.039,
           5,
           421
          ],
          [
           "MG-17695",
           1342.282,
           3,
           555
          ],
          [
           "MG-18205",
           16.739,
           1,
           264
          ],
          [
           "MH-17440",
           400.016,
           4,
           376
          ],
          [
           "MP-17470",
           3206.132,
           7,
           719
          ],
          [
           "MS-17530",
           475.65599999999995,
           4,
           434
          ],
          [
           "MS-17710",
           1613.402,
           6,
           413
          ],
          [
           "MS-17830",
           370.348,
           4,
           452
          ],
          [
           "NB-18580",
           273.87199999999996,
           2,
           1165
          ],
          [
           "NF-18475",
           377.16200000000003,
           4,
           525
          ],
          [
           "NP-18685",
           1228.698,
           6,
           406
          ],
          [
           "PB-19210",
           132.738,
           2,
           688
          ],
          [
           "PC-19000",
           1061.488,
           2,
           882
          ],
          [
           "PF-19120",
           9062.864,
           4,
           835
          ],
          [
           "PK-18910",
           1441.152,
           2,
           483
          ],
          [
           "PM-18940",
           1405.402,
           3,
           386
          ],
          [
           "PW-19240",
           3922.4150000000004,
           7,
           464
          ],
          [
           "RB-19645",
           221.084,
           5,
           648
          ],
          [
           "RC-19825",
           966.409,
           6,
           369
          ],
          [
           "RE-19405",
           48.36,
           1,
           1097
          ],
          [
           "RH-19555",
           740.382,
           2,
           519
          ],
          [
           "RH-19600",
           2085.7400000000002,
           3,
           534
          ],
          [
           "RM-19375",
           1453.474,
           6,
           345
          ],
          [
           "RM-19750",
           98.35,
           1,
           299
          ],
          [
           "RP-19270",
           954.6452,
           4,
           496
          ],
          [
           "SC-20020",
           3362.9636,
           5,
           781
          ],
          [
           "SH-20635",
           2096.392,
           2,
           765
          ],
          [
           "SM-20005",
           244.49399999999997,
           4,
           421
          ],
          [
           "SM-20905",
           1043.041,
           1,
           606
          ],
          [
           "SS-20515",
           613.4,
           3,
           491
          ],
          [
           "SS-20590",
           418.49,
           6,
           432
          ],
          [
           "SW-20755",
           758.6959999999999,
           2,
           534
          ],
          [
           "TB-21280",
           2198.45,
           6,
           583
          ],
          [
           "TG-21310",
           3058.372,
           5,
           337
          ],
          [
           "TH-21100",
           2422.824,
           5,
           344
          ],
          [
           "TP-21565",
           1936.6399999999999,
           4,
           350
          ],
          [
           "TS-21085",
           4.833,
           2,
           357
          ],
          [
           "TS-21160",
           2163.6240000000003,
           6,
           504
          ],
          [
           "TT-21265",
           439.5,
           3,
           406
          ],
          [
           "VT-21700",
           1736.596,
           2,
           1000
          ]
         ],
         "hovertemplate": "segment=Medium Value<br>PC1=%{x}<br>PC2=%{y}<br>customer_id=%{customdata[0]}<br>total_sales=%{customdata[1]}<br>order_count=%{customdata[2]}<br>days_since_last_order=%{customdata[3]}<extra></extra>",
         "legendgroup": "Medium Value",
         "marker": {
          "color": "#00cc96",
          "symbol": "circle"
         },
         "mode": "markers",
         "name": "Medium Value",
         "orientation": "v",
         "showlegend": true,
         "type": "scatter",
         "x": {
          "bdata": "MTfRSMPj9r//AwiB9wL5v16mXTxwyfm/AxsDswciAcA2aPjH+SQCwJ8xLioTy/u/+dMA0yUYpD9CIQHPYGDyv19YvuNNrtO/TP4ob5yf/L8EzlxrQMj/v+RvTA0fquu/fh3k1n7K7L+tWZD1XIXrvxxfXi3FS9O/PMYuE1bT5r+jvU2+Fr/yv69pE7t7efO/34vjvy3sAcDvCWJDYMn/v2MF+AYzI+C/Bj4Iskbu/b9VTYH8W0zNv9S7DScez/u/KUQPCZdi979/XzhxVF/4v1JDfBvwefO/fxbKoNuH/L/4RFaUSSPkv8wwproxwOy/ukyQ5RZC+r9HlX80hLrpv6Ib8VQPJvK/vbNWqYx5+r87D1pbFzj0v8hzroyxbN6/HaozNvnE2L/7//DhBab2v7f9CJ1NYv+/7VnAQzHI8L/cWv8gLT4CwIhV49hYtvi/RPappV5OAsD+tyVX7KjSP08grmoQn/6/RyD8Z4xm978hyTXpSMTfv2fpta66Nui/NXHImiEu978kAKlgpm4CwBjm0FZ56Pq/Fqs+enFd0r+tdHEeMAf8v64TwSmmqMw/dzaTl9EC/b8sszcTfCTyv0wfcGFKxdW/hw/gz5CJ/r+gWyJwHc7GvyQQpEEMdv+/KLz3wP1Upr/zIf5UZWADwGicXyoNJOO//y1pzZ7m8r99f8FjMwwBwMkr5N7c2O6/sEpYp17k+L+2i1NDOlz4v9rFEYZkOAHAeA4b7V+z+r+RgeO9JpXNvz7QVthqrPq/KsLgORbm679OmmkDXV78v1X+B7gu1QTAxEoAMIbN/L/zdUxUGuLsv4YykluAcwLAmLxaD+qS/L+U11AxmqQCQI4RnXEFsfa/P0KKyHbZ8L+3wNyC8GXkPwaNUzZoU/6/Cm2ZRCpo878hVXkcca8GwLCbq2bEX/q/DkKOp2155787ODrLy+7pv+BFZsKOYgDAkP6ZrkSM979fY/9eRtLlv0xYZBkHW+K/c37VlHpn/b+AlInCtPjwv9hA6GsZO/q/sitwshme979NqC5a5Mn5v6obeUAFc+S/zlvgeLMYsD91qq1qvzPlv0QUWyqOf+i/SaODZtUYAcDcgzcSzmrmv02mHoDhsfu/X1jf/XdP9b8=",
          "dtype": "f8"
         },
         "xaxis": "x",
         "y": {
          "bdata": "3PRFGuDl+D9I7BqaEy/zPxHqZV7aNAdAoXWI4wemAUDLpu1v7h4CQFwCbvKYwvI/1S4LQKFWB0DNpXPMCbb2P9KzaW3x2PA/tMVzwuTU+j+0eXg4m8kEQL75haJxdeo/LLRBjoFZ8T/QVOwsjCzwPx6psf/IwAlAL9PbU+xE8j8lm2R5PtL1P0HgW2nWIwZAeV7dn7db+T+y+O0wFooGQPQss68sv/I/pcGRq5oD9z8xgif/ZfUQQI9oNJHZG/o/5DX/dIJR+D8T6ZzgVy70PzHOgjArvvg/5ibKsWbK6j+6lKfxeZEDQAQbTrqA8QdA8TFgmP3ABECu5dmt2AEDQBLOZfekUP8/WmWvN9BUC0AorGHdiP/kPxZWmAPM5/I/b0bCaYZx8j+s2R6CNfn5P9+J31Q5mPE/FDKW5uMEAEACyql98xoHQLEkam2xABNAvPvDdG/VBEBxW2uCMTMCQAzBoWozUQVAP7tGsrc98T856ijdY7QKQP736+PH/vc/53sSFpgP8z8dQ457dpwGQMILO5AFou0/gyuGgqg5/T/r+pg+lWoEQJCuhbueXwBA+z8AbPK27z8auFTO9cf4P/ppnS6riO8/KQ3yAVRi6z/6iMv16/nlP17JFzPjeANA5VziT/uT/j/69hO5gQYCQOOVcOwvEPk/E7nZZrA17j9qvRuc05EFQGUUFWYZ8O0/dYUu/6Cv7T+lWY57aPwAQHTYtVwyfvM/mzQ1PXRx7z/RLAQeYzj/P9oH7O36bfM/dUI+deCX6j+chY3PpurzP2If7IEoaxFAf4e+W4NX+D/rEfwUEAvpPw49rxB4fARA+hWNr2oyDUA0V0/ClWISQIRaMm23OgJAGxq5mwrX+T96CD826snzP0Eekoiozfo/tRaFLMok4T90YJ/vwxIRQIXvCbDSvAFALFP+ygXoAkCH0ylWOI/iP3UrWrOcvPY/rsMJu4bI+D/WL87GTqwFQPFuGJgoEA5Ae0oujBWH8T9DloRxTosKQIt8/U+sI/w/7jA4twrk5T/gck5BZlICQB9Zw7bjUPk/U1HmdOsU8z+YsDHfwgLvP0UKTmF+OvQ/zHZKKZHI9D/o+/unGBP0P9WnJcpHF/Y//YiND3p/EUA=",
          "dtype": "f8"
         },
         "yaxis": "y"
        },
        {
         "customdata": [
          [
           "AB-10105",
           14473.570999999998,
           10,
           41
          ],
          [
           "BM-11140",
           11789.63,
           4,
           307
          ],
          [
           "BS-11365",
           10501.653,
           5,
           558
          ],
          [
           "CC-12370",
           12129.072000000002,
           5,
           43
          ],
          [
           "CM-12385",
           8954.019999999999,
           4,
           37
          ],
          [
           "HL-15040",
           12873.297999999999,
           6,
           43
          ],
          [
           "MW-18235",
           5253.876,
           2,
           44
          ],
          [
           "RB-19360",
           15117.339,
           6,
           96
          ],
          [
           "SC-20095",
           14142.333999999999,
           9,
           349
          ],
          [
           "SM-20320",
           25043.05,
           5,
           79
          ],
          [
           "TA-21385",
           14595.62,
           4,
           69
          ],
          [
           "TC-20980",
           19052.218,
           5,
           399
          ],
          [
           "TS-21370",
           11891.751,
           6,
           36
          ]
         ],
         "hovertemplate": "segment=At Risk<br>PC1=%{x}<br>PC2=%{y}<br>customer_id=%{customdata[0]}<br>total_sales=%{customdata[1]}<br>order_count=%{customdata[2]}<br>days_since_last_order=%{customdata[3]}<extra></extra>",
         "legendgroup": "At Risk",
         "marker": {
          "color": "#ab63fa",
          "symbol": "circle"
         },
         "mode": "markers",
         "name": "At Risk",
         "orientation": "v",
         "showlegend": true,
         "type": "scatter",
         "x": {
          "bdata": "1ioSijZHHEBWkJdpTBoOQInsv/Bo0hFA/YQu3HLqFUBkvw/XaPYUQNOw1+ZHpBxAHZwzTfnAC0CQ4mbAQJUhQAjY9LU2pBtAQ9V9R8lDI0BCzHR34GghQFG5hiV55CdAQ5QbC8NjFEA=",
          "dtype": "f8"
         },
         "xaxis": "x",
         "y": {
          "bdata": "DV+J3Rj14z9WM+tuAFYJQJcuUAS/6A1ABBJXx+X1AEB3k9a6ffECQODRLquFewFAzKpVB3IzBkBT/Y8gXaoHQOLLC2n+CAFAPmVZxOqAEEBQbqLc5owPQF9Db3gpNBdAWOpIR/L59z8=",
          "dtype": "f8"
         },
         "yaxis": "y"
        }
       ],
       "layout": {
        "legend": {
         "title": {
          "text": "segment"
         },
         "tracegroupgap": 0
        },
        "template": {
         "data": {
          "bar": [
           {
            "error_x": {
             "color": "#2a3f5f"
            },
            "error_y": {
             "color": "#2a3f5f"
            },
            "marker": {
             "line": {
              "color": "white",
              "width": 0.5
             },
             "pattern": {
              "fillmode": "overlay",
              "size": 10,
              "solidity": 0.2
             }
            },
            "type": "bar"
           }
          ],
          "barpolar": [
           {
            "marker": {
             "line": {
              "color": "white",
              "width": 0.5
             },
             "pattern": {
              "fillmode": "overlay",
              "size": 10,
              "solidity": 0.2
             }
            },
            "type": "barpolar"
           }
          ],
          "carpet": [
           {
            "aaxis": {
             "endlinecolor": "#2a3f5f",
             "gridcolor": "#C8D4E3",
             "linecolor": "#C8D4E3",
             "minorgridcolor": "#C8D4E3",
             "startlinecolor": "#2a3f5f"
            },
            "baxis": {
             "endlinecolor": "#2a3f5f",
             "gridcolor": "#C8D4E3",
             "linecolor": "#C8D4E3",
             "minorgridcolor": "#C8D4E3",
             "startlinecolor": "#2a3f5f"
            },
            "type": "carpet"
           }
          ],
          "choropleth": [
           {
            "colorbar": {
             "outlinewidth": 0,
             "ticks": ""
            },
            "type": "choropleth"
           }
          ],
          "contour": [
           {
            "colorbar": {
             "outlinewidth": 0,
             "ticks": ""
            },
            "colorscale": [
             [
              0,
              "#0d0887"
             ],
             [
              0.1111111111111111,
              "#46039f"
             ],
             [
              0.2222222222222222,
              "#7201a8"
             ],
             [
              0.3333333333333333,
              "#9c179e"
             ],
             [
              0.4444444444444444,
              "#bd3786"
             ],
             [
              0.5555555555555556,
              "#d8576b"
             ],
             [
              0.6666666666666666,
              "#ed7953"
             ],
             [
              0.7777777777777778,
              "#fb9f3a"
             ],
             [
              0.8888888888888888,
              "#fdca26"
             ],
             [
              1,
              "#f0f921"
             ]
            ],
            "type": "contour"
           }
          ],
          "contourcarpet": [
           {
            "colorbar": {
             "outlinewidth": 0,
             "ticks": ""
            },
            "type": "contourcarpet"
           }
          ],
          "heatmap": [
           {
            "colorbar": {
             "outlinewidth": 0,
             "ticks": ""
            },
            "colorscale": [
             [
              0,
              "#0d0887"
             ],
             [
              0.1111111111111111,
              "#46039f"
             ],
             [
              0.2222222222222222,
              "#7201a8"
             ],
             [
              0.3333333333333333,
              "#9c179e"
             ],
             [
              0.4444444444444444,
              "#bd3786"
             ],
             [
              0.5555555555555556,
              "#d8576b"
             ],
             [
              0.6666666666666666,
              "#ed7953"
             ],
             [
              0.7777777777777778,
              "#fb9f3a"
             ],
             [
              0.8888888888888888,
              "#fdca26"
             ],
             [
              1,
              "#f0f921"
             ]
            ],
            "type": "heatmap"
           }
          ],
          "histogram": [
           {
            "marker": {
             "pattern": {
              "fillmode": "overlay",
              "size": 10,
              "solidity": 0.2
             }
            },
            "type": "histogram"
           }
          ],
          "histogram2d": [
           {
            "colorbar": {
             "outlinewidth": 0,
             "ticks": ""
            },
            "colorscale": [
             [
              0,
              "#0d0887"
             ],
             [
              0.1111111111111111,
              "#46039f"
             ],
             [
              0.2222222222222222,
              "#7201a8"
             ],
             [
              0.3333333333333333,
              "#9c179e"
             ],
             [
              0.4444444444444444,
              "#bd3786"
             ],
             [
              0.5555555555555556,
              "#d8576b"
             ],
             [
              0.6666666666666666,
              "#ed7953"
             ],
             [
              0.7777777777777778,
              "#fb9f3a"
             ],
             [
              0.8888888888888888,
              "#fdca26"
             ],
             [
              1,
              "#f0f921"
             ]
            ],
            "type": "histogram2d"
           }
          ],
          "histogram2dcontour": [
           {
            "colorbar": {
             "outlinewidth": 0,
             "ticks": ""
            },
            "colorscale": [
             [
              0,
              "#0d0887"
             ],
             [
              0.1111111111111111,
              "#46039f"
             ],
             [
              0.2222222222222222,
              "#7201a8"
             ],
             [
              0.3333333333333333,
              "#9c179e"
             ],
             [
              0.4444444444444444,
              "#bd3786"
             ],
             [
              0.5555555555555556,
              "#d8576b"
             ],
             [
              0.6666666666666666,
              "#ed7953"
             ],
             [
              0.7777777777777778,
              "#fb9f3a"
             ],
             [
              0.8888888888888888,
              "#fdca26"
             ],
             [
              1,
              "#f0f921"
             ]
            ],
            "type": "histogram2dcontour"
           }
          ],
          "mesh3d": [
           {
            "colorbar": {
             "outlinewidth": 0,
             "ticks": ""
            },
            "type": "mesh3d"
           }
          ],
          "parcoords": [
           {
            "line": {
             "colorbar": {
              "outlinewidth": 0,
              "ticks": ""
             }
            },
            "type": "parcoords"
           }
          ],
          "pie": [
           {
            "automargin": true,
            "type": "pie"
           }
          ],
          "scatter": [
           {
            "fillpattern": {
             "fillmode": "overlay",
             "size": 10,
             "solidity": 0.2
            },
            "type": "scatter"
           }
          ],
          "scatter3d": [
           {
            "line": {
             "colorbar": {
              "outlinewidth": 0,
              "ticks": ""
             }
            },
            "marker": {
             "colorbar": {
              "outlinewidth": 0,
              "ticks": ""
             }
            },
            "type": "scatter3d"
           }
          ],
          "scattercarpet": [
           {
            "marker": {
             "colorbar": {
              "outlinewidth": 0,
              "ticks": ""
             }
            },
            "type": "scattercarpet"
           }
          ],
          "scattergeo": [
           {
            "marker": {
             "colorbar": {
              "outlinewidth": 0,
              "ticks": ""
             }
            },
            "type": "scattergeo"
           }
          ],
          "scattergl": [
           {
            "marker": {
             "colorbar": {
              "outlinewidth": 0,
              "ticks": ""
             }
            },
            "type": "scattergl"
           }
          ],
          "scattermap": [
           {
            "marker": {
             "colorbar": {
              "outlinewidth": 0,
              "ticks": ""
             }
            },
            "type": "scattermap"
           }
          ],
          "scattermapbox": [
           {
            "marker": {
             "colorbar": {
              "outlinewidth": 0,
              "ticks": ""
             }
            },
            "type": "scattermapbox"
           }
          ],
          "scatterpolar": [
           {
            "marker": {
             "colorbar": {
              "outlinewidth": 0,
              "ticks": ""
             }
            },
            "type": "scatterpolar"
           }
          ],
          "scatterpolargl": [
           {
            "marker": {
             "colorbar": {
              "outlinewidth": 0,
              "ticks": ""
             }
            },
            "type": "scatterpolargl"
           }
          ],
          "scatterternary": [
           {
            "marker": {
             "colorbar": {
              "outlinewidth": 0,
              "ticks": ""
             }
            },
            "type": "scatterternary"
           }
          ],
          "surface": [
           {
            "colorbar": {
             "outlinewidth": 0,
             "ticks": ""
            },
            "colorscale": [
             [
              0,
              "#0d0887"
             ],
             [
              0.1111111111111111,
              "#46039f"
             ],
             [
              0.2222222222222222,
              "#7201a8"
             ],
             [
              0.3333333333333333,
              "#9c179e"
             ],
             [
              0.4444444444444444,
              "#bd3786"
             ],
             [
              0.5555555555555556,
              "#d8576b"
             ],
             [
              0.6666666666666666,
              "#ed7953"
             ],
             [
              0.7777777777777778,
              "#fb9f3a"
             ],
             [
              0.8888888888888888,
              "#fdca26"
             ],
             [
              1,
              "#f0f921"
             ]
            ],
            "type": "surface"
           }
          ],
          "table": [
           {
            "cells": {
             "fill": {
              "color": "#EBF0F8"
             },
             "line": {
              "color": "white"
             }
            },
            "header": {
             "fill": {
              "color": "#C8D4E3"
             },
             "line": {
              "color": "white"
             }
            },
            "type": "table"
           }
          ]
         },
         "layout": {
          "annotationdefaults": {
           "arrowcolor": "#2a3f5f",
           "arrowhead": 0,
           "arrowwidth": 1
          },
          "autotypenumbers": "strict",
          "coloraxis": {
           "colorbar": {
            "outlinewidth": 0,
            "ticks": ""
           }
          },
          "colorscale": {
           "diverging": [
            [
             0,
             "#8e0152"
            ],
            [
             0.1,
             "#c51b7d"
            ],
            [
             0.2,
             "#de77ae"
            ],
            [
             0.3,
             "#f1b6da"
            ],
            [
             0.4,
             "#fde0ef"
            ],
            [
             0.5,
             "#f7f7f7"
            ],
            [
             0.6,
             "#e6f5d0"
            ],
            [
             0.7,
             "#b8e186"
            ],
            [
             0.8,
             "#7fbc41"
            ],
            [
             0.9,
             "#4d9221"
            ],
            [
             1,
             "#276419"
            ]
           ],
           "sequential": [
            [
             0,
             "#0d0887"
            ],
            [
             0.1111111111111111,
             "#46039f"
            ],
            [
             0.2222222222222222,
             "#7201a8"
            ],
            [
             0.3333333333333333,
             "#9c179e"
            ],
            [
             0.4444444444444444,
             "#bd3786"
            ],
            [
             0.5555555555555556,
             "#d8576b"
            ],
            [
             0.6666666666666666,
             "#ed7953"
            ],
            [
             0.7777777777777778,
             "#fb9f3a"
            ],
            [
             0.8888888888888888,
             "#fdca26"
            ],
            [
             1,
             "#f0f921"
            ]
           ],
           "sequentialminus": [
            [
             0,
             "#0d0887"
            ],
            [
             0.1111111111111111,
             "#46039f"
            ],
            [
             0.2222222222222222,
             "#7201a8"
            ],
            [
             0.3333333333333333,
             "#9c179e"
            ],
            [
             0.4444444444444444,
             "#bd3786"
            ],
            [
             0.5555555555555556,
             "#d8576b"
            ],
            [
             0.6666666666666666,
             "#ed7953"
            ],
            [
             0.7777777777777778,
             "#fb9f3a"
            ],
            [
             0.8888888888888888,
             "#fdca26"
            ],
            [
             1,
             "#f0f921"
            ]
           ]
          },
          "colorway": [
           "#636efa",
           "#EF553B",
           "#00cc96",
           "#ab63fa",
           "#FFA15A",
           "#19d3f3",
           "#FF6692",
           "#B6E880",
           "#FF97FF",
           "#FECB52"
          ],
          "font": {
           "color": "#2a3f5f"
          },
          "geo": {
           "bgcolor": "white",
           "lakecolor": "white",
           "landcolor": "white",
           "showlakes": true,
           "showland": true,
           "subunitcolor": "#C8D4E3"
          },
          "hoverlabel": {
           "align": "left"
          },
          "hovermode": "closest",
          "mapbox": {
           "style": "light"
          },
          "paper_bgcolor": "white",
          "plot_bgcolor": "white",
          "polar": {
           "angularaxis": {
            "gridcolor": "#EBF0F8",
            "linecolor": "#EBF0F8",
            "ticks": ""
           },
           "bgcolor": "white",
           "radialaxis": {
            "gridcolor": "#EBF0F8",
            "linecolor": "#EBF0F8",
            "ticks": ""
           }
          },
          "scene": {
           "xaxis": {
            "backgroundcolor": "white",
            "gridcolor": "#DFE8F3",
            "gridwidth": 2,
            "linecolor": "#EBF0F8",
            "showbackground": true,
            "ticks": "",
            "zerolinecolor": "#EBF0F8"
           },
           "yaxis": {
            "backgroundcolor": "white",
            "gridcolor": "#DFE8F3",
            "gridwidth": 2,
            "linecolor": "#EBF0F8",
            "showbackground": true,
            "ticks": "",
            "zerolinecolor": "#EBF0F8"
           },
           "zaxis": {
            "backgroundcolor": "white",
            "gridcolor": "#DFE8F3",
            "gridwidth": 2,
            "linecolor": "#EBF0F8",
            "showbackground": true,
            "ticks": "",
            "zerolinecolor": "#EBF0F8"
           }
          },
          "shapedefaults": {
           "line": {
            "color": "#2a3f5f"
           }
          },
          "ternary": {
           "aaxis": {
            "gridcolor": "#DFE8F3",
            "linecolor": "#A2B1C6",
            "ticks": ""
           },
           "baxis": {
            "gridcolor": "#DFE8F3",
            "linecolor": "#A2B1C6",
            "ticks": ""
           },
           "bgcolor": "white",
           "caxis": {
            "gridcolor": "#DFE8F3",
            "linecolor": "#A2B1C6",
            "ticks": ""
           }
          },
          "title": {
           "x": 0.05
          },
          "xaxis": {
           "automargin": true,
           "gridcolor": "#EBF0F8",
           "linecolor": "#EBF0F8",
           "ticks": "",
           "title": {
            "standoff": 15
           },
           "zerolinecolor": "#EBF0F8",
           "zerolinewidth": 2
          },
          "yaxis": {
           "automargin": true,
           "gridcolor": "#EBF0F8",
           "linecolor": "#EBF0F8",
           "ticks": "",
           "title": {
            "standoff": 15
           },
           "zerolinecolor": "#EBF0F8",
           "zerolinewidth": 2
          }
         }
        },
        "title": {
         "text": "🧬 Customer Segmentation using KMeans (PCA View)"
        },
        "xaxis": {
         "anchor": "y",
         "domain": [
          0,
          1
         ],
         "title": {
          "text": "PC1"
         }
        },
        "yaxis": {
         "anchor": "x",
         "domain": [
          0,
          1
         ],
         "title": {
          "text": "PC2"
         }
        }
       }
      }
     },
     "metadata": {},
     "output_type": "display_data"
    }
   ],
   "source": [
    "from sklearn.decomposition import PCA\n",
    "\n",
    "pca = PCA(n_components=2)\n",
    "components = pca.fit_transform(X_scaled)\n",
    "\n",
    "customer_features['PC1'] = components[:, 0]\n",
    "customer_features['PC2'] = components[:, 1]\n",
    "\n",
    "fig = px.scatter(customer_features, x='PC1', y='PC2', color='segment',\n",
    "                 hover_data=['customer_id', 'total_sales', 'order_count','days_since_last_order'],\n",
    "                 title='🧬 Customer Segmentation using KMeans (PCA View)',\n",
    "                 template='plotly_white', color_continuous_scale='Turbo')\n",
    "\n",
    "fig.show()\n"
   ]
  },
  {
   "cell_type": "markdown",
   "metadata": {},
   "source": [
    "Segments Summary"
   ]
  },
  {
   "cell_type": "code",
   "execution_count": 191,
   "metadata": {},
   "outputs": [
    {
     "data": {
      "text/html": [
       "<div>\n",
       "<style scoped>\n",
       "    .dataframe tbody tr th:only-of-type {\n",
       "        vertical-align: middle;\n",
       "    }\n",
       "\n",
       "    .dataframe tbody tr th {\n",
       "        vertical-align: top;\n",
       "    }\n",
       "\n",
       "    .dataframe thead th {\n",
       "        text-align: right;\n",
       "    }\n",
       "</style>\n",
       "<table border=\"1\" class=\"dataframe\">\n",
       "  <thead>\n",
       "    <tr style=\"text-align: right;\">\n",
       "      <th></th>\n",
       "      <th>segment</th>\n",
       "      <th>customer_count</th>\n",
       "      <th>total_sales</th>\n",
       "      <th>order_count</th>\n",
       "      <th>avg_order_value</th>\n",
       "      <th>days_since_last_order</th>\n",
       "    </tr>\n",
       "  </thead>\n",
       "  <tbody>\n",
       "    <tr>\n",
       "      <th>0</th>\n",
       "      <td>At Risk</td>\n",
       "      <td>13</td>\n",
       "      <td>13524.417846</td>\n",
       "      <td>5.461538</td>\n",
       "      <td>2651.749716</td>\n",
       "      <td>161.615385</td>\n",
       "    </tr>\n",
       "    <tr>\n",
       "      <th>1</th>\n",
       "      <td>High Value</td>\n",
       "      <td>467</td>\n",
       "      <td>1814.590348</td>\n",
       "      <td>5.901499</td>\n",
       "      <td>319.922533</td>\n",
       "      <td>85.233405</td>\n",
       "    </tr>\n",
       "    <tr>\n",
       "      <th>2</th>\n",
       "      <td>Low Value</td>\n",
       "      <td>207</td>\n",
       "      <td>5450.644773</td>\n",
       "      <td>8.671498</td>\n",
       "      <td>683.429421</td>\n",
       "      <td>88.135266</td>\n",
       "    </tr>\n",
       "    <tr>\n",
       "      <th>3</th>\n",
       "      <td>Medium Value</td>\n",
       "      <td>106</td>\n",
       "      <td>1374.398752</td>\n",
       "      <td>3.650943</td>\n",
       "      <td>373.119751</td>\n",
       "      <td>530.801887</td>\n",
       "    </tr>\n",
       "  </tbody>\n",
       "</table>\n",
       "</div>"
      ],
      "text/plain": [
       "        segment  customer_count   total_sales  order_count  avg_order_value  \\\n",
       "0       At Risk              13  13524.417846     5.461538      2651.749716   \n",
       "1    High Value             467   1814.590348     5.901499       319.922533   \n",
       "2     Low Value             207   5450.644773     8.671498       683.429421   \n",
       "3  Medium Value             106   1374.398752     3.650943       373.119751   \n",
       "\n",
       "   days_since_last_order  \n",
       "0             161.615385  \n",
       "1              85.233405  \n",
       "2              88.135266  \n",
       "3             530.801887  "
      ]
     },
     "execution_count": 191,
     "metadata": {},
     "output_type": "execute_result"
    }
   ],
   "source": [
    "segment_summary = customer_features.groupby('segment').agg({\n",
    "    'customer_id': 'nunique',  # Proper count of customers\n",
    "    'total_sales': 'mean',\n",
    "    'order_count': 'mean',\n",
    "    'avg_order_value': 'mean',\n",
    "    'days_since_last_order': 'mean'  # This is now meaningful per-customer\n",
    "}).reset_index().rename(columns={'customer_id': 'customer_count'})\n",
    "segment_summary\n"
   ]
  },
  {
   "cell_type": "code",
   "execution_count": null,
   "metadata": {},
   "outputs": [],
   "source": []
  },
  {
   "cell_type": "code",
   "execution_count": 192,
   "metadata": {},
   "outputs": [
    {
     "name": "stdout",
     "output_type": "stream",
     "text": [
      "✅ Exported customer segmentation results as 'customer_segmentation.csv'\n"
     ]
    }
   ],
   "source": [
    "# Save the segmentation results\n",
    "#customer_features.to_csv(\"customer_segmentation.csv\", index=False)\n",
    "print(\"✅ Exported customer segmentation results as 'customer_segmentation.csv'\")"
   ]
  },
  {
   "cell_type": "markdown",
   "metadata": {},
   "source": [
    "# AI-Powered Business Recommendations"
   ]
  },
  {
   "cell_type": "markdown",
   "metadata": {},
   "source": [
    "insights from KPIs, churn prediction, anomalies, and customer segmentation to generate actionable business recommendations using logic + AI heuristics."
   ]
  },
  {
   "cell_type": "markdown",
   "metadata": {},
   "source": [
    "Generate Recommendations Based on Customer Segments"
   ]
  },
  {
   "cell_type": "code",
   "execution_count": 193,
   "metadata": {},
   "outputs": [],
   "source": [
    "def recommend_by_segment(row):\n",
    "    if row['segment'] == 'High Value':\n",
    "        return \"🎯 Target with loyalty rewards to maintain strong sales\"\n",
    "    elif row['segment'] == 'Medium Value':\n",
    "        return \"⚡ Upsell/cross-sell opportunities – high frequency, moderate value\"\n",
    "    elif row['segment'] == 'At Risk':\n",
    "        return \"🚨 Immediate re-engagement – high churn risk\"\n",
    "         \n",
    "    elif row['segment'] == 'Low Value':\n",
    "        return \"💰 High potential – low frequency but high order value\"\n",
    "    else:\n",
    "        return \"No action\"\n",
    "\n",
    "customer_features['segment_strategy'] = customer_features.apply(recommend_by_segment, axis=1)\n"
   ]
  },
  {
   "cell_type": "markdown",
   "metadata": {},
   "source": [
    "COmbining with churn risk for deeper action"
   ]
  },
  {
   "cell_type": "code",
   "execution_count": 194,
   "metadata": {},
   "outputs": [],
   "source": [
    "# Merge churn data\n",
    "customer_features = customer_features.merge(customer_kpis[['customer_id', 'churn_probability']], on='customer_id', how='left')\n",
    "\n",
    "def churn_recommendation(row):\n",
    "    if row['churn_probability'] > 0.7:\n",
    "        return \"🚨 High churn risk – send personalized retention offer\"\n",
    "    elif row['churn_probability'] > 0.4:\n",
    "        return \"⚠️ Medium churn risk – follow-up via email/ads\"\n",
    "    else:\n",
    "        return \"✅ Low churn risk – maintain engagement\"\n",
    "\n",
    "customer_features['churn_strategy'] = customer_features.apply(churn_recommendation, axis=1)\n"
   ]
  },
  {
   "cell_type": "code",
   "execution_count": 195,
   "metadata": {},
   "outputs": [
    {
     "data": {
      "text/html": [
       "<div>\n",
       "<style scoped>\n",
       "    .dataframe tbody tr th:only-of-type {\n",
       "        vertical-align: middle;\n",
       "    }\n",
       "\n",
       "    .dataframe tbody tr th {\n",
       "        vertical-align: top;\n",
       "    }\n",
       "\n",
       "    .dataframe thead th {\n",
       "        text-align: right;\n",
       "    }\n",
       "</style>\n",
       "<table border=\"1\" class=\"dataframe\">\n",
       "  <thead>\n",
       "    <tr style=\"text-align: right;\">\n",
       "      <th></th>\n",
       "      <th>customer_id</th>\n",
       "      <th>total_sales</th>\n",
       "      <th>total_profit</th>\n",
       "      <th>order_count</th>\n",
       "      <th>days_since_last_order</th>\n",
       "      <th>avg_order_value</th>\n",
       "      <th>segment</th>\n",
       "      <th>PC1</th>\n",
       "      <th>PC2</th>\n",
       "      <th>segment_strategy</th>\n",
       "      <th>churn_probability</th>\n",
       "      <th>churn_strategy</th>\n",
       "    </tr>\n",
       "  </thead>\n",
       "  <tbody>\n",
       "    <tr>\n",
       "      <th>0</th>\n",
       "      <td>AA-10315</td>\n",
       "      <td>5563.560</td>\n",
       "      <td>-362.8825</td>\n",
       "      <td>5</td>\n",
       "      <td>184</td>\n",
       "      <td>1112.712000</td>\n",
       "      <td>Low Value</td>\n",
       "      <td>0.889671</td>\n",
       "      <td>0.964908</td>\n",
       "      <td>💰 High potential – low frequency but high orde...</td>\n",
       "      <td>0.96</td>\n",
       "      <td>🚨 High churn risk – send personalized retentio...</td>\n",
       "    </tr>\n",
       "    <tr>\n",
       "      <th>1</th>\n",
       "      <td>AA-10375</td>\n",
       "      <td>1056.390</td>\n",
       "      <td>277.3824</td>\n",
       "      <td>9</td>\n",
       "      <td>19</td>\n",
       "      <td>117.376667</td>\n",
       "      <td>High Value</td>\n",
       "      <td>-0.473487</td>\n",
       "      <td>-1.467495</td>\n",
       "      <td>🎯 Target with loyalty rewards to maintain stro...</td>\n",
       "      <td>0.00</td>\n",
       "      <td>✅ Low churn risk – maintain engagement</td>\n",
       "    </tr>\n",
       "    <tr>\n",
       "      <th>2</th>\n",
       "      <td>AA-10480</td>\n",
       "      <td>1790.512</td>\n",
       "      <td>435.8274</td>\n",
       "      <td>4</td>\n",
       "      <td>259</td>\n",
       "      <td>447.628000</td>\n",
       "      <td>High Value</td>\n",
       "      <td>-0.616486</td>\n",
       "      <td>0.945054</td>\n",
       "      <td>🎯 Target with loyalty rewards to maintain stro...</td>\n",
       "      <td>0.99</td>\n",
       "      <td>🚨 High churn risk – send personalized retentio...</td>\n",
       "    </tr>\n",
       "    <tr>\n",
       "      <th>3</th>\n",
       "      <td>AA-10645</td>\n",
       "      <td>5086.935</td>\n",
       "      <td>857.8033</td>\n",
       "      <td>6</td>\n",
       "      <td>55</td>\n",
       "      <td>847.822500</td>\n",
       "      <td>Low Value</td>\n",
       "      <td>1.294460</td>\n",
       "      <td>0.203765</td>\n",
       "      <td>💰 High potential – low frequency but high orde...</td>\n",
       "      <td>0.00</td>\n",
       "      <td>✅ Low churn risk – maintain engagement</td>\n",
       "    </tr>\n",
       "    <tr>\n",
       "      <th>4</th>\n",
       "      <td>AB-10015</td>\n",
       "      <td>886.156</td>\n",
       "      <td>129.3465</td>\n",
       "      <td>3</td>\n",
       "      <td>415</td>\n",
       "      <td>295.385333</td>\n",
       "      <td>Medium Value</td>\n",
       "      <td>-1.430606</td>\n",
       "      <td>1.556122</td>\n",
       "      <td>⚡ Upsell/cross-sell opportunities – high frequ...</td>\n",
       "      <td>1.00</td>\n",
       "      <td>🚨 High churn risk – send personalized retentio...</td>\n",
       "    </tr>\n",
       "  </tbody>\n",
       "</table>\n",
       "</div>"
      ],
      "text/plain": [
       "  customer_id  total_sales  total_profit  order_count  days_since_last_order  \\\n",
       "0    AA-10315     5563.560     -362.8825            5                    184   \n",
       "1    AA-10375     1056.390      277.3824            9                     19   \n",
       "2    AA-10480     1790.512      435.8274            4                    259   \n",
       "3    AA-10645     5086.935      857.8033            6                     55   \n",
       "4    AB-10015      886.156      129.3465            3                    415   \n",
       "\n",
       "   avg_order_value       segment       PC1       PC2  \\\n",
       "0      1112.712000     Low Value  0.889671  0.964908   \n",
       "1       117.376667    High Value -0.473487 -1.467495   \n",
       "2       447.628000    High Value -0.616486  0.945054   \n",
       "3       847.822500     Low Value  1.294460  0.203765   \n",
       "4       295.385333  Medium Value -1.430606  1.556122   \n",
       "\n",
       "                                    segment_strategy  churn_probability  \\\n",
       "0  💰 High potential – low frequency but high orde...               0.96   \n",
       "1  🎯 Target with loyalty rewards to maintain stro...               0.00   \n",
       "2  🎯 Target with loyalty rewards to maintain stro...               0.99   \n",
       "3  💰 High potential – low frequency but high orde...               0.00   \n",
       "4  ⚡ Upsell/cross-sell opportunities – high frequ...               1.00   \n",
       "\n",
       "                                      churn_strategy  \n",
       "0  🚨 High churn risk – send personalized retentio...  \n",
       "1             ✅ Low churn risk – maintain engagement  \n",
       "2  🚨 High churn risk – send personalized retentio...  \n",
       "3             ✅ Low churn risk – maintain engagement  \n",
       "4  🚨 High churn risk – send personalized retentio...  "
      ]
     },
     "execution_count": 195,
     "metadata": {},
     "output_type": "execute_result"
    }
   ],
   "source": [
    "customer_features.head()"
   ]
  },
  {
   "cell_type": "markdown",
   "metadata": {},
   "source": [
    "Visualize Segment Strategies (Interactive Treemap)"
   ]
  },
  {
   "cell_type": "code",
   "execution_count": 196,
   "metadata": {},
   "outputs": [
    {
     "data": {
      "application/vnd.plotly.v1+json": {
       "config": {
        "plotlyServerURL": "https://plot.ly"
       },
       "data": [
        {
         "branchvalues": "total",
         "customdata": [
          [
           "(?)",
           164943.2665,
           0.9898041501439526
          ],
          [
           "(?)",
           750310.1179,
           0.0017703953689413524
          ],
          [
           "(?)",
           96949.2866,
           0.9801902174079535
          ],
          [
           "(?)",
           963340.2016,
           0.0031698201122804673
          ],
          [
           "(?)",
           145686.2677,
           0.9932818607309274
          ],
          [
           "(?)",
           120331.597,
           0.016722945678182933
          ],
          [
           "(?)",
           55485.835,
           0.9810077831576293
          ],
          [
           "MO-17950",
           154.288,
           0.41
          ],
          [
           "(?)",
           1128283.4681,
           0.14740546109930192
          ],
          [
           "(?)",
           847413.6925,
           0.11378190699697716
          ],
          [
           "(?)",
           145686.2677,
           0.9932818607309274
          ],
          [
           "(?)",
           175817.432,
           0.3210394675199214
          ]
         ],
         "domain": {
          "x": [
           0,
           1
          ],
          "y": [
           0,
           1
          ]
         },
         "hovertemplate": "labels=%{label}<br>total_sales=%{customdata[1]}<br>parent=%{parent}<br>id=%{id}<br>customer_id=%{customdata[0]}<br>churn_probability=%{color}<extra></extra>",
         "ids": [
          "💰 High potential – low frequency but high order value/🚨 High churn risk – send personalized retention offer",
          "🎯 Target with loyalty rewards to maintain strong sales/✅ Low churn risk – maintain engagement",
          "🎯 Target with loyalty rewards to maintain strong sales/🚨 High churn risk – send personalized retention offer",
          "💰 High potential – low frequency but high order value/✅ Low churn risk – maintain engagement",
          "⚡ Upsell/cross-sell opportunities – high frequency, moderate value/🚨 High churn risk – send personalized retention offer",
          "🚨 Immediate re-engagement – high churn risk/✅ Low churn risk – maintain engagement",
          "🚨 Immediate re-engagement – high churn risk/🚨 High churn risk – send personalized retention offer",
          "🎯 Target with loyalty rewards to maintain strong sales/⚠️ Medium churn risk – follow-up via email/ads",
          "💰 High potential – low frequency but high order value",
          "🎯 Target with loyalty rewards to maintain strong sales",
          "⚡ Upsell/cross-sell opportunities – high frequency, moderate value",
          "🚨 Immediate re-engagement – high churn risk"
         ],
         "labels": [
          "🚨 High churn risk – send personalized retention offer",
          "✅ Low churn risk – maintain engagement",
          "🚨 High churn risk – send personalized retention offer",
          "✅ Low churn risk – maintain engagement",
          "🚨 High churn risk – send personalized retention offer",
          "✅ Low churn risk – maintain engagement",
          "🚨 High churn risk – send personalized retention offer",
          "⚠️ Medium churn risk – follow-up via email/ads",
          "💰 High potential – low frequency but high order value",
          "🎯 Target with loyalty rewards to maintain strong sales",
          "⚡ Upsell/cross-sell opportunities – high frequency, moderate value",
          "🚨 Immediate re-engagement – high churn risk"
         ],
         "marker": {
          "coloraxis": "coloraxis",
          "colors": {
           "bdata": "9wbKwHms7z/oWnqNkwFdP5IK9N+3Xe8/oiPtNpj3aT9blHEK98jvP21QH+PRH5E/PxI5b2pk7z89CtejcD3aP8IuVqEu3sI/LLRtoc8gvT9blHEK98jvP9JKbh/pi9Q/",
           "dtype": "f8"
          }
         },
         "name": "",
         "parents": [
          "💰 High potential – low frequency but high order value",
          "🎯 Target with loyalty rewards to maintain strong sales",
          "🎯 Target with loyalty rewards to maintain strong sales",
          "💰 High potential – low frequency but high order value",
          "⚡ Upsell/cross-sell opportunities – high frequency, moderate value",
          "🚨 Immediate re-engagement – high churn risk",
          "🚨 Immediate re-engagement – high churn risk",
          "🎯 Target with loyalty rewards to maintain strong sales",
          "",
          "",
          "",
          ""
         ],
         "type": "treemap",
         "values": {
          "bdata": "g8DKIXoiBEGIY108zOUmQbHh6ZVUq/dAfh04ZxhmLUHJ5T8kssgBQTvfT425YP1AhetRuLoX60Dwp8ZLN0ljQM9m1XdbNzFBKVyPYmvcKUHJ5T8kssgBQX9qvHRLdgVB",
          "dtype": "f8"
         }
        }
       ],
       "layout": {
        "coloraxis": {
         "colorbar": {
          "title": {
           "text": "churn_probability"
          }
         },
         "colorscale": [
          [
           0,
           "rgb(103,0,31)"
          ],
          [
           0.1,
           "rgb(178,24,43)"
          ],
          [
           0.2,
           "rgb(214,96,77)"
          ],
          [
           0.3,
           "rgb(244,165,130)"
          ],
          [
           0.4,
           "rgb(253,219,199)"
          ],
          [
           0.5,
           "rgb(247,247,247)"
          ],
          [
           0.6,
           "rgb(209,229,240)"
          ],
          [
           0.7,
           "rgb(146,197,222)"
          ],
          [
           0.8,
           "rgb(67,147,195)"
          ],
          [
           0.9,
           "rgb(33,102,172)"
          ],
          [
           1,
           "rgb(5,48,97)"
          ]
         ]
        },
        "legend": {
         "tracegroupgap": 0
        },
        "template": {
         "data": {
          "bar": [
           {
            "error_x": {
             "color": "#2a3f5f"
            },
            "error_y": {
             "color": "#2a3f5f"
            },
            "marker": {
             "line": {
              "color": "#E5ECF6",
              "width": 0.5
             },
             "pattern": {
              "fillmode": "overlay",
              "size": 10,
              "solidity": 0.2
             }
            },
            "type": "bar"
           }
          ],
          "barpolar": [
           {
            "marker": {
             "line": {
              "color": "#E5ECF6",
              "width": 0.5
             },
             "pattern": {
              "fillmode": "overlay",
              "size": 10,
              "solidity": 0.2
             }
            },
            "type": "barpolar"
           }
          ],
          "carpet": [
           {
            "aaxis": {
             "endlinecolor": "#2a3f5f",
             "gridcolor": "white",
             "linecolor": "white",
             "minorgridcolor": "white",
             "startlinecolor": "#2a3f5f"
            },
            "baxis": {
             "endlinecolor": "#2a3f5f",
             "gridcolor": "white",
             "linecolor": "white",
             "minorgridcolor": "white",
             "startlinecolor": "#2a3f5f"
            },
            "type": "carpet"
           }
          ],
          "choropleth": [
           {
            "colorbar": {
             "outlinewidth": 0,
             "ticks": ""
            },
            "type": "choropleth"
           }
          ],
          "contour": [
           {
            "colorbar": {
             "outlinewidth": 0,
             "ticks": ""
            },
            "colorscale": [
             [
              0,
              "#0d0887"
             ],
             [
              0.1111111111111111,
              "#46039f"
             ],
             [
              0.2222222222222222,
              "#7201a8"
             ],
             [
              0.3333333333333333,
              "#9c179e"
             ],
             [
              0.4444444444444444,
              "#bd3786"
             ],
             [
              0.5555555555555556,
              "#d8576b"
             ],
             [
              0.6666666666666666,
              "#ed7953"
             ],
             [
              0.7777777777777778,
              "#fb9f3a"
             ],
             [
              0.8888888888888888,
              "#fdca26"
             ],
             [
              1,
              "#f0f921"
             ]
            ],
            "type": "contour"
           }
          ],
          "contourcarpet": [
           {
            "colorbar": {
             "outlinewidth": 0,
             "ticks": ""
            },
            "type": "contourcarpet"
           }
          ],
          "heatmap": [
           {
            "colorbar": {
             "outlinewidth": 0,
             "ticks": ""
            },
            "colorscale": [
             [
              0,
              "#0d0887"
             ],
             [
              0.1111111111111111,
              "#46039f"
             ],
             [
              0.2222222222222222,
              "#7201a8"
             ],
             [
              0.3333333333333333,
              "#9c179e"
             ],
             [
              0.4444444444444444,
              "#bd3786"
             ],
             [
              0.5555555555555556,
              "#d8576b"
             ],
             [
              0.6666666666666666,
              "#ed7953"
             ],
             [
              0.7777777777777778,
              "#fb9f3a"
             ],
             [
              0.8888888888888888,
              "#fdca26"
             ],
             [
              1,
              "#f0f921"
             ]
            ],
            "type": "heatmap"
           }
          ],
          "histogram": [
           {
            "marker": {
             "pattern": {
              "fillmode": "overlay",
              "size": 10,
              "solidity": 0.2
             }
            },
            "type": "histogram"
           }
          ],
          "histogram2d": [
           {
            "colorbar": {
             "outlinewidth": 0,
             "ticks": ""
            },
            "colorscale": [
             [
              0,
              "#0d0887"
             ],
             [
              0.1111111111111111,
              "#46039f"
             ],
             [
              0.2222222222222222,
              "#7201a8"
             ],
             [
              0.3333333333333333,
              "#9c179e"
             ],
             [
              0.4444444444444444,
              "#bd3786"
             ],
             [
              0.5555555555555556,
              "#d8576b"
             ],
             [
              0.6666666666666666,
              "#ed7953"
             ],
             [
              0.7777777777777778,
              "#fb9f3a"
             ],
             [
              0.8888888888888888,
              "#fdca26"
             ],
             [
              1,
              "#f0f921"
             ]
            ],
            "type": "histogram2d"
           }
          ],
          "histogram2dcontour": [
           {
            "colorbar": {
             "outlinewidth": 0,
             "ticks": ""
            },
            "colorscale": [
             [
              0,
              "#0d0887"
             ],
             [
              0.1111111111111111,
              "#46039f"
             ],
             [
              0.2222222222222222,
              "#7201a8"
             ],
             [
              0.3333333333333333,
              "#9c179e"
             ],
             [
              0.4444444444444444,
              "#bd3786"
             ],
             [
              0.5555555555555556,
              "#d8576b"
             ],
             [
              0.6666666666666666,
              "#ed7953"
             ],
             [
              0.7777777777777778,
              "#fb9f3a"
             ],
             [
              0.8888888888888888,
              "#fdca26"
             ],
             [
              1,
              "#f0f921"
             ]
            ],
            "type": "histogram2dcontour"
           }
          ],
          "mesh3d": [
           {
            "colorbar": {
             "outlinewidth": 0,
             "ticks": ""
            },
            "type": "mesh3d"
           }
          ],
          "parcoords": [
           {
            "line": {
             "colorbar": {
              "outlinewidth": 0,
              "ticks": ""
             }
            },
            "type": "parcoords"
           }
          ],
          "pie": [
           {
            "automargin": true,
            "type": "pie"
           }
          ],
          "scatter": [
           {
            "fillpattern": {
             "fillmode": "overlay",
             "size": 10,
             "solidity": 0.2
            },
            "type": "scatter"
           }
          ],
          "scatter3d": [
           {
            "line": {
             "colorbar": {
              "outlinewidth": 0,
              "ticks": ""
             }
            },
            "marker": {
             "colorbar": {
              "outlinewidth": 0,
              "ticks": ""
             }
            },
            "type": "scatter3d"
           }
          ],
          "scattercarpet": [
           {
            "marker": {
             "colorbar": {
              "outlinewidth": 0,
              "ticks": ""
             }
            },
            "type": "scattercarpet"
           }
          ],
          "scattergeo": [
           {
            "marker": {
             "colorbar": {
              "outlinewidth": 0,
              "ticks": ""
             }
            },
            "type": "scattergeo"
           }
          ],
          "scattergl": [
           {
            "marker": {
             "colorbar": {
              "outlinewidth": 0,
              "ticks": ""
             }
            },
            "type": "scattergl"
           }
          ],
          "scattermap": [
           {
            "marker": {
             "colorbar": {
              "outlinewidth": 0,
              "ticks": ""
             }
            },
            "type": "scattermap"
           }
          ],
          "scattermapbox": [
           {
            "marker": {
             "colorbar": {
              "outlinewidth": 0,
              "ticks": ""
             }
            },
            "type": "scattermapbox"
           }
          ],
          "scatterpolar": [
           {
            "marker": {
             "colorbar": {
              "outlinewidth": 0,
              "ticks": ""
             }
            },
            "type": "scatterpolar"
           }
          ],
          "scatterpolargl": [
           {
            "marker": {
             "colorbar": {
              "outlinewidth": 0,
              "ticks": ""
             }
            },
            "type": "scatterpolargl"
           }
          ],
          "scatterternary": [
           {
            "marker": {
             "colorbar": {
              "outlinewidth": 0,
              "ticks": ""
             }
            },
            "type": "scatterternary"
           }
          ],
          "surface": [
           {
            "colorbar": {
             "outlinewidth": 0,
             "ticks": ""
            },
            "colorscale": [
             [
              0,
              "#0d0887"
             ],
             [
              0.1111111111111111,
              "#46039f"
             ],
             [
              0.2222222222222222,
              "#7201a8"
             ],
             [
              0.3333333333333333,
              "#9c179e"
             ],
             [
              0.4444444444444444,
              "#bd3786"
             ],
             [
              0.5555555555555556,
              "#d8576b"
             ],
             [
              0.6666666666666666,
              "#ed7953"
             ],
             [
              0.7777777777777778,
              "#fb9f3a"
             ],
             [
              0.8888888888888888,
              "#fdca26"
             ],
             [
              1,
              "#f0f921"
             ]
            ],
            "type": "surface"
           }
          ],
          "table": [
           {
            "cells": {
             "fill": {
              "color": "#EBF0F8"
             },
             "line": {
              "color": "white"
             }
            },
            "header": {
             "fill": {
              "color": "#C8D4E3"
             },
             "line": {
              "color": "white"
             }
            },
            "type": "table"
           }
          ]
         },
         "layout": {
          "annotationdefaults": {
           "arrowcolor": "#2a3f5f",
           "arrowhead": 0,
           "arrowwidth": 1
          },
          "autotypenumbers": "strict",
          "coloraxis": {
           "colorbar": {
            "outlinewidth": 0,
            "ticks": ""
           }
          },
          "colorscale": {
           "diverging": [
            [
             0,
             "#8e0152"
            ],
            [
             0.1,
             "#c51b7d"
            ],
            [
             0.2,
             "#de77ae"
            ],
            [
             0.3,
             "#f1b6da"
            ],
            [
             0.4,
             "#fde0ef"
            ],
            [
             0.5,
             "#f7f7f7"
            ],
            [
             0.6,
             "#e6f5d0"
            ],
            [
             0.7,
             "#b8e186"
            ],
            [
             0.8,
             "#7fbc41"
            ],
            [
             0.9,
             "#4d9221"
            ],
            [
             1,
             "#276419"
            ]
           ],
           "sequential": [
            [
             0,
             "#0d0887"
            ],
            [
             0.1111111111111111,
             "#46039f"
            ],
            [
             0.2222222222222222,
             "#7201a8"
            ],
            [
             0.3333333333333333,
             "#9c179e"
            ],
            [
             0.4444444444444444,
             "#bd3786"
            ],
            [
             0.5555555555555556,
             "#d8576b"
            ],
            [
             0.6666666666666666,
             "#ed7953"
            ],
            [
             0.7777777777777778,
             "#fb9f3a"
            ],
            [
             0.8888888888888888,
             "#fdca26"
            ],
            [
             1,
             "#f0f921"
            ]
           ],
           "sequentialminus": [
            [
             0,
             "#0d0887"
            ],
            [
             0.1111111111111111,
             "#46039f"
            ],
            [
             0.2222222222222222,
             "#7201a8"
            ],
            [
             0.3333333333333333,
             "#9c179e"
            ],
            [
             0.4444444444444444,
             "#bd3786"
            ],
            [
             0.5555555555555556,
             "#d8576b"
            ],
            [
             0.6666666666666666,
             "#ed7953"
            ],
            [
             0.7777777777777778,
             "#fb9f3a"
            ],
            [
             0.8888888888888888,
             "#fdca26"
            ],
            [
             1,
             "#f0f921"
            ]
           ]
          },
          "colorway": [
           "#636efa",
           "#EF553B",
           "#00cc96",
           "#ab63fa",
           "#FFA15A",
           "#19d3f3",
           "#FF6692",
           "#B6E880",
           "#FF97FF",
           "#FECB52"
          ],
          "font": {
           "color": "#2a3f5f"
          },
          "geo": {
           "bgcolor": "white",
           "lakecolor": "white",
           "landcolor": "#E5ECF6",
           "showlakes": true,
           "showland": true,
           "subunitcolor": "white"
          },
          "hoverlabel": {
           "align": "left"
          },
          "hovermode": "closest",
          "mapbox": {
           "style": "light"
          },
          "paper_bgcolor": "white",
          "plot_bgcolor": "#E5ECF6",
          "polar": {
           "angularaxis": {
            "gridcolor": "white",
            "linecolor": "white",
            "ticks": ""
           },
           "bgcolor": "#E5ECF6",
           "radialaxis": {
            "gridcolor": "white",
            "linecolor": "white",
            "ticks": ""
           }
          },
          "scene": {
           "xaxis": {
            "backgroundcolor": "#E5ECF6",
            "gridcolor": "white",
            "gridwidth": 2,
            "linecolor": "white",
            "showbackground": true,
            "ticks": "",
            "zerolinecolor": "white"
           },
           "yaxis": {
            "backgroundcolor": "#E5ECF6",
            "gridcolor": "white",
            "gridwidth": 2,
            "linecolor": "white",
            "showbackground": true,
            "ticks": "",
            "zerolinecolor": "white"
           },
           "zaxis": {
            "backgroundcolor": "#E5ECF6",
            "gridcolor": "white",
            "gridwidth": 2,
            "linecolor": "white",
            "showbackground": true,
            "ticks": "",
            "zerolinecolor": "white"
           }
          },
          "shapedefaults": {
           "line": {
            "color": "#2a3f5f"
           }
          },
          "ternary": {
           "aaxis": {
            "gridcolor": "white",
            "linecolor": "white",
            "ticks": ""
           },
           "baxis": {
            "gridcolor": "white",
            "linecolor": "white",
            "ticks": ""
           },
           "bgcolor": "#E5ECF6",
           "caxis": {
            "gridcolor": "white",
            "linecolor": "white",
            "ticks": ""
           }
          },
          "title": {
           "x": 0.05
          },
          "xaxis": {
           "automargin": true,
           "gridcolor": "white",
           "linecolor": "white",
           "ticks": "",
           "title": {
            "standoff": 15
           },
           "zerolinecolor": "white",
           "zerolinewidth": 2
          },
          "yaxis": {
           "automargin": true,
           "gridcolor": "white",
           "linecolor": "white",
           "ticks": "",
           "title": {
            "standoff": 15
           },
           "zerolinecolor": "white",
           "zerolinewidth": 2
          }
         }
        },
        "title": {
         "text": "📊 Business Strategy Map by Customer Segment and Churn Risk"
        }
       }
      }
     },
     "metadata": {},
     "output_type": "display_data"
    }
   ],
   "source": [
    "fig = px.treemap(customer_features, \n",
    "                 path=['segment_strategy', 'churn_strategy'],\n",
    "                 values='total_sales',\n",
    "                 color='churn_probability',\n",
    "                 color_continuous_scale='RdBu',\n",
    "                 title=\"📊 Business Strategy Map by Customer Segment and Churn Risk\",\n",
    "                 hover_data={'customer_id': True, 'total_sales': True})\n",
    "\n",
    "fig.show()\n"
   ]
  },
  {
   "cell_type": "code",
   "execution_count": 197,
   "metadata": {},
   "outputs": [
    {
     "data": {
      "application/vnd.plotly.v1+json": {
       "config": {
        "plotlyServerURL": "https://plot.ly"
       },
       "data": [
        {
         "branchvalues": "total",
         "customdata": [
          [
           "(?)",
           164943.2665,
           0.9898041501439526
          ],
          [
           "(?)",
           750310.1179,
           0.0017703953689413524
          ],
          [
           "(?)",
           96949.2866,
           0.9801902174079535
          ],
          [
           "(?)",
           963340.2016,
           0.0031698201122804673
          ],
          [
           "(?)",
           145686.2677,
           0.9932818607309274
          ],
          [
           "(?)",
           120331.597,
           0.016722945678182933
          ],
          [
           "(?)",
           55485.835,
           0.9810077831576293
          ],
          [
           "MO-17950",
           154.288,
           0.41
          ],
          [
           "(?)",
           1128283.4681,
           0.14740546109930192
          ],
          [
           "(?)",
           847413.6925,
           0.11378190699697716
          ],
          [
           "(?)",
           145686.2677,
           0.9932818607309274
          ],
          [
           "(?)",
           175817.432,
           0.3210394675199214
          ]
         ],
         "domain": {
          "x": [
           0,
           1
          ],
          "y": [
           0,
           1
          ]
         },
         "hovertemplate": "labels=%{label}<br>total_sales=%{customdata[1]}<br>parent=%{parent}<br>id=%{id}<br>churn_probability=%{color}<extra></extra>",
         "ids": [
          "💰 High potential – low frequency but high order value/🚨 High churn risk – send personalized retention offer",
          "🎯 Target with loyalty rewards to maintain strong sales/✅ Low churn risk – maintain engagement",
          "🎯 Target with loyalty rewards to maintain strong sales/🚨 High churn risk – send personalized retention offer",
          "💰 High potential – low frequency but high order value/✅ Low churn risk – maintain engagement",
          "⚡ Upsell/cross-sell opportunities – high frequency, moderate value/🚨 High churn risk – send personalized retention offer",
          "🚨 Immediate re-engagement – high churn risk/✅ Low churn risk – maintain engagement",
          "🚨 Immediate re-engagement – high churn risk/🚨 High churn risk – send personalized retention offer",
          "🎯 Target with loyalty rewards to maintain strong sales/⚠️ Medium churn risk – follow-up via email/ads",
          "💰 High potential – low frequency but high order value",
          "🎯 Target with loyalty rewards to maintain strong sales",
          "⚡ Upsell/cross-sell opportunities – high frequency, moderate value",
          "🚨 Immediate re-engagement – high churn risk"
         ],
         "labels": [
          "🚨 High churn risk – send personalized retention offer",
          "✅ Low churn risk – maintain engagement",
          "🚨 High churn risk – send personalized retention offer",
          "✅ Low churn risk – maintain engagement",
          "🚨 High churn risk – send personalized retention offer",
          "✅ Low churn risk – maintain engagement",
          "🚨 High churn risk – send personalized retention offer",
          "⚠️ Medium churn risk – follow-up via email/ads",
          "💰 High potential – low frequency but high order value",
          "🎯 Target with loyalty rewards to maintain strong sales",
          "⚡ Upsell/cross-sell opportunities – high frequency, moderate value",
          "🚨 Immediate re-engagement – high churn risk"
         ],
         "marker": {
          "coloraxis": "coloraxis",
          "colors": {
           "bdata": "9wbKwHms7z/oWnqNkwFdP5IK9N+3Xe8/oiPtNpj3aT9blHEK98jvP21QH+PRH5E/PxI5b2pk7z89CtejcD3aP8IuVqEu3sI/LLRtoc8gvT9blHEK98jvP9JKbh/pi9Q/",
           "dtype": "f8"
          }
         },
         "name": "",
         "parents": [
          "💰 High potential – low frequency but high order value",
          "🎯 Target with loyalty rewards to maintain strong sales",
          "🎯 Target with loyalty rewards to maintain strong sales",
          "💰 High potential – low frequency but high order value",
          "⚡ Upsell/cross-sell opportunities – high frequency, moderate value",
          "🚨 Immediate re-engagement – high churn risk",
          "🚨 Immediate re-engagement – high churn risk",
          "🎯 Target with loyalty rewards to maintain strong sales",
          "",
          "",
          "",
          ""
         ],
         "type": "sunburst",
         "values": {
          "bdata": "g8DKIXoiBEGIY108zOUmQbHh6ZVUq/dAfh04ZxhmLUHJ5T8kssgBQTvfT425YP1AhetRuLoX60Dwp8ZLN0ljQM9m1XdbNzFBKVyPYmvcKUHJ5T8kssgBQX9qvHRLdgVB",
          "dtype": "f8"
         }
        }
       ],
       "layout": {
        "coloraxis": {
         "colorbar": {
          "title": {
           "text": "churn_probability"
          }
         },
         "colorscale": [
          [
           0,
           "rgb(0, 147, 146)"
          ],
          [
           0.16666666666666666,
           "rgb(114, 170, 161)"
          ],
          [
           0.3333333333333333,
           "rgb(177, 199, 179)"
          ],
          [
           0.5,
           "rgb(241, 234, 200)"
          ],
          [
           0.6666666666666666,
           "rgb(229, 185, 173)"
          ],
          [
           0.8333333333333334,
           "rgb(217, 137, 148)"
          ],
          [
           1,
           "rgb(208, 88, 126)"
          ]
         ]
        },
        "font": {
         "family": "Arial",
         "size": 14
        },
        "legend": {
         "tracegroupgap": 0
        },
        "margin": {
         "b": 0,
         "l": 0,
         "r": 0,
         "t": 50
        },
        "paper_bgcolor": "white",
        "template": {
         "data": {
          "bar": [
           {
            "error_x": {
             "color": "#2a3f5f"
            },
            "error_y": {
             "color": "#2a3f5f"
            },
            "marker": {
             "line": {
              "color": "#E5ECF6",
              "width": 0.5
             },
             "pattern": {
              "fillmode": "overlay",
              "size": 10,
              "solidity": 0.2
             }
            },
            "type": "bar"
           }
          ],
          "barpolar": [
           {
            "marker": {
             "line": {
              "color": "#E5ECF6",
              "width": 0.5
             },
             "pattern": {
              "fillmode": "overlay",
              "size": 10,
              "solidity": 0.2
             }
            },
            "type": "barpolar"
           }
          ],
          "carpet": [
           {
            "aaxis": {
             "endlinecolor": "#2a3f5f",
             "gridcolor": "white",
             "linecolor": "white",
             "minorgridcolor": "white",
             "startlinecolor": "#2a3f5f"
            },
            "baxis": {
             "endlinecolor": "#2a3f5f",
             "gridcolor": "white",
             "linecolor": "white",
             "minorgridcolor": "white",
             "startlinecolor": "#2a3f5f"
            },
            "type": "carpet"
           }
          ],
          "choropleth": [
           {
            "colorbar": {
             "outlinewidth": 0,
             "ticks": ""
            },
            "type": "choropleth"
           }
          ],
          "contour": [
           {
            "colorbar": {
             "outlinewidth": 0,
             "ticks": ""
            },
            "colorscale": [
             [
              0,
              "#0d0887"
             ],
             [
              0.1111111111111111,
              "#46039f"
             ],
             [
              0.2222222222222222,
              "#7201a8"
             ],
             [
              0.3333333333333333,
              "#9c179e"
             ],
             [
              0.4444444444444444,
              "#bd3786"
             ],
             [
              0.5555555555555556,
              "#d8576b"
             ],
             [
              0.6666666666666666,
              "#ed7953"
             ],
             [
              0.7777777777777778,
              "#fb9f3a"
             ],
             [
              0.8888888888888888,
              "#fdca26"
             ],
             [
              1,
              "#f0f921"
             ]
            ],
            "type": "contour"
           }
          ],
          "contourcarpet": [
           {
            "colorbar": {
             "outlinewidth": 0,
             "ticks": ""
            },
            "type": "contourcarpet"
           }
          ],
          "heatmap": [
           {
            "colorbar": {
             "outlinewidth": 0,
             "ticks": ""
            },
            "colorscale": [
             [
              0,
              "#0d0887"
             ],
             [
              0.1111111111111111,
              "#46039f"
             ],
             [
              0.2222222222222222,
              "#7201a8"
             ],
             [
              0.3333333333333333,
              "#9c179e"
             ],
             [
              0.4444444444444444,
              "#bd3786"
             ],
             [
              0.5555555555555556,
              "#d8576b"
             ],
             [
              0.6666666666666666,
              "#ed7953"
             ],
             [
              0.7777777777777778,
              "#fb9f3a"
             ],
             [
              0.8888888888888888,
              "#fdca26"
             ],
             [
              1,
              "#f0f921"
             ]
            ],
            "type": "heatmap"
           }
          ],
          "histogram": [
           {
            "marker": {
             "pattern": {
              "fillmode": "overlay",
              "size": 10,
              "solidity": 0.2
             }
            },
            "type": "histogram"
           }
          ],
          "histogram2d": [
           {
            "colorbar": {
             "outlinewidth": 0,
             "ticks": ""
            },
            "colorscale": [
             [
              0,
              "#0d0887"
             ],
             [
              0.1111111111111111,
              "#46039f"
             ],
             [
              0.2222222222222222,
              "#7201a8"
             ],
             [
              0.3333333333333333,
              "#9c179e"
             ],
             [
              0.4444444444444444,
              "#bd3786"
             ],
             [
              0.5555555555555556,
              "#d8576b"
             ],
             [
              0.6666666666666666,
              "#ed7953"
             ],
             [
              0.7777777777777778,
              "#fb9f3a"
             ],
             [
              0.8888888888888888,
              "#fdca26"
             ],
             [
              1,
              "#f0f921"
             ]
            ],
            "type": "histogram2d"
           }
          ],
          "histogram2dcontour": [
           {
            "colorbar": {
             "outlinewidth": 0,
             "ticks": ""
            },
            "colorscale": [
             [
              0,
              "#0d0887"
             ],
             [
              0.1111111111111111,
              "#46039f"
             ],
             [
              0.2222222222222222,
              "#7201a8"
             ],
             [
              0.3333333333333333,
              "#9c179e"
             ],
             [
              0.4444444444444444,
              "#bd3786"
             ],
             [
              0.5555555555555556,
              "#d8576b"
             ],
             [
              0.6666666666666666,
              "#ed7953"
             ],
             [
              0.7777777777777778,
              "#fb9f3a"
             ],
             [
              0.8888888888888888,
              "#fdca26"
             ],
             [
              1,
              "#f0f921"
             ]
            ],
            "type": "histogram2dcontour"
           }
          ],
          "mesh3d": [
           {
            "colorbar": {
             "outlinewidth": 0,
             "ticks": ""
            },
            "type": "mesh3d"
           }
          ],
          "parcoords": [
           {
            "line": {
             "colorbar": {
              "outlinewidth": 0,
              "ticks": ""
             }
            },
            "type": "parcoords"
           }
          ],
          "pie": [
           {
            "automargin": true,
            "type": "pie"
           }
          ],
          "scatter": [
           {
            "fillpattern": {
             "fillmode": "overlay",
             "size": 10,
             "solidity": 0.2
            },
            "type": "scatter"
           }
          ],
          "scatter3d": [
           {
            "line": {
             "colorbar": {
              "outlinewidth": 0,
              "ticks": ""
             }
            },
            "marker": {
             "colorbar": {
              "outlinewidth": 0,
              "ticks": ""
             }
            },
            "type": "scatter3d"
           }
          ],
          "scattercarpet": [
           {
            "marker": {
             "colorbar": {
              "outlinewidth": 0,
              "ticks": ""
             }
            },
            "type": "scattercarpet"
           }
          ],
          "scattergeo": [
           {
            "marker": {
             "colorbar": {
              "outlinewidth": 0,
              "ticks": ""
             }
            },
            "type": "scattergeo"
           }
          ],
          "scattergl": [
           {
            "marker": {
             "colorbar": {
              "outlinewidth": 0,
              "ticks": ""
             }
            },
            "type": "scattergl"
           }
          ],
          "scattermap": [
           {
            "marker": {
             "colorbar": {
              "outlinewidth": 0,
              "ticks": ""
             }
            },
            "type": "scattermap"
           }
          ],
          "scattermapbox": [
           {
            "marker": {
             "colorbar": {
              "outlinewidth": 0,
              "ticks": ""
             }
            },
            "type": "scattermapbox"
           }
          ],
          "scatterpolar": [
           {
            "marker": {
             "colorbar": {
              "outlinewidth": 0,
              "ticks": ""
             }
            },
            "type": "scatterpolar"
           }
          ],
          "scatterpolargl": [
           {
            "marker": {
             "colorbar": {
              "outlinewidth": 0,
              "ticks": ""
             }
            },
            "type": "scatterpolargl"
           }
          ],
          "scatterternary": [
           {
            "marker": {
             "colorbar": {
              "outlinewidth": 0,
              "ticks": ""
             }
            },
            "type": "scatterternary"
           }
          ],
          "surface": [
           {
            "colorbar": {
             "outlinewidth": 0,
             "ticks": ""
            },
            "colorscale": [
             [
              0,
              "#0d0887"
             ],
             [
              0.1111111111111111,
              "#46039f"
             ],
             [
              0.2222222222222222,
              "#7201a8"
             ],
             [
              0.3333333333333333,
              "#9c179e"
             ],
             [
              0.4444444444444444,
              "#bd3786"
             ],
             [
              0.5555555555555556,
              "#d8576b"
             ],
             [
              0.6666666666666666,
              "#ed7953"
             ],
             [
              0.7777777777777778,
              "#fb9f3a"
             ],
             [
              0.8888888888888888,
              "#fdca26"
             ],
             [
              1,
              "#f0f921"
             ]
            ],
            "type": "surface"
           }
          ],
          "table": [
           {
            "cells": {
             "fill": {
              "color": "#EBF0F8"
             },
             "line": {
              "color": "white"
             }
            },
            "header": {
             "fill": {
              "color": "#C8D4E3"
             },
             "line": {
              "color": "white"
             }
            },
            "type": "table"
           }
          ]
         },
         "layout": {
          "annotationdefaults": {
           "arrowcolor": "#2a3f5f",
           "arrowhead": 0,
           "arrowwidth": 1
          },
          "autotypenumbers": "strict",
          "coloraxis": {
           "colorbar": {
            "outlinewidth": 0,
            "ticks": ""
           }
          },
          "colorscale": {
           "diverging": [
            [
             0,
             "#8e0152"
            ],
            [
             0.1,
             "#c51b7d"
            ],
            [
             0.2,
             "#de77ae"
            ],
            [
             0.3,
             "#f1b6da"
            ],
            [
             0.4,
             "#fde0ef"
            ],
            [
             0.5,
             "#f7f7f7"
            ],
            [
             0.6,
             "#e6f5d0"
            ],
            [
             0.7,
             "#b8e186"
            ],
            [
             0.8,
             "#7fbc41"
            ],
            [
             0.9,
             "#4d9221"
            ],
            [
             1,
             "#276419"
            ]
           ],
           "sequential": [
            [
             0,
             "#0d0887"
            ],
            [
             0.1111111111111111,
             "#46039f"
            ],
            [
             0.2222222222222222,
             "#7201a8"
            ],
            [
             0.3333333333333333,
             "#9c179e"
            ],
            [
             0.4444444444444444,
             "#bd3786"
            ],
            [
             0.5555555555555556,
             "#d8576b"
            ],
            [
             0.6666666666666666,
             "#ed7953"
            ],
            [
             0.7777777777777778,
             "#fb9f3a"
            ],
            [
             0.8888888888888888,
             "#fdca26"
            ],
            [
             1,
             "#f0f921"
            ]
           ],
           "sequentialminus": [
            [
             0,
             "#0d0887"
            ],
            [
             0.1111111111111111,
             "#46039f"
            ],
            [
             0.2222222222222222,
             "#7201a8"
            ],
            [
             0.3333333333333333,
             "#9c179e"
            ],
            [
             0.4444444444444444,
             "#bd3786"
            ],
            [
             0.5555555555555556,
             "#d8576b"
            ],
            [
             0.6666666666666666,
             "#ed7953"
            ],
            [
             0.7777777777777778,
             "#fb9f3a"
            ],
            [
             0.8888888888888888,
             "#fdca26"
            ],
            [
             1,
             "#f0f921"
            ]
           ]
          },
          "colorway": [
           "#636efa",
           "#EF553B",
           "#00cc96",
           "#ab63fa",
           "#FFA15A",
           "#19d3f3",
           "#FF6692",
           "#B6E880",
           "#FF97FF",
           "#FECB52"
          ],
          "font": {
           "color": "#2a3f5f"
          },
          "geo": {
           "bgcolor": "white",
           "lakecolor": "white",
           "landcolor": "#E5ECF6",
           "showlakes": true,
           "showland": true,
           "subunitcolor": "white"
          },
          "hoverlabel": {
           "align": "left"
          },
          "hovermode": "closest",
          "mapbox": {
           "style": "light"
          },
          "paper_bgcolor": "white",
          "plot_bgcolor": "#E5ECF6",
          "polar": {
           "angularaxis": {
            "gridcolor": "white",
            "linecolor": "white",
            "ticks": ""
           },
           "bgcolor": "#E5ECF6",
           "radialaxis": {
            "gridcolor": "white",
            "linecolor": "white",
            "ticks": ""
           }
          },
          "scene": {
           "xaxis": {
            "backgroundcolor": "#E5ECF6",
            "gridcolor": "white",
            "gridwidth": 2,
            "linecolor": "white",
            "showbackground": true,
            "ticks": "",
            "zerolinecolor": "white"
           },
           "yaxis": {
            "backgroundcolor": "#E5ECF6",
            "gridcolor": "white",
            "gridwidth": 2,
            "linecolor": "white",
            "showbackground": true,
            "ticks": "",
            "zerolinecolor": "white"
           },
           "zaxis": {
            "backgroundcolor": "#E5ECF6",
            "gridcolor": "white",
            "gridwidth": 2,
            "linecolor": "white",
            "showbackground": true,
            "ticks": "",
            "zerolinecolor": "white"
           }
          },
          "shapedefaults": {
           "line": {
            "color": "#2a3f5f"
           }
          },
          "ternary": {
           "aaxis": {
            "gridcolor": "white",
            "linecolor": "white",
            "ticks": ""
           },
           "baxis": {
            "gridcolor": "white",
            "linecolor": "white",
            "ticks": ""
           },
           "bgcolor": "#E5ECF6",
           "caxis": {
            "gridcolor": "white",
            "linecolor": "white",
            "ticks": ""
           }
          },
          "title": {
           "x": 0.05
          },
          "xaxis": {
           "automargin": true,
           "gridcolor": "white",
           "linecolor": "white",
           "ticks": "",
           "title": {
            "standoff": 15
           },
           "zerolinecolor": "white",
           "zerolinewidth": 2
          },
          "yaxis": {
           "automargin": true,
           "gridcolor": "white",
           "linecolor": "white",
           "ticks": "",
           "title": {
            "standoff": 15
           },
           "zerolinecolor": "white",
           "zerolinewidth": 2
          }
         }
        },
        "title": {
         "font": {
          "size": 22
         },
         "text": "🌞 AI-Driven Customer Strategy Sunburst"
        }
       }
      }
     },
     "metadata": {},
     "output_type": "display_data"
    }
   ],
   "source": [
    "fig = px.sunburst(\n",
    "    customer_features,\n",
    "    path=['segment_strategy', 'churn_strategy'],\n",
    "    values='total_sales',\n",
    "    color='churn_probability',\n",
    "    color_continuous_scale='Tealrose',\n",
    "    title=\"🌞 AI-Driven Customer Strategy Sunburst\",\n",
    "    hover_data={\n",
    "        'customer_id': False,\n",
    "        'total_sales': True,\n",
    "        'churn_probability': True\n",
    "    }\n",
    ")\n",
    "\n",
    "fig.update_layout(\n",
    "    margin=dict(t=50, l=0, r=0, b=0),\n",
    "    title_font=dict(size=22),\n",
    "    font=dict(family=\"Arial\", size=14),\n",
    "    paper_bgcolor='white'\n",
    ")\n",
    "\n",
    "fig.show()\n"
   ]
  },
  {
   "cell_type": "code",
   "execution_count": 198,
   "metadata": {},
   "outputs": [
    {
     "name": "stdout",
     "output_type": "stream",
     "text": [
      "✅ Exported ai_business_recommendations.csv\n"
     ]
    }
   ],
   "source": [
    "#customer_features[['customer_id', 'segment', 'segment_strategy', 'churn_probability', 'churn_strategy']].to_csv(\"ai_business_recommendations.csv\", index=False)\n",
    "\n",
    "print(\"✅ Exported ai_business_recommendations.csv\")\n"
   ]
  },
  {
   "cell_type": "code",
   "execution_count": 199,
   "metadata": {},
   "outputs": [
    {
     "data": {
      "text/html": [
       "<div>\n",
       "<style scoped>\n",
       "    .dataframe tbody tr th:only-of-type {\n",
       "        vertical-align: middle;\n",
       "    }\n",
       "\n",
       "    .dataframe tbody tr th {\n",
       "        vertical-align: top;\n",
       "    }\n",
       "\n",
       "    .dataframe thead th {\n",
       "        text-align: right;\n",
       "    }\n",
       "</style>\n",
       "<table border=\"1\" class=\"dataframe\">\n",
       "  <thead>\n",
       "    <tr style=\"text-align: right;\">\n",
       "      <th></th>\n",
       "      <th>customer_id</th>\n",
       "      <th>total_sales</th>\n",
       "      <th>total_profit</th>\n",
       "      <th>order_count</th>\n",
       "      <th>days_since_last_order</th>\n",
       "      <th>avg_order_value</th>\n",
       "      <th>segment</th>\n",
       "      <th>PC1</th>\n",
       "      <th>PC2</th>\n",
       "      <th>segment_strategy</th>\n",
       "    </tr>\n",
       "  </thead>\n",
       "  <tbody>\n",
       "    <tr>\n",
       "      <th>0</th>\n",
       "      <td>AA-10315</td>\n",
       "      <td>5563.560</td>\n",
       "      <td>-362.8825</td>\n",
       "      <td>5</td>\n",
       "      <td>184</td>\n",
       "      <td>1112.712000</td>\n",
       "      <td>Low Value</td>\n",
       "      <td>0.889671</td>\n",
       "      <td>0.964908</td>\n",
       "      <td>Use low-cost retention strategies and remarket...</td>\n",
       "    </tr>\n",
       "    <tr>\n",
       "      <th>1</th>\n",
       "      <td>AA-10375</td>\n",
       "      <td>1056.390</td>\n",
       "      <td>277.3824</td>\n",
       "      <td>9</td>\n",
       "      <td>19</td>\n",
       "      <td>117.376667</td>\n",
       "      <td>High Value</td>\n",
       "      <td>-0.473487</td>\n",
       "      <td>-1.467495</td>\n",
       "      <td>Offer loyalty rewards, early access, and exclu...</td>\n",
       "    </tr>\n",
       "    <tr>\n",
       "      <th>2</th>\n",
       "      <td>AA-10480</td>\n",
       "      <td>1790.512</td>\n",
       "      <td>435.8274</td>\n",
       "      <td>4</td>\n",
       "      <td>259</td>\n",
       "      <td>447.628000</td>\n",
       "      <td>High Value</td>\n",
       "      <td>-0.616486</td>\n",
       "      <td>0.945054</td>\n",
       "      <td>Offer loyalty rewards, early access, and exclu...</td>\n",
       "    </tr>\n",
       "    <tr>\n",
       "      <th>3</th>\n",
       "      <td>AA-10645</td>\n",
       "      <td>5086.935</td>\n",
       "      <td>857.8033</td>\n",
       "      <td>6</td>\n",
       "      <td>55</td>\n",
       "      <td>847.822500</td>\n",
       "      <td>Low Value</td>\n",
       "      <td>1.294460</td>\n",
       "      <td>0.203765</td>\n",
       "      <td>Use low-cost retention strategies and remarket...</td>\n",
       "    </tr>\n",
       "    <tr>\n",
       "      <th>4</th>\n",
       "      <td>AB-10015</td>\n",
       "      <td>886.156</td>\n",
       "      <td>129.3465</td>\n",
       "      <td>3</td>\n",
       "      <td>415</td>\n",
       "      <td>295.385333</td>\n",
       "      <td>Medium Value</td>\n",
       "      <td>-1.430606</td>\n",
       "      <td>1.556122</td>\n",
       "      <td>Upsell and cross-sell through bundles and promos.</td>\n",
       "    </tr>\n",
       "  </tbody>\n",
       "</table>\n",
       "</div>"
      ],
      "text/plain": [
       "  customer_id  total_sales  total_profit  order_count  days_since_last_order  \\\n",
       "0    AA-10315     5563.560     -362.8825            5                    184   \n",
       "1    AA-10375     1056.390      277.3824            9                     19   \n",
       "2    AA-10480     1790.512      435.8274            4                    259   \n",
       "3    AA-10645     5086.935      857.8033            6                     55   \n",
       "4    AB-10015      886.156      129.3465            3                    415   \n",
       "\n",
       "   avg_order_value       segment       PC1       PC2  \\\n",
       "0      1112.712000     Low Value  0.889671  0.964908   \n",
       "1       117.376667    High Value -0.473487 -1.467495   \n",
       "2       447.628000    High Value -0.616486  0.945054   \n",
       "3       847.822500     Low Value  1.294460  0.203765   \n",
       "4       295.385333  Medium Value -1.430606  1.556122   \n",
       "\n",
       "                                    segment_strategy  \n",
       "0  Use low-cost retention strategies and remarket...  \n",
       "1  Offer loyalty rewards, early access, and exclu...  \n",
       "2  Offer loyalty rewards, early access, and exclu...  \n",
       "3  Use low-cost retention strategies and remarket...  \n",
       "4  Upsell and cross-sell through bundles and promos.  "
      ]
     },
     "execution_count": 199,
     "metadata": {},
     "output_type": "execute_result"
    }
   ],
   "source": [
    "#load segment df\n",
    "segments_df = pd.read_csv(r\"C:\\Users\\Saurav Kumar\\python files\\UPWORK PROJECTS\\customer_segmentation.csv\")\n",
    "segments_df.head()\n"
   ]
  },
  {
   "cell_type": "code",
   "execution_count": 200,
   "metadata": {},
   "outputs": [
    {
     "data": {
      "text/html": [
       "<div>\n",
       "<style scoped>\n",
       "    .dataframe tbody tr th:only-of-type {\n",
       "        vertical-align: middle;\n",
       "    }\n",
       "\n",
       "    .dataframe tbody tr th {\n",
       "        vertical-align: top;\n",
       "    }\n",
       "\n",
       "    .dataframe thead th {\n",
       "        text-align: right;\n",
       "    }\n",
       "</style>\n",
       "<table border=\"1\" class=\"dataframe\">\n",
       "  <thead>\n",
       "    <tr style=\"text-align: right;\">\n",
       "      <th></th>\n",
       "      <th>customer_id</th>\n",
       "      <th>total_sales</th>\n",
       "      <th>total_profit</th>\n",
       "      <th>order_count</th>\n",
       "      <th>days_since_last_order</th>\n",
       "      <th>avg_order_value</th>\n",
       "      <th>segment</th>\n",
       "      <th>PC1</th>\n",
       "      <th>PC2</th>\n",
       "      <th>segment_strategy</th>\n",
       "    </tr>\n",
       "  </thead>\n",
       "  <tbody>\n",
       "    <tr>\n",
       "      <th>0</th>\n",
       "      <td>AA-10315</td>\n",
       "      <td>5563.560</td>\n",
       "      <td>-362.8825</td>\n",
       "      <td>5</td>\n",
       "      <td>184</td>\n",
       "      <td>1112.712000</td>\n",
       "      <td>Low Value</td>\n",
       "      <td>0.889671</td>\n",
       "      <td>0.964908</td>\n",
       "      <td>Use low-cost retention strategies and remarket...</td>\n",
       "    </tr>\n",
       "    <tr>\n",
       "      <th>1</th>\n",
       "      <td>AA-10375</td>\n",
       "      <td>1056.390</td>\n",
       "      <td>277.3824</td>\n",
       "      <td>9</td>\n",
       "      <td>19</td>\n",
       "      <td>117.376667</td>\n",
       "      <td>High Value</td>\n",
       "      <td>-0.473487</td>\n",
       "      <td>-1.467495</td>\n",
       "      <td>Offer loyalty rewards, early access, and exclu...</td>\n",
       "    </tr>\n",
       "    <tr>\n",
       "      <th>2</th>\n",
       "      <td>AA-10480</td>\n",
       "      <td>1790.512</td>\n",
       "      <td>435.8274</td>\n",
       "      <td>4</td>\n",
       "      <td>259</td>\n",
       "      <td>447.628000</td>\n",
       "      <td>High Value</td>\n",
       "      <td>-0.616486</td>\n",
       "      <td>0.945054</td>\n",
       "      <td>Offer loyalty rewards, early access, and exclu...</td>\n",
       "    </tr>\n",
       "    <tr>\n",
       "      <th>3</th>\n",
       "      <td>AA-10645</td>\n",
       "      <td>5086.935</td>\n",
       "      <td>857.8033</td>\n",
       "      <td>6</td>\n",
       "      <td>55</td>\n",
       "      <td>847.822500</td>\n",
       "      <td>Low Value</td>\n",
       "      <td>1.294460</td>\n",
       "      <td>0.203765</td>\n",
       "      <td>Use low-cost retention strategies and remarket...</td>\n",
       "    </tr>\n",
       "    <tr>\n",
       "      <th>4</th>\n",
       "      <td>AB-10015</td>\n",
       "      <td>886.156</td>\n",
       "      <td>129.3465</td>\n",
       "      <td>3</td>\n",
       "      <td>415</td>\n",
       "      <td>295.385333</td>\n",
       "      <td>Medium Value</td>\n",
       "      <td>-1.430606</td>\n",
       "      <td>1.556122</td>\n",
       "      <td>Upsell and cross-sell through bundles and promos.</td>\n",
       "    </tr>\n",
       "  </tbody>\n",
       "</table>\n",
       "</div>"
      ],
      "text/plain": [
       "  customer_id  total_sales  total_profit  order_count  days_since_last_order  \\\n",
       "0    AA-10315     5563.560     -362.8825            5                    184   \n",
       "1    AA-10375     1056.390      277.3824            9                     19   \n",
       "2    AA-10480     1790.512      435.8274            4                    259   \n",
       "3    AA-10645     5086.935      857.8033            6                     55   \n",
       "4    AB-10015      886.156      129.3465            3                    415   \n",
       "\n",
       "   avg_order_value       segment       PC1       PC2  \\\n",
       "0      1112.712000     Low Value  0.889671  0.964908   \n",
       "1       117.376667    High Value -0.473487 -1.467495   \n",
       "2       447.628000    High Value -0.616486  0.945054   \n",
       "3       847.822500     Low Value  1.294460  0.203765   \n",
       "4       295.385333  Medium Value -1.430606  1.556122   \n",
       "\n",
       "                                    segment_strategy  \n",
       "0  Use low-cost retention strategies and remarket...  \n",
       "1  Offer loyalty rewards, early access, and exclu...  \n",
       "2  Offer loyalty rewards, early access, and exclu...  \n",
       "3  Use low-cost retention strategies and remarket...  \n",
       "4  Upsell and cross-sell through bundles and promos.  "
      ]
     },
     "execution_count": 200,
     "metadata": {},
     "output_type": "execute_result"
    }
   ],
   "source": [
    "# Strategy mapping based on segment labels (adjust names if needed)\n",
    "strategy_map = {\n",
    "    \"High Value\": \"Offer loyalty rewards, early access, and exclusive services.\",\n",
    "    \"At Risk\": \"Send re-engagement emails, discounts, and check-in calls.\",\n",
    "    \"New Customers\": \"Provide welcome offers and onboarding support.\",\n",
    "    \"Low Value\": \"Use low-cost retention strategies and remarketing.\",\n",
    "    \"Medium Value\": \"Upsell and cross-sell through bundles and promos.\"\n",
    "}\n",
    "\n",
    "segments_df[\"segment_strategy\"] = segments_df[\"segment\"].map(strategy_map)\n",
    "segments_df['segment_strategy'] = segments_df['segment_strategy'].fillna(\"No specific strategy defined\")\n",
    "segments_df.head()\n"
   ]
  },
  {
   "cell_type": "code",
   "execution_count": 201,
   "metadata": {},
   "outputs": [
    {
     "name": "stdout",
     "output_type": "stream",
     "text": [
      "✅ Exported updated customer segmentation with strategies as 'customer_segmentation.csv'\n"
     ]
    }
   ],
   "source": [
    "# save new segment df\n",
    "#segments_df.to_csv(r\"C:\\Users\\Saurav Kumar\\python files\\UPWORK PROJECTS\\customer_segmentation.csv\", index=False)\n",
    "print(\"✅ Exported updated customer segmentation with strategies as 'customer_segmentation.csv'\")"
   ]
  },
  {
   "cell_type": "code",
   "execution_count": 202,
   "metadata": {},
   "outputs": [
    {
     "data": {
      "text/plain": [
       "Index(['row_id', 'order_id', 'order_date', 'ship_date', 'ship_mode',\n",
       "       'customer_id', 'customer_name', 'segment', 'country', 'city', 'state',\n",
       "       'postal_code', 'region', 'product_id', 'category', 'sub-category',\n",
       "       'product_name', 'sales', 'quantity', 'discount', 'profit',\n",
       "       'order_month', 'profit_margin_(%)', 'state_code'],\n",
       "      dtype='object')"
      ]
     },
     "execution_count": 202,
     "metadata": {},
     "output_type": "execute_result"
    }
   ],
   "source": [
    "df.columns"
   ]
  },
  {
   "cell_type": "code",
   "execution_count": null,
   "metadata": {},
   "outputs": [],
   "source": []
  }
 ],
 "metadata": {
  "kernelspec": {
   "display_name": "Python 3",
   "language": "python",
   "name": "python3"
  },
  "language_info": {
   "codemirror_mode": {
    "name": "ipython",
    "version": 3
   },
   "file_extension": ".py",
   "mimetype": "text/x-python",
   "name": "python",
   "nbconvert_exporter": "python",
   "pygments_lexer": "ipython3",
   "version": "3.13.2"
  }
 },
 "nbformat": 4,
 "nbformat_minor": 2
}
